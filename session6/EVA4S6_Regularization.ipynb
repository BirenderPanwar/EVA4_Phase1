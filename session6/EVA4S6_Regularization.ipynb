{
  "nbformat": 4,
  "nbformat_minor": 0,
  "metadata": {
    "colab": {
      "name": "EVA4S6_Regularization.ipynb",
      "provenance": [],
      "collapsed_sections": [],
      "include_colab_link": true
    },
    "kernelspec": {
      "name": "python3",
      "display_name": "Python 3"
    },
    "accelerator": "GPU",
    "widgets": {
      "application/vnd.jupyter.widget-state+json": {
        "d46234455186495aa9a4f3ae43f33108": {
          "model_module": "@jupyter-widgets/controls",
          "model_name": "HBoxModel",
          "state": {
            "_view_name": "HBoxView",
            "_dom_classes": [],
            "_model_name": "HBoxModel",
            "_view_module": "@jupyter-widgets/controls",
            "_model_module_version": "1.5.0",
            "_view_count": null,
            "_view_module_version": "1.5.0",
            "box_style": "",
            "layout": "IPY_MODEL_3576bcd50b1b42d6a557742eae43afce",
            "_model_module": "@jupyter-widgets/controls",
            "children": [
              "IPY_MODEL_bb1b9198f10642c08d28fb8a5e000c89",
              "IPY_MODEL_58f47de4d31f406cbb6699bee1731758"
            ]
          }
        },
        "3576bcd50b1b42d6a557742eae43afce": {
          "model_module": "@jupyter-widgets/base",
          "model_name": "LayoutModel",
          "state": {
            "_view_name": "LayoutView",
            "grid_template_rows": null,
            "right": null,
            "justify_content": null,
            "_view_module": "@jupyter-widgets/base",
            "overflow": null,
            "_model_module_version": "1.2.0",
            "_view_count": null,
            "flex_flow": null,
            "width": null,
            "min_width": null,
            "border": null,
            "align_items": null,
            "bottom": null,
            "_model_module": "@jupyter-widgets/base",
            "top": null,
            "grid_column": null,
            "overflow_y": null,
            "overflow_x": null,
            "grid_auto_flow": null,
            "grid_area": null,
            "grid_template_columns": null,
            "flex": null,
            "_model_name": "LayoutModel",
            "justify_items": null,
            "grid_row": null,
            "max_height": null,
            "align_content": null,
            "visibility": null,
            "align_self": null,
            "height": null,
            "min_height": null,
            "padding": null,
            "grid_auto_rows": null,
            "grid_gap": null,
            "max_width": null,
            "order": null,
            "_view_module_version": "1.2.0",
            "grid_template_areas": null,
            "object_position": null,
            "object_fit": null,
            "grid_auto_columns": null,
            "margin": null,
            "display": null,
            "left": null
          }
        },
        "bb1b9198f10642c08d28fb8a5e000c89": {
          "model_module": "@jupyter-widgets/controls",
          "model_name": "IntProgressModel",
          "state": {
            "_view_name": "ProgressView",
            "style": "IPY_MODEL_dbbfa08fc67945c6beb0ff8f4bb74dc9",
            "_dom_classes": [],
            "description": "",
            "_model_name": "IntProgressModel",
            "bar_style": "success",
            "max": 1,
            "_view_module": "@jupyter-widgets/controls",
            "_model_module_version": "1.5.0",
            "value": 1,
            "_view_count": null,
            "_view_module_version": "1.5.0",
            "orientation": "horizontal",
            "min": 0,
            "description_tooltip": null,
            "_model_module": "@jupyter-widgets/controls",
            "layout": "IPY_MODEL_1ac0161a2ca94e4c8ed37a6469bb1803"
          }
        },
        "58f47de4d31f406cbb6699bee1731758": {
          "model_module": "@jupyter-widgets/controls",
          "model_name": "HTMLModel",
          "state": {
            "_view_name": "HTMLView",
            "style": "IPY_MODEL_9d8e29374f1043d5b4af8b05f7f8a335",
            "_dom_classes": [],
            "description": "",
            "_model_name": "HTMLModel",
            "placeholder": "​",
            "_view_module": "@jupyter-widgets/controls",
            "_model_module_version": "1.5.0",
            "value": "9920512it [00:02, 3378249.84it/s]",
            "_view_count": null,
            "_view_module_version": "1.5.0",
            "description_tooltip": null,
            "_model_module": "@jupyter-widgets/controls",
            "layout": "IPY_MODEL_752cbd3ed6a44706856b99a29a6b335b"
          }
        },
        "dbbfa08fc67945c6beb0ff8f4bb74dc9": {
          "model_module": "@jupyter-widgets/controls",
          "model_name": "ProgressStyleModel",
          "state": {
            "_view_name": "StyleView",
            "_model_name": "ProgressStyleModel",
            "description_width": "",
            "_view_module": "@jupyter-widgets/base",
            "_model_module_version": "1.5.0",
            "_view_count": null,
            "_view_module_version": "1.2.0",
            "bar_color": null,
            "_model_module": "@jupyter-widgets/controls"
          }
        },
        "1ac0161a2ca94e4c8ed37a6469bb1803": {
          "model_module": "@jupyter-widgets/base",
          "model_name": "LayoutModel",
          "state": {
            "_view_name": "LayoutView",
            "grid_template_rows": null,
            "right": null,
            "justify_content": null,
            "_view_module": "@jupyter-widgets/base",
            "overflow": null,
            "_model_module_version": "1.2.0",
            "_view_count": null,
            "flex_flow": null,
            "width": null,
            "min_width": null,
            "border": null,
            "align_items": null,
            "bottom": null,
            "_model_module": "@jupyter-widgets/base",
            "top": null,
            "grid_column": null,
            "overflow_y": null,
            "overflow_x": null,
            "grid_auto_flow": null,
            "grid_area": null,
            "grid_template_columns": null,
            "flex": null,
            "_model_name": "LayoutModel",
            "justify_items": null,
            "grid_row": null,
            "max_height": null,
            "align_content": null,
            "visibility": null,
            "align_self": null,
            "height": null,
            "min_height": null,
            "padding": null,
            "grid_auto_rows": null,
            "grid_gap": null,
            "max_width": null,
            "order": null,
            "_view_module_version": "1.2.0",
            "grid_template_areas": null,
            "object_position": null,
            "object_fit": null,
            "grid_auto_columns": null,
            "margin": null,
            "display": null,
            "left": null
          }
        },
        "9d8e29374f1043d5b4af8b05f7f8a335": {
          "model_module": "@jupyter-widgets/controls",
          "model_name": "DescriptionStyleModel",
          "state": {
            "_view_name": "StyleView",
            "_model_name": "DescriptionStyleModel",
            "description_width": "",
            "_view_module": "@jupyter-widgets/base",
            "_model_module_version": "1.5.0",
            "_view_count": null,
            "_view_module_version": "1.2.0",
            "_model_module": "@jupyter-widgets/controls"
          }
        },
        "752cbd3ed6a44706856b99a29a6b335b": {
          "model_module": "@jupyter-widgets/base",
          "model_name": "LayoutModel",
          "state": {
            "_view_name": "LayoutView",
            "grid_template_rows": null,
            "right": null,
            "justify_content": null,
            "_view_module": "@jupyter-widgets/base",
            "overflow": null,
            "_model_module_version": "1.2.0",
            "_view_count": null,
            "flex_flow": null,
            "width": null,
            "min_width": null,
            "border": null,
            "align_items": null,
            "bottom": null,
            "_model_module": "@jupyter-widgets/base",
            "top": null,
            "grid_column": null,
            "overflow_y": null,
            "overflow_x": null,
            "grid_auto_flow": null,
            "grid_area": null,
            "grid_template_columns": null,
            "flex": null,
            "_model_name": "LayoutModel",
            "justify_items": null,
            "grid_row": null,
            "max_height": null,
            "align_content": null,
            "visibility": null,
            "align_self": null,
            "height": null,
            "min_height": null,
            "padding": null,
            "grid_auto_rows": null,
            "grid_gap": null,
            "max_width": null,
            "order": null,
            "_view_module_version": "1.2.0",
            "grid_template_areas": null,
            "object_position": null,
            "object_fit": null,
            "grid_auto_columns": null,
            "margin": null,
            "display": null,
            "left": null
          }
        },
        "181347cdcb4d462cad820fef1a14a68c": {
          "model_module": "@jupyter-widgets/controls",
          "model_name": "HBoxModel",
          "state": {
            "_view_name": "HBoxView",
            "_dom_classes": [],
            "_model_name": "HBoxModel",
            "_view_module": "@jupyter-widgets/controls",
            "_model_module_version": "1.5.0",
            "_view_count": null,
            "_view_module_version": "1.5.0",
            "box_style": "",
            "layout": "IPY_MODEL_cd7e53cc996b4800ac0c606b183595c3",
            "_model_module": "@jupyter-widgets/controls",
            "children": [
              "IPY_MODEL_b9369c2a7d0e43baadfcd8cc8fcf740a",
              "IPY_MODEL_53e6e9118dab4fd98acfa8819d53ab05"
            ]
          }
        },
        "cd7e53cc996b4800ac0c606b183595c3": {
          "model_module": "@jupyter-widgets/base",
          "model_name": "LayoutModel",
          "state": {
            "_view_name": "LayoutView",
            "grid_template_rows": null,
            "right": null,
            "justify_content": null,
            "_view_module": "@jupyter-widgets/base",
            "overflow": null,
            "_model_module_version": "1.2.0",
            "_view_count": null,
            "flex_flow": null,
            "width": null,
            "min_width": null,
            "border": null,
            "align_items": null,
            "bottom": null,
            "_model_module": "@jupyter-widgets/base",
            "top": null,
            "grid_column": null,
            "overflow_y": null,
            "overflow_x": null,
            "grid_auto_flow": null,
            "grid_area": null,
            "grid_template_columns": null,
            "flex": null,
            "_model_name": "LayoutModel",
            "justify_items": null,
            "grid_row": null,
            "max_height": null,
            "align_content": null,
            "visibility": null,
            "align_self": null,
            "height": null,
            "min_height": null,
            "padding": null,
            "grid_auto_rows": null,
            "grid_gap": null,
            "max_width": null,
            "order": null,
            "_view_module_version": "1.2.0",
            "grid_template_areas": null,
            "object_position": null,
            "object_fit": null,
            "grid_auto_columns": null,
            "margin": null,
            "display": null,
            "left": null
          }
        },
        "b9369c2a7d0e43baadfcd8cc8fcf740a": {
          "model_module": "@jupyter-widgets/controls",
          "model_name": "IntProgressModel",
          "state": {
            "_view_name": "ProgressView",
            "style": "IPY_MODEL_2a8aac1c01ad467bae67982184230d6f",
            "_dom_classes": [],
            "description": "",
            "_model_name": "IntProgressModel",
            "bar_style": "success",
            "max": 1,
            "_view_module": "@jupyter-widgets/controls",
            "_model_module_version": "1.5.0",
            "value": 1,
            "_view_count": null,
            "_view_module_version": "1.5.0",
            "orientation": "horizontal",
            "min": 0,
            "description_tooltip": null,
            "_model_module": "@jupyter-widgets/controls",
            "layout": "IPY_MODEL_9e956ab3e1d6447c9f02d3b7fc7c9cff"
          }
        },
        "53e6e9118dab4fd98acfa8819d53ab05": {
          "model_module": "@jupyter-widgets/controls",
          "model_name": "HTMLModel",
          "state": {
            "_view_name": "HTMLView",
            "style": "IPY_MODEL_03eb4f0b4d764a588a3fb48ebc8138ee",
            "_dom_classes": [],
            "description": "",
            "_model_name": "HTMLModel",
            "placeholder": "​",
            "_view_module": "@jupyter-widgets/controls",
            "_model_module_version": "1.5.0",
            "value": "32768it [00:00, 48004.50it/s]",
            "_view_count": null,
            "_view_module_version": "1.5.0",
            "description_tooltip": null,
            "_model_module": "@jupyter-widgets/controls",
            "layout": "IPY_MODEL_e8400d94345d41b6aa114dbf12850ef4"
          }
        },
        "2a8aac1c01ad467bae67982184230d6f": {
          "model_module": "@jupyter-widgets/controls",
          "model_name": "ProgressStyleModel",
          "state": {
            "_view_name": "StyleView",
            "_model_name": "ProgressStyleModel",
            "description_width": "",
            "_view_module": "@jupyter-widgets/base",
            "_model_module_version": "1.5.0",
            "_view_count": null,
            "_view_module_version": "1.2.0",
            "bar_color": null,
            "_model_module": "@jupyter-widgets/controls"
          }
        },
        "9e956ab3e1d6447c9f02d3b7fc7c9cff": {
          "model_module": "@jupyter-widgets/base",
          "model_name": "LayoutModel",
          "state": {
            "_view_name": "LayoutView",
            "grid_template_rows": null,
            "right": null,
            "justify_content": null,
            "_view_module": "@jupyter-widgets/base",
            "overflow": null,
            "_model_module_version": "1.2.0",
            "_view_count": null,
            "flex_flow": null,
            "width": null,
            "min_width": null,
            "border": null,
            "align_items": null,
            "bottom": null,
            "_model_module": "@jupyter-widgets/base",
            "top": null,
            "grid_column": null,
            "overflow_y": null,
            "overflow_x": null,
            "grid_auto_flow": null,
            "grid_area": null,
            "grid_template_columns": null,
            "flex": null,
            "_model_name": "LayoutModel",
            "justify_items": null,
            "grid_row": null,
            "max_height": null,
            "align_content": null,
            "visibility": null,
            "align_self": null,
            "height": null,
            "min_height": null,
            "padding": null,
            "grid_auto_rows": null,
            "grid_gap": null,
            "max_width": null,
            "order": null,
            "_view_module_version": "1.2.0",
            "grid_template_areas": null,
            "object_position": null,
            "object_fit": null,
            "grid_auto_columns": null,
            "margin": null,
            "display": null,
            "left": null
          }
        },
        "03eb4f0b4d764a588a3fb48ebc8138ee": {
          "model_module": "@jupyter-widgets/controls",
          "model_name": "DescriptionStyleModel",
          "state": {
            "_view_name": "StyleView",
            "_model_name": "DescriptionStyleModel",
            "description_width": "",
            "_view_module": "@jupyter-widgets/base",
            "_model_module_version": "1.5.0",
            "_view_count": null,
            "_view_module_version": "1.2.0",
            "_model_module": "@jupyter-widgets/controls"
          }
        },
        "e8400d94345d41b6aa114dbf12850ef4": {
          "model_module": "@jupyter-widgets/base",
          "model_name": "LayoutModel",
          "state": {
            "_view_name": "LayoutView",
            "grid_template_rows": null,
            "right": null,
            "justify_content": null,
            "_view_module": "@jupyter-widgets/base",
            "overflow": null,
            "_model_module_version": "1.2.0",
            "_view_count": null,
            "flex_flow": null,
            "width": null,
            "min_width": null,
            "border": null,
            "align_items": null,
            "bottom": null,
            "_model_module": "@jupyter-widgets/base",
            "top": null,
            "grid_column": null,
            "overflow_y": null,
            "overflow_x": null,
            "grid_auto_flow": null,
            "grid_area": null,
            "grid_template_columns": null,
            "flex": null,
            "_model_name": "LayoutModel",
            "justify_items": null,
            "grid_row": null,
            "max_height": null,
            "align_content": null,
            "visibility": null,
            "align_self": null,
            "height": null,
            "min_height": null,
            "padding": null,
            "grid_auto_rows": null,
            "grid_gap": null,
            "max_width": null,
            "order": null,
            "_view_module_version": "1.2.0",
            "grid_template_areas": null,
            "object_position": null,
            "object_fit": null,
            "grid_auto_columns": null,
            "margin": null,
            "display": null,
            "left": null
          }
        },
        "d5b7a58a5f8145219a27c7cc799187b3": {
          "model_module": "@jupyter-widgets/controls",
          "model_name": "HBoxModel",
          "state": {
            "_view_name": "HBoxView",
            "_dom_classes": [],
            "_model_name": "HBoxModel",
            "_view_module": "@jupyter-widgets/controls",
            "_model_module_version": "1.5.0",
            "_view_count": null,
            "_view_module_version": "1.5.0",
            "box_style": "",
            "layout": "IPY_MODEL_fafd8c9d90be4c72b726ed7795df1ff9",
            "_model_module": "@jupyter-widgets/controls",
            "children": [
              "IPY_MODEL_a7d25bd959b54a45a2046bfd96e711d2",
              "IPY_MODEL_6e7a77511c3a4af4b877f0351887f733"
            ]
          }
        },
        "fafd8c9d90be4c72b726ed7795df1ff9": {
          "model_module": "@jupyter-widgets/base",
          "model_name": "LayoutModel",
          "state": {
            "_view_name": "LayoutView",
            "grid_template_rows": null,
            "right": null,
            "justify_content": null,
            "_view_module": "@jupyter-widgets/base",
            "overflow": null,
            "_model_module_version": "1.2.0",
            "_view_count": null,
            "flex_flow": null,
            "width": null,
            "min_width": null,
            "border": null,
            "align_items": null,
            "bottom": null,
            "_model_module": "@jupyter-widgets/base",
            "top": null,
            "grid_column": null,
            "overflow_y": null,
            "overflow_x": null,
            "grid_auto_flow": null,
            "grid_area": null,
            "grid_template_columns": null,
            "flex": null,
            "_model_name": "LayoutModel",
            "justify_items": null,
            "grid_row": null,
            "max_height": null,
            "align_content": null,
            "visibility": null,
            "align_self": null,
            "height": null,
            "min_height": null,
            "padding": null,
            "grid_auto_rows": null,
            "grid_gap": null,
            "max_width": null,
            "order": null,
            "_view_module_version": "1.2.0",
            "grid_template_areas": null,
            "object_position": null,
            "object_fit": null,
            "grid_auto_columns": null,
            "margin": null,
            "display": null,
            "left": null
          }
        },
        "a7d25bd959b54a45a2046bfd96e711d2": {
          "model_module": "@jupyter-widgets/controls",
          "model_name": "IntProgressModel",
          "state": {
            "_view_name": "ProgressView",
            "style": "IPY_MODEL_59893d3f95764a08937bbadfa0c9d9c1",
            "_dom_classes": [],
            "description": "",
            "_model_name": "IntProgressModel",
            "bar_style": "success",
            "max": 1,
            "_view_module": "@jupyter-widgets/controls",
            "_model_module_version": "1.5.0",
            "value": 1,
            "_view_count": null,
            "_view_module_version": "1.5.0",
            "orientation": "horizontal",
            "min": 0,
            "description_tooltip": null,
            "_model_module": "@jupyter-widgets/controls",
            "layout": "IPY_MODEL_6dd751bca1364281a8ab0e48a54fef95"
          }
        },
        "6e7a77511c3a4af4b877f0351887f733": {
          "model_module": "@jupyter-widgets/controls",
          "model_name": "HTMLModel",
          "state": {
            "_view_name": "HTMLView",
            "style": "IPY_MODEL_00f7c64978a948ef9903867b46d7c339",
            "_dom_classes": [],
            "description": "",
            "_model_name": "HTMLModel",
            "placeholder": "​",
            "_view_module": "@jupyter-widgets/controls",
            "_model_module_version": "1.5.0",
            "value": "1654784it [00:02, 801355.19it/s]",
            "_view_count": null,
            "_view_module_version": "1.5.0",
            "description_tooltip": null,
            "_model_module": "@jupyter-widgets/controls",
            "layout": "IPY_MODEL_597f5d89bdce4ec09894ba2d0e6d5ec9"
          }
        },
        "59893d3f95764a08937bbadfa0c9d9c1": {
          "model_module": "@jupyter-widgets/controls",
          "model_name": "ProgressStyleModel",
          "state": {
            "_view_name": "StyleView",
            "_model_name": "ProgressStyleModel",
            "description_width": "",
            "_view_module": "@jupyter-widgets/base",
            "_model_module_version": "1.5.0",
            "_view_count": null,
            "_view_module_version": "1.2.0",
            "bar_color": null,
            "_model_module": "@jupyter-widgets/controls"
          }
        },
        "6dd751bca1364281a8ab0e48a54fef95": {
          "model_module": "@jupyter-widgets/base",
          "model_name": "LayoutModel",
          "state": {
            "_view_name": "LayoutView",
            "grid_template_rows": null,
            "right": null,
            "justify_content": null,
            "_view_module": "@jupyter-widgets/base",
            "overflow": null,
            "_model_module_version": "1.2.0",
            "_view_count": null,
            "flex_flow": null,
            "width": null,
            "min_width": null,
            "border": null,
            "align_items": null,
            "bottom": null,
            "_model_module": "@jupyter-widgets/base",
            "top": null,
            "grid_column": null,
            "overflow_y": null,
            "overflow_x": null,
            "grid_auto_flow": null,
            "grid_area": null,
            "grid_template_columns": null,
            "flex": null,
            "_model_name": "LayoutModel",
            "justify_items": null,
            "grid_row": null,
            "max_height": null,
            "align_content": null,
            "visibility": null,
            "align_self": null,
            "height": null,
            "min_height": null,
            "padding": null,
            "grid_auto_rows": null,
            "grid_gap": null,
            "max_width": null,
            "order": null,
            "_view_module_version": "1.2.0",
            "grid_template_areas": null,
            "object_position": null,
            "object_fit": null,
            "grid_auto_columns": null,
            "margin": null,
            "display": null,
            "left": null
          }
        },
        "00f7c64978a948ef9903867b46d7c339": {
          "model_module": "@jupyter-widgets/controls",
          "model_name": "DescriptionStyleModel",
          "state": {
            "_view_name": "StyleView",
            "_model_name": "DescriptionStyleModel",
            "description_width": "",
            "_view_module": "@jupyter-widgets/base",
            "_model_module_version": "1.5.0",
            "_view_count": null,
            "_view_module_version": "1.2.0",
            "_model_module": "@jupyter-widgets/controls"
          }
        },
        "597f5d89bdce4ec09894ba2d0e6d5ec9": {
          "model_module": "@jupyter-widgets/base",
          "model_name": "LayoutModel",
          "state": {
            "_view_name": "LayoutView",
            "grid_template_rows": null,
            "right": null,
            "justify_content": null,
            "_view_module": "@jupyter-widgets/base",
            "overflow": null,
            "_model_module_version": "1.2.0",
            "_view_count": null,
            "flex_flow": null,
            "width": null,
            "min_width": null,
            "border": null,
            "align_items": null,
            "bottom": null,
            "_model_module": "@jupyter-widgets/base",
            "top": null,
            "grid_column": null,
            "overflow_y": null,
            "overflow_x": null,
            "grid_auto_flow": null,
            "grid_area": null,
            "grid_template_columns": null,
            "flex": null,
            "_model_name": "LayoutModel",
            "justify_items": null,
            "grid_row": null,
            "max_height": null,
            "align_content": null,
            "visibility": null,
            "align_self": null,
            "height": null,
            "min_height": null,
            "padding": null,
            "grid_auto_rows": null,
            "grid_gap": null,
            "max_width": null,
            "order": null,
            "_view_module_version": "1.2.0",
            "grid_template_areas": null,
            "object_position": null,
            "object_fit": null,
            "grid_auto_columns": null,
            "margin": null,
            "display": null,
            "left": null
          }
        },
        "f34ec896e3ba48a5ba9a9e22e51031ea": {
          "model_module": "@jupyter-widgets/controls",
          "model_name": "HBoxModel",
          "state": {
            "_view_name": "HBoxView",
            "_dom_classes": [],
            "_model_name": "HBoxModel",
            "_view_module": "@jupyter-widgets/controls",
            "_model_module_version": "1.5.0",
            "_view_count": null,
            "_view_module_version": "1.5.0",
            "box_style": "",
            "layout": "IPY_MODEL_5d1ebcd5b978404cae0c1aab87c2e408",
            "_model_module": "@jupyter-widgets/controls",
            "children": [
              "IPY_MODEL_410920c2627b4310a2fd0ac4d246e519",
              "IPY_MODEL_bb5075b2a9ac42df9dec666986ef4966"
            ]
          }
        },
        "5d1ebcd5b978404cae0c1aab87c2e408": {
          "model_module": "@jupyter-widgets/base",
          "model_name": "LayoutModel",
          "state": {
            "_view_name": "LayoutView",
            "grid_template_rows": null,
            "right": null,
            "justify_content": null,
            "_view_module": "@jupyter-widgets/base",
            "overflow": null,
            "_model_module_version": "1.2.0",
            "_view_count": null,
            "flex_flow": null,
            "width": null,
            "min_width": null,
            "border": null,
            "align_items": null,
            "bottom": null,
            "_model_module": "@jupyter-widgets/base",
            "top": null,
            "grid_column": null,
            "overflow_y": null,
            "overflow_x": null,
            "grid_auto_flow": null,
            "grid_area": null,
            "grid_template_columns": null,
            "flex": null,
            "_model_name": "LayoutModel",
            "justify_items": null,
            "grid_row": null,
            "max_height": null,
            "align_content": null,
            "visibility": null,
            "align_self": null,
            "height": null,
            "min_height": null,
            "padding": null,
            "grid_auto_rows": null,
            "grid_gap": null,
            "max_width": null,
            "order": null,
            "_view_module_version": "1.2.0",
            "grid_template_areas": null,
            "object_position": null,
            "object_fit": null,
            "grid_auto_columns": null,
            "margin": null,
            "display": null,
            "left": null
          }
        },
        "410920c2627b4310a2fd0ac4d246e519": {
          "model_module": "@jupyter-widgets/controls",
          "model_name": "IntProgressModel",
          "state": {
            "_view_name": "ProgressView",
            "style": "IPY_MODEL_b91539bc5b9b491fb3c0073f43379c79",
            "_dom_classes": [],
            "description": "",
            "_model_name": "IntProgressModel",
            "bar_style": "success",
            "max": 1,
            "_view_module": "@jupyter-widgets/controls",
            "_model_module_version": "1.5.0",
            "value": 1,
            "_view_count": null,
            "_view_module_version": "1.5.0",
            "orientation": "horizontal",
            "min": 0,
            "description_tooltip": null,
            "_model_module": "@jupyter-widgets/controls",
            "layout": "IPY_MODEL_8ed4f2b5d5744b67a2d1884bd50f22a6"
          }
        },
        "bb5075b2a9ac42df9dec666986ef4966": {
          "model_module": "@jupyter-widgets/controls",
          "model_name": "HTMLModel",
          "state": {
            "_view_name": "HTMLView",
            "style": "IPY_MODEL_1245f73257ba457989b1f3b48ae196b6",
            "_dom_classes": [],
            "description": "",
            "_model_name": "HTMLModel",
            "placeholder": "​",
            "_view_module": "@jupyter-widgets/controls",
            "_model_module_version": "1.5.0",
            "value": "8192it [00:00, 17755.86it/s]",
            "_view_count": null,
            "_view_module_version": "1.5.0",
            "description_tooltip": null,
            "_model_module": "@jupyter-widgets/controls",
            "layout": "IPY_MODEL_51219eb4a52b4e9c9ddb5d65a399b856"
          }
        },
        "b91539bc5b9b491fb3c0073f43379c79": {
          "model_module": "@jupyter-widgets/controls",
          "model_name": "ProgressStyleModel",
          "state": {
            "_view_name": "StyleView",
            "_model_name": "ProgressStyleModel",
            "description_width": "",
            "_view_module": "@jupyter-widgets/base",
            "_model_module_version": "1.5.0",
            "_view_count": null,
            "_view_module_version": "1.2.0",
            "bar_color": null,
            "_model_module": "@jupyter-widgets/controls"
          }
        },
        "8ed4f2b5d5744b67a2d1884bd50f22a6": {
          "model_module": "@jupyter-widgets/base",
          "model_name": "LayoutModel",
          "state": {
            "_view_name": "LayoutView",
            "grid_template_rows": null,
            "right": null,
            "justify_content": null,
            "_view_module": "@jupyter-widgets/base",
            "overflow": null,
            "_model_module_version": "1.2.0",
            "_view_count": null,
            "flex_flow": null,
            "width": null,
            "min_width": null,
            "border": null,
            "align_items": null,
            "bottom": null,
            "_model_module": "@jupyter-widgets/base",
            "top": null,
            "grid_column": null,
            "overflow_y": null,
            "overflow_x": null,
            "grid_auto_flow": null,
            "grid_area": null,
            "grid_template_columns": null,
            "flex": null,
            "_model_name": "LayoutModel",
            "justify_items": null,
            "grid_row": null,
            "max_height": null,
            "align_content": null,
            "visibility": null,
            "align_self": null,
            "height": null,
            "min_height": null,
            "padding": null,
            "grid_auto_rows": null,
            "grid_gap": null,
            "max_width": null,
            "order": null,
            "_view_module_version": "1.2.0",
            "grid_template_areas": null,
            "object_position": null,
            "object_fit": null,
            "grid_auto_columns": null,
            "margin": null,
            "display": null,
            "left": null
          }
        },
        "1245f73257ba457989b1f3b48ae196b6": {
          "model_module": "@jupyter-widgets/controls",
          "model_name": "DescriptionStyleModel",
          "state": {
            "_view_name": "StyleView",
            "_model_name": "DescriptionStyleModel",
            "description_width": "",
            "_view_module": "@jupyter-widgets/base",
            "_model_module_version": "1.5.0",
            "_view_count": null,
            "_view_module_version": "1.2.0",
            "_model_module": "@jupyter-widgets/controls"
          }
        },
        "51219eb4a52b4e9c9ddb5d65a399b856": {
          "model_module": "@jupyter-widgets/base",
          "model_name": "LayoutModel",
          "state": {
            "_view_name": "LayoutView",
            "grid_template_rows": null,
            "right": null,
            "justify_content": null,
            "_view_module": "@jupyter-widgets/base",
            "overflow": null,
            "_model_module_version": "1.2.0",
            "_view_count": null,
            "flex_flow": null,
            "width": null,
            "min_width": null,
            "border": null,
            "align_items": null,
            "bottom": null,
            "_model_module": "@jupyter-widgets/base",
            "top": null,
            "grid_column": null,
            "overflow_y": null,
            "overflow_x": null,
            "grid_auto_flow": null,
            "grid_area": null,
            "grid_template_columns": null,
            "flex": null,
            "_model_name": "LayoutModel",
            "justify_items": null,
            "grid_row": null,
            "max_height": null,
            "align_content": null,
            "visibility": null,
            "align_self": null,
            "height": null,
            "min_height": null,
            "padding": null,
            "grid_auto_rows": null,
            "grid_gap": null,
            "max_width": null,
            "order": null,
            "_view_module_version": "1.2.0",
            "grid_template_areas": null,
            "object_position": null,
            "object_fit": null,
            "grid_auto_columns": null,
            "margin": null,
            "display": null,
            "left": null
          }
        }
      }
    }
  },
  "cells": [
    {
      "cell_type": "markdown",
      "metadata": {
        "id": "view-in-github",
        "colab_type": "text"
      },
      "source": [
        "<a href=\"https://colab.research.google.com/github/BirenderPanwar/EVA4_Phase1/blob/master/session6/EVA4S6_Regularization.ipynb\" target=\"_parent\"><img src=\"https://colab.research.google.com/assets/colab-badge.svg\" alt=\"Open In Colab\"/></a>"
      ]
    },
    {
      "cell_type": "markdown",
      "metadata": {
        "id": "aO-7t1Y7-hV4",
        "colab_type": "text"
      },
      "source": [
        "# Import Libraries"
      ]
    },
    {
      "cell_type": "code",
      "metadata": {
        "id": "8kH16rnZ7wt_",
        "colab_type": "code",
        "colab": {}
      },
      "source": [
        "from __future__ import print_function\n",
        "import torch\n",
        "import torch.nn as nn\n",
        "import torch.nn.functional as F\n",
        "import torch.optim as optim\n",
        "from torchvision import datasets, transforms\n",
        "from torch.optim.lr_scheduler import StepLR\n",
        "\n",
        "import numpy as np\n",
        "%matplotlib inline\n",
        "import matplotlib.pyplot as plt"
      ],
      "execution_count": 0,
      "outputs": []
    },
    {
      "cell_type": "code",
      "metadata": {
        "id": "1FQhl0j9ANBR",
        "colab_type": "code",
        "colab": {}
      },
      "source": [
        "# mount gdrive\n",
        "mount_drive = False\n",
        "if mount_drive:\n",
        "    from google.colab import drive\n",
        "    drive.mount('/content/gdrive') "
      ],
      "execution_count": 0,
      "outputs": []
    },
    {
      "cell_type": "markdown",
      "metadata": {
        "id": "ky3f_Odl-7um",
        "colab_type": "text"
      },
      "source": [
        "## Data Transformations\n",
        "\n",
        "We first start with defining our data transformations. We need to think what our data is and how can we augment it to correct represent images which it might not see otherwise. \n"
      ]
    },
    {
      "cell_type": "code",
      "metadata": {
        "id": "YtssFUKb-jqx",
        "colab_type": "code",
        "colab": {}
      },
      "source": [
        "# Train Phase transformations\n",
        "train_transforms = transforms.Compose([\n",
        "                                      #  transforms.Resize((28, 28)),\n",
        "                                      #  transforms.ColorJitter(brightness=0.10, contrast=0.1, saturation=0.10, hue=0.1),\n",
        "                                       transforms.RandomRotation((-7.0, 7.0), fill=(1,)),\n",
        "                                       transforms.ToTensor(),\n",
        "                                       transforms.Normalize((0.1307,), (0.3081,)) # The mean and std have to be sequences (e.g., tuples), therefore you should add a comma after the values. \n",
        "                                       # Note the difference between (0.1307) and (0.1307,)\n",
        "                                       ])\n",
        "\n",
        "# Test Phase transformations\n",
        "test_transforms = transforms.Compose([\n",
        "                                      #  transforms.Resize((28, 28)),\n",
        "                                      #  transforms.ColorJitter(brightness=0.10, contrast=0.1, saturation=0.10, hue=0.1),\n",
        "                                       transforms.ToTensor(),\n",
        "                                       transforms.Normalize((0.1307,), (0.3081,))\n",
        "                                       ])\n"
      ],
      "execution_count": 0,
      "outputs": []
    },
    {
      "cell_type": "markdown",
      "metadata": {
        "id": "oQciFYo2B1mO",
        "colab_type": "text"
      },
      "source": [
        "# Dataset and Creating Train/Test Split"
      ]
    },
    {
      "cell_type": "code",
      "metadata": {
        "id": "_4A84rlfDA23",
        "colab_type": "code",
        "outputId": "a6e44c46-cfad-4e74-da93-f201b8e32e38",
        "colab": {
          "base_uri": "https://localhost:8080/",
          "height": 383,
          "referenced_widgets": [
            "d46234455186495aa9a4f3ae43f33108",
            "3576bcd50b1b42d6a557742eae43afce",
            "bb1b9198f10642c08d28fb8a5e000c89",
            "58f47de4d31f406cbb6699bee1731758",
            "dbbfa08fc67945c6beb0ff8f4bb74dc9",
            "1ac0161a2ca94e4c8ed37a6469bb1803",
            "9d8e29374f1043d5b4af8b05f7f8a335",
            "752cbd3ed6a44706856b99a29a6b335b",
            "181347cdcb4d462cad820fef1a14a68c",
            "cd7e53cc996b4800ac0c606b183595c3",
            "b9369c2a7d0e43baadfcd8cc8fcf740a",
            "53e6e9118dab4fd98acfa8819d53ab05",
            "2a8aac1c01ad467bae67982184230d6f",
            "9e956ab3e1d6447c9f02d3b7fc7c9cff",
            "03eb4f0b4d764a588a3fb48ebc8138ee",
            "e8400d94345d41b6aa114dbf12850ef4",
            "d5b7a58a5f8145219a27c7cc799187b3",
            "fafd8c9d90be4c72b726ed7795df1ff9",
            "a7d25bd959b54a45a2046bfd96e711d2",
            "6e7a77511c3a4af4b877f0351887f733",
            "59893d3f95764a08937bbadfa0c9d9c1",
            "6dd751bca1364281a8ab0e48a54fef95",
            "00f7c64978a948ef9903867b46d7c339",
            "597f5d89bdce4ec09894ba2d0e6d5ec9",
            "f34ec896e3ba48a5ba9a9e22e51031ea",
            "5d1ebcd5b978404cae0c1aab87c2e408",
            "410920c2627b4310a2fd0ac4d246e519",
            "bb5075b2a9ac42df9dec666986ef4966",
            "b91539bc5b9b491fb3c0073f43379c79",
            "8ed4f2b5d5744b67a2d1884bd50f22a6",
            "1245f73257ba457989b1f3b48ae196b6",
            "51219eb4a52b4e9c9ddb5d65a399b856"
          ]
        }
      },
      "source": [
        "train = datasets.MNIST('./data', train=True, download=True, transform=train_transforms)\n",
        "test = datasets.MNIST('./data', train=False, download=True, transform=test_transforms)"
      ],
      "execution_count": 0,
      "outputs": [
        {
          "output_type": "stream",
          "text": [
            "Downloading http://yann.lecun.com/exdb/mnist/train-images-idx3-ubyte.gz to ./data/MNIST/raw/train-images-idx3-ubyte.gz\n"
          ],
          "name": "stdout"
        },
        {
          "output_type": "display_data",
          "data": {
            "application/vnd.jupyter.widget-view+json": {
              "model_id": "d46234455186495aa9a4f3ae43f33108",
              "version_minor": 0,
              "version_major": 2
            },
            "text/plain": [
              "HBox(children=(IntProgress(value=1, bar_style='info', max=1), HTML(value='')))"
            ]
          },
          "metadata": {
            "tags": []
          }
        },
        {
          "output_type": "stream",
          "text": [
            "\n",
            "Extracting ./data/MNIST/raw/train-images-idx3-ubyte.gz to ./data/MNIST/raw\n",
            "Downloading http://yann.lecun.com/exdb/mnist/train-labels-idx1-ubyte.gz to ./data/MNIST/raw/train-labels-idx1-ubyte.gz\n"
          ],
          "name": "stdout"
        },
        {
          "output_type": "display_data",
          "data": {
            "application/vnd.jupyter.widget-view+json": {
              "model_id": "181347cdcb4d462cad820fef1a14a68c",
              "version_minor": 0,
              "version_major": 2
            },
            "text/plain": [
              "HBox(children=(IntProgress(value=1, bar_style='info', max=1), HTML(value='')))"
            ]
          },
          "metadata": {
            "tags": []
          }
        },
        {
          "output_type": "stream",
          "text": [
            "\n",
            "Extracting ./data/MNIST/raw/train-labels-idx1-ubyte.gz to ./data/MNIST/raw\n",
            "Downloading http://yann.lecun.com/exdb/mnist/t10k-images-idx3-ubyte.gz to ./data/MNIST/raw/t10k-images-idx3-ubyte.gz\n"
          ],
          "name": "stdout"
        },
        {
          "output_type": "display_data",
          "data": {
            "application/vnd.jupyter.widget-view+json": {
              "model_id": "d5b7a58a5f8145219a27c7cc799187b3",
              "version_minor": 0,
              "version_major": 2
            },
            "text/plain": [
              "HBox(children=(IntProgress(value=1, bar_style='info', max=1), HTML(value='')))"
            ]
          },
          "metadata": {
            "tags": []
          }
        },
        {
          "output_type": "stream",
          "text": [
            "\n",
            "Extracting ./data/MNIST/raw/t10k-images-idx3-ubyte.gz to ./data/MNIST/raw\n",
            "Downloading http://yann.lecun.com/exdb/mnist/t10k-labels-idx1-ubyte.gz to ./data/MNIST/raw/t10k-labels-idx1-ubyte.gz\n"
          ],
          "name": "stdout"
        },
        {
          "output_type": "display_data",
          "data": {
            "application/vnd.jupyter.widget-view+json": {
              "model_id": "f34ec896e3ba48a5ba9a9e22e51031ea",
              "version_minor": 0,
              "version_major": 2
            },
            "text/plain": [
              "HBox(children=(IntProgress(value=1, bar_style='info', max=1), HTML(value='')))"
            ]
          },
          "metadata": {
            "tags": []
          }
        },
        {
          "output_type": "stream",
          "text": [
            "\n",
            "Extracting ./data/MNIST/raw/t10k-labels-idx1-ubyte.gz to ./data/MNIST/raw\n",
            "Processing...\n",
            "Done!\n"
          ],
          "name": "stdout"
        }
      ]
    },
    {
      "cell_type": "markdown",
      "metadata": {
        "id": "qgldp_3-Dn0c",
        "colab_type": "text"
      },
      "source": [
        "# Dataloader Arguments & Test/Train Dataloaders\n"
      ]
    },
    {
      "cell_type": "code",
      "metadata": {
        "id": "C8OLDR79DrHG",
        "colab_type": "code",
        "outputId": "6241a86a-5a97-4771-c6b9-7ea5ad3b126a",
        "colab": {
          "base_uri": "https://localhost:8080/",
          "height": 34
        }
      },
      "source": [
        "SEED = 1\n",
        "\n",
        "# CUDA?\n",
        "cuda = torch.cuda.is_available()\n",
        "print(\"CUDA Available?\", cuda)\n",
        "\n",
        "# For reproducibility\n",
        "torch.manual_seed(SEED)\n",
        "\n",
        "if cuda:\n",
        "    torch.cuda.manual_seed(SEED)\n",
        "\n",
        "# dataloader arguments - something you'll fetch these from cmdprmt\n",
        "dataloader_args = dict(shuffle=True, batch_size=128, num_workers=4, pin_memory=True) if cuda else dict(shuffle=True, batch_size=64)\n",
        "\n",
        "# train dataloader\n",
        "train_loader = torch.utils.data.DataLoader(train, **dataloader_args)\n",
        "\n",
        "# test dataloader\n",
        "test_loader = torch.utils.data.DataLoader(test, **dataloader_args)"
      ],
      "execution_count": 0,
      "outputs": [
        {
          "output_type": "stream",
          "text": [
            "CUDA Available? True\n"
          ],
          "name": "stdout"
        }
      ]
    },
    {
      "cell_type": "markdown",
      "metadata": {
        "id": "-TFjoFekE_va",
        "colab_type": "text"
      },
      "source": [
        "# Data Statistics\n",
        "\n",
        "It is important to know your data very well. Let's check some of the statistics around our data and how it actually looks like"
      ]
    },
    {
      "cell_type": "code",
      "metadata": {
        "id": "hWZPPo3yEHDW",
        "colab_type": "code",
        "outputId": "771160a7-f709-4328-c6bc-03318c8de41e",
        "colab": {
          "base_uri": "https://localhost:8080/",
          "height": 506
        }
      },
      "source": [
        "# We'd need to convert it into Numpy! Remember above we have converted it into tensors already\n",
        "train_data = train.train_data\n",
        "train_data = train.transform(train_data.numpy()) \n",
        "\n",
        "print('[Train]')\n",
        "print(' - Numpy Shape:', train.train_data.cpu().numpy().shape)\n",
        "print(' - Tensor Shape:', train.train_data.size())\n",
        "print(' - min:', torch.min(train_data))\n",
        "print(' - max:', torch.max(train_data))\n",
        "print(' - mean:', torch.mean(train_data))\n",
        "print(' - std:', torch.std(train_data))\n",
        "print(' - var:', torch.var(train_data))\n",
        "\n",
        "dataiter = iter(train_loader)\n",
        "images, labels = dataiter.next()\n",
        "\n",
        "print(images.shape)\n",
        "print(labels.shape)\n",
        "\n",
        "# Let's visualize some of the images\n",
        "plt.imshow(images[0].numpy().squeeze(), cmap='gray_r')\n"
      ],
      "execution_count": 0,
      "outputs": [
        {
          "output_type": "stream",
          "text": [
            "/usr/local/lib/python3.6/dist-packages/torchvision/datasets/mnist.py:55: UserWarning: train_data has been renamed data\n",
            "  warnings.warn(\"train_data has been renamed data\")\n"
          ],
          "name": "stderr"
        },
        {
          "output_type": "stream",
          "text": [
            "[Train]\n",
            " - Numpy Shape: (60000, 28, 28)\n",
            " - Tensor Shape: torch.Size([60000, 28, 28])\n",
            " - min: tensor(-0.4242)\n",
            " - max: tensor(2.8215)\n",
            " - mean: tensor(0.0009)\n",
            " - std: tensor(1.0000)\n",
            " - var: tensor(1.0001)\n",
            "torch.Size([128, 1, 28, 28])\n",
            "torch.Size([128])\n"
          ],
          "name": "stdout"
        },
        {
          "output_type": "execute_result",
          "data": {
            "text/plain": [
              "<matplotlib.image.AxesImage at 0x7f4670296b00>"
            ]
          },
          "metadata": {
            "tags": []
          },
          "execution_count": 6
        },
        {
          "output_type": "display_data",
          "data": {
            "image/png": "[encoded data removed]",
            "text/plain": [
              "<Figure size 432x288 with 1 Axes>"
            ]
          },
          "metadata": {
            "tags": []
          }
        }
      ]
    },
    {
      "cell_type": "markdown",
      "metadata": {
        "id": "7l9lNaWYKuik",
        "colab_type": "text"
      },
      "source": [
        "## MORE\n",
        "\n",
        "It is important that we view as many images as possible. This is required to get some idea on image augmentation later on"
      ]
    },
    {
      "cell_type": "code",
      "metadata": {
        "id": "hXXAg8hbK16u",
        "colab_type": "code",
        "outputId": "1f768fba-6f1f-43e7-f600-7ccef9ae5644",
        "colab": {
          "base_uri": "https://localhost:8080/",
          "height": 246
        }
      },
      "source": [
        "figure = plt.figure()\n",
        "num_of_images = 60\n",
        "for index in range(1, num_of_images + 1):\n",
        "    plt.subplot(6, 10, index)\n",
        "    plt.axis('off')\n",
        "    plt.imshow(images[index].numpy().squeeze(), cmap='gray_r')"
      ],
      "execution_count": 0,
      "outputs": [
        {
          "output_type": "display_data",
          "data": {
            "image/png": "[encoded data removed]",
            "text/plain": [
              "<Figure size 432x288 with 60 Axes>"
            ]
          },
          "metadata": {
            "tags": []
          }
        }
      ]
    },
    {
      "cell_type": "markdown",
      "metadata": {
        "id": "ubQL3H6RJL3h",
        "colab_type": "text"
      },
      "source": [
        "# Model Class"
      ]
    },
    {
      "cell_type": "code",
      "metadata": {
        "id": "9cYfBtW9tMv0",
        "colab_type": "code",
        "colab": {}
      },
      "source": [
        "# Build the neural network, expand on top of nn.Module\n",
        "class Net(nn.Module):\n",
        "    def __init__(self):\n",
        "        super(Net, self).__init__()\n",
        "\n",
        "        self.dropout_val = 0.10\n",
        "\n",
        "        # Convolution block-1\n",
        "        self.conv_blk1 = nn.Sequential(\n",
        "            # input layer\n",
        "            nn.Conv2d(in_channels=1, out_channels=8, kernel_size=(3, 3), padding=0,  bias=False),   #Output: 8X26X26, Jin=1, GRF: 3X3\n",
        "            nn.ReLU(),\n",
        "            nn.BatchNorm2d(8),\n",
        "            nn.Dropout(self.dropout_val),\n",
        "            nn.Conv2d(in_channels=8, out_channels=16, kernel_size=(3, 3), padding=0,  bias=False),  #Output: 16X24X24, Jin=1, GRF: 5X5\n",
        "            nn.ReLU(),\n",
        "            nn.BatchNorm2d(16),\n",
        "            nn.Dropout(self.dropout_val),\n",
        "            nn.Conv2d(in_channels=16, out_channels=16, kernel_size=(3, 3), padding=0,  bias=False), #Output: 16X22X22, Jin=1, GRF: 7X7\n",
        "            nn.ReLU(),\n",
        "            nn.BatchNorm2d(16),\n",
        "            nn.Dropout(self.dropout_val)\n",
        "        )\n",
        "\n",
        "        # Transition Layer for Convolution block-1\n",
        "        self.conv_blk1_transition = nn.Sequential(\n",
        "            nn.MaxPool2d(2, 2),                                                                     #Output: 16X11X11, Jin=1, GRF: 8X8\n",
        "            nn.Conv2d(in_channels=16, out_channels=8, kernel_size=(1, 1), padding=0,  bias=False),  #Output: 8X11X11 , Jin=2, GRF: 8X8 (combining channels)\n",
        "        )\n",
        "\n",
        "        # Convolution block-2\n",
        "        self.conv_blk2 = nn.Sequential(\n",
        "            nn.Conv2d(in_channels=8, out_channels=16, kernel_size=(3, 3), padding=0,  bias=False),  #Output: 16X9X9,  Jin=2, GRF: 12X12\n",
        "            nn.ReLU(),\n",
        "            nn.BatchNorm2d(16),\n",
        "            nn.Dropout(self.dropout_val),\n",
        "            nn.Conv2d(in_channels=16, out_channels=16, kernel_size=(3, 3), padding=0,  bias=False), #Output: 16X7X7, Jin=2, GRF: 16X16\n",
        "            nn.ReLU(),\n",
        "            nn.BatchNorm2d(16),\n",
        "            nn.Dropout(self.dropout_val),\n",
        "            nn.Conv2d(in_channels=16, out_channels=16, kernel_size=(3, 3), padding=0,  bias=False), #Output: 16X5X5, Jin=2, GRF: 20X20\n",
        "            nn.ReLU(),\n",
        "            nn.BatchNorm2d(16),\n",
        "            nn.Dropout(self.dropout_val)\n",
        "        )\n",
        "\n",
        "        # Output Block\n",
        "        self.output_block = nn.Sequential(\n",
        "            nn.AvgPool2d(kernel_size=5),                                                             #Output: 16X1X1, Jin=2, GRF: 28X28\n",
        "            nn.Conv2d(in_channels=16, out_channels=10, kernel_size=(1, 1), padding=0,  bias=False),  #Output: 10X1X1, Jin=2, GRF: 28X28 combining to 10 channels as we need 10 classes for predictions\n",
        "            # no ReLU for last covv layer\n",
        "            # No Batch Normalization\n",
        "            # No Dropout\n",
        "        ) # output_size = 1\n",
        "\n",
        "    def forward(self, x):\n",
        "\n",
        "        x = self.conv_blk1(x) # convolution block-1\n",
        "        x = self.conv_blk1_transition(x)\n",
        "\n",
        "        x = self.conv_blk2(x) # convolution block-2\n",
        "\n",
        "        # output \n",
        "        x = self.output_block(x) # \n",
        "\n",
        "        # flatten the tensor so it can be passed to the dense layer afterward\n",
        "        x = x.view(-1, 10)\n",
        "        return F.log_softmax(x)"
      ],
      "execution_count": 0,
      "outputs": []
    },
    {
      "cell_type": "markdown",
      "metadata": {
        "id": "M3-vp8X9LCWo",
        "colab_type": "text"
      },
      "source": [
        "# Model Params\n",
        "Can't emphasize on how important viewing Model Summary is. \n",
        "Unfortunately, there is no in-built model visualizer, so we have to take external help"
      ]
    },
    {
      "cell_type": "code",
      "metadata": {
        "id": "5skB97zIJQQe",
        "colab_type": "code",
        "outputId": "01e40911-2b6c-4d16-c2e3-b11a473778fc",
        "colab": {
          "base_uri": "https://localhost:8080/",
          "height": 785
        }
      },
      "source": [
        "!pip install torchsummary\n",
        "from torchsummary import summary\n",
        "use_cuda = torch.cuda.is_available()\n",
        "device = torch.device(\"cuda\" if use_cuda else \"cpu\")\n",
        "print(device)\n",
        "model = Net().to(device)\n",
        "summary(model, input_size=(1, 28, 28))"
      ],
      "execution_count": 0,
      "outputs": [
        {
          "output_type": "stream",
          "text": [
            "Requirement already satisfied: torchsummary in /usr/local/lib/python3.6/dist-packages (1.5.1)\n",
            "cuda\n",
            "----------------------------------------------------------------\n",
            "        Layer (type)               Output Shape         Param #\n",
            "================================================================\n",
            "            Conv2d-1            [-1, 8, 26, 26]              72\n",
            "              ReLU-2            [-1, 8, 26, 26]               0\n",
            "       BatchNorm2d-3            [-1, 8, 26, 26]              16\n",
            "           Dropout-4            [-1, 8, 26, 26]               0\n",
            "            Conv2d-5           [-1, 16, 24, 24]           1,152\n",
            "              ReLU-6           [-1, 16, 24, 24]               0\n",
            "       BatchNorm2d-7           [-1, 16, 24, 24]              32\n",
            "           Dropout-8           [-1, 16, 24, 24]               0\n",
            "            Conv2d-9           [-1, 16, 22, 22]           2,304\n",
            "             ReLU-10           [-1, 16, 22, 22]               0\n",
            "      BatchNorm2d-11           [-1, 16, 22, 22]              32\n",
            "          Dropout-12           [-1, 16, 22, 22]               0\n",
            "        MaxPool2d-13           [-1, 16, 11, 11]               0\n",
            "           Conv2d-14            [-1, 8, 11, 11]             128\n",
            "           Conv2d-15             [-1, 16, 9, 9]           1,152\n",
            "             ReLU-16             [-1, 16, 9, 9]               0\n",
            "      BatchNorm2d-17             [-1, 16, 9, 9]              32\n",
            "          Dropout-18             [-1, 16, 9, 9]               0\n",
            "           Conv2d-19             [-1, 16, 7, 7]           2,304\n",
            "             ReLU-20             [-1, 16, 7, 7]               0\n",
            "      BatchNorm2d-21             [-1, 16, 7, 7]              32\n",
            "          Dropout-22             [-1, 16, 7, 7]               0\n",
            "           Conv2d-23             [-1, 16, 5, 5]           2,304\n",
            "             ReLU-24             [-1, 16, 5, 5]               0\n",
            "      BatchNorm2d-25             [-1, 16, 5, 5]              32\n",
            "          Dropout-26             [-1, 16, 5, 5]               0\n",
            "        AvgPool2d-27             [-1, 16, 1, 1]               0\n",
            "           Conv2d-28             [-1, 10, 1, 1]             160\n",
            "================================================================\n",
            "Total params: 9,752\n",
            "Trainable params: 9,752\n",
            "Non-trainable params: 0\n",
            "----------------------------------------------------------------\n",
            "Input size (MB): 0.00\n",
            "Forward/backward pass size (MB): 0.78\n",
            "Params size (MB): 0.04\n",
            "Estimated Total Size (MB): 0.82\n",
            "----------------------------------------------------------------\n"
          ],
          "name": "stdout"
        },
        {
          "output_type": "stream",
          "text": [
            "/usr/local/lib/python3.6/dist-packages/ipykernel_launcher.py:67: UserWarning: Implicit dimension choice for log_softmax has been deprecated. Change the call to include dim=X as an argument.\n"
          ],
          "name": "stderr"
        }
      ]
    },
    {
      "cell_type": "markdown",
      "metadata": {
        "id": "ug4-ZgaYusSf",
        "colab_type": "text"
      },
      "source": [
        "# Utility Functions:\n",
        "1. plotting model history: accuracy and losses\n",
        "2. plotting model comparisions\n",
        "3. plotting misclassified images for model"
      ]
    },
    {
      "cell_type": "code",
      "metadata": {
        "id": "YmFQQhcBuvI3",
        "colab_type": "code",
        "colab": {}
      },
      "source": [
        "def plot_model_history(title_name, train_acc_hist, test_acc_hist, train_loss_hist, test_loss_hist, save_filename):\n",
        "    fig, axs = plt.subplots(1,2,figsize=(20,5))\n",
        "    # summarize history for accuracy\n",
        "    x_size = len(train_acc_hist)-1\n",
        "    legend_list = ['train', 'test']\n",
        "\n",
        "    axs[0].plot(range(1,x_size+1), train_acc_hist[1:])\n",
        "    axs[0].plot(range(1,x_size+1), test_acc_hist[1:])\n",
        "\n",
        "    title = '{} - Accuracy'.format(title_name)\n",
        "    axs[0].set_title(title)\n",
        "    axs[0].set_ylabel('Accuracy')\n",
        "    axs[0].set_xlabel('Epoch')\n",
        "    axs[0].set_xticks(np.arange(1,x_size+1),x_size/10)\n",
        "    axs[0].legend(legend_list, loc='best')\n",
        "\n",
        "   # plot losses\n",
        "    axs[1].plot(range(1,x_size+1),train_loss_hist[1:])\n",
        "    axs[1].plot(range(1,x_size+1),test_loss_hist[1:])\n",
        "\n",
        "    title = '{} - Losses'.format(title_name)\n",
        "    axs[1].set_title(title)\n",
        "    axs[1].set_ylabel('Loss')\n",
        "    axs[1].set_xlabel('Epoch')\n",
        "    axs[1].set_xticks(np.arange(1,x_size+1),x_size/10)\n",
        "    axs[1].legend(legend_list, loc='best')\n",
        "    plt.show()\n",
        "    fig.savefig(\"{}.png\".format(save_filename))\n",
        "\n",
        "\n",
        "def plot_model_comparison(legend_list, model1_acc_hist, model1_loss_hist,\n",
        "                          model2_acc_hist, model2_loss_hist,\n",
        "                          model3_acc_hist, model3_loss_hist,\n",
        "                          model4_acc_hist, model4_loss_hist,):\n",
        "    fig, axs = plt.subplots(1,2,figsize=(20,5))\n",
        "    # summarize history for accuracy\n",
        "    x_size = len(model1_acc_hist)-1\n",
        "\n",
        "    axs[0].plot(range(1,x_size+1), model1_acc_hist[1:])\n",
        "    axs[0].plot(range(1,x_size+1), model2_acc_hist[1:])\n",
        "    axs[0].plot(range(1,x_size+1), model3_acc_hist[1:])\n",
        "    axs[0].plot(range(1,x_size+1), model4_acc_hist[1:])\n",
        "\n",
        "    axs[0].set_title('Model Accuracy')\n",
        "    axs[0].set_ylabel('Accuracy')\n",
        "    axs[0].set_xlabel('Epoch')\n",
        "    axs[0].set_xticks(np.arange(1,x_size+1),x_size/10)\n",
        "    axs[0].legend(legend_list, loc='best')\n",
        "\n",
        "   # plot losses\n",
        "    axs[1].plot(range(1,x_size+1),model1_loss_hist[1:])\n",
        "    axs[1].plot(range(1,x_size+1),model2_loss_hist[1:])\n",
        "    axs[1].plot(range(1,x_size+1),model3_loss_hist[1:])\n",
        "    axs[1].plot(range(1,x_size+1),model4_loss_hist[1:])\n",
        "    axs[1].set_title('Model Losses')\n",
        "    axs[1].set_ylabel('Loss')\n",
        "    axs[1].set_xlabel('Epoch')\n",
        "    axs[1].set_xticks(np.arange(1,x_size+1),x_size/10)\n",
        "    axs[1].legend(legend_list, loc='best')\n",
        "    plt.show()\n",
        "    fig.savefig(\"model_compare.png\")\n",
        "\n",
        "def get_test_accuracy(model, device, testloader):\n",
        "    model.eval()\n",
        "    correct = 0\n",
        "    for data, target in testloader:\n",
        "        data, target = data.to(device), target.to(device)\n",
        "        output = model(data)\n",
        "        pred = output.argmax(dim=1, keepdim=True)  # get the index of the max log-probability\n",
        "        correct += pred.eq(target.view_as(pred)).sum().item()\n",
        "\n",
        "    acc = 100. * correct / len(testloader.dataset)\n",
        "    print('\\nTest set: Accuracy: {:.2f}%\\n'.format(acc))\n",
        "    return\n",
        "\n",
        "def plot_misclassified_images(model, device, testloader, num_of_images = 25, save_filename=\"misclassified\"):\n",
        "    model.eval()\n",
        "    misclassified_cnt = 0\n",
        "    fig = plt.figure(figsize=(12,12))\n",
        "    for data, target in testloader:\n",
        "        data, target = data.to(device), target.to(device)\n",
        "        output = model(data)\n",
        "        pred = output.argmax(dim=1, keepdim=True)     # get the index of the max log-probability\n",
        "        pred_marker = pred.eq(target.view_as(pred))   \n",
        "        wrong_idx = (pred_marker == False).nonzero()  # get indices for wrong predictions\n",
        "        for idx in wrong_idx:\n",
        "          index = idx[0].item()\n",
        "          title = \"Target:{}, Pred:{}\".format(target[index].item(), pred[index][0].item())\n",
        "          #print(title)\n",
        "          ax = fig.add_subplot(5, 5, misclassified_cnt+1, xticks=[], yticks=[])\n",
        "          #ax.axis('off')\n",
        "          ax.set_title(title)\n",
        "          plt.imshow(data[index].cpu().numpy().squeeze(), cmap='gray_r')\n",
        "          \n",
        "          misclassified_cnt += 1\n",
        "          if(misclassified_cnt==num_of_images):\n",
        "            break\n",
        "        \n",
        "        if(misclassified_cnt==num_of_images):\n",
        "            break\n",
        "\n",
        "    fig.savefig(\"{}.png\".format(save_filename))\n",
        "    return"
      ],
      "execution_count": 0,
      "outputs": []
    },
    {
      "cell_type": "markdown",
      "metadata": {
        "id": "1__x_SbrL7z3",
        "colab_type": "text"
      },
      "source": [
        "# Relularization Functions"
      ]
    },
    {
      "cell_type": "code",
      "metadata": {
        "id": "XpUtHHMRsjg3",
        "colab_type": "code",
        "colab": {}
      },
      "source": [
        "def L1_Loss_calc(model, factor=0.0005):\n",
        "  l1_crit = nn.L1Loss(size_average=False)\n",
        "  reg_loss = 0\n",
        "  for param in model.parameters():\n",
        "    #zero_vector = torch.rand_like(param)*0\n",
        "    zero_vector=torch.zeros_like(param)\n",
        "    reg_loss += l1_crit(param,zero_vector)\n",
        "\n",
        "  return factor * reg_loss"
      ],
      "execution_count": 0,
      "outputs": []
    },
    {
      "cell_type": "markdown",
      "metadata": {
        "id": "J23zPunkhivZ",
        "colab_type": "text"
      },
      "source": [
        "# Common functions for train, test and build model"
      ]
    },
    {
      "cell_type": "code",
      "metadata": {
        "id": "fbkF2nN_LYIb",
        "colab_type": "code",
        "colab": {}
      },
      "source": [
        "from tqdm import tqdm\n",
        "\n",
        "def train(model, device, train_loader, optimizer, epoch, L1_loss_enable=False):\n",
        "  model.train()\n",
        "  pbar = tqdm(train_loader)\n",
        "  train_loss = 0\n",
        "  correct = 0\n",
        "  processed = 0\n",
        "  for batch_idx, (data, target) in enumerate(pbar):\n",
        "    # get samples\n",
        "    data, target = data.to(device), target.to(device)\n",
        "\n",
        "    # Init\n",
        "    optimizer.zero_grad()\n",
        "    # In PyTorch, we need to set the gradients to zero before starting to do backpropragation because PyTorch accumulates the gradients on subsequent backward passes. \n",
        "    # Because of this, when you start your training loop, ideally you should zero out the gradients so that you do the parameter update correctly.\n",
        "\n",
        "    # Predict\n",
        "    y_pred = model(data)\n",
        "\n",
        "    # Calculate loss\n",
        "    loss = F.nll_loss(y_pred, target)\n",
        "    if(L1_loss_enable == True):\n",
        "      regloss = L1_Loss_calc(model, 0.0005)\n",
        "      regloss /= len(data) # by batch size\n",
        "      loss += regloss\n",
        "\n",
        "    train_loss += loss.item()\n",
        "\n",
        "    # Backpropagation\n",
        "    loss.backward()\n",
        "    optimizer.step()\n",
        "\n",
        "    # Update pbar-tqdm\n",
        "    \n",
        "    pred = y_pred.argmax(dim=1, keepdim=True)  # get the index of the max log-probability\n",
        "    correct += pred.eq(target.view_as(pred)).sum().item()\n",
        "    processed += len(data)\n",
        "\n",
        "    #pbar.set_description(desc= f'Loss={loss.item():0.6f} Batch_id={batch_idx} Accuracy={100*correct/processed:0.2f}')\n",
        "    pbar.set_description(desc= f'Loss={train_loss/(batch_idx+1):0.6f} Batch_id={batch_idx} Accuracy={100*correct/processed:0.2f}')\n",
        "\n",
        "  train_loss /= len(train_loader)\n",
        "  acc = 100. * correct/len(train_loader.dataset) #processed # \n",
        "  return np.round(acc,2), np.round(train_loss,6)\n",
        "\n",
        "def test(model, device, test_loader, L1_loss_enable=False):\n",
        "    model.eval()\n",
        "    test_loss = 0\n",
        "    correct = 0\n",
        "    with torch.no_grad():\n",
        "        for data, target in test_loader:\n",
        "            data, target = data.to(device), target.to(device)\n",
        "            output = model(data)\n",
        "            test_loss += F.nll_loss(output, target, reduction='sum').item()  # sum up batch loss\n",
        "\n",
        "            pred = output.argmax(dim=1, keepdim=True)  # get the index of the max log-probability\n",
        "            correct += pred.eq(target.view_as(pred)).sum().item()\n",
        "\n",
        "        test_loss /= len(test_loader.dataset)\n",
        "\n",
        "        if(L1_loss_enable == True):\n",
        "          regloss = L1_Loss_calc(model, 0.0005)\n",
        "          regloss /= len(test_loader.dataset) # by batch size which is here total test dataset size\n",
        "          test_loss += regloss\n",
        "\n",
        "    print('\\nTest set: Average loss: {:.6f}, Accuracy: {}/{} ({:.2f}%)\\n'.format(\n",
        "        test_loss, correct, len(test_loader.dataset),\n",
        "        100. * correct / len(test_loader.dataset)))\n",
        "    \n",
        "    acc = 100. * correct / len(test_loader.dataset)\n",
        "    return np.round(acc,2), test_loss\n",
        "\n",
        "def build_model(model, device, trainloader, testloader, epochs, L1_loss_flag=False, L2_penalty_val=0):\n",
        "  optimizer = optim.SGD(model.parameters(), lr=0.01, momentum=0.9, weight_decay=L2_penalty_val)\n",
        "  scheduler = StepLR(optimizer, step_size=10, gamma=0.1)\n",
        "\n",
        "  train_losses = []\n",
        "  test_losses = []\n",
        "  train_acc = []\n",
        "  test_acc = []\n",
        "\n",
        "  for epoch in range(epochs):\n",
        "    print(\"EPOCH:\", epoch)\n",
        "    acc, loss = train(model, device, trainloader, optimizer, epoch, L1_loss_flag)\n",
        "    train_acc.append(acc)\n",
        "    train_losses.append(loss)\n",
        "\n",
        "    scheduler.step()\n",
        "\n",
        "    acc, loss = test(model, device, testloader, L1_loss_flag)\n",
        "    test_acc.append(acc)\n",
        "    test_losses.append(loss)\n",
        "  \n",
        "  return train_acc, train_losses, test_acc, test_losses\n"
      ],
      "execution_count": 0,
      "outputs": []
    },
    {
      "cell_type": "markdown",
      "metadata": {
        "id": "0iNG86atdaPD",
        "colab_type": "text"
      },
      "source": [
        "# Model without L1 and L2"
      ]
    },
    {
      "cell_type": "code",
      "metadata": {
        "id": "47AvtKhydmM4",
        "colab_type": "code",
        "colab": {}
      },
      "source": [
        "EPOCHS = 40\n",
        "model_name = \"Model without L1 and L2\""
      ],
      "execution_count": 0,
      "outputs": []
    },
    {
      "cell_type": "code",
      "metadata": {
        "id": "ey_PpaJFb7hl",
        "colab_type": "code",
        "outputId": "a9c6f22c-cd8f-426c-d9d3-f8147cc411b2",
        "colab": {
          "base_uri": "https://localhost:8080/",
          "height": 1000
        }
      },
      "source": [
        "model_name = \"Model without L1 and L2\"\n",
        "model_without_l1_l2 =  Net().to(device)\n",
        "train_acc1, train_losses1, test_acc1, test_losses1 = build_model(model_without_l1_l2, \n",
        "                                                                 device, \n",
        "                                                                 trainloader=train_loader, \n",
        "                                                                 testloader=test_loader, \n",
        "                                                                 epochs=EPOCHS)"
      ],
      "execution_count": 0,
      "outputs": [
        {
          "output_type": "stream",
          "text": [
            "\r  0%|          | 0/469 [00:00<?, ?it/s]"
          ],
          "name": "stderr"
        },
        {
          "output_type": "stream",
          "text": [
            "EPOCH: 0\n"
          ],
          "name": "stdout"
        },
        {
          "output_type": "stream",
          "text": [
            "/usr/local/lib/python3.6/dist-packages/ipykernel_launcher.py:67: UserWarning: Implicit dimension choice for log_softmax has been deprecated. Change the call to include dim=X as an argument.\n",
            "Loss=0.465284 Batch_id=468 Accuracy=88.00: 100%|██████████| 469/469 [00:15<00:00, 33.19it/s]\n",
            "  0%|          | 0/469 [00:00<?, ?it/s]"
          ],
          "name": "stderr"
        },
        {
          "output_type": "stream",
          "text": [
            "\n",
            "Test set: Average loss: 0.077283, Accuracy: 9786/10000 (97.86%)\n",
            "\n",
            "EPOCH: 1\n"
          ],
          "name": "stdout"
        },
        {
          "output_type": "stream",
          "text": [
            "Loss=0.086316 Batch_id=468 Accuracy=97.66: 100%|██████████| 469/469 [00:14<00:00, 32.40it/s]\n",
            "  0%|          | 0/469 [00:00<?, ?it/s]"
          ],
          "name": "stderr"
        },
        {
          "output_type": "stream",
          "text": [
            "\n",
            "Test set: Average loss: 0.052978, Accuracy: 9854/10000 (98.54%)\n",
            "\n",
            "EPOCH: 2\n"
          ],
          "name": "stdout"
        },
        {
          "output_type": "stream",
          "text": [
            "Loss=0.065837 Batch_id=468 Accuracy=98.06: 100%|██████████| 469/469 [00:14<00:00, 31.55it/s]\n",
            "  0%|          | 0/469 [00:00<?, ?it/s]"
          ],
          "name": "stderr"
        },
        {
          "output_type": "stream",
          "text": [
            "\n",
            "Test set: Average loss: 0.041361, Accuracy: 9882/10000 (98.82%)\n",
            "\n",
            "EPOCH: 3\n"
          ],
          "name": "stdout"
        },
        {
          "output_type": "stream",
          "text": [
            "Loss=0.056429 Batch_id=468 Accuracy=98.34: 100%|██████████| 469/469 [00:14<00:00, 32.28it/s]\n",
            "  0%|          | 0/469 [00:00<?, ?it/s]"
          ],
          "name": "stderr"
        },
        {
          "output_type": "stream",
          "text": [
            "\n",
            "Test set: Average loss: 0.038319, Accuracy: 9881/10000 (98.81%)\n",
            "\n",
            "EPOCH: 4\n"
          ],
          "name": "stdout"
        },
        {
          "output_type": "stream",
          "text": [
            "Loss=0.051105 Batch_id=468 Accuracy=98.44: 100%|██████████| 469/469 [00:15<00:00, 31.22it/s]\n",
            "  0%|          | 0/469 [00:00<?, ?it/s]"
          ],
          "name": "stderr"
        },
        {
          "output_type": "stream",
          "text": [
            "\n",
            "Test set: Average loss: 0.032529, Accuracy: 9898/10000 (98.98%)\n",
            "\n",
            "EPOCH: 5\n"
          ],
          "name": "stdout"
        },
        {
          "output_type": "stream",
          "text": [
            "Loss=0.045418 Batch_id=468 Accuracy=98.59: 100%|██████████| 469/469 [00:14<00:00, 32.08it/s]\n",
            "  0%|          | 0/469 [00:00<?, ?it/s]"
          ],
          "name": "stderr"
        },
        {
          "output_type": "stream",
          "text": [
            "\n",
            "Test set: Average loss: 0.027452, Accuracy: 9913/10000 (99.13%)\n",
            "\n",
            "EPOCH: 6\n"
          ],
          "name": "stdout"
        },
        {
          "output_type": "stream",
          "text": [
            "Loss=0.043706 Batch_id=468 Accuracy=98.66: 100%|██████████| 469/469 [00:14<00:00, 32.27it/s]\n",
            "  0%|          | 0/469 [00:00<?, ?it/s]"
          ],
          "name": "stderr"
        },
        {
          "output_type": "stream",
          "text": [
            "\n",
            "Test set: Average loss: 0.030126, Accuracy: 9916/10000 (99.16%)\n",
            "\n",
            "EPOCH: 7\n"
          ],
          "name": "stdout"
        },
        {
          "output_type": "stream",
          "text": [
            "Loss=0.039868 Batch_id=468 Accuracy=98.74: 100%|██████████| 469/469 [00:15<00:00, 30.56it/s]\n",
            "  0%|          | 0/469 [00:00<?, ?it/s]"
          ],
          "name": "stderr"
        },
        {
          "output_type": "stream",
          "text": [
            "\n",
            "Test set: Average loss: 0.027594, Accuracy: 9917/10000 (99.17%)\n",
            "\n",
            "EPOCH: 8\n"
          ],
          "name": "stdout"
        },
        {
          "output_type": "stream",
          "text": [
            "Loss=0.039743 Batch_id=468 Accuracy=98.78: 100%|██████████| 469/469 [00:15<00:00, 31.24it/s]\n",
            "  0%|          | 0/469 [00:00<?, ?it/s]"
          ],
          "name": "stderr"
        },
        {
          "output_type": "stream",
          "text": [
            "\n",
            "Test set: Average loss: 0.027315, Accuracy: 9918/10000 (99.18%)\n",
            "\n",
            "EPOCH: 9\n"
          ],
          "name": "stdout"
        },
        {
          "output_type": "stream",
          "text": [
            "Loss=0.036401 Batch_id=468 Accuracy=98.89: 100%|██████████| 469/469 [00:14<00:00, 32.14it/s]\n",
            "  0%|          | 0/469 [00:00<?, ?it/s]"
          ],
          "name": "stderr"
        },
        {
          "output_type": "stream",
          "text": [
            "\n",
            "Test set: Average loss: 0.024101, Accuracy: 9927/10000 (99.27%)\n",
            "\n",
            "EPOCH: 10\n"
          ],
          "name": "stdout"
        },
        {
          "output_type": "stream",
          "text": [
            "Loss=0.031366 Batch_id=468 Accuracy=99.06: 100%|██████████| 469/469 [00:14<00:00, 32.24it/s]\n",
            "  0%|          | 0/469 [00:00<?, ?it/s]"
          ],
          "name": "stderr"
        },
        {
          "output_type": "stream",
          "text": [
            "\n",
            "Test set: Average loss: 0.021648, Accuracy: 9937/10000 (99.37%)\n",
            "\n",
            "EPOCH: 11\n"
          ],
          "name": "stdout"
        },
        {
          "output_type": "stream",
          "text": [
            "Loss=0.029990 Batch_id=468 Accuracy=99.08: 100%|██████████| 469/469 [00:15<00:00, 30.31it/s]\n",
            "  0%|          | 0/469 [00:00<?, ?it/s]"
          ],
          "name": "stderr"
        },
        {
          "output_type": "stream",
          "text": [
            "\n",
            "Test set: Average loss: 0.020760, Accuracy: 9941/10000 (99.41%)\n",
            "\n",
            "EPOCH: 12\n"
          ],
          "name": "stdout"
        },
        {
          "output_type": "stream",
          "text": [
            "Loss=0.029132 Batch_id=468 Accuracy=99.06: 100%|██████████| 469/469 [00:14<00:00, 32.03it/s]\n",
            "  0%|          | 0/469 [00:00<?, ?it/s]"
          ],
          "name": "stderr"
        },
        {
          "output_type": "stream",
          "text": [
            "\n",
            "Test set: Average loss: 0.021035, Accuracy: 9940/10000 (99.40%)\n",
            "\n",
            "EPOCH: 13\n"
          ],
          "name": "stdout"
        },
        {
          "output_type": "stream",
          "text": [
            "Loss=0.029753 Batch_id=468 Accuracy=99.07: 100%|██████████| 469/469 [00:14<00:00, 32.07it/s]\n",
            "  0%|          | 0/469 [00:00<?, ?it/s]"
          ],
          "name": "stderr"
        },
        {
          "output_type": "stream",
          "text": [
            "\n",
            "Test set: Average loss: 0.021069, Accuracy: 9937/10000 (99.37%)\n",
            "\n",
            "EPOCH: 14\n"
          ],
          "name": "stdout"
        },
        {
          "output_type": "stream",
          "text": [
            "Loss=0.028445 Batch_id=468 Accuracy=99.09: 100%|██████████| 469/469 [00:14<00:00, 32.34it/s]\n",
            "  0%|          | 0/469 [00:00<?, ?it/s]"
          ],
          "name": "stderr"
        },
        {
          "output_type": "stream",
          "text": [
            "\n",
            "Test set: Average loss: 0.020913, Accuracy: 9941/10000 (99.41%)\n",
            "\n",
            "EPOCH: 15\n"
          ],
          "name": "stdout"
        },
        {
          "output_type": "stream",
          "text": [
            "Loss=0.028221 Batch_id=468 Accuracy=99.15: 100%|██████████| 469/469 [00:14<00:00, 31.75it/s]\n",
            "  0%|          | 0/469 [00:00<?, ?it/s]"
          ],
          "name": "stderr"
        },
        {
          "output_type": "stream",
          "text": [
            "\n",
            "Test set: Average loss: 0.020653, Accuracy: 9940/10000 (99.40%)\n",
            "\n",
            "EPOCH: 16\n"
          ],
          "name": "stdout"
        },
        {
          "output_type": "stream",
          "text": [
            "Loss=0.028927 Batch_id=468 Accuracy=99.11: 100%|██████████| 469/469 [00:15<00:00, 30.96it/s]\n",
            "  0%|          | 0/469 [00:00<?, ?it/s]"
          ],
          "name": "stderr"
        },
        {
          "output_type": "stream",
          "text": [
            "\n",
            "Test set: Average loss: 0.020633, Accuracy: 9937/10000 (99.37%)\n",
            "\n",
            "EPOCH: 17\n"
          ],
          "name": "stdout"
        },
        {
          "output_type": "stream",
          "text": [
            "Loss=0.028404 Batch_id=468 Accuracy=99.16: 100%|██████████| 469/469 [00:15<00:00, 31.12it/s]\n",
            "  0%|          | 0/469 [00:00<?, ?it/s]"
          ],
          "name": "stderr"
        },
        {
          "output_type": "stream",
          "text": [
            "\n",
            "Test set: Average loss: 0.020799, Accuracy: 9937/10000 (99.37%)\n",
            "\n",
            "EPOCH: 18\n"
          ],
          "name": "stdout"
        },
        {
          "output_type": "stream",
          "text": [
            "Loss=0.028601 Batch_id=468 Accuracy=99.12: 100%|██████████| 469/469 [00:15<00:00, 35.88it/s]\n",
            "  0%|          | 0/469 [00:00<?, ?it/s]"
          ],
          "name": "stderr"
        },
        {
          "output_type": "stream",
          "text": [
            "\n",
            "Test set: Average loss: 0.021012, Accuracy: 9939/10000 (99.39%)\n",
            "\n",
            "EPOCH: 19\n"
          ],
          "name": "stdout"
        },
        {
          "output_type": "stream",
          "text": [
            "Loss=0.028090 Batch_id=468 Accuracy=99.09: 100%|██████████| 469/469 [00:14<00:00, 31.39it/s]\n",
            "  0%|          | 0/469 [00:00<?, ?it/s]"
          ],
          "name": "stderr"
        },
        {
          "output_type": "stream",
          "text": [
            "\n",
            "Test set: Average loss: 0.020097, Accuracy: 9940/10000 (99.40%)\n",
            "\n",
            "EPOCH: 20\n"
          ],
          "name": "stdout"
        },
        {
          "output_type": "stream",
          "text": [
            "Loss=0.027489 Batch_id=468 Accuracy=99.14: 100%|██████████| 469/469 [00:14<00:00, 31.76it/s]\n",
            "  0%|          | 0/469 [00:00<?, ?it/s]"
          ],
          "name": "stderr"
        },
        {
          "output_type": "stream",
          "text": [
            "\n",
            "Test set: Average loss: 0.020741, Accuracy: 9936/10000 (99.36%)\n",
            "\n",
            "EPOCH: 21\n"
          ],
          "name": "stdout"
        },
        {
          "output_type": "stream",
          "text": [
            "Loss=0.028731 Batch_id=468 Accuracy=99.11: 100%|██████████| 469/469 [00:14<00:00, 31.38it/s]\n",
            "  0%|          | 0/469 [00:00<?, ?it/s]"
          ],
          "name": "stderr"
        },
        {
          "output_type": "stream",
          "text": [
            "\n",
            "Test set: Average loss: 0.020129, Accuracy: 9939/10000 (99.39%)\n",
            "\n",
            "EPOCH: 22\n"
          ],
          "name": "stdout"
        },
        {
          "output_type": "stream",
          "text": [
            "Loss=0.027229 Batch_id=468 Accuracy=99.17: 100%|██████████| 469/469 [00:15<00:00, 30.49it/s]\n",
            "  0%|          | 0/469 [00:00<?, ?it/s]"
          ],
          "name": "stderr"
        },
        {
          "output_type": "stream",
          "text": [
            "\n",
            "Test set: Average loss: 0.020095, Accuracy: 9937/10000 (99.37%)\n",
            "\n",
            "EPOCH: 23\n"
          ],
          "name": "stdout"
        },
        {
          "output_type": "stream",
          "text": [
            "Loss=0.027947 Batch_id=468 Accuracy=99.15: 100%|██████████| 469/469 [00:14<00:00, 31.65it/s]\n",
            "  0%|          | 0/469 [00:00<?, ?it/s]"
          ],
          "name": "stderr"
        },
        {
          "output_type": "stream",
          "text": [
            "\n",
            "Test set: Average loss: 0.020737, Accuracy: 9940/10000 (99.40%)\n",
            "\n",
            "EPOCH: 24\n"
          ],
          "name": "stdout"
        },
        {
          "output_type": "stream",
          "text": [
            "Loss=0.027092 Batch_id=468 Accuracy=99.17: 100%|██████████| 469/469 [00:14<00:00, 31.40it/s]\n",
            "  0%|          | 0/469 [00:00<?, ?it/s]"
          ],
          "name": "stderr"
        },
        {
          "output_type": "stream",
          "text": [
            "\n",
            "Test set: Average loss: 0.020284, Accuracy: 9941/10000 (99.41%)\n",
            "\n",
            "EPOCH: 25\n"
          ],
          "name": "stdout"
        },
        {
          "output_type": "stream",
          "text": [
            "Loss=0.027271 Batch_id=468 Accuracy=99.13: 100%|██████████| 469/469 [00:15<00:00, 30.73it/s]\n",
            "  0%|          | 0/469 [00:00<?, ?it/s]"
          ],
          "name": "stderr"
        },
        {
          "output_type": "stream",
          "text": [
            "\n",
            "Test set: Average loss: 0.019827, Accuracy: 9939/10000 (99.39%)\n",
            "\n",
            "EPOCH: 26\n"
          ],
          "name": "stdout"
        },
        {
          "output_type": "stream",
          "text": [
            "Loss=0.028348 Batch_id=468 Accuracy=99.14: 100%|██████████| 469/469 [00:15<00:00, 31.23it/s]\n",
            "  0%|          | 0/469 [00:00<?, ?it/s]"
          ],
          "name": "stderr"
        },
        {
          "output_type": "stream",
          "text": [
            "\n",
            "Test set: Average loss: 0.019959, Accuracy: 9938/10000 (99.38%)\n",
            "\n",
            "EPOCH: 27\n"
          ],
          "name": "stdout"
        },
        {
          "output_type": "stream",
          "text": [
            "Loss=0.028091 Batch_id=468 Accuracy=99.16: 100%|██████████| 469/469 [00:15<00:00, 31.19it/s]\n",
            "  0%|          | 0/469 [00:00<?, ?it/s]"
          ],
          "name": "stderr"
        },
        {
          "output_type": "stream",
          "text": [
            "\n",
            "Test set: Average loss: 0.020791, Accuracy: 9937/10000 (99.37%)\n",
            "\n",
            "EPOCH: 28\n"
          ],
          "name": "stdout"
        },
        {
          "output_type": "stream",
          "text": [
            "Loss=0.026430 Batch_id=468 Accuracy=99.16: 100%|██████████| 469/469 [00:14<00:00, 31.47it/s]\n",
            "  0%|          | 0/469 [00:00<?, ?it/s]"
          ],
          "name": "stderr"
        },
        {
          "output_type": "stream",
          "text": [
            "\n",
            "Test set: Average loss: 0.020273, Accuracy: 9940/10000 (99.40%)\n",
            "\n",
            "EPOCH: 29\n"
          ],
          "name": "stdout"
        },
        {
          "output_type": "stream",
          "text": [
            "Loss=0.027274 Batch_id=468 Accuracy=99.15: 100%|██████████| 469/469 [00:14<00:00, 31.38it/s]\n",
            "  0%|          | 0/469 [00:00<?, ?it/s]"
          ],
          "name": "stderr"
        },
        {
          "output_type": "stream",
          "text": [
            "\n",
            "Test set: Average loss: 0.020223, Accuracy: 9939/10000 (99.39%)\n",
            "\n",
            "EPOCH: 30\n"
          ],
          "name": "stdout"
        },
        {
          "output_type": "stream",
          "text": [
            "Loss=0.026894 Batch_id=468 Accuracy=99.19: 100%|██████████| 469/469 [00:14<00:00, 31.95it/s]\n",
            "  0%|          | 0/469 [00:00<?, ?it/s]"
          ],
          "name": "stderr"
        },
        {
          "output_type": "stream",
          "text": [
            "\n",
            "Test set: Average loss: 0.020306, Accuracy: 9937/10000 (99.37%)\n",
            "\n",
            "EPOCH: 31\n"
          ],
          "name": "stdout"
        },
        {
          "output_type": "stream",
          "text": [
            "Loss=0.027431 Batch_id=468 Accuracy=99.14: 100%|██████████| 469/469 [00:14<00:00, 39.57it/s]\n",
            "  0%|          | 0/469 [00:00<?, ?it/s]"
          ],
          "name": "stderr"
        },
        {
          "output_type": "stream",
          "text": [
            "\n",
            "Test set: Average loss: 0.020884, Accuracy: 9936/10000 (99.36%)\n",
            "\n",
            "EPOCH: 32\n"
          ],
          "name": "stdout"
        },
        {
          "output_type": "stream",
          "text": [
            "Loss=0.026812 Batch_id=468 Accuracy=99.17: 100%|██████████| 469/469 [00:14<00:00, 32.09it/s]\n",
            "  0%|          | 0/469 [00:00<?, ?it/s]"
          ],
          "name": "stderr"
        },
        {
          "output_type": "stream",
          "text": [
            "\n",
            "Test set: Average loss: 0.019608, Accuracy: 9942/10000 (99.42%)\n",
            "\n",
            "EPOCH: 33\n"
          ],
          "name": "stdout"
        },
        {
          "output_type": "stream",
          "text": [
            "Loss=0.027674 Batch_id=468 Accuracy=99.16: 100%|██████████| 469/469 [00:14<00:00, 31.49it/s]\n",
            "  0%|          | 0/469 [00:00<?, ?it/s]"
          ],
          "name": "stderr"
        },
        {
          "output_type": "stream",
          "text": [
            "\n",
            "Test set: Average loss: 0.020770, Accuracy: 9936/10000 (99.36%)\n",
            "\n",
            "EPOCH: 34\n"
          ],
          "name": "stdout"
        },
        {
          "output_type": "stream",
          "text": [
            "Loss=0.026246 Batch_id=468 Accuracy=99.19: 100%|██████████| 469/469 [00:14<00:00, 31.43it/s]\n",
            "  0%|          | 0/469 [00:00<?, ?it/s]"
          ],
          "name": "stderr"
        },
        {
          "output_type": "stream",
          "text": [
            "\n",
            "Test set: Average loss: 0.020762, Accuracy: 9937/10000 (99.37%)\n",
            "\n",
            "EPOCH: 35\n"
          ],
          "name": "stdout"
        },
        {
          "output_type": "stream",
          "text": [
            "Loss=0.027946 Batch_id=468 Accuracy=99.13: 100%|██████████| 469/469 [00:14<00:00, 32.36it/s]\n",
            "  0%|          | 0/469 [00:00<?, ?it/s]"
          ],
          "name": "stderr"
        },
        {
          "output_type": "stream",
          "text": [
            "\n",
            "Test set: Average loss: 0.020028, Accuracy: 9938/10000 (99.38%)\n",
            "\n",
            "EPOCH: 36\n"
          ],
          "name": "stdout"
        },
        {
          "output_type": "stream",
          "text": [
            "Loss=0.027882 Batch_id=468 Accuracy=99.09: 100%|██████████| 469/469 [00:15<00:00, 30.92it/s]\n",
            "  0%|          | 0/469 [00:00<?, ?it/s]"
          ],
          "name": "stderr"
        },
        {
          "output_type": "stream",
          "text": [
            "\n",
            "Test set: Average loss: 0.019549, Accuracy: 9942/10000 (99.42%)\n",
            "\n",
            "EPOCH: 37\n"
          ],
          "name": "stdout"
        },
        {
          "output_type": "stream",
          "text": [
            "Loss=0.025766 Batch_id=468 Accuracy=99.24: 100%|██████████| 469/469 [00:14<00:00, 32.17it/s]\n",
            "  0%|          | 0/469 [00:00<?, ?it/s]"
          ],
          "name": "stderr"
        },
        {
          "output_type": "stream",
          "text": [
            "\n",
            "Test set: Average loss: 0.020207, Accuracy: 9941/10000 (99.41%)\n",
            "\n",
            "EPOCH: 38\n"
          ],
          "name": "stdout"
        },
        {
          "output_type": "stream",
          "text": [
            "Loss=0.027446 Batch_id=468 Accuracy=99.15: 100%|██████████| 469/469 [00:14<00:00, 32.07it/s]\n",
            "  0%|          | 0/469 [00:00<?, ?it/s]"
          ],
          "name": "stderr"
        },
        {
          "output_type": "stream",
          "text": [
            "\n",
            "Test set: Average loss: 0.020223, Accuracy: 9936/10000 (99.36%)\n",
            "\n",
            "EPOCH: 39\n"
          ],
          "name": "stdout"
        },
        {
          "output_type": "stream",
          "text": [
            "Loss=0.027283 Batch_id=468 Accuracy=99.15: 100%|██████████| 469/469 [00:14<00:00, 32.21it/s]\n"
          ],
          "name": "stderr"
        },
        {
          "output_type": "stream",
          "text": [
            "\n",
            "Test set: Average loss: 0.020411, Accuracy: 9936/10000 (99.36%)\n",
            "\n"
          ],
          "name": "stdout"
        }
      ]
    },
    {
      "cell_type": "code",
      "metadata": {
        "id": "UkbNbgD3b8sE",
        "colab_type": "code",
        "outputId": "549a7e3e-e01d-446b-e30d-61e89bbcf1d6",
        "colab": {
          "base_uri": "https://localhost:8080/",
          "height": 421
        }
      },
      "source": [
        "print(\"\\nPloting Accuracy and Loss history: {}\\n\".format(model_name))\n",
        "\n",
        "plot_model_history(model_name, \n",
        "                   train_acc1,test_acc1,\n",
        "                   train_losses1,test_losses1,\n",
        "                   save_filename = \"model_without_l1_l2_history\")"
      ],
      "execution_count": 0,
      "outputs": [
        {
          "output_type": "stream",
          "text": [
            "\n",
            "Ploting Accuracy and Loss history: Model without L1 and L2\n",
            "\n"
          ],
          "name": "stdout"
        },
        {
          "output_type": "display_data",
          "data": {
            "image/png": "[encoded data removed]",
            "text/plain": [
              "<Figure size 1440x360 with 2 Axes>"
            ]
          },
          "metadata": {
            "tags": []
          }
        }
      ]
    },
    {
      "cell_type": "code",
      "metadata": {
        "id": "Ne1248lk3EcS",
        "colab_type": "code",
        "outputId": "586474df-a476-4d55-d9f9-03dbb2b9adca",
        "colab": {
          "base_uri": "https://localhost:8080/",
          "height": 791
        }
      },
      "source": [
        "print(\"\\nPloting misclassified images: {}\\n\".format(model_name))\n",
        "\n",
        "plot_misclassified_images(model_without_l1_l2, \n",
        "                          device, \n",
        "                          testloader=test_loader,\n",
        "                          save_filename=\"model_without_l1_l2_misclassified\")"
      ],
      "execution_count": 0,
      "outputs": [
        {
          "output_type": "stream",
          "text": [
            "\n",
            "Ploting misclassified images: Model without L1 and L2\n",
            "\n"
          ],
          "name": "stdout"
        },
        {
          "output_type": "stream",
          "text": [
            "/usr/local/lib/python3.6/dist-packages/ipykernel_launcher.py:67: UserWarning: Implicit dimension choice for log_softmax has been deprecated. Change the call to include dim=X as an argument.\n"
          ],
          "name": "stderr"
        },
        {
          "output_type": "display_data",
          "data": {
            "image/png": "[encoded data removed]",
            "text/plain": [
              "<Figure size 864x864 with 25 Axes>"
            ]
          },
          "metadata": {
            "tags": []
          }
        }
      ]
    },
    {
      "cell_type": "markdown",
      "metadata": {
        "id": "vBbKqkAdedLe",
        "colab_type": "text"
      },
      "source": [
        "# Model with L1"
      ]
    },
    {
      "cell_type": "code",
      "metadata": {
        "id": "wjwx6JTm3EjH",
        "colab_type": "code",
        "outputId": "8d3627d7-e1e4-42ce-956e-240e0fc2e105",
        "colab": {
          "base_uri": "https://localhost:8080/",
          "height": 1000
        }
      },
      "source": [
        "model_name = \"Model with L1\"\n",
        "model_with_l1 =  Net().to(device)\n",
        "train_acc2, train_losses2, test_acc2, test_losses2 = build_model(model_with_l1, \n",
        "                                                                 device, \n",
        "                                                                 trainloader=train_loader, \n",
        "                                                                 testloader=test_loader, \n",
        "                                                                 epochs=EPOCHS,\n",
        "                                                                 L1_loss_flag=True)"
      ],
      "execution_count": 0,
      "outputs": [
        {
          "output_type": "stream",
          "text": [
            "\r  0%|          | 0/469 [00:00<?, ?it/s]"
          ],
          "name": "stderr"
        },
        {
          "output_type": "stream",
          "text": [
            "EPOCH: 0\n"
          ],
          "name": "stdout"
        },
        {
          "output_type": "stream",
          "text": [
            "/usr/local/lib/python3.6/dist-packages/ipykernel_launcher.py:67: UserWarning: Implicit dimension choice for log_softmax has been deprecated. Change the call to include dim=X as an argument.\n",
            "/usr/local/lib/python3.6/dist-packages/torch/nn/_reduction.py:43: UserWarning: size_average and reduce args will be deprecated, please use reduction='sum' instead.\n",
            "  warnings.warn(warning.format(ret))\n",
            "Loss=0.469370 Batch_id=468 Accuracy=87.87: 100%|██████████| 469/469 [00:17<00:00, 27.39it/s]\n",
            "  0%|          | 0/469 [00:00<?, ?it/s]"
          ],
          "name": "stderr"
        },
        {
          "output_type": "stream",
          "text": [
            "\n",
            "Test set: Average loss: 0.112762, Accuracy: 9660/10000 (96.60%)\n",
            "\n",
            "EPOCH: 1\n"
          ],
          "name": "stdout"
        },
        {
          "output_type": "stream",
          "text": [
            "Loss=0.097519 Batch_id=468 Accuracy=97.37: 100%|██████████| 469/469 [00:16<00:00, 27.74it/s]\n",
            "  0%|          | 0/469 [00:00<?, ?it/s]"
          ],
          "name": "stderr"
        },
        {
          "output_type": "stream",
          "text": [
            "\n",
            "Test set: Average loss: 0.051808, Accuracy: 9837/10000 (98.37%)\n",
            "\n",
            "EPOCH: 2\n"
          ],
          "name": "stdout"
        },
        {
          "output_type": "stream",
          "text": [
            "Loss=0.070799 Batch_id=468 Accuracy=98.04: 100%|██████████| 469/469 [00:16<00:00, 32.91it/s]\n",
            "  0%|          | 0/469 [00:00<?, ?it/s]"
          ],
          "name": "stderr"
        },
        {
          "output_type": "stream",
          "text": [
            "\n",
            "Test set: Average loss: 0.035492, Accuracy: 9896/10000 (98.96%)\n",
            "\n",
            "EPOCH: 3\n"
          ],
          "name": "stdout"
        },
        {
          "output_type": "stream",
          "text": [
            "Loss=0.058610 Batch_id=468 Accuracy=98.43: 100%|██████████| 469/469 [00:17<00:00, 26.41it/s]\n",
            "  0%|          | 0/469 [00:00<?, ?it/s]"
          ],
          "name": "stderr"
        },
        {
          "output_type": "stream",
          "text": [
            "\n",
            "Test set: Average loss: 0.030332, Accuracy: 9911/10000 (99.11%)\n",
            "\n",
            "EPOCH: 4\n"
          ],
          "name": "stdout"
        },
        {
          "output_type": "stream",
          "text": [
            "Loss=0.054295 Batch_id=468 Accuracy=98.48: 100%|██████████| 469/469 [00:16<00:00, 33.75it/s]\n",
            "  0%|          | 0/469 [00:00<?, ?it/s]"
          ],
          "name": "stderr"
        },
        {
          "output_type": "stream",
          "text": [
            "\n",
            "Test set: Average loss: 0.027988, Accuracy: 9911/10000 (99.11%)\n",
            "\n",
            "EPOCH: 5\n"
          ],
          "name": "stdout"
        },
        {
          "output_type": "stream",
          "text": [
            "Loss=0.050335 Batch_id=468 Accuracy=98.53: 100%|██████████| 469/469 [00:17<00:00, 27.23it/s]\n",
            "  0%|          | 0/469 [00:00<?, ?it/s]"
          ],
          "name": "stderr"
        },
        {
          "output_type": "stream",
          "text": [
            "\n",
            "Test set: Average loss: 0.023563, Accuracy: 9932/10000 (99.32%)\n",
            "\n",
            "EPOCH: 6\n"
          ],
          "name": "stdout"
        },
        {
          "output_type": "stream",
          "text": [
            "Loss=0.046926 Batch_id=468 Accuracy=98.67: 100%|██████████| 469/469 [00:17<00:00, 33.98it/s]\n",
            "  0%|          | 0/469 [00:00<?, ?it/s]"
          ],
          "name": "stderr"
        },
        {
          "output_type": "stream",
          "text": [
            "\n",
            "Test set: Average loss: 0.021255, Accuracy: 9932/10000 (99.32%)\n",
            "\n",
            "EPOCH: 7\n"
          ],
          "name": "stdout"
        },
        {
          "output_type": "stream",
          "text": [
            "Loss=0.043750 Batch_id=468 Accuracy=98.78: 100%|██████████| 469/469 [00:17<00:00, 27.54it/s]\n",
            "  0%|          | 0/469 [00:00<?, ?it/s]"
          ],
          "name": "stderr"
        },
        {
          "output_type": "stream",
          "text": [
            "\n",
            "Test set: Average loss: 0.024667, Accuracy: 9928/10000 (99.28%)\n",
            "\n",
            "EPOCH: 8\n"
          ],
          "name": "stdout"
        },
        {
          "output_type": "stream",
          "text": [
            "Loss=0.041824 Batch_id=468 Accuracy=98.81: 100%|██████████| 469/469 [00:17<00:00, 33.34it/s]\n",
            "  0%|          | 0/469 [00:00<?, ?it/s]"
          ],
          "name": "stderr"
        },
        {
          "output_type": "stream",
          "text": [
            "\n",
            "Test set: Average loss: 0.020347, Accuracy: 9933/10000 (99.33%)\n",
            "\n",
            "EPOCH: 9\n"
          ],
          "name": "stdout"
        },
        {
          "output_type": "stream",
          "text": [
            "Loss=0.041428 Batch_id=468 Accuracy=98.81: 100%|██████████| 469/469 [00:17<00:00, 26.71it/s]\n",
            "  0%|          | 0/469 [00:00<?, ?it/s]"
          ],
          "name": "stderr"
        },
        {
          "output_type": "stream",
          "text": [
            "\n",
            "Test set: Average loss: 0.021401, Accuracy: 9941/10000 (99.41%)\n",
            "\n",
            "EPOCH: 10\n"
          ],
          "name": "stdout"
        },
        {
          "output_type": "stream",
          "text": [
            "Loss=0.034747 Batch_id=468 Accuracy=99.01: 100%|██████████| 469/469 [00:17<00:00, 27.37it/s]\n",
            "  0%|          | 0/469 [00:00<?, ?it/s]"
          ],
          "name": "stderr"
        },
        {
          "output_type": "stream",
          "text": [
            "\n",
            "Test set: Average loss: 0.017851, Accuracy: 9942/10000 (99.42%)\n",
            "\n",
            "EPOCH: 11\n"
          ],
          "name": "stdout"
        },
        {
          "output_type": "stream",
          "text": [
            "Loss=0.032440 Batch_id=468 Accuracy=99.17: 100%|██████████| 469/469 [00:16<00:00, 34.12it/s]\n",
            "  0%|          | 0/469 [00:00<?, ?it/s]"
          ],
          "name": "stderr"
        },
        {
          "output_type": "stream",
          "text": [
            "\n",
            "Test set: Average loss: 0.017121, Accuracy: 9948/10000 (99.48%)\n",
            "\n",
            "EPOCH: 12\n"
          ],
          "name": "stdout"
        },
        {
          "output_type": "stream",
          "text": [
            "Loss=0.033050 Batch_id=468 Accuracy=99.11: 100%|██████████| 469/469 [00:16<00:00, 28.66it/s]\n",
            "  0%|          | 0/469 [00:00<?, ?it/s]"
          ],
          "name": "stderr"
        },
        {
          "output_type": "stream",
          "text": [
            "\n",
            "Test set: Average loss: 0.016742, Accuracy: 9950/10000 (99.50%)\n",
            "\n",
            "EPOCH: 13\n"
          ],
          "name": "stdout"
        },
        {
          "output_type": "stream",
          "text": [
            "Loss=0.032145 Batch_id=468 Accuracy=99.10: 100%|██████████| 469/469 [00:16<00:00, 28.06it/s]\n",
            "  0%|          | 0/469 [00:00<?, ?it/s]"
          ],
          "name": "stderr"
        },
        {
          "output_type": "stream",
          "text": [
            "\n",
            "Test set: Average loss: 0.016855, Accuracy: 9950/10000 (99.50%)\n",
            "\n",
            "EPOCH: 14\n"
          ],
          "name": "stdout"
        },
        {
          "output_type": "stream",
          "text": [
            "Loss=0.031691 Batch_id=468 Accuracy=99.13: 100%|██████████| 469/469 [00:16<00:00, 37.01it/s]\n",
            "  0%|          | 0/469 [00:00<?, ?it/s]"
          ],
          "name": "stderr"
        },
        {
          "output_type": "stream",
          "text": [
            "\n",
            "Test set: Average loss: 0.016396, Accuracy: 9951/10000 (99.51%)\n",
            "\n",
            "EPOCH: 15\n"
          ],
          "name": "stdout"
        },
        {
          "output_type": "stream",
          "text": [
            "Loss=0.031935 Batch_id=468 Accuracy=99.12: 100%|██████████| 469/469 [00:16<00:00, 28.73it/s]\n",
            "  0%|          | 0/469 [00:00<?, ?it/s]"
          ],
          "name": "stderr"
        },
        {
          "output_type": "stream",
          "text": [
            "\n",
            "Test set: Average loss: 0.016490, Accuracy: 9956/10000 (99.56%)\n",
            "\n",
            "EPOCH: 16\n"
          ],
          "name": "stdout"
        },
        {
          "output_type": "stream",
          "text": [
            "Loss=0.031234 Batch_id=468 Accuracy=99.13: 100%|██████████| 469/469 [00:16<00:00, 28.19it/s]\n",
            "  0%|          | 0/469 [00:00<?, ?it/s]"
          ],
          "name": "stderr"
        },
        {
          "output_type": "stream",
          "text": [
            "\n",
            "Test set: Average loss: 0.016727, Accuracy: 9950/10000 (99.50%)\n",
            "\n",
            "EPOCH: 17\n"
          ],
          "name": "stdout"
        },
        {
          "output_type": "stream",
          "text": [
            "Loss=0.031194 Batch_id=468 Accuracy=99.16: 100%|██████████| 469/469 [00:16<00:00, 28.38it/s]\n",
            "  0%|          | 0/469 [00:00<?, ?it/s]"
          ],
          "name": "stderr"
        },
        {
          "output_type": "stream",
          "text": [
            "\n",
            "Test set: Average loss: 0.016348, Accuracy: 9953/10000 (99.53%)\n",
            "\n",
            "EPOCH: 18\n"
          ],
          "name": "stdout"
        },
        {
          "output_type": "stream",
          "text": [
            "Loss=0.030894 Batch_id=468 Accuracy=99.17: 100%|██████████| 469/469 [00:16<00:00, 34.06it/s]\n",
            "  0%|          | 0/469 [00:00<?, ?it/s]"
          ],
          "name": "stderr"
        },
        {
          "output_type": "stream",
          "text": [
            "\n",
            "Test set: Average loss: 0.017127, Accuracy: 9953/10000 (99.53%)\n",
            "\n",
            "EPOCH: 19\n"
          ],
          "name": "stdout"
        },
        {
          "output_type": "stream",
          "text": [
            "Loss=0.030747 Batch_id=468 Accuracy=99.17: 100%|██████████| 469/469 [00:16<00:00, 27.89it/s]\n",
            "  0%|          | 0/469 [00:00<?, ?it/s]"
          ],
          "name": "stderr"
        },
        {
          "output_type": "stream",
          "text": [
            "\n",
            "Test set: Average loss: 0.016537, Accuracy: 9950/10000 (99.50%)\n",
            "\n",
            "EPOCH: 20\n"
          ],
          "name": "stdout"
        },
        {
          "output_type": "stream",
          "text": [
            "Loss=0.030073 Batch_id=468 Accuracy=99.19: 100%|██████████| 469/469 [00:15<00:00, 29.34it/s]\n",
            "  0%|          | 0/469 [00:00<?, ?it/s]"
          ],
          "name": "stderr"
        },
        {
          "output_type": "stream",
          "text": [
            "\n",
            "Test set: Average loss: 0.016440, Accuracy: 9957/10000 (99.57%)\n",
            "\n",
            "EPOCH: 21\n"
          ],
          "name": "stdout"
        },
        {
          "output_type": "stream",
          "text": [
            "Loss=0.030298 Batch_id=468 Accuracy=99.19: 100%|██████████| 469/469 [00:16<00:00, 28.04it/s]\n",
            "  0%|          | 0/469 [00:00<?, ?it/s]"
          ],
          "name": "stderr"
        },
        {
          "output_type": "stream",
          "text": [
            "\n",
            "Test set: Average loss: 0.016201, Accuracy: 9959/10000 (99.59%)\n",
            "\n",
            "EPOCH: 22\n"
          ],
          "name": "stdout"
        },
        {
          "output_type": "stream",
          "text": [
            "Loss=0.030486 Batch_id=468 Accuracy=99.15: 100%|██████████| 469/469 [00:16<00:00, 28.46it/s]\n",
            "  0%|          | 0/469 [00:00<?, ?it/s]"
          ],
          "name": "stderr"
        },
        {
          "output_type": "stream",
          "text": [
            "\n",
            "Test set: Average loss: 0.016086, Accuracy: 9956/10000 (99.56%)\n",
            "\n",
            "EPOCH: 23\n"
          ],
          "name": "stdout"
        },
        {
          "output_type": "stream",
          "text": [
            "Loss=0.030807 Batch_id=468 Accuracy=99.16: 100%|██████████| 469/469 [00:16<00:00, 28.90it/s]\n",
            "  0%|          | 0/469 [00:00<?, ?it/s]"
          ],
          "name": "stderr"
        },
        {
          "output_type": "stream",
          "text": [
            "\n",
            "Test set: Average loss: 0.015803, Accuracy: 9958/10000 (99.58%)\n",
            "\n",
            "EPOCH: 24\n"
          ],
          "name": "stdout"
        },
        {
          "output_type": "stream",
          "text": [
            "Loss=0.030236 Batch_id=468 Accuracy=99.15: 100%|██████████| 469/469 [00:16<00:00, 28.81it/s]\n",
            "  0%|          | 0/469 [00:00<?, ?it/s]"
          ],
          "name": "stderr"
        },
        {
          "output_type": "stream",
          "text": [
            "\n",
            "Test set: Average loss: 0.016184, Accuracy: 9955/10000 (99.55%)\n",
            "\n",
            "EPOCH: 25\n"
          ],
          "name": "stdout"
        },
        {
          "output_type": "stream",
          "text": [
            "Loss=0.031346 Batch_id=468 Accuracy=99.12: 100%|██████████| 469/469 [00:16<00:00, 28.74it/s]\n",
            "  0%|          | 0/469 [00:00<?, ?it/s]"
          ],
          "name": "stderr"
        },
        {
          "output_type": "stream",
          "text": [
            "\n",
            "Test set: Average loss: 0.015881, Accuracy: 9958/10000 (99.58%)\n",
            "\n",
            "EPOCH: 26\n"
          ],
          "name": "stdout"
        },
        {
          "output_type": "stream",
          "text": [
            "Loss=0.030778 Batch_id=468 Accuracy=99.15: 100%|██████████| 469/469 [00:16<00:00, 28.50it/s]\n",
            "  0%|          | 0/469 [00:00<?, ?it/s]"
          ],
          "name": "stderr"
        },
        {
          "output_type": "stream",
          "text": [
            "\n",
            "Test set: Average loss: 0.016025, Accuracy: 9956/10000 (99.56%)\n",
            "\n",
            "EPOCH: 27\n"
          ],
          "name": "stdout"
        },
        {
          "output_type": "stream",
          "text": [
            "Loss=0.030507 Batch_id=468 Accuracy=99.17: 100%|██████████| 469/469 [00:16<00:00, 28.53it/s]\n",
            "  0%|          | 0/469 [00:00<?, ?it/s]"
          ],
          "name": "stderr"
        },
        {
          "output_type": "stream",
          "text": [
            "\n",
            "Test set: Average loss: 0.016254, Accuracy: 9957/10000 (99.57%)\n",
            "\n",
            "EPOCH: 28\n"
          ],
          "name": "stdout"
        },
        {
          "output_type": "stream",
          "text": [
            "Loss=0.030757 Batch_id=468 Accuracy=99.15: 100%|██████████| 469/469 [00:16<00:00, 28.88it/s]\n",
            "  0%|          | 0/469 [00:00<?, ?it/s]"
          ],
          "name": "stderr"
        },
        {
          "output_type": "stream",
          "text": [
            "\n",
            "Test set: Average loss: 0.015931, Accuracy: 9958/10000 (99.58%)\n",
            "\n",
            "EPOCH: 29\n"
          ],
          "name": "stdout"
        },
        {
          "output_type": "stream",
          "text": [
            "Loss=0.030672 Batch_id=468 Accuracy=99.18: 100%|██████████| 469/469 [00:16<00:00, 33.92it/s]\n",
            "  0%|          | 0/469 [00:00<?, ?it/s]"
          ],
          "name": "stderr"
        },
        {
          "output_type": "stream",
          "text": [
            "\n",
            "Test set: Average loss: 0.016229, Accuracy: 9956/10000 (99.56%)\n",
            "\n",
            "EPOCH: 30\n"
          ],
          "name": "stdout"
        },
        {
          "output_type": "stream",
          "text": [
            "Loss=0.030804 Batch_id=468 Accuracy=99.19: 100%|██████████| 469/469 [00:15<00:00, 29.70it/s]\n",
            "  0%|          | 0/469 [00:00<?, ?it/s]"
          ],
          "name": "stderr"
        },
        {
          "output_type": "stream",
          "text": [
            "\n",
            "Test set: Average loss: 0.015956, Accuracy: 9955/10000 (99.55%)\n",
            "\n",
            "EPOCH: 31\n"
          ],
          "name": "stdout"
        },
        {
          "output_type": "stream",
          "text": [
            "Loss=0.030306 Batch_id=468 Accuracy=99.18: 100%|██████████| 469/469 [00:16<00:00, 28.61it/s]\n",
            "  0%|          | 0/469 [00:00<?, ?it/s]"
          ],
          "name": "stderr"
        },
        {
          "output_type": "stream",
          "text": [
            "\n",
            "Test set: Average loss: 0.016582, Accuracy: 9954/10000 (99.54%)\n",
            "\n",
            "EPOCH: 32\n"
          ],
          "name": "stdout"
        },
        {
          "output_type": "stream",
          "text": [
            "Loss=0.030749 Batch_id=468 Accuracy=99.12: 100%|██████████| 469/469 [00:15<00:00, 29.64it/s]\n",
            "  0%|          | 0/469 [00:00<?, ?it/s]"
          ],
          "name": "stderr"
        },
        {
          "output_type": "stream",
          "text": [
            "\n",
            "Test set: Average loss: 0.016432, Accuracy: 9954/10000 (99.54%)\n",
            "\n",
            "EPOCH: 33\n"
          ],
          "name": "stdout"
        },
        {
          "output_type": "stream",
          "text": [
            "Loss=0.030611 Batch_id=468 Accuracy=99.12: 100%|██████████| 469/469 [00:15<00:00, 29.67it/s]\n",
            "  0%|          | 0/469 [00:00<?, ?it/s]"
          ],
          "name": "stderr"
        },
        {
          "output_type": "stream",
          "text": [
            "\n",
            "Test set: Average loss: 0.015718, Accuracy: 9958/10000 (99.58%)\n",
            "\n",
            "EPOCH: 34\n"
          ],
          "name": "stdout"
        },
        {
          "output_type": "stream",
          "text": [
            "Loss=0.030653 Batch_id=468 Accuracy=99.13: 100%|██████████| 469/469 [00:15<00:00, 29.35it/s]\n",
            "  0%|          | 0/469 [00:00<?, ?it/s]"
          ],
          "name": "stderr"
        },
        {
          "output_type": "stream",
          "text": [
            "\n",
            "Test set: Average loss: 0.016628, Accuracy: 9956/10000 (99.56%)\n",
            "\n",
            "EPOCH: 35\n"
          ],
          "name": "stdout"
        },
        {
          "output_type": "stream",
          "text": [
            "Loss=0.030187 Batch_id=468 Accuracy=99.20: 100%|██████████| 469/469 [00:16<00:00, 28.12it/s]\n",
            "  0%|          | 0/469 [00:00<?, ?it/s]"
          ],
          "name": "stderr"
        },
        {
          "output_type": "stream",
          "text": [
            "\n",
            "Test set: Average loss: 0.016048, Accuracy: 9955/10000 (99.55%)\n",
            "\n",
            "EPOCH: 36\n"
          ],
          "name": "stdout"
        },
        {
          "output_type": "stream",
          "text": [
            "Loss=0.030629 Batch_id=468 Accuracy=99.15: 100%|██████████| 469/469 [00:17<00:00, 26.90it/s]\n",
            "  0%|          | 0/469 [00:00<?, ?it/s]"
          ],
          "name": "stderr"
        },
        {
          "output_type": "stream",
          "text": [
            "\n",
            "Test set: Average loss: 0.015919, Accuracy: 9956/10000 (99.56%)\n",
            "\n",
            "EPOCH: 37\n"
          ],
          "name": "stdout"
        },
        {
          "output_type": "stream",
          "text": [
            "Loss=0.030634 Batch_id=468 Accuracy=99.14: 100%|██████████| 469/469 [00:17<00:00, 27.57it/s]\n",
            "  0%|          | 0/469 [00:00<?, ?it/s]"
          ],
          "name": "stderr"
        },
        {
          "output_type": "stream",
          "text": [
            "\n",
            "Test set: Average loss: 0.016222, Accuracy: 9956/10000 (99.56%)\n",
            "\n",
            "EPOCH: 38\n"
          ],
          "name": "stdout"
        },
        {
          "output_type": "stream",
          "text": [
            "Loss=0.029540 Batch_id=468 Accuracy=99.22: 100%|██████████| 469/469 [00:16<00:00, 28.07it/s]\n",
            "  0%|          | 0/469 [00:00<?, ?it/s]"
          ],
          "name": "stderr"
        },
        {
          "output_type": "stream",
          "text": [
            "\n",
            "Test set: Average loss: 0.016147, Accuracy: 9957/10000 (99.57%)\n",
            "\n",
            "EPOCH: 39\n"
          ],
          "name": "stdout"
        },
        {
          "output_type": "stream",
          "text": [
            "Loss=0.029885 Batch_id=468 Accuracy=99.18: 100%|██████████| 469/469 [00:17<00:00, 33.42it/s]\n"
          ],
          "name": "stderr"
        },
        {
          "output_type": "stream",
          "text": [
            "\n",
            "Test set: Average loss: 0.016240, Accuracy: 9957/10000 (99.57%)\n",
            "\n"
          ],
          "name": "stdout"
        }
      ]
    },
    {
      "cell_type": "code",
      "metadata": {
        "id": "tmVO_h3s3EhF",
        "colab_type": "code",
        "outputId": "9326a5f5-bf18-4d06-f58c-9b0c8a00f52a",
        "colab": {
          "base_uri": "https://localhost:8080/",
          "height": 421
        }
      },
      "source": [
        "print(\"\\nPloting Accuracy and Loss history: {}\\n\".format(model_name))\n",
        "\n",
        "plot_model_history(model_name, \n",
        "                   train_acc2,test_acc2,\n",
        "                   train_losses2,test_losses2,\n",
        "                   save_filename = \"model_with_l1_history\")"
      ],
      "execution_count": 0,
      "outputs": [
        {
          "output_type": "stream",
          "text": [
            "\n",
            "Ploting Accuracy and Loss history: Model with L1\n",
            "\n"
          ],
          "name": "stdout"
        },
        {
          "output_type": "display_data",
          "data": {
            "image/png": "[encoded data removed]",
            "text/plain": [
              "<Figure size 1440x360 with 2 Axes>"
            ]
          },
          "metadata": {
            "tags": []
          }
        }
      ]
    },
    {
      "cell_type": "code",
      "metadata": {
        "id": "aQd_vwZF3EaM",
        "colab_type": "code",
        "outputId": "f0714623-2034-4f4f-cdd3-524df6f6b017",
        "colab": {
          "base_uri": "https://localhost:8080/",
          "height": 791
        }
      },
      "source": [
        "print(\"\\nPloting misclassified images: {}\\n\".format(model_name))\n",
        "\n",
        "plot_misclassified_images(model_with_l1, \n",
        "                          device, \n",
        "                          testloader=test_loader,\n",
        "                          save_filename=\"model_with_l1_misclassified\")"
      ],
      "execution_count": 0,
      "outputs": [
        {
          "output_type": "stream",
          "text": [
            "\n",
            "Ploting misclassified images: Model with L1\n",
            "\n"
          ],
          "name": "stdout"
        },
        {
          "output_type": "stream",
          "text": [
            "/usr/local/lib/python3.6/dist-packages/ipykernel_launcher.py:67: UserWarning: Implicit dimension choice for log_softmax has been deprecated. Change the call to include dim=X as an argument.\n"
          ],
          "name": "stderr"
        },
        {
          "output_type": "display_data",
          "data": {
            "image/png": "[encoded data removed]",
            "text/plain": [
              "<Figure size 864x864 with 25 Axes>"
            ]
          },
          "metadata": {
            "tags": []
          }
        }
      ]
    },
    {
      "cell_type": "markdown",
      "metadata": {
        "id": "Ovxi_mFtf4c4",
        "colab_type": "text"
      },
      "source": [
        "# Model with L2"
      ]
    },
    {
      "cell_type": "code",
      "metadata": {
        "id": "6_w6q98FfvSe",
        "colab_type": "code",
        "outputId": "53240420-c4a6-4b32-a49e-67aceabbbc40",
        "colab": {
          "base_uri": "https://localhost:8080/",
          "height": 1000
        }
      },
      "source": [
        "model_name = \"Model with L2\"\n",
        "model_with_l2 =  Net().to(device)\n",
        "train_acc3, train_losses3, test_acc3, test_losses3 = build_model(model_with_l2, \n",
        "                                                                 device, \n",
        "                                                                 trainloader=train_loader, \n",
        "                                                                 testloader=test_loader, \n",
        "                                                                 epochs=EPOCHS,\n",
        "                                                                 L2_penalty_val=0.001)"
      ],
      "execution_count": 0,
      "outputs": [
        {
          "output_type": "stream",
          "text": [
            "\r  0%|          | 0/469 [00:00<?, ?it/s]"
          ],
          "name": "stderr"
        },
        {
          "output_type": "stream",
          "text": [
            "EPOCH: 0\n"
          ],
          "name": "stdout"
        },
        {
          "output_type": "stream",
          "text": [
            "/usr/local/lib/python3.6/dist-packages/ipykernel_launcher.py:67: UserWarning: Implicit dimension choice for log_softmax has been deprecated. Change the call to include dim=X as an argument.\n",
            "Loss=0.460188 Batch_id=468 Accuracy=89.08: 100%|██████████| 469/469 [00:14<00:00, 31.43it/s]\n",
            "  0%|          | 0/469 [00:00<?, ?it/s]"
          ],
          "name": "stderr"
        },
        {
          "output_type": "stream",
          "text": [
            "\n",
            "Test set: Average loss: 0.073918, Accuracy: 9802/10000 (98.02%)\n",
            "\n",
            "EPOCH: 1\n"
          ],
          "name": "stdout"
        },
        {
          "output_type": "stream",
          "text": [
            "Loss=0.087478 Batch_id=468 Accuracy=97.72: 100%|██████████| 469/469 [00:14<00:00, 31.42it/s]\n",
            "  0%|          | 0/469 [00:00<?, ?it/s]"
          ],
          "name": "stderr"
        },
        {
          "output_type": "stream",
          "text": [
            "\n",
            "Test set: Average loss: 0.050218, Accuracy: 9862/10000 (98.62%)\n",
            "\n",
            "EPOCH: 2\n"
          ],
          "name": "stdout"
        },
        {
          "output_type": "stream",
          "text": [
            "Loss=0.067717 Batch_id=468 Accuracy=98.13: 100%|██████████| 469/469 [00:15<00:00, 29.62it/s]\n",
            "  0%|          | 0/469 [00:00<?, ?it/s]"
          ],
          "name": "stderr"
        },
        {
          "output_type": "stream",
          "text": [
            "\n",
            "Test set: Average loss: 0.040914, Accuracy: 9876/10000 (98.76%)\n",
            "\n",
            "EPOCH: 3\n"
          ],
          "name": "stdout"
        },
        {
          "output_type": "stream",
          "text": [
            "Loss=0.059884 Batch_id=468 Accuracy=98.32: 100%|██████████| 469/469 [00:15<00:00, 31.20it/s]\n",
            "  0%|          | 0/469 [00:00<?, ?it/s]"
          ],
          "name": "stderr"
        },
        {
          "output_type": "stream",
          "text": [
            "\n",
            "Test set: Average loss: 0.038093, Accuracy: 9893/10000 (98.93%)\n",
            "\n",
            "EPOCH: 4\n"
          ],
          "name": "stdout"
        },
        {
          "output_type": "stream",
          "text": [
            "Loss=0.054266 Batch_id=468 Accuracy=98.50: 100%|██████████| 469/469 [00:14<00:00, 31.47it/s]\n",
            "  0%|          | 0/469 [00:00<?, ?it/s]"
          ],
          "name": "stderr"
        },
        {
          "output_type": "stream",
          "text": [
            "\n",
            "Test set: Average loss: 0.041028, Accuracy: 9867/10000 (98.67%)\n",
            "\n",
            "EPOCH: 5\n"
          ],
          "name": "stdout"
        },
        {
          "output_type": "stream",
          "text": [
            "Loss=0.051259 Batch_id=468 Accuracy=98.57: 100%|██████████| 469/469 [00:15<00:00, 31.05it/s]\n",
            "  0%|          | 0/469 [00:00<?, ?it/s]"
          ],
          "name": "stderr"
        },
        {
          "output_type": "stream",
          "text": [
            "\n",
            "Test set: Average loss: 0.036889, Accuracy: 9886/10000 (98.86%)\n",
            "\n",
            "EPOCH: 6\n"
          ],
          "name": "stdout"
        },
        {
          "output_type": "stream",
          "text": [
            "Loss=0.050270 Batch_id=468 Accuracy=98.57: 100%|██████████| 469/469 [00:15<00:00, 30.92it/s]\n",
            "  0%|          | 0/469 [00:00<?, ?it/s]"
          ],
          "name": "stderr"
        },
        {
          "output_type": "stream",
          "text": [
            "\n",
            "Test set: Average loss: 0.032285, Accuracy: 9908/10000 (99.08%)\n",
            "\n",
            "EPOCH: 7\n"
          ],
          "name": "stdout"
        },
        {
          "output_type": "stream",
          "text": [
            "Loss=0.047532 Batch_id=468 Accuracy=98.66: 100%|██████████| 469/469 [00:14<00:00, 32.78it/s]\n",
            "  0%|          | 0/469 [00:00<?, ?it/s]"
          ],
          "name": "stderr"
        },
        {
          "output_type": "stream",
          "text": [
            "\n",
            "Test set: Average loss: 0.036916, Accuracy: 9898/10000 (98.98%)\n",
            "\n",
            "EPOCH: 8\n"
          ],
          "name": "stdout"
        },
        {
          "output_type": "stream",
          "text": [
            "Loss=0.044848 Batch_id=468 Accuracy=98.82: 100%|██████████| 469/469 [00:14<00:00, 32.11it/s]\n",
            "  0%|          | 0/469 [00:00<?, ?it/s]"
          ],
          "name": "stderr"
        },
        {
          "output_type": "stream",
          "text": [
            "\n",
            "Test set: Average loss: 0.032749, Accuracy: 9904/10000 (99.04%)\n",
            "\n",
            "EPOCH: 9\n"
          ],
          "name": "stdout"
        },
        {
          "output_type": "stream",
          "text": [
            "Loss=0.044179 Batch_id=468 Accuracy=98.76: 100%|██████████| 469/469 [00:14<00:00, 32.50it/s]\n",
            "  0%|          | 0/469 [00:00<?, ?it/s]"
          ],
          "name": "stderr"
        },
        {
          "output_type": "stream",
          "text": [
            "\n",
            "Test set: Average loss: 0.029880, Accuracy: 9918/10000 (99.18%)\n",
            "\n",
            "EPOCH: 10\n"
          ],
          "name": "stdout"
        },
        {
          "output_type": "stream",
          "text": [
            "Loss=0.035595 Batch_id=468 Accuracy=99.03: 100%|██████████| 469/469 [00:14<00:00, 39.95it/s]\n",
            "  0%|          | 0/469 [00:00<?, ?it/s]"
          ],
          "name": "stderr"
        },
        {
          "output_type": "stream",
          "text": [
            "\n",
            "Test set: Average loss: 0.024057, Accuracy: 9939/10000 (99.39%)\n",
            "\n",
            "EPOCH: 11\n"
          ],
          "name": "stdout"
        },
        {
          "output_type": "stream",
          "text": [
            "Loss=0.033408 Batch_id=468 Accuracy=99.11: 100%|██████████| 469/469 [00:14<00:00, 31.72it/s]\n",
            "  0%|          | 0/469 [00:00<?, ?it/s]"
          ],
          "name": "stderr"
        },
        {
          "output_type": "stream",
          "text": [
            "\n",
            "Test set: Average loss: 0.023896, Accuracy: 9936/10000 (99.36%)\n",
            "\n",
            "EPOCH: 12\n"
          ],
          "name": "stdout"
        },
        {
          "output_type": "stream",
          "text": [
            "Loss=0.033625 Batch_id=468 Accuracy=99.10: 100%|██████████| 469/469 [00:14<00:00, 31.85it/s]\n",
            "  0%|          | 0/469 [00:00<?, ?it/s]"
          ],
          "name": "stderr"
        },
        {
          "output_type": "stream",
          "text": [
            "\n",
            "Test set: Average loss: 0.022117, Accuracy: 9938/10000 (99.38%)\n",
            "\n",
            "EPOCH: 13\n"
          ],
          "name": "stdout"
        },
        {
          "output_type": "stream",
          "text": [
            "Loss=0.033709 Batch_id=468 Accuracy=99.07: 100%|██████████| 469/469 [00:15<00:00, 31.25it/s]\n",
            "  0%|          | 0/469 [00:00<?, ?it/s]"
          ],
          "name": "stderr"
        },
        {
          "output_type": "stream",
          "text": [
            "\n",
            "Test set: Average loss: 0.022657, Accuracy: 9940/10000 (99.40%)\n",
            "\n",
            "EPOCH: 14\n"
          ],
          "name": "stdout"
        },
        {
          "output_type": "stream",
          "text": [
            "Loss=0.032857 Batch_id=468 Accuracy=99.12: 100%|██████████| 469/469 [00:14<00:00, 31.71it/s]\n",
            "  0%|          | 0/469 [00:00<?, ?it/s]"
          ],
          "name": "stderr"
        },
        {
          "output_type": "stream",
          "text": [
            "\n",
            "Test set: Average loss: 0.022886, Accuracy: 9939/10000 (99.39%)\n",
            "\n",
            "EPOCH: 15\n"
          ],
          "name": "stdout"
        },
        {
          "output_type": "stream",
          "text": [
            "Loss=0.032728 Batch_id=468 Accuracy=99.10: 100%|██████████| 469/469 [00:15<00:00, 31.21it/s]\n",
            "  0%|          | 0/469 [00:00<?, ?it/s]"
          ],
          "name": "stderr"
        },
        {
          "output_type": "stream",
          "text": [
            "\n",
            "Test set: Average loss: 0.022285, Accuracy: 9940/10000 (99.40%)\n",
            "\n",
            "EPOCH: 16\n"
          ],
          "name": "stdout"
        },
        {
          "output_type": "stream",
          "text": [
            "Loss=0.032273 Batch_id=468 Accuracy=99.16: 100%|██████████| 469/469 [00:14<00:00, 32.01it/s]\n",
            "  0%|          | 0/469 [00:00<?, ?it/s]"
          ],
          "name": "stderr"
        },
        {
          "output_type": "stream",
          "text": [
            "\n",
            "Test set: Average loss: 0.022816, Accuracy: 9938/10000 (99.38%)\n",
            "\n",
            "EPOCH: 17\n"
          ],
          "name": "stdout"
        },
        {
          "output_type": "stream",
          "text": [
            "Loss=0.033302 Batch_id=468 Accuracy=99.09: 100%|██████████| 469/469 [00:15<00:00, 30.44it/s]\n",
            "  0%|          | 0/469 [00:00<?, ?it/s]"
          ],
          "name": "stderr"
        },
        {
          "output_type": "stream",
          "text": [
            "\n",
            "Test set: Average loss: 0.023967, Accuracy: 9932/10000 (99.32%)\n",
            "\n",
            "EPOCH: 18\n"
          ],
          "name": "stdout"
        },
        {
          "output_type": "stream",
          "text": [
            "Loss=0.032529 Batch_id=468 Accuracy=99.13: 100%|██████████| 469/469 [00:14<00:00, 38.98it/s]\n",
            "  0%|          | 0/469 [00:00<?, ?it/s]"
          ],
          "name": "stderr"
        },
        {
          "output_type": "stream",
          "text": [
            "\n",
            "Test set: Average loss: 0.023814, Accuracy: 9936/10000 (99.36%)\n",
            "\n",
            "EPOCH: 19\n"
          ],
          "name": "stdout"
        },
        {
          "output_type": "stream",
          "text": [
            "Loss=0.031614 Batch_id=468 Accuracy=99.19: 100%|██████████| 469/469 [00:14<00:00, 31.86it/s]\n",
            "  0%|          | 0/469 [00:00<?, ?it/s]"
          ],
          "name": "stderr"
        },
        {
          "output_type": "stream",
          "text": [
            "\n",
            "Test set: Average loss: 0.021862, Accuracy: 9941/10000 (99.41%)\n",
            "\n",
            "EPOCH: 20\n"
          ],
          "name": "stdout"
        },
        {
          "output_type": "stream",
          "text": [
            "Loss=0.031800 Batch_id=468 Accuracy=99.18: 100%|██████████| 469/469 [00:14<00:00, 29.84it/s]\n",
            "  0%|          | 0/469 [00:00<?, ?it/s]"
          ],
          "name": "stderr"
        },
        {
          "output_type": "stream",
          "text": [
            "\n",
            "Test set: Average loss: 0.021969, Accuracy: 9940/10000 (99.40%)\n",
            "\n",
            "EPOCH: 21\n"
          ],
          "name": "stdout"
        },
        {
          "output_type": "stream",
          "text": [
            "Loss=0.031054 Batch_id=468 Accuracy=99.19: 100%|██████████| 469/469 [00:14<00:00, 31.28it/s]\n",
            "  0%|          | 0/469 [00:00<?, ?it/s]"
          ],
          "name": "stderr"
        },
        {
          "output_type": "stream",
          "text": [
            "\n",
            "Test set: Average loss: 0.022082, Accuracy: 9943/10000 (99.43%)\n",
            "\n",
            "EPOCH: 22\n"
          ],
          "name": "stdout"
        },
        {
          "output_type": "stream",
          "text": [
            "Loss=0.031392 Batch_id=468 Accuracy=99.17: 100%|██████████| 469/469 [00:14<00:00, 31.66it/s]\n",
            "  0%|          | 0/469 [00:00<?, ?it/s]"
          ],
          "name": "stderr"
        },
        {
          "output_type": "stream",
          "text": [
            "\n",
            "Test set: Average loss: 0.022284, Accuracy: 9940/10000 (99.40%)\n",
            "\n",
            "EPOCH: 23\n"
          ],
          "name": "stdout"
        },
        {
          "output_type": "stream",
          "text": [
            "Loss=0.031377 Batch_id=468 Accuracy=99.16: 100%|██████████| 469/469 [00:14<00:00, 32.33it/s]\n",
            "  0%|          | 0/469 [00:00<?, ?it/s]"
          ],
          "name": "stderr"
        },
        {
          "output_type": "stream",
          "text": [
            "\n",
            "Test set: Average loss: 0.022277, Accuracy: 9942/10000 (99.42%)\n",
            "\n",
            "EPOCH: 24\n"
          ],
          "name": "stdout"
        },
        {
          "output_type": "stream",
          "text": [
            "Loss=0.031011 Batch_id=468 Accuracy=99.19: 100%|██████████| 469/469 [00:15<00:00, 30.82it/s]\n",
            "  0%|          | 0/469 [00:00<?, ?it/s]"
          ],
          "name": "stderr"
        },
        {
          "output_type": "stream",
          "text": [
            "\n",
            "Test set: Average loss: 0.022804, Accuracy: 9938/10000 (99.38%)\n",
            "\n",
            "EPOCH: 25\n"
          ],
          "name": "stdout"
        },
        {
          "output_type": "stream",
          "text": [
            "Loss=0.030621 Batch_id=468 Accuracy=99.22: 100%|██████████| 469/469 [00:14<00:00, 32.40it/s]\n",
            "  0%|          | 0/469 [00:00<?, ?it/s]"
          ],
          "name": "stderr"
        },
        {
          "output_type": "stream",
          "text": [
            "\n",
            "Test set: Average loss: 0.021729, Accuracy: 9943/10000 (99.43%)\n",
            "\n",
            "EPOCH: 26\n"
          ],
          "name": "stdout"
        },
        {
          "output_type": "stream",
          "text": [
            "Loss=0.031445 Batch_id=468 Accuracy=99.16: 100%|██████████| 469/469 [00:14<00:00, 31.71it/s]\n",
            "  0%|          | 0/469 [00:00<?, ?it/s]"
          ],
          "name": "stderr"
        },
        {
          "output_type": "stream",
          "text": [
            "\n",
            "Test set: Average loss: 0.022200, Accuracy: 9942/10000 (99.42%)\n",
            "\n",
            "EPOCH: 27\n"
          ],
          "name": "stdout"
        },
        {
          "output_type": "stream",
          "text": [
            "Loss=0.031477 Batch_id=468 Accuracy=99.15: 100%|██████████| 469/469 [00:14<00:00, 32.57it/s]\n",
            "  0%|          | 0/469 [00:00<?, ?it/s]"
          ],
          "name": "stderr"
        },
        {
          "output_type": "stream",
          "text": [
            "\n",
            "Test set: Average loss: 0.021388, Accuracy: 9943/10000 (99.43%)\n",
            "\n",
            "EPOCH: 28\n"
          ],
          "name": "stdout"
        },
        {
          "output_type": "stream",
          "text": [
            "Loss=0.030991 Batch_id=468 Accuracy=99.16: 100%|██████████| 469/469 [00:15<00:00, 30.93it/s]\n",
            "  0%|          | 0/469 [00:00<?, ?it/s]"
          ],
          "name": "stderr"
        },
        {
          "output_type": "stream",
          "text": [
            "\n",
            "Test set: Average loss: 0.022386, Accuracy: 9938/10000 (99.38%)\n",
            "\n",
            "EPOCH: 29\n"
          ],
          "name": "stdout"
        },
        {
          "output_type": "stream",
          "text": [
            "Loss=0.031318 Batch_id=468 Accuracy=99.16: 100%|██████████| 469/469 [00:14<00:00, 31.73it/s]\n",
            "  0%|          | 0/469 [00:00<?, ?it/s]"
          ],
          "name": "stderr"
        },
        {
          "output_type": "stream",
          "text": [
            "\n",
            "Test set: Average loss: 0.022250, Accuracy: 9943/10000 (99.43%)\n",
            "\n",
            "EPOCH: 30\n"
          ],
          "name": "stdout"
        },
        {
          "output_type": "stream",
          "text": [
            "Loss=0.030741 Batch_id=468 Accuracy=99.19: 100%|██████████| 469/469 [00:14<00:00, 32.36it/s]\n",
            "  0%|          | 0/469 [00:00<?, ?it/s]"
          ],
          "name": "stderr"
        },
        {
          "output_type": "stream",
          "text": [
            "\n",
            "Test set: Average loss: 0.022294, Accuracy: 9941/10000 (99.41%)\n",
            "\n",
            "EPOCH: 31\n"
          ],
          "name": "stdout"
        },
        {
          "output_type": "stream",
          "text": [
            "Loss=0.031083 Batch_id=468 Accuracy=99.20: 100%|██████████| 469/469 [00:14<00:00, 31.37it/s]\n",
            "  0%|          | 0/469 [00:00<?, ?it/s]"
          ],
          "name": "stderr"
        },
        {
          "output_type": "stream",
          "text": [
            "\n",
            "Test set: Average loss: 0.022178, Accuracy: 9942/10000 (99.42%)\n",
            "\n",
            "EPOCH: 32\n"
          ],
          "name": "stdout"
        },
        {
          "output_type": "stream",
          "text": [
            "Loss=0.030873 Batch_id=468 Accuracy=99.21: 100%|██████████| 469/469 [00:15<00:00, 31.21it/s]\n",
            "  0%|          | 0/469 [00:00<?, ?it/s]"
          ],
          "name": "stderr"
        },
        {
          "output_type": "stream",
          "text": [
            "\n",
            "Test set: Average loss: 0.022522, Accuracy: 9937/10000 (99.37%)\n",
            "\n",
            "EPOCH: 33\n"
          ],
          "name": "stdout"
        },
        {
          "output_type": "stream",
          "text": [
            "Loss=0.030889 Batch_id=468 Accuracy=99.17: 100%|██████████| 469/469 [00:14<00:00, 31.72it/s]\n",
            "  0%|          | 0/469 [00:00<?, ?it/s]"
          ],
          "name": "stderr"
        },
        {
          "output_type": "stream",
          "text": [
            "\n",
            "Test set: Average loss: 0.022050, Accuracy: 9942/10000 (99.42%)\n",
            "\n",
            "EPOCH: 34\n"
          ],
          "name": "stdout"
        },
        {
          "output_type": "stream",
          "text": [
            "Loss=0.030104 Batch_id=468 Accuracy=99.21: 100%|██████████| 469/469 [00:14<00:00, 31.72it/s]\n",
            "  0%|          | 0/469 [00:00<?, ?it/s]"
          ],
          "name": "stderr"
        },
        {
          "output_type": "stream",
          "text": [
            "\n",
            "Test set: Average loss: 0.022096, Accuracy: 9942/10000 (99.42%)\n",
            "\n",
            "EPOCH: 35\n"
          ],
          "name": "stdout"
        },
        {
          "output_type": "stream",
          "text": [
            "Loss=0.030581 Batch_id=468 Accuracy=99.19: 100%|██████████| 469/469 [00:15<00:00, 30.57it/s]\n",
            "  0%|          | 0/469 [00:00<?, ?it/s]"
          ],
          "name": "stderr"
        },
        {
          "output_type": "stream",
          "text": [
            "\n",
            "Test set: Average loss: 0.022093, Accuracy: 9942/10000 (99.42%)\n",
            "\n",
            "EPOCH: 36\n"
          ],
          "name": "stdout"
        },
        {
          "output_type": "stream",
          "text": [
            "Loss=0.030661 Batch_id=468 Accuracy=99.21: 100%|██████████| 469/469 [00:14<00:00, 32.14it/s]\n",
            "  0%|          | 0/469 [00:00<?, ?it/s]"
          ],
          "name": "stderr"
        },
        {
          "output_type": "stream",
          "text": [
            "\n",
            "Test set: Average loss: 0.022402, Accuracy: 9941/10000 (99.41%)\n",
            "\n",
            "EPOCH: 37\n"
          ],
          "name": "stdout"
        },
        {
          "output_type": "stream",
          "text": [
            "Loss=0.030843 Batch_id=468 Accuracy=99.15: 100%|██████████| 469/469 [00:14<00:00, 31.32it/s]\n",
            "  0%|          | 0/469 [00:00<?, ?it/s]"
          ],
          "name": "stderr"
        },
        {
          "output_type": "stream",
          "text": [
            "\n",
            "Test set: Average loss: 0.021963, Accuracy: 9943/10000 (99.43%)\n",
            "\n",
            "EPOCH: 38\n"
          ],
          "name": "stdout"
        },
        {
          "output_type": "stream",
          "text": [
            "Loss=0.031272 Batch_id=468 Accuracy=99.19: 100%|██████████| 469/469 [00:14<00:00, 32.19it/s]\n",
            "  0%|          | 0/469 [00:00<?, ?it/s]"
          ],
          "name": "stderr"
        },
        {
          "output_type": "stream",
          "text": [
            "\n",
            "Test set: Average loss: 0.021722, Accuracy: 9946/10000 (99.46%)\n",
            "\n",
            "EPOCH: 39\n"
          ],
          "name": "stdout"
        },
        {
          "output_type": "stream",
          "text": [
            "Loss=0.030748 Batch_id=468 Accuracy=99.21: 100%|██████████| 469/469 [00:15<00:00, 30.31it/s]\n"
          ],
          "name": "stderr"
        },
        {
          "output_type": "stream",
          "text": [
            "\n",
            "Test set: Average loss: 0.021610, Accuracy: 9944/10000 (99.44%)\n",
            "\n"
          ],
          "name": "stdout"
        }
      ]
    },
    {
      "cell_type": "code",
      "metadata": {
        "id": "IBg7F9U-gG_o",
        "colab_type": "code",
        "outputId": "8a363cd9-e245-4fb1-b073-bc0f79abb748",
        "colab": {
          "base_uri": "https://localhost:8080/",
          "height": 421
        }
      },
      "source": [
        "print(\"\\nPloting Accuracy and Loss history: {}\\n\".format(model_name))\n",
        "\n",
        "plot_model_history(model_name, \n",
        "                   train_acc3,test_acc3,\n",
        "                   train_losses3,test_losses3,\n",
        "                   save_filename = \"model_with_l2_history\")"
      ],
      "execution_count": 0,
      "outputs": [
        {
          "output_type": "stream",
          "text": [
            "\n",
            "Ploting Accuracy and Loss history: Model with L2\n",
            "\n"
          ],
          "name": "stdout"
        },
        {
          "output_type": "display_data",
          "data": {
            "image/png": "[encoded data removed]",
            "text/plain": [
              "<Figure size 1440x360 with 2 Axes>"
            ]
          },
          "metadata": {
            "tags": []
          }
        }
      ]
    },
    {
      "cell_type": "code",
      "metadata": {
        "id": "s5NdEWBNgHD9",
        "colab_type": "code",
        "outputId": "73c70b51-175e-43e4-de08-37c5c14cda78",
        "colab": {
          "base_uri": "https://localhost:8080/",
          "height": 791
        }
      },
      "source": [
        "print(\"\\nPloting misclassified images: {}\\n\".format(model_name))\n",
        "\n",
        "plot_misclassified_images(model_with_l2, \n",
        "                          device, \n",
        "                          testloader=test_loader,\n",
        "                          save_filename=\"model_with_l2_misclassified\")"
      ],
      "execution_count": 0,
      "outputs": [
        {
          "output_type": "stream",
          "text": [
            "\n",
            "Ploting misclassified images: Model with L2\n",
            "\n"
          ],
          "name": "stdout"
        },
        {
          "output_type": "stream",
          "text": [
            "/usr/local/lib/python3.6/dist-packages/ipykernel_launcher.py:67: UserWarning: Implicit dimension choice for log_softmax has been deprecated. Change the call to include dim=X as an argument.\n"
          ],
          "name": "stderr"
        },
        {
          "output_type": "display_data",
          "data": {
            "image/png": "[encoded data removed]",
            "text/plain": [
              "<Figure size 864x864 with 25 Axes>"
            ]
          },
          "metadata": {
            "tags": []
          }
        }
      ]
    },
    {
      "cell_type": "markdown",
      "metadata": {
        "id": "RrfiTWPDgVJ4",
        "colab_type": "text"
      },
      "source": [
        "# Model with L1 and L2"
      ]
    },
    {
      "cell_type": "code",
      "metadata": {
        "id": "IvTAOZV3gYWA",
        "colab_type": "code",
        "outputId": "839b3b7d-36c9-4db8-b471-33e7e77802f1",
        "colab": {
          "base_uri": "https://localhost:8080/",
          "height": 1000
        }
      },
      "source": [
        "model_name = \"Model with L1 and L2\"\n",
        "model_with_l1_l2 =  Net().to(device)\n",
        "train_acc4, train_losses4, test_acc4, test_losses4 = build_model(model_with_l1_l2, \n",
        "                                                                 device, \n",
        "                                                                 trainloader=train_loader, \n",
        "                                                                 testloader=test_loader, \n",
        "                                                                 epochs=EPOCHS,\n",
        "                                                                 L1_loss_flag=True, \n",
        "                                                                 L2_penalty_val=0.001)"
      ],
      "execution_count": 0,
      "outputs": [
        {
          "output_type": "stream",
          "text": [
            "\r  0%|          | 0/469 [00:00<?, ?it/s]"
          ],
          "name": "stderr"
        },
        {
          "output_type": "stream",
          "text": [
            "EPOCH: 0\n"
          ],
          "name": "stdout"
        },
        {
          "output_type": "stream",
          "text": [
            "/usr/local/lib/python3.6/dist-packages/ipykernel_launcher.py:67: UserWarning: Implicit dimension choice for log_softmax has been deprecated. Change the call to include dim=X as an argument.\n",
            "/usr/local/lib/python3.6/dist-packages/torch/nn/_reduction.py:43: UserWarning: size_average and reduce args will be deprecated, please use reduction='sum' instead.\n",
            "  warnings.warn(warning.format(ret))\n",
            "Loss=0.459618 Batch_id=468 Accuracy=88.29: 100%|██████████| 469/469 [00:16<00:00, 27.94it/s]\n",
            "  0%|          | 0/469 [00:00<?, ?it/s]"
          ],
          "name": "stderr"
        },
        {
          "output_type": "stream",
          "text": [
            "\n",
            "Test set: Average loss: 0.073444, Accuracy: 9820/10000 (98.20%)\n",
            "\n",
            "EPOCH: 1\n"
          ],
          "name": "stdout"
        },
        {
          "output_type": "stream",
          "text": [
            "Loss=0.093949 Batch_id=468 Accuracy=97.59: 100%|██████████| 469/469 [00:16<00:00, 28.70it/s]\n",
            "  0%|          | 0/469 [00:00<?, ?it/s]"
          ],
          "name": "stderr"
        },
        {
          "output_type": "stream",
          "text": [
            "\n",
            "Test set: Average loss: 0.047543, Accuracy: 9862/10000 (98.62%)\n",
            "\n",
            "EPOCH: 2\n"
          ],
          "name": "stdout"
        },
        {
          "output_type": "stream",
          "text": [
            "Loss=0.072868 Batch_id=468 Accuracy=98.01: 100%|██████████| 469/469 [00:16<00:00, 27.61it/s]\n",
            "  0%|          | 0/469 [00:00<?, ?it/s]"
          ],
          "name": "stderr"
        },
        {
          "output_type": "stream",
          "text": [
            "\n",
            "Test set: Average loss: 0.041875, Accuracy: 9885/10000 (98.85%)\n",
            "\n",
            "EPOCH: 3\n"
          ],
          "name": "stdout"
        },
        {
          "output_type": "stream",
          "text": [
            "Loss=0.063640 Batch_id=468 Accuracy=98.26: 100%|██████████| 469/469 [00:17<00:00, 27.17it/s]\n",
            "  0%|          | 0/469 [00:00<?, ?it/s]"
          ],
          "name": "stderr"
        },
        {
          "output_type": "stream",
          "text": [
            "\n",
            "Test set: Average loss: 0.033290, Accuracy: 9911/10000 (99.11%)\n",
            "\n",
            "EPOCH: 4\n"
          ],
          "name": "stdout"
        },
        {
          "output_type": "stream",
          "text": [
            "Loss=0.058057 Batch_id=468 Accuracy=98.43: 100%|██████████| 469/469 [00:16<00:00, 28.52it/s]\n",
            "  0%|          | 0/469 [00:00<?, ?it/s]"
          ],
          "name": "stderr"
        },
        {
          "output_type": "stream",
          "text": [
            "\n",
            "Test set: Average loss: 0.035797, Accuracy: 9909/10000 (99.09%)\n",
            "\n",
            "EPOCH: 5\n"
          ],
          "name": "stdout"
        },
        {
          "output_type": "stream",
          "text": [
            "Loss=0.054844 Batch_id=468 Accuracy=98.52: 100%|██████████| 469/469 [00:16<00:00, 28.10it/s]\n",
            "  0%|          | 0/469 [00:00<?, ?it/s]"
          ],
          "name": "stderr"
        },
        {
          "output_type": "stream",
          "text": [
            "\n",
            "Test set: Average loss: 0.030440, Accuracy: 9911/10000 (99.11%)\n",
            "\n",
            "EPOCH: 6\n"
          ],
          "name": "stdout"
        },
        {
          "output_type": "stream",
          "text": [
            "Loss=0.052472 Batch_id=468 Accuracy=98.58: 100%|██████████| 469/469 [00:16<00:00, 28.84it/s]\n",
            "  0%|          | 0/469 [00:00<?, ?it/s]"
          ],
          "name": "stderr"
        },
        {
          "output_type": "stream",
          "text": [
            "\n",
            "Test set: Average loss: 0.031612, Accuracy: 9898/10000 (98.98%)\n",
            "\n",
            "EPOCH: 7\n"
          ],
          "name": "stdout"
        },
        {
          "output_type": "stream",
          "text": [
            "Loss=0.050218 Batch_id=468 Accuracy=98.64: 100%|██████████| 469/469 [00:16<00:00, 34.35it/s]\n",
            "  0%|          | 0/469 [00:00<?, ?it/s]"
          ],
          "name": "stderr"
        },
        {
          "output_type": "stream",
          "text": [
            "\n",
            "Test set: Average loss: 0.026603, Accuracy: 9918/10000 (99.18%)\n",
            "\n",
            "EPOCH: 8\n"
          ],
          "name": "stdout"
        },
        {
          "output_type": "stream",
          "text": [
            "Loss=0.050579 Batch_id=468 Accuracy=98.63: 100%|██████████| 469/469 [00:16<00:00, 27.98it/s]\n",
            "  0%|          | 0/469 [00:00<?, ?it/s]"
          ],
          "name": "stderr"
        },
        {
          "output_type": "stream",
          "text": [
            "\n",
            "Test set: Average loss: 0.031554, Accuracy: 9916/10000 (99.16%)\n",
            "\n",
            "EPOCH: 9\n"
          ],
          "name": "stdout"
        },
        {
          "output_type": "stream",
          "text": [
            "Loss=0.046538 Batch_id=468 Accuracy=98.78: 100%|██████████| 469/469 [00:16<00:00, 27.76it/s]\n",
            "  0%|          | 0/469 [00:00<?, ?it/s]"
          ],
          "name": "stderr"
        },
        {
          "output_type": "stream",
          "text": [
            "\n",
            "Test set: Average loss: 0.029107, Accuracy: 9927/10000 (99.27%)\n",
            "\n",
            "EPOCH: 10\n"
          ],
          "name": "stdout"
        },
        {
          "output_type": "stream",
          "text": [
            "Loss=0.038709 Batch_id=468 Accuracy=99.01: 100%|██████████| 469/469 [00:17<00:00, 27.16it/s]\n",
            "  0%|          | 0/469 [00:00<?, ?it/s]"
          ],
          "name": "stderr"
        },
        {
          "output_type": "stream",
          "text": [
            "\n",
            "Test set: Average loss: 0.022265, Accuracy: 9932/10000 (99.32%)\n",
            "\n",
            "EPOCH: 11\n"
          ],
          "name": "stdout"
        },
        {
          "output_type": "stream",
          "text": [
            "Loss=0.037789 Batch_id=468 Accuracy=98.98: 100%|██████████| 469/469 [00:16<00:00, 27.59it/s]\n",
            "  0%|          | 0/469 [00:00<?, ?it/s]"
          ],
          "name": "stderr"
        },
        {
          "output_type": "stream",
          "text": [
            "\n",
            "Test set: Average loss: 0.022789, Accuracy: 9929/10000 (99.29%)\n",
            "\n",
            "EPOCH: 12\n"
          ],
          "name": "stdout"
        },
        {
          "output_type": "stream",
          "text": [
            "Loss=0.037388 Batch_id=468 Accuracy=99.07: 100%|██████████| 469/469 [00:17<00:00, 26.68it/s]\n",
            "  0%|          | 0/469 [00:00<?, ?it/s]"
          ],
          "name": "stderr"
        },
        {
          "output_type": "stream",
          "text": [
            "\n",
            "Test set: Average loss: 0.022952, Accuracy: 9933/10000 (99.33%)\n",
            "\n",
            "EPOCH: 13\n"
          ],
          "name": "stdout"
        },
        {
          "output_type": "stream",
          "text": [
            "Loss=0.036895 Batch_id=468 Accuracy=99.06: 100%|██████████| 469/469 [00:17<00:00, 27.29it/s]\n",
            "  0%|          | 0/469 [00:00<?, ?it/s]"
          ],
          "name": "stderr"
        },
        {
          "output_type": "stream",
          "text": [
            "\n",
            "Test set: Average loss: 0.023283, Accuracy: 9929/10000 (99.29%)\n",
            "\n",
            "EPOCH: 14\n"
          ],
          "name": "stdout"
        },
        {
          "output_type": "stream",
          "text": [
            "Loss=0.036641 Batch_id=468 Accuracy=99.08: 100%|██████████| 469/469 [00:17<00:00, 27.07it/s]\n",
            "  0%|          | 0/469 [00:00<?, ?it/s]"
          ],
          "name": "stderr"
        },
        {
          "output_type": "stream",
          "text": [
            "\n",
            "Test set: Average loss: 0.022132, Accuracy: 9932/10000 (99.32%)\n",
            "\n",
            "EPOCH: 15\n"
          ],
          "name": "stdout"
        },
        {
          "output_type": "stream",
          "text": [
            "Loss=0.035795 Batch_id=468 Accuracy=99.09: 100%|██████████| 469/469 [00:17<00:00, 26.53it/s]\n",
            "  0%|          | 0/469 [00:00<?, ?it/s]"
          ],
          "name": "stderr"
        },
        {
          "output_type": "stream",
          "text": [
            "\n",
            "Test set: Average loss: 0.022156, Accuracy: 9935/10000 (99.35%)\n",
            "\n",
            "EPOCH: 16\n"
          ],
          "name": "stdout"
        },
        {
          "output_type": "stream",
          "text": [
            "Loss=0.035381 Batch_id=468 Accuracy=99.10: 100%|██████████| 469/469 [00:17<00:00, 34.05it/s]\n",
            "  0%|          | 0/469 [00:00<?, ?it/s]"
          ],
          "name": "stderr"
        },
        {
          "output_type": "stream",
          "text": [
            "\n",
            "Test set: Average loss: 0.022174, Accuracy: 9930/10000 (99.30%)\n",
            "\n",
            "EPOCH: 17\n"
          ],
          "name": "stdout"
        },
        {
          "output_type": "stream",
          "text": [
            "Loss=0.035488 Batch_id=468 Accuracy=99.07: 100%|██████████| 469/469 [00:17<00:00, 27.13it/s]\n",
            "  0%|          | 0/469 [00:00<?, ?it/s]"
          ],
          "name": "stderr"
        },
        {
          "output_type": "stream",
          "text": [
            "\n",
            "Test set: Average loss: 0.022221, Accuracy: 9929/10000 (99.29%)\n",
            "\n",
            "EPOCH: 18\n"
          ],
          "name": "stdout"
        },
        {
          "output_type": "stream",
          "text": [
            "Loss=0.036439 Batch_id=468 Accuracy=99.08: 100%|██████████| 469/469 [00:18<00:00, 25.97it/s]\n",
            "  0%|          | 0/469 [00:00<?, ?it/s]"
          ],
          "name": "stderr"
        },
        {
          "output_type": "stream",
          "text": [
            "\n",
            "Test set: Average loss: 0.021666, Accuracy: 9931/10000 (99.31%)\n",
            "\n",
            "EPOCH: 19\n"
          ],
          "name": "stdout"
        },
        {
          "output_type": "stream",
          "text": [
            "Loss=0.035794 Batch_id=468 Accuracy=99.13: 100%|██████████| 469/469 [00:16<00:00, 27.74it/s]\n",
            "  0%|          | 0/469 [00:00<?, ?it/s]"
          ],
          "name": "stderr"
        },
        {
          "output_type": "stream",
          "text": [
            "\n",
            "Test set: Average loss: 0.022688, Accuracy: 9926/10000 (99.26%)\n",
            "\n",
            "EPOCH: 20\n"
          ],
          "name": "stdout"
        },
        {
          "output_type": "stream",
          "text": [
            "Loss=0.035404 Batch_id=468 Accuracy=99.10: 100%|██████████| 469/469 [00:17<00:00, 27.53it/s]\n",
            "  0%|          | 0/469 [00:00<?, ?it/s]"
          ],
          "name": "stderr"
        },
        {
          "output_type": "stream",
          "text": [
            "\n",
            "Test set: Average loss: 0.022067, Accuracy: 9925/10000 (99.25%)\n",
            "\n",
            "EPOCH: 21\n"
          ],
          "name": "stdout"
        },
        {
          "output_type": "stream",
          "text": [
            "Loss=0.034666 Batch_id=468 Accuracy=99.14: 100%|██████████| 469/469 [00:16<00:00, 32.63it/s]\n",
            "  0%|          | 0/469 [00:00<?, ?it/s]"
          ],
          "name": "stderr"
        },
        {
          "output_type": "stream",
          "text": [
            "\n",
            "Test set: Average loss: 0.022345, Accuracy: 9926/10000 (99.26%)\n",
            "\n",
            "EPOCH: 22\n"
          ],
          "name": "stdout"
        },
        {
          "output_type": "stream",
          "text": [
            "Loss=0.034322 Batch_id=468 Accuracy=99.17: 100%|██████████| 469/469 [00:16<00:00, 34.10it/s]\n",
            "  0%|          | 0/469 [00:00<?, ?it/s]"
          ],
          "name": "stderr"
        },
        {
          "output_type": "stream",
          "text": [
            "\n",
            "Test set: Average loss: 0.021964, Accuracy: 9929/10000 (99.29%)\n",
            "\n",
            "EPOCH: 23\n"
          ],
          "name": "stdout"
        },
        {
          "output_type": "stream",
          "text": [
            "Loss=0.034199 Batch_id=468 Accuracy=99.14: 100%|██████████| 469/469 [00:16<00:00, 28.25it/s]\n",
            "  0%|          | 0/469 [00:00<?, ?it/s]"
          ],
          "name": "stderr"
        },
        {
          "output_type": "stream",
          "text": [
            "\n",
            "Test set: Average loss: 0.021888, Accuracy: 9927/10000 (99.27%)\n",
            "\n",
            "EPOCH: 24\n"
          ],
          "name": "stdout"
        },
        {
          "output_type": "stream",
          "text": [
            "Loss=0.035056 Batch_id=468 Accuracy=99.11: 100%|██████████| 469/469 [00:16<00:00, 28.16it/s]\n",
            "  0%|          | 0/469 [00:00<?, ?it/s]"
          ],
          "name": "stderr"
        },
        {
          "output_type": "stream",
          "text": [
            "\n",
            "Test set: Average loss: 0.021878, Accuracy: 9930/10000 (99.30%)\n",
            "\n",
            "EPOCH: 25\n"
          ],
          "name": "stdout"
        },
        {
          "output_type": "stream",
          "text": [
            "Loss=0.034618 Batch_id=468 Accuracy=99.14: 100%|██████████| 469/469 [00:16<00:00, 27.99it/s]\n",
            "  0%|          | 0/469 [00:00<?, ?it/s]"
          ],
          "name": "stderr"
        },
        {
          "output_type": "stream",
          "text": [
            "\n",
            "Test set: Average loss: 0.021825, Accuracy: 9929/10000 (99.29%)\n",
            "\n",
            "EPOCH: 26\n"
          ],
          "name": "stdout"
        },
        {
          "output_type": "stream",
          "text": [
            "Loss=0.035099 Batch_id=468 Accuracy=99.12: 100%|██████████| 469/469 [00:16<00:00, 28.18it/s]\n",
            "  0%|          | 0/469 [00:00<?, ?it/s]"
          ],
          "name": "stderr"
        },
        {
          "output_type": "stream",
          "text": [
            "\n",
            "Test set: Average loss: 0.021919, Accuracy: 9928/10000 (99.28%)\n",
            "\n",
            "EPOCH: 27\n"
          ],
          "name": "stdout"
        },
        {
          "output_type": "stream",
          "text": [
            "Loss=0.034900 Batch_id=468 Accuracy=99.08: 100%|██████████| 469/469 [00:16<00:00, 28.36it/s]\n",
            "  0%|          | 0/469 [00:00<?, ?it/s]"
          ],
          "name": "stderr"
        },
        {
          "output_type": "stream",
          "text": [
            "\n",
            "Test set: Average loss: 0.021967, Accuracy: 9930/10000 (99.30%)\n",
            "\n",
            "EPOCH: 28\n"
          ],
          "name": "stdout"
        },
        {
          "output_type": "stream",
          "text": [
            "Loss=0.035324 Batch_id=468 Accuracy=99.07: 100%|██████████| 469/469 [00:16<00:00, 28.00it/s]\n",
            "  0%|          | 0/469 [00:00<?, ?it/s]"
          ],
          "name": "stderr"
        },
        {
          "output_type": "stream",
          "text": [
            "\n",
            "Test set: Average loss: 0.022156, Accuracy: 9928/10000 (99.28%)\n",
            "\n",
            "EPOCH: 29\n"
          ],
          "name": "stdout"
        },
        {
          "output_type": "stream",
          "text": [
            "Loss=0.034979 Batch_id=468 Accuracy=99.11: 100%|██████████| 469/469 [00:16<00:00, 27.72it/s]\n",
            "  0%|          | 0/469 [00:00<?, ?it/s]"
          ],
          "name": "stderr"
        },
        {
          "output_type": "stream",
          "text": [
            "\n",
            "Test set: Average loss: 0.022291, Accuracy: 9931/10000 (99.31%)\n",
            "\n",
            "EPOCH: 30\n"
          ],
          "name": "stdout"
        },
        {
          "output_type": "stream",
          "text": [
            "Loss=0.033677 Batch_id=468 Accuracy=99.16: 100%|██████████| 469/469 [00:16<00:00, 28.59it/s]\n",
            "  0%|          | 0/469 [00:00<?, ?it/s]"
          ],
          "name": "stderr"
        },
        {
          "output_type": "stream",
          "text": [
            "\n",
            "Test set: Average loss: 0.022627, Accuracy: 9933/10000 (99.33%)\n",
            "\n",
            "EPOCH: 31\n"
          ],
          "name": "stdout"
        },
        {
          "output_type": "stream",
          "text": [
            "Loss=0.034391 Batch_id=468 Accuracy=99.16: 100%|██████████| 469/469 [00:16<00:00, 27.90it/s]\n",
            "  0%|          | 0/469 [00:00<?, ?it/s]"
          ],
          "name": "stderr"
        },
        {
          "output_type": "stream",
          "text": [
            "\n",
            "Test set: Average loss: 0.021984, Accuracy: 9929/10000 (99.29%)\n",
            "\n",
            "EPOCH: 32\n"
          ],
          "name": "stdout"
        },
        {
          "output_type": "stream",
          "text": [
            "Loss=0.034544 Batch_id=468 Accuracy=99.16: 100%|██████████| 469/469 [00:16<00:00, 28.05it/s]\n",
            "  0%|          | 0/469 [00:00<?, ?it/s]"
          ],
          "name": "stderr"
        },
        {
          "output_type": "stream",
          "text": [
            "\n",
            "Test set: Average loss: 0.021802, Accuracy: 9929/10000 (99.29%)\n",
            "\n",
            "EPOCH: 33\n"
          ],
          "name": "stdout"
        },
        {
          "output_type": "stream",
          "text": [
            "Loss=0.034270 Batch_id=468 Accuracy=99.16: 100%|██████████| 469/469 [00:16<00:00, 28.23it/s]\n",
            "  0%|          | 0/469 [00:00<?, ?it/s]"
          ],
          "name": "stderr"
        },
        {
          "output_type": "stream",
          "text": [
            "\n",
            "Test set: Average loss: 0.021897, Accuracy: 9929/10000 (99.29%)\n",
            "\n",
            "EPOCH: 34\n"
          ],
          "name": "stdout"
        },
        {
          "output_type": "stream",
          "text": [
            "Loss=0.034296 Batch_id=468 Accuracy=99.14: 100%|██████████| 469/469 [00:17<00:00, 26.40it/s]\n",
            "  0%|          | 0/469 [00:00<?, ?it/s]"
          ],
          "name": "stderr"
        },
        {
          "output_type": "stream",
          "text": [
            "\n",
            "Test set: Average loss: 0.021924, Accuracy: 9929/10000 (99.29%)\n",
            "\n",
            "EPOCH: 35\n"
          ],
          "name": "stdout"
        },
        {
          "output_type": "stream",
          "text": [
            "Loss=0.033832 Batch_id=468 Accuracy=99.22: 100%|██████████| 469/469 [00:17<00:00, 27.35it/s]\n",
            "  0%|          | 0/469 [00:00<?, ?it/s]"
          ],
          "name": "stderr"
        },
        {
          "output_type": "stream",
          "text": [
            "\n",
            "Test set: Average loss: 0.021530, Accuracy: 9929/10000 (99.29%)\n",
            "\n",
            "EPOCH: 36\n"
          ],
          "name": "stdout"
        },
        {
          "output_type": "stream",
          "text": [
            "Loss=0.033359 Batch_id=468 Accuracy=99.22: 100%|██████████| 469/469 [00:17<00:00, 27.16it/s]\n",
            "  0%|          | 0/469 [00:00<?, ?it/s]"
          ],
          "name": "stderr"
        },
        {
          "output_type": "stream",
          "text": [
            "\n",
            "Test set: Average loss: 0.021805, Accuracy: 9930/10000 (99.30%)\n",
            "\n",
            "EPOCH: 37\n"
          ],
          "name": "stdout"
        },
        {
          "output_type": "stream",
          "text": [
            "Loss=0.034700 Batch_id=468 Accuracy=99.14: 100%|██████████| 469/469 [00:17<00:00, 26.67it/s]\n",
            "  0%|          | 0/469 [00:00<?, ?it/s]"
          ],
          "name": "stderr"
        },
        {
          "output_type": "stream",
          "text": [
            "\n",
            "Test set: Average loss: 0.022085, Accuracy: 9929/10000 (99.29%)\n",
            "\n",
            "EPOCH: 38\n"
          ],
          "name": "stdout"
        },
        {
          "output_type": "stream",
          "text": [
            "Loss=0.033502 Batch_id=468 Accuracy=99.14: 100%|██████████| 469/469 [00:17<00:00, 27.58it/s]\n",
            "  0%|          | 0/469 [00:00<?, ?it/s]"
          ],
          "name": "stderr"
        },
        {
          "output_type": "stream",
          "text": [
            "\n",
            "Test set: Average loss: 0.022284, Accuracy: 9930/10000 (99.30%)\n",
            "\n",
            "EPOCH: 39\n"
          ],
          "name": "stdout"
        },
        {
          "output_type": "stream",
          "text": [
            "Loss=0.034646 Batch_id=468 Accuracy=99.10: 100%|██████████| 469/469 [00:16<00:00, 27.78it/s]\n"
          ],
          "name": "stderr"
        },
        {
          "output_type": "stream",
          "text": [
            "\n",
            "Test set: Average loss: 0.022000, Accuracy: 9929/10000 (99.29%)\n",
            "\n"
          ],
          "name": "stdout"
        }
      ]
    },
    {
      "cell_type": "code",
      "metadata": {
        "id": "quhvV-tGgYSv",
        "colab_type": "code",
        "outputId": "9f16016d-402d-4255-e6d1-0f40a8f3339f",
        "colab": {
          "base_uri": "https://localhost:8080/",
          "height": 421
        }
      },
      "source": [
        "print(\"\\nPloting Accuracy and Loss history: {}\\n\".format(model_name))\n",
        "\n",
        "plot_model_history(model_name, \n",
        "                   train_acc4,test_acc4,\n",
        "                   train_losses4,test_losses4,\n",
        "                   save_filename = \"model_with_l1_l2_history\")"
      ],
      "execution_count": 0,
      "outputs": [
        {
          "output_type": "stream",
          "text": [
            "\n",
            "Ploting Accuracy and Loss history: Model with L1 and L2\n",
            "\n"
          ],
          "name": "stdout"
        },
        {
          "output_type": "display_data",
          "data": {
            "image/png": "[encoded data removed]",
            "text/plain": [
              "<Figure size 1440x360 with 2 Axes>"
            ]
          },
          "metadata": {
            "tags": []
          }
        }
      ]
    },
    {
      "cell_type": "code",
      "metadata": {
        "id": "xBqagFnPgbVf",
        "colab_type": "code",
        "outputId": "21be5ce4-4de6-443a-9185-a0562ff34417",
        "colab": {
          "base_uri": "https://localhost:8080/",
          "height": 791
        }
      },
      "source": [
        "print(\"\\nPloting misclassified images: {}\\n\".format(model_name))\n",
        "\n",
        "plot_misclassified_images(model_with_l1_l2, \n",
        "                          device, \n",
        "                          testloader=test_loader,\n",
        "                          save_filename=\"model_with_l1_l2_misclassified\")"
      ],
      "execution_count": 0,
      "outputs": [
        {
          "output_type": "stream",
          "text": [
            "\n",
            "Ploting misclassified images: Model with L1 and L2\n",
            "\n"
          ],
          "name": "stdout"
        },
        {
          "output_type": "stream",
          "text": [
            "/usr/local/lib/python3.6/dist-packages/ipykernel_launcher.py:67: UserWarning: Implicit dimension choice for log_softmax has been deprecated. Change the call to include dim=X as an argument.\n"
          ],
          "name": "stderr"
        },
        {
          "output_type": "display_data",
          "data": {
            "image/png": "[encoded data removed]",
            "text/plain": [
              "<Figure size 864x864 with 25 Axes>"
            ]
          },
          "metadata": {
            "tags": []
          }
        }
      ]
    },
    {
      "cell_type": "markdown",
      "metadata": {
        "id": "xbkR35_VgsQp",
        "colab_type": "text"
      },
      "source": [
        "# Compare all models: Plot validation Accuracy and validation loss changes for all models together "
      ]
    },
    {
      "cell_type": "code",
      "metadata": {
        "id": "DLzNTjfDwR7Q",
        "colab_type": "code",
        "outputId": "83ff68ef-651e-4d15-d3fe-d998466ed94b",
        "colab": {
          "base_uri": "https://localhost:8080/",
          "height": 370
        }
      },
      "source": [
        "legend_list = [\"Without L1 and L2\", \"With L1\", \"with L2\", \"With L1 and L2\"]\n",
        "plot_model_comparison(legend_list,\n",
        "                      test_acc1, test_losses1,\n",
        "                      test_acc2, test_losses2,\n",
        "                      test_acc3, test_losses3,\n",
        "                      test_acc4, test_losses4)"
      ],
      "execution_count": 0,
      "outputs": [
        {
          "output_type": "display_data",
          "data": {
            "image/png": "[encoded data removed]",
            "text/plain": [
              "<Figure size 1440x360 with 2 Axes>"
            ]
          },
          "metadata": {
            "tags": []
          }
        }
      ]
    },
    {
      "cell_type": "code",
      "metadata": {
        "id": "0coZ1GcJxvvT",
        "colab_type": "code",
        "colab": {}
      },
      "source": [
        ""
      ],
      "execution_count": 0,
      "outputs": []
    }
  ]
}