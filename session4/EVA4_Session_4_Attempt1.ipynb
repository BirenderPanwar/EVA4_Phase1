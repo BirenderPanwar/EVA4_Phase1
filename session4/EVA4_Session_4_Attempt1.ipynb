{
  "nbformat": 4,
  "nbformat_minor": 0,
  "metadata": {
    "colab": {
      "name": "EVA4_Session_4_Attempt1.ipynb",
      "provenance": [],
      "collapsed_sections": [],
      "include_colab_link": true
    },
    "kernelspec": {
      "name": "python3",
      "display_name": "Python 3"
    },
    "accelerator": "GPU"
  },
  "cells": [
    {
      "cell_type": "markdown",
      "metadata": {
        "id": "view-in-github",
        "colab_type": "text"
      },
      "source": [
        "<a href=\"https://colab.research.google.com/github/BirenderPanwar/EVA4_Phase1/blob/master/session4/EVA4_Session_4_Attempt1.ipynb\" target=\"_parent\"><img src=\"https://colab.research.google.com/assets/colab-badge.svg\" alt=\"Open In Colab\"/></a>"
      ]
    },
    {
      "cell_type": "code",
      "metadata": {
        "id": "0m2JWFliFfKT",
        "colab_type": "code",
        "colab": {}
      },
      "source": [
        "from __future__ import print_function\n",
        "\n",
        "# torch is the main module that holds all the things you need for Tensor computation\n",
        "import torch\n",
        "\n",
        "# nn module provides many classes and functions to build neural networks.\n",
        "# models, all kinds of layers, activation functions, parameter classes, etc\n",
        "import torch.nn as nn   \n",
        "\n",
        "# functional api such as relu\n",
        "import torch.nn.functional as F\n",
        "\n",
        "# it offers all the optimizers like SGD, ADAM\n",
        "import torch.optim as optim\n",
        "\n",
        "#Torchvision is a package in the PyTorch library containing computer-vision models, datasets, and image transformations\n",
        "from torchvision import datasets, transforms\n",
        "\n",
        "import numpy as np\n",
        "import matplotlib.pyplot as plt\n",
        "%matplotlib inline"
      ],
      "execution_count": 0,
      "outputs": []
    },
    {
      "cell_type": "code",
      "metadata": {
        "id": "-2kN8nhl_9LT",
        "colab_type": "code",
        "colab": {}
      },
      "source": [
        "# Build the neural network, expand on top of nn.Module\n",
        "# All network classes in PyTorch expand on the base class: nn.Module. \n",
        "# It packs all the basics: weights, biases, forward method and also some utility attributes and methods like .parameters() and zero_grad()\n",
        "class Net(nn.Module):\n",
        "    def __init__(self):\n",
        "        super(Net, self).__init__()\n",
        "\n",
        "        self.dropout_val = 0.05\n",
        "\n",
        "        self.conv_blk1 = nn.Sequential(\n",
        "            nn.Conv2d(1, 8, 3, bias=False),   #Output: 8X26X26,  GRF: 3X3\n",
        "            nn.ReLU(),\n",
        "            nn.BatchNorm2d(8),\n",
        "            nn.Conv2d(8, 16, 3, bias=False),  #Output: 16X24X24, GRF: 5X5\n",
        "            nn.ReLU(),\n",
        "            nn.BatchNorm2d(16),\n",
        "            nn.Conv2d(16, 16, 3, bias=False), #Output: 16X22X22, GRF: 7X7\n",
        "            nn.ReLU(),\n",
        "            nn.BatchNorm2d(16)\n",
        "        )\n",
        "\n",
        "        self.conv_blk1_transition = nn.Sequential(\n",
        "            nn.Conv2d(16, 8, 1, bias=False),  #Output: 8X22X22 (combining channels)\n",
        "            nn.MaxPool2d(2, 2),               #Output: 8X11X11, GRF: 8X8\n",
        "            nn.Dropout(self.dropout_val)\n",
        "        )\n",
        "\n",
        "        self.conv_blk2 = nn.Sequential(\n",
        "            nn.Conv2d(8, 16, 3, bias=False),  #Output: 16X9X9, GRF: 12X12\n",
        "            nn.ReLU(),\n",
        "            nn.BatchNorm2d(16),\n",
        "            nn.Conv2d(16, 16, 3, bias=False), #Output: 16X7X7, GRF: 16X16\n",
        "            nn.ReLU(),\n",
        "            nn.BatchNorm2d(16),\n",
        "            nn.Conv2d(16, 16, 3, bias=False), #Output: 16X5X5, GRF: 20X20\n",
        "            # nn.ReLU()\n",
        "            # no ReLU for last covv layer\n",
        "            # no batch norm and dropout as this conv layer is close to output layer\n",
        "        )\n",
        "\n",
        "        self.avgpool = nn.AvgPool2d(kernel_size=5) #Output: 16X1X1 (GAP layer)\n",
        "        self.conv_class10 = nn.Conv2d(16, 10, 1, bias=False)  #Output: 10X1X1, combining to 10 channels as we need 10 classes for predictions\n",
        "\n",
        "    def forward(self, x):\n",
        "\n",
        "        x = self.conv_blk1(x)               # convolution block-1\n",
        "        x = self.conv_blk1_transition(x)    # combining channels followed by maxpool\n",
        "\n",
        "        x = self.conv_blk2(x)               # convolution block-2\n",
        "\n",
        "        x = self.avgpool(x)                 # GAP layer\n",
        "        x = self.conv_class10(x)\n",
        "\n",
        "        # flatten the tensor so it can be passed to the dense layer afterward\n",
        "        x = x.view(-1, 10)\n",
        "        return F.log_softmax(x)"
      ],
      "execution_count": 0,
      "outputs": []
    },
    {
      "cell_type": "code",
      "metadata": {
        "colab_type": "code",
        "id": "xdydjYTZFyi3",
        "outputId": "8fc86736-2ab3-45fe-9137-04a690c903b7",
        "colab": {
          "base_uri": "https://localhost:8080/",
          "height": 676
        }
      },
      "source": [
        "!pip install torchsummary\n",
        "from torchsummary import summary\n",
        "\n",
        "# checking if GPU is available\n",
        "use_cuda = torch.cuda.is_available()\n",
        "device = torch.device(\"cuda\" if use_cuda else \"cpu\")\n",
        "model = Net().to(device)\n",
        "summary(model, input_size=(1, 28, 28))"
      ],
      "execution_count": 0,
      "outputs": [
        {
          "output_type": "stream",
          "text": [
            "Requirement already satisfied: torchsummary in /usr/local/lib/python3.6/dist-packages (1.5.1)\n",
            "----------------------------------------------------------------\n",
            "        Layer (type)               Output Shape         Param #\n",
            "================================================================\n",
            "            Conv2d-1            [-1, 8, 26, 26]              72\n",
            "              ReLU-2            [-1, 8, 26, 26]               0\n",
            "       BatchNorm2d-3            [-1, 8, 26, 26]              16\n",
            "            Conv2d-4           [-1, 16, 24, 24]           1,152\n",
            "              ReLU-5           [-1, 16, 24, 24]               0\n",
            "       BatchNorm2d-6           [-1, 16, 24, 24]              32\n",
            "            Conv2d-7           [-1, 16, 22, 22]           2,304\n",
            "              ReLU-8           [-1, 16, 22, 22]               0\n",
            "       BatchNorm2d-9           [-1, 16, 22, 22]              32\n",
            "           Conv2d-10            [-1, 8, 22, 22]             128\n",
            "        MaxPool2d-11            [-1, 8, 11, 11]               0\n",
            "          Dropout-12            [-1, 8, 11, 11]               0\n",
            "           Conv2d-13             [-1, 16, 9, 9]           1,152\n",
            "             ReLU-14             [-1, 16, 9, 9]               0\n",
            "      BatchNorm2d-15             [-1, 16, 9, 9]              32\n",
            "           Conv2d-16             [-1, 16, 7, 7]           2,304\n",
            "             ReLU-17             [-1, 16, 7, 7]               0\n",
            "      BatchNorm2d-18             [-1, 16, 7, 7]              32\n",
            "           Conv2d-19             [-1, 16, 5, 5]           2,304\n",
            "        AvgPool2d-20             [-1, 16, 1, 1]               0\n",
            "           Conv2d-21             [-1, 10, 1, 1]             160\n",
            "================================================================\n",
            "Total params: 9,720\n",
            "Trainable params: 9,720\n",
            "Non-trainable params: 0\n",
            "----------------------------------------------------------------\n",
            "Input size (MB): 0.00\n",
            "Forward/backward pass size (MB): 0.61\n",
            "Params size (MB): 0.04\n",
            "Estimated Total Size (MB): 0.65\n",
            "----------------------------------------------------------------\n"
          ],
          "name": "stdout"
        },
        {
          "output_type": "stream",
          "text": [
            "/usr/local/lib/python3.6/dist-packages/ipykernel_launcher.py:53: UserWarning: Implicit dimension choice for log_softmax has been deprecated. Change the call to include dim=X as an argument.\n"
          ],
          "name": "stderr"
        }
      ]
    },
    {
      "cell_type": "code",
      "metadata": {
        "id": "DqTWLaM5GHgH",
        "colab_type": "code",
        "colab": {}
      },
      "source": [
        "torch.manual_seed(1) # seeding is added so that everytime we run this notebook we get the same result\n",
        "batch_size = 128\n",
        "\n",
        "kwargs = {'num_workers': 1, 'pin_memory': True} if use_cuda else {}\n",
        "\n",
        "# Description for datasets.MNIST\n",
        "# followed link: https://www.aiworkbox.com/lessons/load-mnist-dataset-from-pytorch-torchvision\n",
        "# root: root parameter is to define where to save the data. here: '../data'\n",
        "# The train parameter is set to true because we are initializing the MNIST training dataset.\n",
        "# The download parameter is set to true because we want to download it if it’s not already present in our data folder.\n",
        "# The transform parameter is used for image manipulation transforms. here we are normalizing the training dataset\n",
        "# transforms.ToTensor to turn images into Tensor so we can directly use it with our network\n",
        "\n",
        "# DataLoader: it can load multiple samples parallelly using torch.multiprocessing workers\n",
        "train_loader = torch.utils.data.DataLoader(\n",
        "    datasets.MNIST('../data', train=True, download=True,\n",
        "                    transform=transforms.Compose([\n",
        "                        transforms.ToTensor(),\n",
        "                        transforms.Normalize((0.1307,), (0.3081,))\n",
        "                    ])),\n",
        "    batch_size=batch_size, shuffle=True, **kwargs)\n",
        "\n",
        "# The train parameter is set to false because we want test set, not the train set.\n",
        "test_loader = torch.utils.data.DataLoader(\n",
        "    datasets.MNIST('../data', train=False, transform=transforms.Compose([\n",
        "                        transforms.ToTensor(),\n",
        "                        transforms.Normalize((0.1307,), (0.3081,))\n",
        "                    ])),\n",
        "    batch_size=batch_size, shuffle=True, **kwargs)\n"
      ],
      "execution_count": 0,
      "outputs": []
    },
    {
      "cell_type": "code",
      "metadata": {
        "id": "ru1Ey4ayCMbB",
        "colab_type": "code",
        "outputId": "f0d2ffb1-dcd7-477b-e290-250fa30f9ec6",
        "colab": {
          "base_uri": "https://localhost:8080/",
          "height": 134
        }
      },
      "source": [
        "# Viewing data examples used for training\n",
        "fig, axis = plt.subplots(1, 10, figsize=(15, 10))\n",
        "images, labels = next(iter(train_loader))\n",
        "\n",
        "for i, ax in enumerate(axis.flat):\n",
        "    with torch.no_grad():\n",
        "        image, label = images[i], labels[i]\n",
        "\n",
        "        ax.imshow(image.view(28, 28), cmap='binary') # add image\n",
        "        ax.set(title = f\"{label}\") # add label"
      ],
      "execution_count": 0,
      "outputs": [
        {
          "output_type": "display_data",
          "data": {
            "image/png": "[encoded data removed]",
            "text/plain": [
              "<Figure size 1080x720 with 10 Axes>"
            ]
          },
          "metadata": {
            "tags": []
          }
        }
      ]
    },
    {
      "cell_type": "code",
      "metadata": {
        "id": "8fDefDhaFlwH",
        "colab_type": "code",
        "colab": {}
      },
      "source": [
        "from tqdm import tqdm\n",
        "\n",
        "# referred: https://www.analyticsvidhya.com/blog/2019/10/building-image-classification-models-cnn-pytorch/\n",
        "\n",
        "def train(model, device, train_loader, optimizer, epoch):\n",
        "    model.train()\n",
        "    n_correct = 0\n",
        "    n_total = 0\n",
        "    train_loss = 0\n",
        "    pbar = tqdm(train_loader)\n",
        "    for batch_idx, (data, target) in enumerate(pbar):\n",
        "        data, target = data.to(device), target.to(device) # converting the data into GPU format\n",
        "        optimizer.zero_grad() # clearing the Gradients of the model parameters\n",
        "        output = model(data) # prediction for training and validation set\n",
        "        loss = F.nll_loss(output, target) # computing the training loss\n",
        "        loss.backward() # computing the updated weights of all the model parameters\n",
        "        optimizer.step()\n",
        "        \n",
        "        # computing training accuracy\n",
        "        pred = output.argmax(dim=1, keepdim=True)  # get the index of the max log-probability\n",
        "        n_correct += pred.eq(target.view_as(pred)).sum().item()\n",
        "        n_total += data.shape[0]\n",
        "        t_acc = 100. * n_correct/n_total\n",
        "\n",
        "        progress_desc = 'Epoch: {} (batch_id={}) ==> loss={:.6f} acc={:.2f}'.format(epoch, batch_idx+1, loss.item(), t_acc,)\n",
        "        #pbar.set_description(desc= f'Epoch: {epoch} ==> loss={loss.item()} acc={train_acc} batch_id={batch_idx}') \n",
        "        pbar.set_description(desc=progress_desc)     \n",
        "    \n",
        "    train_acc = 100. * n_correct/len(train_loader.dataset)\n",
        "    return train_acc \n",
        "\n",
        "\n",
        "def test(model, device, test_loader):\n",
        "    model.eval()\n",
        "    test_loss = 0\n",
        "    correct = 0\n",
        "    with torch.no_grad():\n",
        "        for data, target in test_loader:\n",
        "            data, target = data.to(device), target.to(device) # converting the data into GPU format\n",
        "            output = model(data) # prediction for validation set\n",
        "            test_loss += F.nll_loss(output, target, reduction='sum').item()  # sum up batch loss\n",
        "            pred = output.argmax(dim=1, keepdim=True)  # get the index of the max log-probability\n",
        "            correct += pred.eq(target.view_as(pred)).sum().item()\n",
        "\n",
        "    test_loss /= len(test_loader.dataset)\n",
        "    test_acc = 100. * correct / len(test_loader.dataset)\n",
        "\n",
        "    print('\\nTest set: Average loss: {:.4f}, Accuracy: {}/{} ({:.2f}%)\\n'.format(\n",
        "        test_loss, correct, len(test_loader.dataset),\n",
        "        100. * correct / len(test_loader.dataset)))\n",
        "    return test_acc"
      ],
      "execution_count": 0,
      "outputs": []
    },
    {
      "cell_type": "code",
      "metadata": {
        "id": "MMWbLWO6FuHb",
        "colab_type": "code",
        "outputId": "2e8a1d5e-1828-4475-e5a1-42670599ccfe",
        "colab": {
          "base_uri": "https://localhost:8080/",
          "height": 1000
        }
      },
      "source": [
        "model = Net().to(device)\n",
        "lr = 0.01\n",
        "optimizer = optim.SGD(model.parameters(), lr=lr, momentum=0.9) \n",
        "\n",
        "# Learning rate scheduler to changing LR every epoch\n",
        "lr_scheduler = optim.lr_scheduler.StepLR(optimizer, step_size=16, gamma=0.1, last_epoch=-1)\n",
        "\n",
        "epochs = 20\n",
        "train_acc_hist, test_acc_hist = [], []\n",
        "\n",
        "for epoch in range(1, epochs+1): # run for 20 epochs\n",
        "    train_acc = train(model, device, train_loader, optimizer, epoch)\n",
        "    train_acc_hist.append(train_acc) # storing training accuracy history for each epoch\n",
        "\n",
        "    lr_scheduler.step() # update the learning rate for start_epoch times\n",
        "\n",
        "    test_acc = test(model, device, test_loader) # prediction on test data\n",
        "    test_acc_hist.append(test_acc)  # storing test accuracy history for each epoch"
      ],
      "execution_count": 0,
      "outputs": [
        {
          "output_type": "stream",
          "text": [
            "  0%|          | 0/469 [00:00<?, ?it/s]/usr/local/lib/python3.6/dist-packages/ipykernel_launcher.py:53: UserWarning: Implicit dimension choice for log_softmax has been deprecated. Change the call to include dim=X as an argument.\n",
            "Epoch: 1 (batch_id=469) ==> loss=0.089710 acc=88.91: 100%|██████████| 469/469 [00:12<00:00, 37.91it/s]\n",
            "  0%|          | 0/469 [00:00<?, ?it/s]"
          ],
          "name": "stderr"
        },
        {
          "output_type": "stream",
          "text": [
            "\n",
            "Test set: Average loss: 0.0757, Accuracy: 9768/10000 (97.68%)\n",
            "\n"
          ],
          "name": "stdout"
        },
        {
          "output_type": "stream",
          "text": [
            "Epoch: 2 (batch_id=469) ==> loss=0.058968 acc=98.03: 100%|██████████| 469/469 [00:11<00:00, 39.24it/s]\n",
            "  0%|          | 0/469 [00:00<?, ?it/s]"
          ],
          "name": "stderr"
        },
        {
          "output_type": "stream",
          "text": [
            "\n",
            "Test set: Average loss: 0.0447, Accuracy: 9862/10000 (98.62%)\n",
            "\n"
          ],
          "name": "stdout"
        },
        {
          "output_type": "stream",
          "text": [
            "Epoch: 3 (batch_id=469) ==> loss=0.040869 acc=98.49: 100%|██████████| 469/469 [00:12<00:00, 39.03it/s]\n",
            "  0%|          | 0/469 [00:00<?, ?it/s]"
          ],
          "name": "stderr"
        },
        {
          "output_type": "stream",
          "text": [
            "\n",
            "Test set: Average loss: 0.0442, Accuracy: 9854/10000 (98.54%)\n",
            "\n"
          ],
          "name": "stdout"
        },
        {
          "output_type": "stream",
          "text": [
            "Epoch: 4 (batch_id=469) ==> loss=0.100702 acc=98.73: 100%|██████████| 469/469 [00:11<00:00, 39.34it/s]\n",
            "  0%|          | 0/469 [00:00<?, ?it/s]"
          ],
          "name": "stderr"
        },
        {
          "output_type": "stream",
          "text": [
            "\n",
            "Test set: Average loss: 0.0333, Accuracy: 9883/10000 (98.83%)\n",
            "\n"
          ],
          "name": "stdout"
        },
        {
          "output_type": "stream",
          "text": [
            "Epoch: 5 (batch_id=469) ==> loss=0.038326 acc=98.90: 100%|██████████| 469/469 [00:11<00:00, 39.17it/s]\n",
            "  0%|          | 0/469 [00:00<?, ?it/s]"
          ],
          "name": "stderr"
        },
        {
          "output_type": "stream",
          "text": [
            "\n",
            "Test set: Average loss: 0.0311, Accuracy: 9907/10000 (99.07%)\n",
            "\n"
          ],
          "name": "stdout"
        },
        {
          "output_type": "stream",
          "text": [
            "Epoch: 6 (batch_id=469) ==> loss=0.042999 acc=99.01: 100%|██████████| 469/469 [00:11<00:00, 39.58it/s]\n",
            "  0%|          | 0/469 [00:00<?, ?it/s]"
          ],
          "name": "stderr"
        },
        {
          "output_type": "stream",
          "text": [
            "\n",
            "Test set: Average loss: 0.0320, Accuracy: 9901/10000 (99.01%)\n",
            "\n"
          ],
          "name": "stdout"
        },
        {
          "output_type": "stream",
          "text": [
            "Epoch: 7 (batch_id=469) ==> loss=0.006966 acc=99.15: 100%|██████████| 469/469 [00:12<00:00, 37.82it/s]\n",
            "  0%|          | 0/469 [00:00<?, ?it/s]"
          ],
          "name": "stderr"
        },
        {
          "output_type": "stream",
          "text": [
            "\n",
            "Test set: Average loss: 0.0293, Accuracy: 9911/10000 (99.11%)\n",
            "\n"
          ],
          "name": "stdout"
        },
        {
          "output_type": "stream",
          "text": [
            "Epoch: 8 (batch_id=469) ==> loss=0.082804 acc=99.19: 100%|██████████| 469/469 [00:11<00:00, 39.75it/s]\n",
            "  0%|          | 0/469 [00:00<?, ?it/s]"
          ],
          "name": "stderr"
        },
        {
          "output_type": "stream",
          "text": [
            "\n",
            "Test set: Average loss: 0.0264, Accuracy: 9917/10000 (99.17%)\n",
            "\n"
          ],
          "name": "stdout"
        },
        {
          "output_type": "stream",
          "text": [
            "Epoch: 9 (batch_id=469) ==> loss=0.006199 acc=99.22: 100%|██████████| 469/469 [00:11<00:00, 41.58it/s]\n",
            "  0%|          | 0/469 [00:00<?, ?it/s]"
          ],
          "name": "stderr"
        },
        {
          "output_type": "stream",
          "text": [
            "\n",
            "Test set: Average loss: 0.0265, Accuracy: 9916/10000 (99.16%)\n",
            "\n"
          ],
          "name": "stdout"
        },
        {
          "output_type": "stream",
          "text": [
            "Epoch: 10 (batch_id=469) ==> loss=0.008844 acc=99.30: 100%|██████████| 469/469 [00:12<00:00, 38.51it/s]\n",
            "  0%|          | 0/469 [00:00<?, ?it/s]"
          ],
          "name": "stderr"
        },
        {
          "output_type": "stream",
          "text": [
            "\n",
            "Test set: Average loss: 0.0291, Accuracy: 9919/10000 (99.19%)\n",
            "\n"
          ],
          "name": "stdout"
        },
        {
          "output_type": "stream",
          "text": [
            "Epoch: 11 (batch_id=469) ==> loss=0.004852 acc=99.28: 100%|██████████| 469/469 [00:11<00:00, 39.21it/s]\n",
            "  0%|          | 0/469 [00:00<?, ?it/s]"
          ],
          "name": "stderr"
        },
        {
          "output_type": "stream",
          "text": [
            "\n",
            "Test set: Average loss: 0.0286, Accuracy: 9898/10000 (98.98%)\n",
            "\n"
          ],
          "name": "stdout"
        },
        {
          "output_type": "stream",
          "text": [
            "Epoch: 12 (batch_id=469) ==> loss=0.026372 acc=99.34: 100%|██████████| 469/469 [00:11<00:00, 39.84it/s]\n",
            "  0%|          | 0/469 [00:00<?, ?it/s]"
          ],
          "name": "stderr"
        },
        {
          "output_type": "stream",
          "text": [
            "\n",
            "Test set: Average loss: 0.0267, Accuracy: 9914/10000 (99.14%)\n",
            "\n"
          ],
          "name": "stdout"
        },
        {
          "output_type": "stream",
          "text": [
            "Epoch: 13 (batch_id=469) ==> loss=0.001988 acc=99.39: 100%|██████████| 469/469 [00:11<00:00, 39.15it/s]\n",
            "  0%|          | 0/469 [00:00<?, ?it/s]"
          ],
          "name": "stderr"
        },
        {
          "output_type": "stream",
          "text": [
            "\n",
            "Test set: Average loss: 0.0269, Accuracy: 9919/10000 (99.19%)\n",
            "\n"
          ],
          "name": "stdout"
        },
        {
          "output_type": "stream",
          "text": [
            "Epoch: 14 (batch_id=469) ==> loss=0.075878 acc=99.48: 100%|██████████| 469/469 [00:11<00:00, 39.43it/s]\n",
            "  0%|          | 0/469 [00:00<?, ?it/s]"
          ],
          "name": "stderr"
        },
        {
          "output_type": "stream",
          "text": [
            "\n",
            "Test set: Average loss: 0.0298, Accuracy: 9908/10000 (99.08%)\n",
            "\n"
          ],
          "name": "stdout"
        },
        {
          "output_type": "stream",
          "text": [
            "Epoch: 15 (batch_id=469) ==> loss=0.019275 acc=99.44: 100%|██████████| 469/469 [00:11<00:00, 39.28it/s]\n",
            "  0%|          | 0/469 [00:00<?, ?it/s]"
          ],
          "name": "stderr"
        },
        {
          "output_type": "stream",
          "text": [
            "\n",
            "Test set: Average loss: 0.0249, Accuracy: 9923/10000 (99.23%)\n",
            "\n"
          ],
          "name": "stdout"
        },
        {
          "output_type": "stream",
          "text": [
            "Epoch: 16 (batch_id=469) ==> loss=0.013493 acc=99.50: 100%|██████████| 469/469 [00:12<00:00, 38.63it/s]\n",
            "  0%|          | 0/469 [00:00<?, ?it/s]"
          ],
          "name": "stderr"
        },
        {
          "output_type": "stream",
          "text": [
            "\n",
            "Test set: Average loss: 0.0253, Accuracy: 9924/10000 (99.24%)\n",
            "\n"
          ],
          "name": "stdout"
        },
        {
          "output_type": "stream",
          "text": [
            "Epoch: 17 (batch_id=469) ==> loss=0.004303 acc=99.66: 100%|██████████| 469/469 [00:11<00:00, 39.30it/s]\n",
            "  0%|          | 0/469 [00:00<?, ?it/s]"
          ],
          "name": "stderr"
        },
        {
          "output_type": "stream",
          "text": [
            "\n",
            "Test set: Average loss: 0.0207, Accuracy: 9946/10000 (99.46%)\n",
            "\n"
          ],
          "name": "stdout"
        },
        {
          "output_type": "stream",
          "text": [
            "Epoch: 18 (batch_id=469) ==> loss=0.025840 acc=99.73: 100%|██████████| 469/469 [00:11<00:00, 40.00it/s]\n",
            "  0%|          | 0/469 [00:00<?, ?it/s]"
          ],
          "name": "stderr"
        },
        {
          "output_type": "stream",
          "text": [
            "\n",
            "Test set: Average loss: 0.0207, Accuracy: 9945/10000 (99.45%)\n",
            "\n"
          ],
          "name": "stdout"
        },
        {
          "output_type": "stream",
          "text": [
            "Epoch: 19 (batch_id=469) ==> loss=0.001330 acc=99.73: 100%|██████████| 469/469 [00:12<00:00, 38.75it/s]\n",
            "  0%|          | 0/469 [00:00<?, ?it/s]"
          ],
          "name": "stderr"
        },
        {
          "output_type": "stream",
          "text": [
            "\n",
            "Test set: Average loss: 0.0207, Accuracy: 9944/10000 (99.44%)\n",
            "\n"
          ],
          "name": "stdout"
        },
        {
          "output_type": "stream",
          "text": [
            "Epoch: 20 (batch_id=469) ==> loss=0.003399 acc=99.74: 100%|██████████| 469/469 [00:11<00:00, 42.23it/s]\n"
          ],
          "name": "stderr"
        },
        {
          "output_type": "stream",
          "text": [
            "\n",
            "Test set: Average loss: 0.0214, Accuracy: 9945/10000 (99.45%)\n",
            "\n"
          ],
          "name": "stdout"
        }
      ]
    },
    {
      "cell_type": "code",
      "metadata": {
        "id": "AVfvRdTcZ6jD",
        "colab_type": "code",
        "outputId": "d5de2dcb-624c-44eb-f7a0-06835d965695",
        "colab": {
          "base_uri": "https://localhost:8080/",
          "height": 350
        }
      },
      "source": [
        "# utility fxn to plot accuracy history for the model. This is to visualize how model is converging.\n",
        "def plot_model_history(train_accu, test_accu):\n",
        "    \n",
        "    fig = plt.figure(figsize=(10,5))\n",
        "    axs = plt.axes()\n",
        "    # summarize history for accuracy\n",
        "\n",
        "    axs.plot(range(1,len(train_accu)+1), train_accu)\n",
        "    axs.plot(range(1,len(test_accu)+1),test_accu)\n",
        "\n",
        "    axs.set_title('Model Accuracy')\n",
        "    axs.set_ylabel('Accuracy')\n",
        "    axs.set_xlabel('Epoch')\n",
        "    axs.set_xticks(np.arange(1,len(train_accu)+1),len(train_accu)/10)\n",
        "    axs.legend([\"train\", \"test\"], loc='best')\n",
        "\n",
        "\n",
        "plot_model_history(train_acc_hist, test_acc_hist)"
      ],
      "execution_count": 0,
      "outputs": [
        {
          "output_type": "display_data",
          "data": {
            "image/png": "[encoded data removed]",
            "text/plain": [
              "<Figure size 720x360 with 1 Axes>"
            ]
          },
          "metadata": {
            "tags": []
          }
        }
      ]
    },
    {
      "cell_type": "code",
      "metadata": {
        "id": "1ijmmQ2DZ-YI",
        "colab_type": "code",
        "colab": {}
      },
      "source": [
        ""
      ],
      "execution_count": 0,
      "outputs": []
    }
  ]
}