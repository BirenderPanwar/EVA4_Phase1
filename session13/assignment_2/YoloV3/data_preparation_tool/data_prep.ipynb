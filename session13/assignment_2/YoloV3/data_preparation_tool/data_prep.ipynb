{
 "cells": [
  {
   "cell_type": "markdown",
   "metadata": {},
   "source": [
    "# Preparing Images for Yolo object detection\n",
    "\n",
    "1. images downloaded fron net are in random names\n",
    "2. images are rename in order as imgxxx.jpg for smooth processing"
   ]
  },
  {
   "cell_type": "code",
   "execution_count": 14,
   "metadata": {},
   "outputs": [],
   "source": [
    "import os\n",
    "import time\n",
    "import numpy as np\n",
    "import shutil\n",
    "from tqdm import tqdm\n",
    "import pandas as pd\n",
    "\n",
    "import zipfile\n",
    "import requests\n",
    "from io import StringIO, BytesIO"
   ]
  },
  {
   "cell_type": "code",
   "execution_count": 15,
   "metadata": {},
   "outputs": [],
   "source": [
    "ROOT_IMAGE_DIR = \"D:/my_learning/TSAI/EVA4/assignments/session13/s13_assignment2/reference_code/data_preparation\"\n",
    "inp_dir = os.path.join(ROOT_IMAGE_DIR,\"input\")\n",
    "dst_dir = os.path.join(ROOT_IMAGE_DIR,\"output\")"
   ]
  },
  {
   "cell_type": "code",
   "execution_count": 16,
   "metadata": {},
   "outputs": [
    {
     "data": {
      "text/plain": [
       "['.ipynb_checkpoints',\n",
       " 'custom.shapes_1.txt',\n",
       " 'custom.txt',\n",
       " 'data_prep.ipynb',\n",
       " 'donald_duck.zip',\n",
       " 'input',\n",
       " 'input_flying_disc',\n",
       " 'output',\n",
       " 'output_flying_disc']"
      ]
     },
     "execution_count": 16,
     "metadata": {},
     "output_type": "execute_result"
    }
   ],
   "source": [
    "os.listdir(ROOT_IMAGE_DIR)"
   ]
  },
  {
   "cell_type": "code",
   "execution_count": 17,
   "metadata": {},
   "outputs": [],
   "source": [
    "if os.path.exists(dst_dir):\n",
    "    shutil.rmtree(dst_dir)"
   ]
  },
  {
   "cell_type": "code",
   "execution_count": 18,
   "metadata": {},
   "outputs": [],
   "source": [
    "if not os.path.exists(dst_dir):\n",
    "    os.mkdir(dst_dir)"
   ]
  },
  {
   "cell_type": "code",
   "execution_count": 19,
   "metadata": {},
   "outputs": [],
   "source": [
    "import cv2\n",
    "import matplotlib.pyplot as plt\n",
    "\n",
    "def load_image(path):\n",
    "    img = cv2.imread(path, 1)\n",
    "    return img[...,::-1]"
   ]
  },
  {
   "cell_type": "code",
   "execution_count": 20,
   "metadata": {},
   "outputs": [
    {
     "name": "stderr",
     "output_type": "stream",
     "text": [
      "\n",
      "  0%|                                                                                          | 0/599 [00:00<?, ?it/s]\n",
      "preparing images: 1/599:   0%|                                                                 | 0/599 [00:00<?, ?it/s]\n",
      "preparing images: 2/599:   0%|                                                                 | 0/599 [00:00<?, ?it/s]\n",
      "preparing images: 3/599:   0%|                                                                 | 0/599 [00:00<?, ?it/s]\n",
      "preparing images: 4/599:   0%|                                                                 | 0/599 [00:00<?, ?it/s]\n",
      "preparing images: 5/599:   0%|                                                                 | 0/599 [00:00<?, ?it/s]\n",
      "preparing images: 6/599:   0%|                                                                 | 0/599 [00:00<?, ?it/s]"
     ]
    },
    {
     "name": "stdout",
     "output_type": "stream",
     "text": [
      "skipping file: 6045163-WAHUWBWP-7.jpg\n"
     ]
    },
    {
     "name": "stderr",
     "output_type": "stream",
     "text": [
      "\n",
      "preparing images: 7/599:   0%|                                                                 | 0/599 [00:00<?, ?it/s]\n",
      "preparing images: 7/599:   1%|▋                                                        | 7/599 [00:00<00:08, 67.49it/s]"
     ]
    },
    {
     "name": "stdout",
     "output_type": "stream",
     "text": [
      "skipping file: 6050361-PWLOMTOE-7.jpg\n"
     ]
    },
    {
     "name": "stderr",
     "output_type": "stream",
     "text": [
      "\n",
      "preparing images: 8/599:   1%|▋                                                        | 7/599 [00:00<00:08, 67.49it/s]"
     ]
    },
    {
     "name": "stdout",
     "output_type": "stream",
     "text": [
      "skipping file: 650bb110-9dbb-4f95-8c1b-5857526642ff.jpg\n"
     ]
    },
    {
     "name": "stderr",
     "output_type": "stream",
     "text": [
      "\n",
      "preparing images: 9/599:   1%|▋                                                        | 7/599 [00:00<00:08, 67.49it/s]"
     ]
    },
    {
     "name": "stdout",
     "output_type": "stream",
     "text": [
      "skipping file: 6824330-donald-duck.jpg\n"
     ]
    },
    {
     "name": "stderr",
     "output_type": "stream",
     "text": [
      "\n",
      "preparing images: 10/599:   1%|▋                                                       | 7/599 [00:00<00:08, 67.49it/s]\n",
      "preparing images: 10/599:   2%|▉                                                      | 10/599 [00:00<00:13, 45.17it/s]\n",
      "preparing images: 11/599:   2%|▉                                                      | 10/599 [00:00<00:13, 45.17it/s]\n",
      "preparing images: 12/599:   2%|▉                                                      | 10/599 [00:00<00:13, 45.17it/s]\n",
      "preparing images: 13/599:   2%|▉                                                      | 10/599 [00:00<00:13, 45.17it/s]\n",
      "preparing images: 14/599:   2%|▉                                                      | 10/599 [00:00<00:13, 45.17it/s]\n",
      "preparing images: 15/599:   2%|▉                                                      | 10/599 [00:00<00:13, 45.17it/s]"
     ]
    },
    {
     "name": "stdout",
     "output_type": "stream",
     "text": [
      "skipping file: daisy-duck-donald-duck-daffy-duck-mickey-mouse-png-favpng-NYcwwzim2nv9j0ZmDUpQpbYcb.jpg\n"
     ]
    },
    {
     "name": "stderr",
     "output_type": "stream",
     "text": [
      "\n",
      "preparing images: 16/599:   2%|▉                                                      | 10/599 [00:00<00:13, 45.17it/s]\n",
      "preparing images: 16/599:   3%|█▍                                                     | 16/599 [00:00<00:12, 46.66it/s]"
     ]
    },
    {
     "name": "stdout",
     "output_type": "stream",
     "text": [
      "skipping file: daisy-duck-donald-duck-minnie-mouse-mickey-mouse-goofy-png-favpng-07JmHTcQAuiVaRRzvSFuLhuEV.jpg\n"
     ]
    },
    {
     "name": "stderr",
     "output_type": "stream",
     "text": [
      "\n",
      "preparing images: 17/599:   3%|█▍                                                     | 16/599 [00:00<00:12, 46.66it/s]"
     ]
    },
    {
     "name": "stdout",
     "output_type": "stream",
     "text": [
      "skipping file: donald-duck-2.jpg\n"
     ]
    },
    {
     "name": "stderr",
     "output_type": "stream",
     "text": [
      "\n",
      "preparing images: 18/599:   3%|█▍                                                     | 16/599 [00:00<00:12, 46.66it/s]\n",
      "preparing images: 19/599:   3%|█▍                                                     | 16/599 [00:00<00:12, 46.66it/s]"
     ]
    },
    {
     "name": "stdout",
     "output_type": "stream",
     "text": [
      "skipping file: Donald-Duck-cover-1.jpg\n"
     ]
    },
    {
     "name": "stderr",
     "output_type": "stream",
     "text": [
      "\n",
      "preparing images: 20/599:   3%|█▍                                                     | 16/599 [00:00<00:12, 46.66it/s]\n",
      "preparing images: 20/599:   3%|█▊                                                     | 20/599 [00:00<00:15, 37.49it/s]"
     ]
    },
    {
     "name": "stdout",
     "output_type": "stream",
     "text": [
      "skipping file: donald-duck-day.jpg\n"
     ]
    },
    {
     "name": "stderr",
     "output_type": "stream",
     "text": [
      "\n",
      "preparing images: 21/599:   3%|█▊                                                     | 20/599 [00:00<00:15, 37.49it/s]"
     ]
    },
    {
     "name": "stdout",
     "output_type": "stream",
     "text": [
      "skipping file: donald-duck-E1RR7H.jpg\n"
     ]
    },
    {
     "name": "stderr",
     "output_type": "stream",
     "text": [
      "\n",
      "preparing images: 22/599:   3%|█▊                                                     | 20/599 [00:00<00:15, 37.49it/s]"
     ]
    },
    {
     "name": "stdout",
     "output_type": "stream",
     "text": [
      "skipping file: donald-duck-E1RR7M.jpg\n"
     ]
    },
    {
     "name": "stderr",
     "output_type": "stream",
     "text": [
      "\n",
      "preparing images: 23/599:   3%|█▊                                                     | 20/599 [00:00<00:15, 37.49it/s]\n",
      "preparing images: 23/599:   4%|██                                                     | 23/599 [00:00<00:22, 25.76it/s]\n",
      "preparing images: 24/599:   4%|██                                                     | 23/599 [00:00<00:22, 25.76it/s]"
     ]
    },
    {
     "name": "stdout",
     "output_type": "stream",
     "text": [
      "skipping file: donald-duck-lesbian.jpg\n"
     ]
    },
    {
     "name": "stderr",
     "output_type": "stream",
     "text": [
      "\n",
      "preparing images: 25/599:   4%|██                                                     | 23/599 [00:00<00:22, 25.76it/s]"
     ]
    },
    {
     "name": "stdout",
     "output_type": "stream",
     "text": [
      "skipping file: donald-duck-mickey-mouse-the-walt-disney-company-daisy-duck-png-favpng-wrtBHab6957ksb4HvFN91czUh.jpg\n"
     ]
    },
    {
     "name": "stderr",
     "output_type": "stream",
     "text": [
      "\n",
      "preparing images: 26/599:   4%|██                                                     | 23/599 [00:00<00:22, 25.76it/s]\n",
      "preparing images: 27/599:   4%|██                                                     | 23/599 [00:00<00:22, 25.76it/s]"
     ]
    },
    {
     "name": "stdout",
     "output_type": "stream",
     "text": [
      "skipping file: Donaldstar_1600.jpg\n"
     ]
    },
    {
     "name": "stderr",
     "output_type": "stream",
     "text": [
      "\n",
      "preparing images: 28/599:   4%|██                                                     | 23/599 [00:00<00:22, 25.76it/s]\n",
      "preparing images: 28/599:   5%|██▌                                                    | 28/599 [00:00<00:19, 28.81it/s]\n",
      "preparing images: 29/599:   5%|██▌                                                    | 28/599 [00:00<00:19, 28.81it/s]\n",
      "preparing images: 30/599:   5%|██▌                                                    | 28/599 [00:00<00:19, 28.81it/s]\n",
      "preparing images: 31/599:   5%|██▌                                                    | 28/599 [00:00<00:19, 28.81it/s]\n",
      "preparing images: 32/599:   5%|██▌                                                    | 28/599 [00:00<00:19, 28.81it/s]\n",
      "preparing images: 33/599:   5%|██▌                                                    | 28/599 [00:00<00:19, 28.81it/s]"
     ]
    },
    {
     "name": "stdout",
     "output_type": "stream",
     "text": [
      "skipping file: Duck-Tales-Donald.jpg\n"
     ]
    },
    {
     "name": "stderr",
     "output_type": "stream",
     "text": [
      "\n",
      "preparing images: 34/599:   5%|██▌                                                    | 28/599 [00:00<00:19, 28.81it/s]\n",
      "preparing images: 34/599:   6%|███                                                    | 34/599 [00:00<00:16, 33.92it/s]"
     ]
    },
    {
     "name": "stdout",
     "output_type": "stream",
     "text": [
      "skipping file: ducktales-season-2-episode-17-what-ever-happened-to-donald-duck-scaled.jpg\n"
     ]
    },
    {
     "name": "stderr",
     "output_type": "stream",
     "text": [
      "\n",
      "preparing images: 35/599:   6%|███                                                    | 34/599 [00:01<00:16, 33.92it/s]\n",
      "preparing images: 36/599:   6%|███                                                    | 34/599 [00:01<00:16, 33.92it/s]\n",
      "preparing images: 37/599:   6%|███                                                    | 34/599 [00:01<00:16, 33.92it/s]\n",
      "preparing images: 38/599:   6%|███                                                    | 34/599 [00:01<00:16, 33.92it/s]\n",
      "preparing images: 38/599:   6%|███▍                                                   | 38/599 [00:01<00:17, 31.54it/s]\n",
      "preparing images: 39/599:   6%|███▍                                                   | 38/599 [00:01<00:17, 31.54it/s]\n",
      "preparing images: 40/599:   6%|███▍                                                   | 38/599 [00:01<00:17, 31.54it/s]\n",
      "preparing images: 41/599:   6%|███▍                                                   | 38/599 [00:01<00:17, 31.54it/s]\n",
      "preparing images: 42/599:   6%|███▍                                                   | 38/599 [00:01<00:17, 31.54it/s]\n",
      "preparing images: 43/599:   6%|███▍                                                   | 38/599 [00:01<00:17, 31.54it/s]\n",
      "preparing images: 44/599:   6%|███▍                                                   | 38/599 [00:01<00:17, 31.54it/s]\n",
      "preparing images: 45/599:   6%|███▍                                                   | 38/599 [00:01<00:17, 31.54it/s]\n",
      "preparing images: 46/599:   6%|███▍                                                   | 38/599 [00:01<00:17, 31.54it/s]\n",
      "preparing images: 47/599:   6%|███▍                                                   | 38/599 [00:01<00:17, 31.54it/s]\n",
      "preparing images: 48/599:   6%|███▍                                                   | 38/599 [00:01<00:17, 31.54it/s]\n",
      "preparing images: 49/599:   6%|███▍                                                   | 38/599 [00:01<00:17, 31.54it/s]\n",
      "preparing images: 49/599:   8%|████▍                                                  | 49/599 [00:01<00:13, 39.96it/s]\n",
      "preparing images: 50/599:   8%|████▍                                                  | 49/599 [00:01<00:13, 39.96it/s]\n",
      "preparing images: 51/599:   8%|████▍                                                  | 49/599 [00:01<00:13, 39.96it/s]\n",
      "preparing images: 52/599:   8%|████▍                                                  | 49/599 [00:01<00:13, 39.96it/s]\n",
      "preparing images: 53/599:   8%|████▍                                                  | 49/599 [00:01<00:13, 39.96it/s]\n",
      "preparing images: 54/599:   8%|████▍                                                  | 49/599 [00:01<00:13, 39.96it/s]\n",
      "preparing images: 55/599:   8%|████▍                                                  | 49/599 [00:01<00:13, 39.96it/s]\n",
      "preparing images: 56/599:   8%|████▍                                                  | 49/599 [00:01<00:13, 39.96it/s]\n",
      "preparing images: 57/599:   8%|████▍                                                  | 49/599 [00:01<00:13, 39.96it/s]\n",
      "preparing images: 58/599:   8%|████▍                                                  | 49/599 [00:01<00:13, 39.96it/s]\n",
      "preparing images: 59/599:   8%|████▍                                                  | 49/599 [00:01<00:13, 39.96it/s]\n",
      "preparing images: 59/599:  10%|█████▍                                                 | 59/599 [00:01<00:11, 48.62it/s]\n",
      "preparing images: 60/599:  10%|█████▍                                                 | 59/599 [00:01<00:11, 48.62it/s]\n",
      "preparing images: 61/599:  10%|█████▍                                                 | 59/599 [00:01<00:11, 48.62it/s]\n",
      "preparing images: 62/599:  10%|█████▍                                                 | 59/599 [00:01<00:11, 48.62it/s]\n",
      "preparing images: 63/599:  10%|█████▍                                                 | 59/599 [00:01<00:11, 48.62it/s]\n",
      "preparing images: 64/599:  10%|█████▍                                                 | 59/599 [00:01<00:11, 48.62it/s]\n",
      "preparing images: 65/599:  10%|█████▍                                                 | 59/599 [00:01<00:11, 48.62it/s]\n",
      "preparing images: 66/599:  10%|█████▍                                                 | 59/599 [00:01<00:11, 48.62it/s]\n",
      "preparing images: 67/599:  10%|█████▍                                                 | 59/599 [00:01<00:11, 48.62it/s]\n",
      "preparing images: 68/599:  10%|█████▍                                                 | 59/599 [00:01<00:11, 48.62it/s]\n",
      "preparing images: 69/599:  10%|█████▍                                                 | 59/599 [00:01<00:11, 48.62it/s]\n",
      "preparing images: 70/599:  10%|█████▍                                                 | 59/599 [00:01<00:11, 48.62it/s]\n",
      "preparing images: 70/599:  12%|██████▍                                                | 70/599 [00:01<00:09, 57.77it/s]\n",
      "preparing images: 71/599:  12%|██████▍                                                | 70/599 [00:01<00:09, 57.77it/s]\n",
      "preparing images: 72/599:  12%|██████▍                                                | 70/599 [00:01<00:09, 57.77it/s]\n",
      "preparing images: 73/599:  12%|██████▍                                                | 70/599 [00:01<00:09, 57.77it/s]\n",
      "preparing images: 74/599:  12%|██████▍                                                | 70/599 [00:01<00:09, 57.77it/s]\n",
      "preparing images: 75/599:  12%|██████▍                                                | 70/599 [00:01<00:09, 57.77it/s]\n",
      "preparing images: 76/599:  12%|██████▍                                                | 70/599 [00:01<00:09, 57.77it/s]\n",
      "preparing images: 77/599:  12%|██████▍                                                | 70/599 [00:01<00:09, 57.77it/s]\n",
      "preparing images: 78/599:  12%|██████▍                                                | 70/599 [00:01<00:09, 57.77it/s]\n",
      "preparing images: 78/599:  13%|███████▏                                               | 78/599 [00:01<00:09, 55.48it/s]\n",
      "preparing images: 79/599:  13%|███████▏                                               | 78/599 [00:01<00:09, 55.48it/s]\n",
      "preparing images: 80/599:  13%|███████▏                                               | 78/599 [00:01<00:09, 55.48it/s]\n",
      "preparing images: 81/599:  13%|███████▏                                               | 78/599 [00:01<00:09, 55.48it/s]\n",
      "preparing images: 82/599:  13%|███████▏                                               | 78/599 [00:01<00:09, 55.48it/s]\n",
      "preparing images: 83/599:  13%|███████▏                                               | 78/599 [00:01<00:09, 55.48it/s]\n",
      "preparing images: 84/599:  13%|███████▏                                               | 78/599 [00:01<00:09, 55.48it/s]\n",
      "preparing images: 85/599:  13%|███████▏                                               | 78/599 [00:01<00:09, 55.48it/s]\n",
      "preparing images: 86/599:  13%|███████▏                                               | 78/599 [00:01<00:09, 55.48it/s]\n",
      "preparing images: 87/599:  13%|███████▏                                               | 78/599 [00:01<00:09, 55.48it/s]\n",
      "preparing images: 88/599:  13%|███████▏                                               | 78/599 [00:01<00:09, 55.48it/s]\n",
      "preparing images: 89/599:  13%|███████▏                                               | 78/599 [00:01<00:09, 55.48it/s]\n",
      "preparing images: 89/599:  15%|████████▏                                              | 89/599 [00:01<00:07, 64.85it/s]\n",
      "preparing images: 90/599:  15%|████████▏                                              | 89/599 [00:01<00:07, 64.85it/s]\n",
      "preparing images: 91/599:  15%|████████▏                                              | 89/599 [00:01<00:07, 64.85it/s]\n",
      "preparing images: 92/599:  15%|████████▏                                              | 89/599 [00:01<00:07, 64.85it/s]\n",
      "preparing images: 93/599:  15%|████████▏                                              | 89/599 [00:01<00:07, 64.85it/s]\n",
      "preparing images: 94/599:  15%|████████▏                                              | 89/599 [00:01<00:07, 64.85it/s]\n",
      "preparing images: 95/599:  15%|████████▏                                              | 89/599 [00:01<00:07, 64.85it/s]\n",
      "preparing images: 96/599:  15%|████████▏                                              | 89/599 [00:01<00:07, 64.85it/s]\n"
     ]
    },
    {
     "name": "stderr",
     "output_type": "stream",
     "text": [
      "preparing images: 97/599:  15%|████████▏                                              | 89/599 [00:01<00:07, 64.85it/s]\n",
      "preparing images: 98/599:  15%|████████▏                                              | 89/599 [00:01<00:07, 64.85it/s]\n",
      "preparing images: 99/599:  15%|████████▏                                              | 89/599 [00:01<00:07, 64.85it/s]\n",
      "preparing images: 100/599:  15%|████████                                              | 89/599 [00:01<00:07, 64.85it/s]\n",
      "preparing images: 101/599:  15%|████████                                              | 89/599 [00:01<00:07, 64.85it/s]\n",
      "preparing images: 101/599:  17%|████████▉                                            | 101/599 [00:01<00:06, 74.29it/s]\n",
      "preparing images: 102/599:  17%|████████▉                                            | 101/599 [00:01<00:06, 74.29it/s]\n",
      "preparing images: 103/599:  17%|████████▉                                            | 101/599 [00:01<00:06, 74.29it/s]\n",
      "preparing images: 104/599:  17%|████████▉                                            | 101/599 [00:01<00:06, 74.29it/s]\n",
      "preparing images: 105/599:  17%|████████▉                                            | 101/599 [00:01<00:06, 74.29it/s]\n",
      "preparing images: 106/599:  17%|████████▉                                            | 101/599 [00:01<00:06, 74.29it/s]\n",
      "preparing images: 107/599:  17%|████████▉                                            | 101/599 [00:01<00:06, 74.29it/s]\n",
      "preparing images: 108/599:  17%|████████▉                                            | 101/599 [00:01<00:06, 74.29it/s]\n",
      "preparing images: 109/599:  17%|████████▉                                            | 101/599 [00:01<00:06, 74.29it/s]\n",
      "preparing images: 110/599:  17%|████████▉                                            | 101/599 [00:01<00:06, 74.29it/s]\n",
      "preparing images: 111/599:  17%|████████▉                                            | 101/599 [00:01<00:06, 74.29it/s]\n",
      "preparing images: 112/599:  17%|████████▉                                            | 101/599 [00:01<00:06, 74.29it/s]\n",
      "preparing images: 112/599:  19%|█████████▉                                           | 112/599 [00:01<00:06, 80.90it/s]\n",
      "preparing images: 113/599:  19%|█████████▉                                           | 112/599 [00:01<00:06, 80.90it/s]\n",
      "preparing images: 114/599:  19%|█████████▉                                           | 112/599 [00:01<00:06, 80.90it/s]\n",
      "preparing images: 115/599:  19%|█████████▉                                           | 112/599 [00:01<00:06, 80.90it/s]\n",
      "preparing images: 116/599:  19%|█████████▉                                           | 112/599 [00:01<00:06, 80.90it/s]\n",
      "preparing images: 117/599:  19%|█████████▉                                           | 112/599 [00:01<00:06, 80.90it/s]\n",
      "preparing images: 118/599:  19%|█████████▉                                           | 112/599 [00:01<00:06, 80.90it/s]\n",
      "preparing images: 119/599:  19%|█████████▉                                           | 112/599 [00:01<00:06, 80.90it/s]\n",
      "preparing images: 120/599:  19%|█████████▉                                           | 112/599 [00:01<00:06, 80.90it/s]\n",
      "preparing images: 121/599:  19%|█████████▉                                           | 112/599 [00:01<00:06, 80.90it/s]\n",
      "preparing images: 122/599:  19%|█████████▉                                           | 112/599 [00:01<00:06, 80.90it/s]\n",
      "preparing images: 122/599:  20%|██████████▊                                          | 122/599 [00:01<00:06, 78.61it/s]\n",
      "preparing images: 123/599:  20%|██████████▊                                          | 122/599 [00:02<00:06, 78.61it/s]\n",
      "preparing images: 124/599:  20%|██████████▊                                          | 122/599 [00:02<00:06, 78.61it/s]\n",
      "preparing images: 125/599:  20%|██████████▊                                          | 122/599 [00:02<00:06, 78.61it/s]\n",
      "preparing images: 126/599:  20%|██████████▊                                          | 122/599 [00:02<00:06, 78.61it/s]\n",
      "preparing images: 127/599:  20%|██████████▊                                          | 122/599 [00:02<00:06, 78.61it/s]\n",
      "preparing images: 128/599:  20%|██████████▊                                          | 122/599 [00:02<00:06, 78.61it/s]\n",
      "preparing images: 129/599:  20%|██████████▊                                          | 122/599 [00:02<00:06, 78.61it/s]\n",
      "preparing images: 130/599:  20%|██████████▊                                          | 122/599 [00:02<00:06, 78.61it/s]\n",
      "preparing images: 131/599:  20%|██████████▊                                          | 122/599 [00:02<00:06, 78.61it/s]\n",
      "preparing images: 132/599:  20%|██████████▊                                          | 122/599 [00:02<00:06, 78.61it/s]\n",
      "preparing images: 133/599:  20%|██████████▊                                          | 122/599 [00:02<00:06, 78.61it/s]\n",
      "preparing images: 133/599:  22%|███████████▊                                         | 133/599 [00:02<00:05, 84.83it/s]\n",
      "preparing images: 134/599:  22%|███████████▊                                         | 133/599 [00:02<00:05, 84.83it/s]\n",
      "preparing images: 135/599:  22%|███████████▊                                         | 133/599 [00:02<00:05, 84.83it/s]\n",
      "preparing images: 136/599:  22%|███████████▊                                         | 133/599 [00:02<00:05, 84.83it/s]\n",
      "preparing images: 137/599:  22%|███████████▊                                         | 133/599 [00:02<00:05, 84.83it/s]\n",
      "preparing images: 138/599:  22%|███████████▊                                         | 133/599 [00:02<00:05, 84.83it/s]\n",
      "preparing images: 139/599:  22%|███████████▊                                         | 133/599 [00:02<00:05, 84.83it/s]\n",
      "preparing images: 140/599:  22%|███████████▊                                         | 133/599 [00:02<00:05, 84.83it/s]\n",
      "preparing images: 141/599:  22%|███████████▊                                         | 133/599 [00:02<00:05, 84.83it/s]\n",
      "preparing images: 142/599:  22%|███████████▊                                         | 133/599 [00:02<00:05, 84.83it/s]\n",
      "preparing images: 143/599:  22%|███████████▊                                         | 133/599 [00:02<00:05, 84.83it/s]\n",
      "preparing images: 143/599:  24%|████████████▋                                        | 143/599 [00:02<00:05, 85.08it/s]\n",
      "preparing images: 144/599:  24%|████████████▋                                        | 143/599 [00:02<00:05, 85.08it/s]\n",
      "preparing images: 145/599:  24%|████████████▋                                        | 143/599 [00:02<00:05, 85.08it/s]\n",
      "preparing images: 146/599:  24%|████████████▋                                        | 143/599 [00:02<00:05, 85.08it/s]\n",
      "preparing images: 147/599:  24%|████████████▋                                        | 143/599 [00:02<00:05, 85.08it/s]\n",
      "preparing images: 148/599:  24%|████████████▋                                        | 143/599 [00:02<00:05, 85.08it/s]\n",
      "preparing images: 149/599:  24%|████████████▋                                        | 143/599 [00:02<00:05, 85.08it/s]\n",
      "preparing images: 150/599:  24%|████████████▋                                        | 143/599 [00:02<00:05, 85.08it/s]\n",
      "preparing images: 151/599:  24%|████████████▋                                        | 143/599 [00:02<00:05, 85.08it/s]\n",
      "preparing images: 152/599:  24%|████████████▋                                        | 143/599 [00:02<00:05, 85.08it/s]\n",
      "preparing images: 153/599:  24%|████████████▋                                        | 143/599 [00:02<00:05, 85.08it/s]\n",
      "preparing images: 153/599:  26%|█████████████▌                                       | 153/599 [00:02<00:05, 86.82it/s]\n",
      "preparing images: 154/599:  26%|█████████████▌                                       | 153/599 [00:02<00:05, 86.82it/s]\n",
      "preparing images: 155/599:  26%|█████████████▌                                       | 153/599 [00:02<00:05, 86.82it/s]\n",
      "preparing images: 156/599:  26%|█████████████▌                                       | 153/599 [00:02<00:05, 86.82it/s]\n",
      "preparing images: 157/599:  26%|█████████████▌                                       | 153/599 [00:02<00:05, 86.82it/s]\n",
      "preparing images: 158/599:  26%|█████████████▌                                       | 153/599 [00:02<00:05, 86.82it/s]\n"
     ]
    },
    {
     "name": "stderr",
     "output_type": "stream",
     "text": [
      "preparing images: 159/599:  26%|█████████████▌                                       | 153/599 [00:02<00:05, 86.82it/s]\n",
      "preparing images: 160/599:  26%|█████████████▌                                       | 153/599 [00:02<00:05, 86.82it/s]\n",
      "preparing images: 161/599:  26%|█████████████▌                                       | 153/599 [00:02<00:05, 86.82it/s]\n",
      "preparing images: 162/599:  26%|█████████████▌                                       | 153/599 [00:02<00:05, 86.82it/s]\n",
      "preparing images: 163/599:  26%|█████████████▌                                       | 153/599 [00:02<00:05, 86.82it/s]\n",
      "preparing images: 163/599:  27%|██████████████▍                                      | 163/599 [00:02<00:05, 80.45it/s]\n",
      "preparing images: 164/599:  27%|██████████████▍                                      | 163/599 [00:02<00:05, 80.45it/s]\n",
      "preparing images: 165/599:  27%|██████████████▍                                      | 163/599 [00:02<00:05, 80.45it/s]\n",
      "preparing images: 166/599:  27%|██████████████▍                                      | 163/599 [00:02<00:05, 80.45it/s]\n",
      "preparing images: 167/599:  27%|██████████████▍                                      | 163/599 [00:02<00:05, 80.45it/s]\n",
      "preparing images: 168/599:  27%|██████████████▍                                      | 163/599 [00:02<00:05, 80.45it/s]\n",
      "preparing images: 169/599:  27%|██████████████▍                                      | 163/599 [00:02<00:05, 80.45it/s]\n",
      "preparing images: 170/599:  27%|██████████████▍                                      | 163/599 [00:02<00:05, 80.45it/s]\n",
      "preparing images: 171/599:  27%|██████████████▍                                      | 163/599 [00:02<00:05, 80.45it/s]\n",
      "preparing images: 172/599:  27%|██████████████▍                                      | 163/599 [00:02<00:05, 80.45it/s]\n",
      "preparing images: 173/599:  27%|██████████████▍                                      | 163/599 [00:02<00:05, 80.45it/s]\n",
      "preparing images: 173/599:  29%|███████████████▎                                     | 173/599 [00:02<00:05, 84.87it/s]\n",
      "preparing images: 174/599:  29%|███████████████▎                                     | 173/599 [00:02<00:05, 84.87it/s]\n",
      "preparing images: 175/599:  29%|███████████████▎                                     | 173/599 [00:02<00:05, 84.87it/s]\n",
      "preparing images: 176/599:  29%|███████████████▎                                     | 173/599 [00:02<00:05, 84.87it/s]\n",
      "preparing images: 177/599:  29%|███████████████▎                                     | 173/599 [00:02<00:05, 84.87it/s]\n",
      "preparing images: 178/599:  29%|███████████████▎                                     | 173/599 [00:02<00:05, 84.87it/s]\n",
      "preparing images: 179/599:  29%|███████████████▎                                     | 173/599 [00:02<00:05, 84.87it/s]\n",
      "preparing images: 180/599:  29%|███████████████▎                                     | 173/599 [00:02<00:05, 84.87it/s]\n",
      "preparing images: 181/599:  29%|███████████████▎                                     | 173/599 [00:02<00:05, 84.87it/s]\n",
      "preparing images: 182/599:  29%|███████████████▎                                     | 173/599 [00:02<00:05, 84.87it/s]\n",
      "preparing images: 183/599:  29%|███████████████▎                                     | 173/599 [00:02<00:05, 84.87it/s]\n",
      "preparing images: 184/599:  29%|███████████████▎                                     | 173/599 [00:02<00:05, 84.87it/s]\n",
      "preparing images: 184/599:  31%|████████████████▎                                    | 184/599 [00:02<00:04, 89.40it/s]\n",
      "preparing images: 185/599:  31%|████████████████▎                                    | 184/599 [00:02<00:04, 89.40it/s]\n",
      "preparing images: 186/599:  31%|████████████████▎                                    | 184/599 [00:02<00:04, 89.40it/s]\n",
      "preparing images: 187/599:  31%|████████████████▎                                    | 184/599 [00:02<00:04, 89.40it/s]\n",
      "preparing images: 188/599:  31%|████████████████▎                                    | 184/599 [00:02<00:04, 89.40it/s]\n",
      "preparing images: 189/599:  31%|████████████████▎                                    | 184/599 [00:02<00:04, 89.40it/s]\n",
      "preparing images: 190/599:  31%|████████████████▎                                    | 184/599 [00:02<00:04, 89.40it/s]\n",
      "preparing images: 191/599:  31%|████████████████▎                                    | 184/599 [00:02<00:04, 89.40it/s]\n",
      "preparing images: 192/599:  31%|████████████████▎                                    | 184/599 [00:02<00:04, 89.40it/s]\n",
      "preparing images: 193/599:  31%|████████████████▎                                    | 184/599 [00:02<00:04, 89.40it/s]\n",
      "preparing images: 194/599:  31%|████████████████▎                                    | 184/599 [00:02<00:04, 89.40it/s]\n",
      "preparing images: 195/599:  31%|████████████████▎                                    | 184/599 [00:02<00:04, 89.40it/s]\n",
      "preparing images: 196/599:  31%|████████████████▎                                    | 184/599 [00:02<00:04, 89.40it/s]\n",
      "preparing images: 196/599:  33%|█████████████████▎                                   | 196/599 [00:02<00:04, 95.48it/s]\n",
      "preparing images: 197/599:  33%|█████████████████▎                                   | 196/599 [00:02<00:04, 95.48it/s]\n",
      "preparing images: 198/599:  33%|█████████████████▎                                   | 196/599 [00:02<00:04, 95.48it/s]\n",
      "preparing images: 199/599:  33%|█████████████████▎                                   | 196/599 [00:02<00:04, 95.48it/s]\n",
      "preparing images: 200/599:  33%|█████████████████▎                                   | 196/599 [00:02<00:04, 95.48it/s]\n",
      "preparing images: 201/599:  33%|█████████████████▎                                   | 196/599 [00:02<00:04, 95.48it/s]\n",
      "preparing images: 202/599:  33%|█████████████████▎                                   | 196/599 [00:02<00:04, 95.48it/s]\n",
      "preparing images: 203/599:  33%|█████████████████▎                                   | 196/599 [00:02<00:04, 95.48it/s]\n",
      "preparing images: 204/599:  33%|█████████████████▎                                   | 196/599 [00:02<00:04, 95.48it/s]\n",
      "preparing images: 205/599:  33%|█████████████████▎                                   | 196/599 [00:02<00:04, 95.48it/s]\n",
      "preparing images: 206/599:  33%|█████████████████▎                                   | 196/599 [00:02<00:04, 95.48it/s]\n",
      "preparing images: 206/599:  34%|██████████████████▏                                  | 206/599 [00:02<00:04, 90.57it/s]\n",
      "preparing images: 207/599:  34%|██████████████████▏                                  | 206/599 [00:02<00:04, 90.57it/s]\n",
      "preparing images: 208/599:  34%|██████████████████▏                                  | 206/599 [00:02<00:04, 90.57it/s]\n",
      "preparing images: 209/599:  34%|██████████████████▏                                  | 206/599 [00:02<00:04, 90.57it/s]\n",
      "preparing images: 210/599:  34%|██████████████████▏                                  | 206/599 [00:02<00:04, 90.57it/s]\n",
      "preparing images: 211/599:  34%|██████████████████▏                                  | 206/599 [00:02<00:04, 90.57it/s]\n",
      "preparing images: 212/599:  34%|██████████████████▏                                  | 206/599 [00:02<00:04, 90.57it/s]\n",
      "preparing images: 213/599:  34%|██████████████████▏                                  | 206/599 [00:02<00:04, 90.57it/s]\n",
      "preparing images: 214/599:  34%|██████████████████▏                                  | 206/599 [00:02<00:04, 90.57it/s]\n",
      "preparing images: 215/599:  34%|██████████████████▏                                  | 206/599 [00:02<00:04, 90.57it/s]\n",
      "preparing images: 216/599:  34%|██████████████████▏                                  | 206/599 [00:03<00:04, 90.57it/s]\n",
      "preparing images: 217/599:  34%|██████████████████▏                                  | 206/599 [00:03<00:04, 90.57it/s]\n",
      "preparing images: 217/599:  36%|███████████████████▏                                 | 217/599 [00:03<00:04, 95.46it/s]\n",
      "preparing images: 218/599:  36%|███████████████████▏                                 | 217/599 [00:03<00:04, 95.46it/s]\n",
      "preparing images: 219/599:  36%|███████████████████▏                                 | 217/599 [00:03<00:04, 95.46it/s]\n",
      "preparing images: 220/599:  36%|███████████████████▏                                 | 217/599 [00:03<00:04, 95.46it/s]\n"
     ]
    },
    {
     "name": "stderr",
     "output_type": "stream",
     "text": [
      "preparing images: 221/599:  36%|███████████████████▏                                 | 217/599 [00:03<00:04, 95.46it/s]\n",
      "preparing images: 222/599:  36%|███████████████████▏                                 | 217/599 [00:03<00:04, 95.46it/s]\n",
      "preparing images: 223/599:  36%|███████████████████▏                                 | 217/599 [00:03<00:04, 95.46it/s]\n",
      "preparing images: 224/599:  36%|███████████████████▏                                 | 217/599 [00:03<00:04, 95.46it/s]\n",
      "preparing images: 225/599:  36%|███████████████████▏                                 | 217/599 [00:03<00:04, 95.46it/s]\n",
      "preparing images: 226/599:  36%|███████████████████▏                                 | 217/599 [00:03<00:04, 95.46it/s]\n",
      "preparing images: 227/599:  36%|███████████████████▏                                 | 217/599 [00:03<00:04, 95.46it/s]\n",
      "preparing images: 227/599:  38%|████████████████████                                 | 227/599 [00:03<00:03, 95.20it/s]\n",
      "preparing images: 228/599:  38%|████████████████████                                 | 227/599 [00:03<00:03, 95.20it/s]\n",
      "preparing images: 229/599:  38%|████████████████████                                 | 227/599 [00:03<00:03, 95.20it/s]\n",
      "preparing images: 230/599:  38%|████████████████████                                 | 227/599 [00:03<00:03, 95.20it/s]\n",
      "preparing images: 231/599:  38%|████████████████████                                 | 227/599 [00:03<00:03, 95.20it/s]\n",
      "preparing images: 232/599:  38%|████████████████████                                 | 227/599 [00:03<00:03, 95.20it/s]\n",
      "preparing images: 233/599:  38%|████████████████████                                 | 227/599 [00:03<00:03, 95.20it/s]\n",
      "preparing images: 234/599:  38%|████████████████████                                 | 227/599 [00:03<00:03, 95.20it/s]\n",
      "preparing images: 235/599:  38%|████████████████████                                 | 227/599 [00:03<00:03, 95.20it/s]\n",
      "preparing images: 236/599:  38%|████████████████████                                 | 227/599 [00:03<00:03, 95.20it/s]\n",
      "preparing images: 237/599:  38%|████████████████████                                 | 227/599 [00:03<00:03, 95.20it/s]\n",
      "preparing images: 238/599:  38%|████████████████████                                 | 227/599 [00:03<00:03, 95.20it/s]\n",
      "preparing images: 238/599:  40%|█████████████████████                                | 238/599 [00:03<00:03, 99.01it/s]\n",
      "preparing images: 239/599:  40%|█████████████████████                                | 238/599 [00:03<00:03, 99.01it/s]\n",
      "preparing images: 240/599:  40%|█████████████████████                                | 238/599 [00:03<00:03, 99.01it/s]\n",
      "preparing images: 241/599:  40%|█████████████████████                                | 238/599 [00:03<00:03, 99.01it/s]\n",
      "preparing images: 242/599:  40%|█████████████████████                                | 238/599 [00:03<00:03, 99.01it/s]\n",
      "preparing images: 243/599:  40%|█████████████████████                                | 238/599 [00:03<00:03, 99.01it/s]\n",
      "preparing images: 244/599:  40%|█████████████████████                                | 238/599 [00:03<00:03, 99.01it/s]\n",
      "preparing images: 245/599:  40%|█████████████████████                                | 238/599 [00:03<00:03, 99.01it/s]\n",
      "preparing images: 246/599:  40%|█████████████████████                                | 238/599 [00:03<00:03, 99.01it/s]\n",
      "preparing images: 247/599:  40%|█████████████████████                                | 238/599 [00:03<00:03, 99.01it/s]\n",
      "preparing images: 248/599:  40%|█████████████████████                                | 238/599 [00:03<00:03, 99.01it/s]\n",
      "preparing images: 249/599:  40%|█████████████████████                                | 238/599 [00:03<00:03, 99.01it/s]\n",
      "preparing images: 249/599:  42%|██████████████████████                               | 249/599 [00:03<00:03, 97.53it/s]\n",
      "preparing images: 250/599:  42%|██████████████████████                               | 249/599 [00:03<00:03, 97.53it/s]\n",
      "preparing images: 251/599:  42%|██████████████████████                               | 249/599 [00:03<00:03, 97.53it/s]\n",
      "preparing images: 252/599:  42%|██████████████████████                               | 249/599 [00:03<00:03, 97.53it/s]\n",
      "preparing images: 253/599:  42%|██████████████████████                               | 249/599 [00:03<00:03, 97.53it/s]\n",
      "preparing images: 254/599:  42%|██████████████████████                               | 249/599 [00:03<00:03, 97.53it/s]\n",
      "preparing images: 255/599:  42%|██████████████████████                               | 249/599 [00:03<00:03, 97.53it/s]\n",
      "preparing images: 256/599:  42%|██████████████████████                               | 249/599 [00:03<00:03, 97.53it/s]\n",
      "preparing images: 257/599:  42%|██████████████████████                               | 249/599 [00:03<00:03, 97.53it/s]\n",
      "preparing images: 258/599:  42%|██████████████████████                               | 249/599 [00:03<00:03, 97.53it/s]\n",
      "preparing images: 259/599:  42%|██████████████████████                               | 249/599 [00:03<00:03, 97.53it/s]\n",
      "preparing images: 260/599:  42%|██████████████████████                               | 249/599 [00:03<00:03, 97.53it/s]\n",
      "preparing images: 261/599:  42%|██████████████████████                               | 249/599 [00:03<00:03, 97.53it/s]\n",
      "preparing images: 261/599:  44%|██████████████████████▋                             | 261/599 [00:03<00:03, 102.09it/s]\n",
      "preparing images: 262/599:  44%|██████████████████████▋                             | 261/599 [00:03<00:03, 102.09it/s]\n",
      "preparing images: 263/599:  44%|██████████████████████▋                             | 261/599 [00:03<00:03, 102.09it/s]\n",
      "preparing images: 264/599:  44%|██████████████████████▋                             | 261/599 [00:03<00:03, 102.09it/s]\n",
      "preparing images: 265/599:  44%|██████████████████████▋                             | 261/599 [00:03<00:03, 102.09it/s]\n",
      "preparing images: 266/599:  44%|██████████████████████▋                             | 261/599 [00:03<00:03, 102.09it/s]\n",
      "preparing images: 267/599:  44%|██████████████████████▋                             | 261/599 [00:03<00:03, 102.09it/s]\n",
      "preparing images: 268/599:  44%|██████████████████████▋                             | 261/599 [00:03<00:03, 102.09it/s]\n",
      "preparing images: 269/599:  44%|██████████████████████▋                             | 261/599 [00:03<00:03, 102.09it/s]\n",
      "preparing images: 270/599:  44%|██████████████████████▋                             | 261/599 [00:03<00:03, 102.09it/s]\n",
      "preparing images: 271/599:  44%|██████████████████████▋                             | 261/599 [00:03<00:03, 102.09it/s]\n",
      "preparing images: 272/599:  44%|██████████████████████▋                             | 261/599 [00:03<00:03, 102.09it/s]\n",
      "preparing images: 272/599:  45%|███████████████████████▌                            | 272/599 [00:03<00:03, 101.26it/s]\n",
      "preparing images: 273/599:  45%|███████████████████████▌                            | 272/599 [00:03<00:03, 101.26it/s]\n",
      "preparing images: 274/599:  45%|███████████████████████▌                            | 272/599 [00:03<00:03, 101.26it/s]\n",
      "preparing images: 275/599:  45%|███████████████████████▌                            | 272/599 [00:03<00:03, 101.26it/s]\n",
      "preparing images: 276/599:  45%|███████████████████████▌                            | 272/599 [00:03<00:03, 101.26it/s]\n",
      "preparing images: 277/599:  45%|███████████████████████▌                            | 272/599 [00:03<00:03, 101.26it/s]\n",
      "preparing images: 278/599:  45%|███████████████████████▌                            | 272/599 [00:03<00:03, 101.26it/s]\n",
      "preparing images: 279/599:  45%|███████████████████████▌                            | 272/599 [00:03<00:03, 101.26it/s]\n",
      "preparing images: 280/599:  45%|███████████████████████▌                            | 272/599 [00:03<00:03, 101.26it/s]\n",
      "preparing images: 281/599:  45%|███████████████████████▌                            | 272/599 [00:03<00:03, 101.26it/s]\n",
      "preparing images: 282/599:  45%|███████████████████████▌                            | 272/599 [00:03<00:03, 101.26it/s]\n",
      "preparing images: 283/599:  45%|███████████████████████▌                            | 272/599 [00:03<00:03, 101.26it/s]\n"
     ]
    },
    {
     "name": "stderr",
     "output_type": "stream",
     "text": [
      "preparing images: 283/599:  47%|████████████████████████▌                           | 283/599 [00:03<00:03, 102.94it/s]\n",
      "preparing images: 284/599:  47%|████████████████████████▌                           | 283/599 [00:03<00:03, 102.94it/s]\n",
      "preparing images: 285/599:  47%|████████████████████████▌                           | 283/599 [00:03<00:03, 102.94it/s]\n",
      "preparing images: 286/599:  47%|████████████████████████▌                           | 283/599 [00:03<00:03, 102.94it/s]\n",
      "preparing images: 287/599:  47%|████████████████████████▌                           | 283/599 [00:03<00:03, 102.94it/s]\n",
      "preparing images: 288/599:  47%|████████████████████████▌                           | 283/599 [00:03<00:03, 102.94it/s]\n",
      "preparing images: 289/599:  47%|████████████████████████▌                           | 283/599 [00:03<00:03, 102.94it/s]\n",
      "preparing images: 290/599:  47%|████████████████████████▌                           | 283/599 [00:03<00:03, 102.94it/s]\n",
      "preparing images: 291/599:  47%|████████████████████████▌                           | 283/599 [00:03<00:03, 102.94it/s]\n",
      "preparing images: 292/599:  47%|████████████████████████▌                           | 283/599 [00:03<00:03, 102.94it/s]\n",
      "preparing images: 293/599:  47%|████████████████████████▌                           | 283/599 [00:03<00:03, 102.94it/s]\n",
      "preparing images: 294/599:  47%|████████████████████████▌                           | 283/599 [00:03<00:03, 102.94it/s]\n",
      "preparing images: 294/599:  49%|█████████████████████████▌                          | 294/599 [00:03<00:02, 102.41it/s]\n",
      "preparing images: 295/599:  49%|█████████████████████████▌                          | 294/599 [00:03<00:02, 102.41it/s]\n",
      "preparing images: 296/599:  49%|█████████████████████████▌                          | 294/599 [00:03<00:02, 102.41it/s]\n",
      "preparing images: 297/599:  49%|█████████████████████████▌                          | 294/599 [00:03<00:02, 102.41it/s]\n",
      "preparing images: 298/599:  49%|█████████████████████████▌                          | 294/599 [00:03<00:02, 102.41it/s]\n",
      "preparing images: 299/599:  49%|█████████████████████████▌                          | 294/599 [00:03<00:02, 102.41it/s]\n",
      "preparing images: 300/599:  49%|█████████████████████████▌                          | 294/599 [00:03<00:02, 102.41it/s]\n",
      "preparing images: 301/599:  49%|█████████████████████████▌                          | 294/599 [00:03<00:02, 102.41it/s]\n",
      "preparing images: 302/599:  49%|█████████████████████████▌                          | 294/599 [00:03<00:02, 102.41it/s]\n",
      "preparing images: 303/599:  49%|█████████████████████████▌                          | 294/599 [00:03<00:02, 102.41it/s]\n",
      "preparing images: 304/599:  49%|█████████████████████████▌                          | 294/599 [00:03<00:02, 102.41it/s]\n",
      "preparing images: 305/599:  49%|█████████████████████████▌                          | 294/599 [00:03<00:02, 102.41it/s]\n",
      "preparing images: 305/599:  51%|██████████████████████████▉                          | 305/599 [00:03<00:03, 94.92it/s]\n",
      "preparing images: 306/599:  51%|██████████████████████████▉                          | 305/599 [00:03<00:03, 94.92it/s]\n",
      "preparing images: 307/599:  51%|██████████████████████████▉                          | 305/599 [00:03<00:03, 94.92it/s]\n",
      "preparing images: 308/599:  51%|██████████████████████████▉                          | 305/599 [00:03<00:03, 94.92it/s]\n",
      "preparing images: 309/599:  51%|██████████████████████████▉                          | 305/599 [00:03<00:03, 94.92it/s]\n",
      "preparing images: 310/599:  51%|██████████████████████████▉                          | 305/599 [00:03<00:03, 94.92it/s]\n",
      "preparing images: 311/599:  51%|██████████████████████████▉                          | 305/599 [00:03<00:03, 94.92it/s]\n",
      "preparing images: 312/599:  51%|██████████████████████████▉                          | 305/599 [00:03<00:03, 94.92it/s]\n",
      "preparing images: 313/599:  51%|██████████████████████████▉                          | 305/599 [00:03<00:03, 94.92it/s]\n",
      "preparing images: 314/599:  51%|██████████████████████████▉                          | 305/599 [00:03<00:03, 94.92it/s]\n",
      "preparing images: 315/599:  51%|██████████████████████████▉                          | 305/599 [00:03<00:03, 94.92it/s]\n",
      "preparing images: 315/599:  53%|███████████████████████████▊                         | 315/599 [00:04<00:02, 96.19it/s]\n",
      "preparing images: 316/599:  53%|███████████████████████████▊                         | 315/599 [00:04<00:02, 96.19it/s]\n",
      "preparing images: 317/599:  53%|███████████████████████████▊                         | 315/599 [00:04<00:02, 96.19it/s]\n",
      "preparing images: 318/599:  53%|███████████████████████████▊                         | 315/599 [00:04<00:02, 96.19it/s]\n",
      "preparing images: 319/599:  53%|███████████████████████████▊                         | 315/599 [00:04<00:02, 96.19it/s]\n",
      "preparing images: 320/599:  53%|███████████████████████████▊                         | 315/599 [00:04<00:02, 96.19it/s]\n",
      "preparing images: 321/599:  53%|███████████████████████████▊                         | 315/599 [00:04<00:02, 96.19it/s]\n",
      "preparing images: 322/599:  53%|███████████████████████████▊                         | 315/599 [00:04<00:02, 96.19it/s]\n",
      "preparing images: 323/599:  53%|███████████████████████████▊                         | 315/599 [00:04<00:02, 96.19it/s]\n",
      "preparing images: 324/599:  53%|███████████████████████████▊                         | 315/599 [00:04<00:02, 96.19it/s]\n",
      "preparing images: 325/599:  53%|███████████████████████████▊                         | 315/599 [00:04<00:02, 96.19it/s]\n",
      "preparing images: 326/599:  53%|███████████████████████████▊                         | 315/599 [00:04<00:02, 96.19it/s]\n",
      "preparing images: 326/599:  54%|████████████████████████████▊                        | 326/599 [00:04<00:02, 98.15it/s]\n",
      "preparing images: 327/599:  54%|████████████████████████████▊                        | 326/599 [00:04<00:02, 98.15it/s]\n",
      "preparing images: 328/599:  54%|████████████████████████████▊                        | 326/599 [00:04<00:02, 98.15it/s]\n",
      "preparing images: 329/599:  54%|████████████████████████████▊                        | 326/599 [00:04<00:02, 98.15it/s]\n",
      "preparing images: 330/599:  54%|████████████████████████████▊                        | 326/599 [00:04<00:02, 98.15it/s]\n",
      "preparing images: 331/599:  54%|████████████████████████████▊                        | 326/599 [00:04<00:02, 98.15it/s]\n",
      "preparing images: 332/599:  54%|████████████████████████████▊                        | 326/599 [00:04<00:02, 98.15it/s]\n",
      "preparing images: 333/599:  54%|████████████████████████████▊                        | 326/599 [00:04<00:02, 98.15it/s]\n",
      "preparing images: 334/599:  54%|████████████████████████████▊                        | 326/599 [00:04<00:02, 98.15it/s]\n",
      "preparing images: 335/599:  54%|████████████████████████████▊                        | 326/599 [00:04<00:02, 98.15it/s]\n",
      "preparing images: 336/599:  54%|████████████████████████████▊                        | 326/599 [00:04<00:02, 98.15it/s]\n",
      "preparing images: 336/599:  56%|█████████████████████████████▋                       | 336/599 [00:04<00:03, 80.86it/s]\n",
      "preparing images: 337/599:  56%|█████████████████████████████▋                       | 336/599 [00:04<00:03, 80.86it/s]\n",
      "preparing images: 338/599:  56%|█████████████████████████████▋                       | 336/599 [00:04<00:03, 80.86it/s]\n",
      "preparing images: 339/599:  56%|█████████████████████████████▋                       | 336/599 [00:04<00:03, 80.86it/s]\n",
      "preparing images: 340/599:  56%|█████████████████████████████▋                       | 336/599 [00:04<00:03, 80.86it/s]\n",
      "preparing images: 341/599:  56%|█████████████████████████████▋                       | 336/599 [00:04<00:03, 80.86it/s]\n",
      "preparing images: 342/599:  56%|█████████████████████████████▋                       | 336/599 [00:04<00:03, 80.86it/s]\n",
      "preparing images: 343/599:  56%|█████████████████████████████▋                       | 336/599 [00:04<00:03, 80.86it/s]\n",
      "preparing images: 344/599:  56%|█████████████████████████████▋                       | 336/599 [00:04<00:03, 80.86it/s]\n",
      "preparing images: 345/599:  56%|█████████████████████████████▋                       | 336/599 [00:04<00:03, 80.86it/s]\n"
     ]
    },
    {
     "name": "stderr",
     "output_type": "stream",
     "text": [
      "preparing images: 346/599:  56%|█████████████████████████████▋                       | 336/599 [00:04<00:03, 80.86it/s]\n",
      "preparing images: 347/599:  56%|█████████████████████████████▋                       | 336/599 [00:04<00:03, 80.86it/s]\n",
      "preparing images: 347/599:  58%|██████████████████████████████▋                      | 347/599 [00:04<00:02, 87.27it/s]\n",
      "preparing images: 348/599:  58%|██████████████████████████████▋                      | 347/599 [00:04<00:02, 87.27it/s]\n",
      "preparing images: 349/599:  58%|██████████████████████████████▋                      | 347/599 [00:04<00:02, 87.27it/s]\n",
      "preparing images: 350/599:  58%|██████████████████████████████▋                      | 347/599 [00:04<00:02, 87.27it/s]\n",
      "preparing images: 351/599:  58%|██████████████████████████████▋                      | 347/599 [00:04<00:02, 87.27it/s]\n",
      "preparing images: 352/599:  58%|██████████████████████████████▋                      | 347/599 [00:04<00:02, 87.27it/s]\n",
      "preparing images: 353/599:  58%|██████████████████████████████▋                      | 347/599 [00:04<00:02, 87.27it/s]\n",
      "preparing images: 354/599:  58%|██████████████████████████████▋                      | 347/599 [00:04<00:02, 87.27it/s]\n",
      "preparing images: 355/599:  58%|██████████████████████████████▋                      | 347/599 [00:04<00:02, 87.27it/s]\n",
      "preparing images: 356/599:  58%|██████████████████████████████▋                      | 347/599 [00:04<00:02, 87.27it/s]\n",
      "preparing images: 357/599:  58%|██████████████████████████████▋                      | 347/599 [00:04<00:02, 87.27it/s]\n",
      "preparing images: 358/599:  58%|██████████████████████████████▋                      | 347/599 [00:04<00:02, 87.27it/s]\n",
      "preparing images: 359/599:  58%|██████████████████████████████▋                      | 347/599 [00:04<00:02, 87.27it/s]\n",
      "preparing images: 359/599:  60%|███████████████████████████████▊                     | 359/599 [00:04<00:02, 94.88it/s]\n",
      "preparing images: 360/599:  60%|███████████████████████████████▊                     | 359/599 [00:04<00:02, 94.88it/s]\n",
      "preparing images: 361/599:  60%|███████████████████████████████▊                     | 359/599 [00:04<00:02, 94.88it/s]\n",
      "preparing images: 362/599:  60%|███████████████████████████████▊                     | 359/599 [00:04<00:02, 94.88it/s]\n",
      "preparing images: 363/599:  60%|███████████████████████████████▊                     | 359/599 [00:04<00:02, 94.88it/s]\n",
      "preparing images: 364/599:  60%|███████████████████████████████▊                     | 359/599 [00:04<00:02, 94.88it/s]\n",
      "preparing images: 365/599:  60%|███████████████████████████████▊                     | 359/599 [00:04<00:02, 94.88it/s]\n",
      "preparing images: 366/599:  60%|███████████████████████████████▊                     | 359/599 [00:04<00:02, 94.88it/s]\n",
      "preparing images: 367/599:  60%|███████████████████████████████▊                     | 359/599 [00:04<00:02, 94.88it/s]\n",
      "preparing images: 368/599:  60%|███████████████████████████████▊                     | 359/599 [00:04<00:02, 94.88it/s]\n",
      "preparing images: 369/599:  60%|███████████████████████████████▊                     | 359/599 [00:04<00:02, 94.88it/s]\n",
      "preparing images: 370/599:  60%|███████████████████████████████▊                     | 359/599 [00:04<00:02, 94.88it/s]\n",
      "preparing images: 370/599:  62%|████████████████████████████████▋                    | 370/599 [00:04<00:02, 95.68it/s]\n",
      "preparing images: 371/599:  62%|████████████████████████████████▋                    | 370/599 [00:04<00:02, 95.68it/s]\n",
      "preparing images: 372/599:  62%|████████████████████████████████▋                    | 370/599 [00:04<00:02, 95.68it/s]\n",
      "preparing images: 373/599:  62%|████████████████████████████████▋                    | 370/599 [00:04<00:02, 95.68it/s]\n",
      "preparing images: 374/599:  62%|████████████████████████████████▋                    | 370/599 [00:04<00:02, 95.68it/s]\n",
      "preparing images: 375/599:  62%|████████████████████████████████▋                    | 370/599 [00:04<00:02, 95.68it/s]\n",
      "preparing images: 376/599:  62%|████████████████████████████████▋                    | 370/599 [00:04<00:02, 95.68it/s]\n",
      "preparing images: 377/599:  62%|████████████████████████████████▋                    | 370/599 [00:04<00:02, 95.68it/s]\n",
      "preparing images: 378/599:  62%|████████████████████████████████▋                    | 370/599 [00:04<00:02, 95.68it/s]\n",
      "preparing images: 379/599:  62%|████████████████████████████████▋                    | 370/599 [00:04<00:02, 95.68it/s]\n",
      "preparing images: 380/599:  62%|████████████████████████████████▋                    | 370/599 [00:04<00:02, 95.68it/s]\n",
      "preparing images: 380/599:  63%|█████████████████████████████████▌                   | 380/599 [00:04<00:02, 95.90it/s]\n",
      "preparing images: 381/599:  63%|█████████████████████████████████▌                   | 380/599 [00:04<00:02, 95.90it/s]\n",
      "preparing images: 382/599:  63%|█████████████████████████████████▌                   | 380/599 [00:04<00:02, 95.90it/s]\n",
      "preparing images: 383/599:  63%|█████████████████████████████████▌                   | 380/599 [00:04<00:02, 95.90it/s]\n",
      "preparing images: 384/599:  63%|█████████████████████████████████▌                   | 380/599 [00:04<00:02, 95.90it/s]\n",
      "preparing images: 385/599:  63%|█████████████████████████████████▌                   | 380/599 [00:04<00:02, 95.90it/s]\n",
      "preparing images: 386/599:  63%|█████████████████████████████████▌                   | 380/599 [00:04<00:02, 95.90it/s]\n",
      "preparing images: 387/599:  63%|█████████████████████████████████▌                   | 380/599 [00:04<00:02, 95.90it/s]\n",
      "preparing images: 388/599:  63%|█████████████████████████████████▌                   | 380/599 [00:04<00:02, 95.90it/s]\n",
      "preparing images: 389/599:  63%|█████████████████████████████████▌                   | 380/599 [00:04<00:02, 95.90it/s]\n",
      "preparing images: 390/599:  63%|█████████████████████████████████▌                   | 380/599 [00:04<00:02, 95.90it/s]\n",
      "preparing images: 391/599:  63%|█████████████████████████████████▌                   | 380/599 [00:04<00:02, 95.90it/s]\n",
      "preparing images: 391/599:  65%|██████████████████████████████████▌                  | 391/599 [00:04<00:02, 98.47it/s]\n",
      "preparing images: 392/599:  65%|██████████████████████████████████▌                  | 391/599 [00:04<00:02, 98.47it/s]\n",
      "preparing images: 393/599:  65%|██████████████████████████████████▌                  | 391/599 [00:04<00:02, 98.47it/s]\n",
      "preparing images: 394/599:  65%|██████████████████████████████████▌                  | 391/599 [00:04<00:02, 98.47it/s]\n",
      "preparing images: 395/599:  65%|██████████████████████████████████▌                  | 391/599 [00:04<00:02, 98.47it/s]\n",
      "preparing images: 396/599:  65%|██████████████████████████████████▌                  | 391/599 [00:04<00:02, 98.47it/s]\n",
      "preparing images: 397/599:  65%|██████████████████████████████████▌                  | 391/599 [00:04<00:02, 98.47it/s]\n",
      "preparing images: 398/599:  65%|██████████████████████████████████▌                  | 391/599 [00:04<00:02, 98.47it/s]\n",
      "preparing images: 399/599:  65%|██████████████████████████████████▌                  | 391/599 [00:04<00:02, 98.47it/s]\n",
      "preparing images: 400/599:  65%|██████████████████████████████████▌                  | 391/599 [00:04<00:02, 98.47it/s]\n",
      "preparing images: 401/599:  65%|██████████████████████████████████▌                  | 391/599 [00:04<00:02, 98.47it/s]\n",
      "preparing images: 402/599:  65%|██████████████████████████████████▌                  | 391/599 [00:04<00:02, 98.47it/s]\n",
      "preparing images: 402/599:  67%|██████████████████████████████████▉                 | 402/599 [00:04<00:01, 100.35it/s]\n",
      "preparing images: 403/599:  67%|██████████████████████████████████▉                 | 402/599 [00:04<00:01, 100.35it/s]\n",
      "preparing images: 404/599:  67%|██████████████████████████████████▉                 | 402/599 [00:04<00:01, 100.35it/s]\n",
      "preparing images: 405/599:  67%|██████████████████████████████████▉                 | 402/599 [00:04<00:01, 100.35it/s]\n",
      "preparing images: 406/599:  67%|██████████████████████████████████▉                 | 402/599 [00:04<00:01, 100.35it/s]\n",
      "preparing images: 407/599:  67%|██████████████████████████████████▉                 | 402/599 [00:04<00:01, 100.35it/s]\n"
     ]
    },
    {
     "name": "stderr",
     "output_type": "stream",
     "text": [
      "preparing images: 408/599:  67%|██████████████████████████████████▉                 | 402/599 [00:04<00:01, 100.35it/s]\n",
      "preparing images: 409/599:  67%|██████████████████████████████████▉                 | 402/599 [00:04<00:01, 100.35it/s]\n",
      "preparing images: 410/599:  67%|██████████████████████████████████▉                 | 402/599 [00:04<00:01, 100.35it/s]\n",
      "preparing images: 411/599:  67%|██████████████████████████████████▉                 | 402/599 [00:05<00:01, 100.35it/s]\n",
      "preparing images: 412/599:  67%|██████████████████████████████████▉                 | 402/599 [00:05<00:01, 100.35it/s]\n",
      "preparing images: 413/599:  67%|██████████████████████████████████▉                 | 402/599 [00:05<00:01, 100.35it/s]\n",
      "preparing images: 413/599:  69%|████████████████████████████████████▌                | 413/599 [00:05<00:01, 99.51it/s]\n",
      "preparing images: 414/599:  69%|████████████████████████████████████▌                | 413/599 [00:05<00:01, 99.51it/s]\n",
      "preparing images: 415/599:  69%|████████████████████████████████████▌                | 413/599 [00:05<00:01, 99.51it/s]\n",
      "preparing images: 416/599:  69%|████████████████████████████████████▌                | 413/599 [00:05<00:01, 99.51it/s]\n",
      "preparing images: 417/599:  69%|████████████████████████████████████▌                | 413/599 [00:05<00:01, 99.51it/s]\n",
      "preparing images: 418/599:  69%|████████████████████████████████████▌                | 413/599 [00:05<00:01, 99.51it/s]\n",
      "preparing images: 419/599:  69%|████████████████████████████████████▌                | 413/599 [00:05<00:01, 99.51it/s]\n",
      "preparing images: 420/599:  69%|████████████████████████████████████▌                | 413/599 [00:05<00:01, 99.51it/s]\n",
      "preparing images: 421/599:  69%|████████████████████████████████████▌                | 413/599 [00:05<00:01, 99.51it/s]\n",
      "preparing images: 422/599:  69%|████████████████████████████████████▌                | 413/599 [00:05<00:01, 99.51it/s]\n",
      "preparing images: 423/599:  69%|████████████████████████████████████▌                | 413/599 [00:05<00:01, 99.51it/s]\n",
      "preparing images: 424/599:  69%|████████████████████████████████████▌                | 413/599 [00:05<00:01, 99.51it/s]\n",
      "preparing images: 424/599:  71%|█████████████████████████████████████▌               | 424/599 [00:05<00:01, 96.85it/s]\n",
      "preparing images: 425/599:  71%|█████████████████████████████████████▌               | 424/599 [00:05<00:01, 96.85it/s]\n",
      "preparing images: 426/599:  71%|█████████████████████████████████████▌               | 424/599 [00:05<00:01, 96.85it/s]\n",
      "preparing images: 427/599:  71%|█████████████████████████████████████▌               | 424/599 [00:05<00:01, 96.85it/s]\n",
      "preparing images: 428/599:  71%|█████████████████████████████████████▌               | 424/599 [00:05<00:01, 96.85it/s]\n",
      "preparing images: 429/599:  71%|█████████████████████████████████████▌               | 424/599 [00:05<00:01, 96.85it/s]\n",
      "preparing images: 430/599:  71%|█████████████████████████████████████▌               | 424/599 [00:05<00:01, 96.85it/s]\n",
      "preparing images: 431/599:  71%|█████████████████████████████████████▌               | 424/599 [00:05<00:01, 96.85it/s]\n",
      "preparing images: 432/599:  71%|█████████████████████████████████████▌               | 424/599 [00:05<00:01, 96.85it/s]\n",
      "preparing images: 433/599:  71%|█████████████████████████████████████▌               | 424/599 [00:05<00:01, 96.85it/s]\n",
      "preparing images: 434/599:  71%|█████████████████████████████████████▌               | 424/599 [00:05<00:01, 96.85it/s]\n",
      "preparing images: 435/599:  71%|█████████████████████████████████████▌               | 424/599 [00:05<00:01, 96.85it/s]\n",
      "preparing images: 435/599:  73%|██████████████████████████████████████▍              | 435/599 [00:05<00:01, 98.11it/s]\n",
      "preparing images: 436/599:  73%|██████████████████████████████████████▍              | 435/599 [00:05<00:01, 98.11it/s]\n",
      "preparing images: 437/599:  73%|██████████████████████████████████████▍              | 435/599 [00:05<00:01, 98.11it/s]\n",
      "preparing images: 438/599:  73%|██████████████████████████████████████▍              | 435/599 [00:05<00:01, 98.11it/s]\n",
      "preparing images: 439/599:  73%|██████████████████████████████████████▍              | 435/599 [00:05<00:01, 98.11it/s]\n",
      "preparing images: 440/599:  73%|██████████████████████████████████████▍              | 435/599 [00:05<00:01, 98.11it/s]\n",
      "preparing images: 441/599:  73%|██████████████████████████████████████▍              | 435/599 [00:05<00:01, 98.11it/s]\n",
      "preparing images: 442/599:  73%|██████████████████████████████████████▍              | 435/599 [00:05<00:01, 98.11it/s]\n",
      "preparing images: 443/599:  73%|██████████████████████████████████████▍              | 435/599 [00:05<00:01, 98.11it/s]\n",
      "preparing images: 444/599:  73%|██████████████████████████████████████▍              | 435/599 [00:05<00:01, 98.11it/s]\n",
      "preparing images: 445/599:  73%|██████████████████████████████████████▍              | 435/599 [00:05<00:01, 98.11it/s]\n",
      "preparing images: 445/599:  74%|███████████████████████████████████████▎             | 445/599 [00:05<00:01, 98.46it/s]\n",
      "preparing images: 446/599:  74%|███████████████████████████████████████▎             | 445/599 [00:05<00:01, 98.46it/s]\n",
      "preparing images: 447/599:  74%|███████████████████████████████████████▎             | 445/599 [00:05<00:01, 98.46it/s]\n",
      "preparing images: 448/599:  74%|███████████████████████████████████████▎             | 445/599 [00:05<00:01, 98.46it/s]\n",
      "preparing images: 449/599:  74%|███████████████████████████████████████▎             | 445/599 [00:05<00:01, 98.46it/s]\n",
      "preparing images: 450/599:  74%|███████████████████████████████████████▎             | 445/599 [00:05<00:01, 98.46it/s]\n",
      "preparing images: 451/599:  74%|███████████████████████████████████████▎             | 445/599 [00:05<00:01, 98.46it/s]\n",
      "preparing images: 452/599:  74%|███████████████████████████████████████▎             | 445/599 [00:05<00:01, 98.46it/s]\n",
      "preparing images: 453/599:  74%|███████████████████████████████████████▎             | 445/599 [00:05<00:01, 98.46it/s]\n",
      "preparing images: 454/599:  74%|███████████████████████████████████████▎             | 445/599 [00:05<00:01, 98.46it/s]\n",
      "preparing images: 455/599:  74%|███████████████████████████████████████▎             | 445/599 [00:05<00:01, 98.46it/s]\n",
      "preparing images: 456/599:  74%|███████████████████████████████████████▎             | 445/599 [00:05<00:01, 98.46it/s]\n",
      "preparing images: 456/599:  76%|████████████████████████████████████████▎            | 456/599 [00:05<00:01, 99.53it/s]\n",
      "preparing images: 457/599:  76%|████████████████████████████████████████▎            | 456/599 [00:05<00:01, 99.53it/s]\n",
      "preparing images: 458/599:  76%|████████████████████████████████████████▎            | 456/599 [00:05<00:01, 99.53it/s]\n",
      "preparing images: 459/599:  76%|████████████████████████████████████████▎            | 456/599 [00:05<00:01, 99.53it/s]\n",
      "preparing images: 460/599:  76%|████████████████████████████████████████▎            | 456/599 [00:05<00:01, 99.53it/s]\n",
      "preparing images: 461/599:  76%|████████████████████████████████████████▎            | 456/599 [00:05<00:01, 99.53it/s]\n",
      "preparing images: 462/599:  76%|████████████████████████████████████████▎            | 456/599 [00:05<00:01, 99.53it/s]\n",
      "preparing images: 463/599:  76%|████████████████████████████████████████▎            | 456/599 [00:05<00:01, 99.53it/s]\n",
      "preparing images: 464/599:  76%|████████████████████████████████████████▎            | 456/599 [00:05<00:01, 99.53it/s]\n",
      "preparing images: 465/599:  76%|████████████████████████████████████████▎            | 456/599 [00:05<00:01, 99.53it/s]\n",
      "preparing images: 466/599:  76%|████████████████████████████████████████▎            | 456/599 [00:05<00:01, 99.53it/s]\n",
      "preparing images: 466/599:  78%|█████████████████████████████████████████▏           | 466/599 [00:05<00:01, 98.57it/s]\n",
      "preparing images: 467/599:  78%|█████████████████████████████████████████▏           | 466/599 [00:05<00:01, 98.57it/s]\n",
      "preparing images: 468/599:  78%|█████████████████████████████████████████▏           | 466/599 [00:05<00:01, 98.57it/s]\n",
      "preparing images: 469/599:  78%|█████████████████████████████████████████▏           | 466/599 [00:05<00:01, 98.57it/s]\n"
     ]
    },
    {
     "name": "stderr",
     "output_type": "stream",
     "text": [
      "preparing images: 470/599:  78%|█████████████████████████████████████████▏           | 466/599 [00:05<00:01, 98.57it/s]\n",
      "preparing images: 471/599:  78%|█████████████████████████████████████████▏           | 466/599 [00:05<00:01, 98.57it/s]\n",
      "preparing images: 472/599:  78%|█████████████████████████████████████████▏           | 466/599 [00:05<00:01, 98.57it/s]\n",
      "preparing images: 473/599:  78%|█████████████████████████████████████████▏           | 466/599 [00:05<00:01, 98.57it/s]\n",
      "preparing images: 474/599:  78%|█████████████████████████████████████████▏           | 466/599 [00:05<00:01, 98.57it/s]\n",
      "preparing images: 475/599:  78%|█████████████████████████████████████████▏           | 466/599 [00:05<00:01, 98.57it/s]\n",
      "preparing images: 476/599:  78%|█████████████████████████████████████████▏           | 466/599 [00:05<00:01, 98.57it/s]\n",
      "preparing images: 477/599:  78%|█████████████████████████████████████████▏           | 466/599 [00:05<00:01, 98.57it/s]\n",
      "preparing images: 477/599:  80%|█████████████████████████████████████████▍          | 477/599 [00:05<00:01, 100.98it/s]\n",
      "preparing images: 478/599:  80%|█████████████████████████████████████████▍          | 477/599 [00:05<00:01, 100.98it/s]\n",
      "preparing images: 479/599:  80%|█████████████████████████████████████████▍          | 477/599 [00:05<00:01, 100.98it/s]\n",
      "preparing images: 480/599:  80%|█████████████████████████████████████████▍          | 477/599 [00:05<00:01, 100.98it/s]\n",
      "preparing images: 481/599:  80%|█████████████████████████████████████████▍          | 477/599 [00:05<00:01, 100.98it/s]\n",
      "preparing images: 482/599:  80%|█████████████████████████████████████████▍          | 477/599 [00:05<00:01, 100.98it/s]\n",
      "preparing images: 483/599:  80%|█████████████████████████████████████████▍          | 477/599 [00:05<00:01, 100.98it/s]\n",
      "preparing images: 484/599:  80%|█████████████████████████████████████████▍          | 477/599 [00:05<00:01, 100.98it/s]\n",
      "preparing images: 485/599:  80%|█████████████████████████████████████████▍          | 477/599 [00:05<00:01, 100.98it/s]\n",
      "preparing images: 486/599:  80%|█████████████████████████████████████████▍          | 477/599 [00:05<00:01, 100.98it/s]\n",
      "preparing images: 487/599:  80%|█████████████████████████████████████████▍          | 477/599 [00:05<00:01, 100.98it/s]\n",
      "preparing images: 488/599:  80%|█████████████████████████████████████████▍          | 477/599 [00:05<00:01, 100.98it/s]\n",
      "preparing images: 488/599:  81%|██████████████████████████████████████████▎         | 488/599 [00:05<00:01, 103.31it/s]\n",
      "preparing images: 489/599:  81%|██████████████████████████████████████████▎         | 488/599 [00:05<00:01, 103.31it/s]\n",
      "preparing images: 490/599:  81%|██████████████████████████████████████████▎         | 488/599 [00:05<00:01, 103.31it/s]\n",
      "preparing images: 491/599:  81%|██████████████████████████████████████████▎         | 488/599 [00:05<00:01, 103.31it/s]\n",
      "preparing images: 492/599:  81%|██████████████████████████████████████████▎         | 488/599 [00:05<00:01, 103.31it/s]\n",
      "preparing images: 493/599:  81%|██████████████████████████████████████████▎         | 488/599 [00:05<00:01, 103.31it/s]\n",
      "preparing images: 494/599:  81%|██████████████████████████████████████████▎         | 488/599 [00:05<00:01, 103.31it/s]\n",
      "preparing images: 495/599:  81%|██████████████████████████████████████████▎         | 488/599 [00:05<00:01, 103.31it/s]\n",
      "preparing images: 496/599:  81%|██████████████████████████████████████████▎         | 488/599 [00:05<00:01, 103.31it/s]\n",
      "preparing images: 497/599:  81%|██████████████████████████████████████████▎         | 488/599 [00:05<00:01, 103.31it/s]\n",
      "preparing images: 498/599:  81%|██████████████████████████████████████████▎         | 488/599 [00:05<00:01, 103.31it/s]\n",
      "preparing images: 499/599:  81%|██████████████████████████████████████████▎         | 488/599 [00:05<00:01, 103.31it/s]\n",
      "preparing images: 500/599:  81%|██████████████████████████████████████████▎         | 488/599 [00:05<00:01, 103.31it/s]\n",
      "preparing images: 500/599:  83%|███████████████████████████████████████████▍        | 500/599 [00:05<00:00, 106.74it/s]\n",
      "preparing images: 501/599:  83%|███████████████████████████████████████████▍        | 500/599 [00:05<00:00, 106.74it/s]\n",
      "preparing images: 502/599:  83%|███████████████████████████████████████████▍        | 500/599 [00:05<00:00, 106.74it/s]\n",
      "preparing images: 503/599:  83%|███████████████████████████████████████████▍        | 500/599 [00:05<00:00, 106.74it/s]\n",
      "preparing images: 504/599:  83%|███████████████████████████████████████████▍        | 500/599 [00:05<00:00, 106.74it/s]\n",
      "preparing images: 505/599:  83%|███████████████████████████████████████████▍        | 500/599 [00:05<00:00, 106.74it/s]\n",
      "preparing images: 506/599:  83%|███████████████████████████████████████████▍        | 500/599 [00:05<00:00, 106.74it/s]\n",
      "preparing images: 507/599:  83%|███████████████████████████████████████████▍        | 500/599 [00:05<00:00, 106.74it/s]\n",
      "preparing images: 508/599:  83%|███████████████████████████████████████████▍        | 500/599 [00:05<00:00, 106.74it/s]\n",
      "preparing images: 509/599:  83%|███████████████████████████████████████████▍        | 500/599 [00:05<00:00, 106.74it/s]\n",
      "preparing images: 510/599:  83%|███████████████████████████████████████████▍        | 500/599 [00:05<00:00, 106.74it/s]\n",
      "preparing images: 511/599:  83%|███████████████████████████████████████████▍        | 500/599 [00:05<00:00, 106.74it/s]\n",
      "preparing images: 511/599:  85%|████████████████████████████████████████████▎       | 511/599 [00:05<00:00, 106.23it/s]\n",
      "preparing images: 512/599:  85%|████████████████████████████████████████████▎       | 511/599 [00:05<00:00, 106.23it/s]\n",
      "preparing images: 513/599:  85%|████████████████████████████████████████████▎       | 511/599 [00:05<00:00, 106.23it/s]\n",
      "preparing images: 514/599:  85%|████████████████████████████████████████████▎       | 511/599 [00:06<00:00, 106.23it/s]\n",
      "preparing images: 515/599:  85%|████████████████████████████████████████████▎       | 511/599 [00:06<00:00, 106.23it/s]\n",
      "preparing images: 516/599:  85%|████████████████████████████████████████████▎       | 511/599 [00:06<00:00, 106.23it/s]"
     ]
    },
    {
     "name": "stdout",
     "output_type": "stream",
     "text": [
      "Total image copied:  500\n"
     ]
    }
   ],
   "source": [
    "cnt = 0\n",
    "filelist = os.listdir(inp_dir)\n",
    "file_pbar = tqdm(filelist)\n",
    "\n",
    "# numbers in 3 digit format\n",
    "numbers = [\"%03d\" % x for x in range(1,700)]\n",
    "\n",
    "for i, filename in enumerate(file_pbar):\n",
    "    src = os.path.join(inp_dir, filename)\n",
    "    img = load_image(src)\n",
    "    h, w, c = img.shape\n",
    "    if(h > 800 or w > 800):\n",
    "        print(\"skipping file: {}\".format(filename))\n",
    "    else:\n",
    "        dst = os.path.join(dst_dir, \"img{}.jpg\".format(numbers[cnt]))\n",
    "        shutil.copy(src,dst)\n",
    "        cnt += 1\n",
    "    \n",
    "    file_pbar.set_description(desc= f'preparing images: {i+1}/{len(filelist)}')\n",
    "    \n",
    "    if(cnt == 500):\n",
    "        break\n",
    "    \n",
    "\n",
    "print(\"Total image copied: \", cnt)"
   ]
  },
  {
   "cell_type": "markdown",
   "metadata": {},
   "source": [
    "# prepare custom.shapes txt file whcih contains shaoe of all the images in order"
   ]
  },
  {
   "cell_type": "code",
   "execution_count": 21,
   "metadata": {},
   "outputs": [
    {
     "data": {
      "text/plain": [
       "['img001.jpg', 'img002.jpg', 'img003.jpg', 'img004.jpg', 'img005.jpg']"
      ]
     },
     "execution_count": 21,
     "metadata": {},
     "output_type": "execute_result"
    }
   ],
   "source": [
    "os.listdir(dst_dir)[:5]"
   ]
  },
  {
   "cell_type": "code",
   "execution_count": 22,
   "metadata": {},
   "outputs": [],
   "source": [
    "filelist = os.listdir(dst_dir)\n",
    "img_shapes = []\n",
    "\n",
    "for i, filename in enumerate(filelist):\n",
    "    src = os.path.join(dst_dir, filename)\n",
    "    img = load_image(src)\n",
    "    h, w, c = img.shape\n",
    "    text = \"{} {}\".format(w,h)\n",
    "    img_shapes.append(text)"
   ]
  },
  {
   "cell_type": "code",
   "execution_count": 23,
   "metadata": {},
   "outputs": [
    {
     "data": {
      "text/plain": [
       "['591 332', '472 446', '280 406', '220 234', '780 440']"
      ]
     },
     "execution_count": 23,
     "metadata": {},
     "output_type": "execute_result"
    },
    {
     "name": "stderr",
     "output_type": "stream",
     "text": [
      "\n",
      "preparing images: 516/599:  85%|████████████████████████████████████████████▎       | 511/599 [00:22<00:00, 106.23it/s]"
     ]
    }
   ],
   "source": [
    "img_shapes[:5]"
   ]
  },
  {
   "cell_type": "code",
   "execution_count": 24,
   "metadata": {},
   "outputs": [],
   "source": [
    "with open(\"custom.shapes.txt\", \"w\") as outfile:\n",
    "    outfile.write(\"\\n\".join(str(item) for item in img_shapes))"
   ]
  },
  {
   "cell_type": "code",
   "execution_count": null,
   "metadata": {},
   "outputs": [],
   "source": []
  },
  {
   "cell_type": "code",
   "execution_count": 19,
   "metadata": {},
   "outputs": [],
   "source": [
    "annotation_tool_dir = \"D:/my_learning/TSAI/EVA4/assignments/session13/s13_assignment_2/reference_code/YoloV3_Annotation_Tool/Images/flying_disc\"\n",
    "\n",
    "if os.path.exists(annotation_tool_dir):\n",
    "    shutil.rmtree(annotation_tool_dir)\n",
    "    \n",
    "if not os.path.exists(annotation_tool_dir):\n",
    "    os.mkdir(annotation_tool_dir)"
   ]
  },
  {
   "cell_type": "code",
   "execution_count": 20,
   "metadata": {},
   "outputs": [],
   "source": [
    "for i, filename in enumerate(os.listdir(dst_dir)):\n",
    "    src = os.path.join(dst_dir, filename)\n",
    "    dst = os.path.join(annotation_tool_dir, filename)\n",
    "    shutil.copy(src,dst)"
   ]
  },
  {
   "cell_type": "code",
   "execution_count": null,
   "metadata": {},
   "outputs": [],
   "source": []
  }
 ],
 "metadata": {
  "accelerator": "GPU",
  "colab": {
   "collapsed_sections": [],
   "name": "EVA4S11_main1.ipynb",
   "provenance": []
  },
  "kernelspec": {
   "display_name": "Python 3",
   "language": "python",
   "name": "python3"
  },
  "language_info": {
   "codemirror_mode": {
    "name": "ipython",
    "version": 3
   },
   "file_extension": ".py",
   "mimetype": "text/x-python",
   "name": "python",
   "nbconvert_exporter": "python",
   "pygments_lexer": "ipython3",
   "version": "3.7.6"
  }
 },
 "nbformat": 4,
 "nbformat_minor": 1
}
