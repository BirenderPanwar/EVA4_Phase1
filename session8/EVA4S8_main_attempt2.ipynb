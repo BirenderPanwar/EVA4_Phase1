{
  "nbformat": 4,
  "nbformat_minor": 0,
  "metadata": {
    "colab": {
      "name": "EVA4S8_main_attempt2.ipynb",
      "provenance": [],
      "collapsed_sections": [],
      "include_colab_link": true
    },
    "kernelspec": {
      "name": "python3",
      "display_name": "Python 3"
    },
    "accelerator": "GPU",
    "widgets": {
      "application/vnd.jupyter.widget-state+json": {
        "095836eb901643db9c5eca4f0d091739": {
          "model_module": "@jupyter-widgets/controls",
          "model_name": "HBoxModel",
          "state": {
            "_view_name": "HBoxView",
            "_dom_classes": [],
            "_model_name": "HBoxModel",
            "_view_module": "@jupyter-widgets/controls",
            "_model_module_version": "1.5.0",
            "_view_count": null,
            "_view_module_version": "1.5.0",
            "box_style": "",
            "layout": "IPY_MODEL_c8c5633d62bf4a19acf6b6a69594cd65",
            "_model_module": "@jupyter-widgets/controls",
            "children": [
              "IPY_MODEL_7ddc72188b7145abad104313d26396fb",
              "IPY_MODEL_cff39bd0e97647bcadee3d9e354ff730"
            ]
          }
        },
        "c8c5633d62bf4a19acf6b6a69594cd65": {
          "model_module": "@jupyter-widgets/base",
          "model_name": "LayoutModel",
          "state": {
            "_view_name": "LayoutView",
            "grid_template_rows": null,
            "right": null,
            "justify_content": null,
            "_view_module": "@jupyter-widgets/base",
            "overflow": null,
            "_model_module_version": "1.2.0",
            "_view_count": null,
            "flex_flow": null,
            "width": null,
            "min_width": null,
            "border": null,
            "align_items": null,
            "bottom": null,
            "_model_module": "@jupyter-widgets/base",
            "top": null,
            "grid_column": null,
            "overflow_y": null,
            "overflow_x": null,
            "grid_auto_flow": null,
            "grid_area": null,
            "grid_template_columns": null,
            "flex": null,
            "_model_name": "LayoutModel",
            "justify_items": null,
            "grid_row": null,
            "max_height": null,
            "align_content": null,
            "visibility": null,
            "align_self": null,
            "height": null,
            "min_height": null,
            "padding": null,
            "grid_auto_rows": null,
            "grid_gap": null,
            "max_width": null,
            "order": null,
            "_view_module_version": "1.2.0",
            "grid_template_areas": null,
            "object_position": null,
            "object_fit": null,
            "grid_auto_columns": null,
            "margin": null,
            "display": null,
            "left": null
          }
        },
        "7ddc72188b7145abad104313d26396fb": {
          "model_module": "@jupyter-widgets/controls",
          "model_name": "IntProgressModel",
          "state": {
            "_view_name": "ProgressView",
            "style": "IPY_MODEL_03b0015d2cde4321a6fce8f93e96af8c",
            "_dom_classes": [],
            "description": "",
            "_model_name": "IntProgressModel",
            "bar_style": "info",
            "max": 1,
            "_view_module": "@jupyter-widgets/controls",
            "_model_module_version": "1.5.0",
            "value": 1,
            "_view_count": null,
            "_view_module_version": "1.5.0",
            "orientation": "horizontal",
            "min": 0,
            "description_tooltip": null,
            "_model_module": "@jupyter-widgets/controls",
            "layout": "IPY_MODEL_a0cf31e16ac84493b63e6a7ba0169a19"
          }
        },
        "cff39bd0e97647bcadee3d9e354ff730": {
          "model_module": "@jupyter-widgets/controls",
          "model_name": "HTMLModel",
          "state": {
            "_view_name": "HTMLView",
            "style": "IPY_MODEL_ac661a0b2dfb4685a3034f4e702dd6c5",
            "_dom_classes": [],
            "description": "",
            "_model_name": "HTMLModel",
            "placeholder": "​",
            "_view_module": "@jupyter-widgets/controls",
            "_model_module_version": "1.5.0",
            "value": "170500096it [00:30, 17514129.98it/s]",
            "_view_count": null,
            "_view_module_version": "1.5.0",
            "description_tooltip": null,
            "_model_module": "@jupyter-widgets/controls",
            "layout": "IPY_MODEL_0bd34ef7b8044d4db6a022733cfc7708"
          }
        },
        "03b0015d2cde4321a6fce8f93e96af8c": {
          "model_module": "@jupyter-widgets/controls",
          "model_name": "ProgressStyleModel",
          "state": {
            "_view_name": "StyleView",
            "_model_name": "ProgressStyleModel",
            "description_width": "",
            "_view_module": "@jupyter-widgets/base",
            "_model_module_version": "1.5.0",
            "_view_count": null,
            "_view_module_version": "1.2.0",
            "bar_color": null,
            "_model_module": "@jupyter-widgets/controls"
          }
        },
        "a0cf31e16ac84493b63e6a7ba0169a19": {
          "model_module": "@jupyter-widgets/base",
          "model_name": "LayoutModel",
          "state": {
            "_view_name": "LayoutView",
            "grid_template_rows": null,
            "right": null,
            "justify_content": null,
            "_view_module": "@jupyter-widgets/base",
            "overflow": null,
            "_model_module_version": "1.2.0",
            "_view_count": null,
            "flex_flow": null,
            "width": null,
            "min_width": null,
            "border": null,
            "align_items": null,
            "bottom": null,
            "_model_module": "@jupyter-widgets/base",
            "top": null,
            "grid_column": null,
            "overflow_y": null,
            "overflow_x": null,
            "grid_auto_flow": null,
            "grid_area": null,
            "grid_template_columns": null,
            "flex": null,
            "_model_name": "LayoutModel",
            "justify_items": null,
            "grid_row": null,
            "max_height": null,
            "align_content": null,
            "visibility": null,
            "align_self": null,
            "height": null,
            "min_height": null,
            "padding": null,
            "grid_auto_rows": null,
            "grid_gap": null,
            "max_width": null,
            "order": null,
            "_view_module_version": "1.2.0",
            "grid_template_areas": null,
            "object_position": null,
            "object_fit": null,
            "grid_auto_columns": null,
            "margin": null,
            "display": null,
            "left": null
          }
        },
        "ac661a0b2dfb4685a3034f4e702dd6c5": {
          "model_module": "@jupyter-widgets/controls",
          "model_name": "DescriptionStyleModel",
          "state": {
            "_view_name": "StyleView",
            "_model_name": "DescriptionStyleModel",
            "description_width": "",
            "_view_module": "@jupyter-widgets/base",
            "_model_module_version": "1.5.0",
            "_view_count": null,
            "_view_module_version": "1.2.0",
            "_model_module": "@jupyter-widgets/controls"
          }
        },
        "0bd34ef7b8044d4db6a022733cfc7708": {
          "model_module": "@jupyter-widgets/base",
          "model_name": "LayoutModel",
          "state": {
            "_view_name": "LayoutView",
            "grid_template_rows": null,
            "right": null,
            "justify_content": null,
            "_view_module": "@jupyter-widgets/base",
            "overflow": null,
            "_model_module_version": "1.2.0",
            "_view_count": null,
            "flex_flow": null,
            "width": null,
            "min_width": null,
            "border": null,
            "align_items": null,
            "bottom": null,
            "_model_module": "@jupyter-widgets/base",
            "top": null,
            "grid_column": null,
            "overflow_y": null,
            "overflow_x": null,
            "grid_auto_flow": null,
            "grid_area": null,
            "grid_template_columns": null,
            "flex": null,
            "_model_name": "LayoutModel",
            "justify_items": null,
            "grid_row": null,
            "max_height": null,
            "align_content": null,
            "visibility": null,
            "align_self": null,
            "height": null,
            "min_height": null,
            "padding": null,
            "grid_auto_rows": null,
            "grid_gap": null,
            "max_width": null,
            "order": null,
            "_view_module_version": "1.2.0",
            "grid_template_areas": null,
            "object_position": null,
            "object_fit": null,
            "grid_auto_columns": null,
            "margin": null,
            "display": null,
            "left": null
          }
        }
      }
    }
  },
  "cells": [
    {
      "cell_type": "markdown",
      "metadata": {
        "id": "view-in-github",
        "colab_type": "text"
      },
      "source": [
        "<a href=\"https://colab.research.google.com/github/BirenderPanwar/EVA4_Phase1/blob/master/session8/EVA4S8_main_attempt2.ipynb\" target=\"_parent\"><img src=\"https://colab.research.google.com/assets/colab-badge.svg\" alt=\"Open In Colab\"/></a>"
      ]
    },
    {
      "cell_type": "markdown",
      "metadata": {
        "id": "qElzb09OiePe",
        "colab_type": "text"
      },
      "source": [
        "# Attempt-2 - Solution\n",
        "1. resnet18 model\n",
        "2. calculate mean and std for the entire dataset and apply data normalization\n",
        "3. Image augmentation: horizontal flip, croping\n",
        "4. L1 and L2 regularization is applied. "
      ]
    },
    {
      "cell_type": "markdown",
      "metadata": {
        "id": "OQsCAnZP7Qk_",
        "colab_type": "text"
      },
      "source": [
        "# Check for current directory and necessary files availability"
      ]
    },
    {
      "cell_type": "code",
      "metadata": {
        "id": "Gu795cwkikHH",
        "colab_type": "code",
        "outputId": "cddc75f5-22c3-4ba5-f5f7-83fe6288f1e1",
        "colab": {
          "base_uri": "https://localhost:8080/",
          "height": 34
        }
      },
      "source": [
        "# check current directory\n",
        "!pwd"
      ],
      "execution_count": 0,
      "outputs": [
        {
          "output_type": "stream",
          "text": [
            "/content\n"
          ],
          "name": "stdout"
        }
      ]
    },
    {
      "cell_type": "code",
      "metadata": {
        "id": "ZsUpIqhIVfT9",
        "colab_type": "code",
        "outputId": "2effaf67-ed44-416e-82d7-6909924698f1",
        "colab": {
          "base_uri": "https://localhost:8080/",
          "height": 34
        }
      },
      "source": [
        "# change to working directory\n",
        "cd 'session8'"
      ],
      "execution_count": 0,
      "outputs": [
        {
          "output_type": "stream",
          "text": [
            "/content/session8\n"
          ],
          "name": "stdout"
        }
      ]
    },
    {
      "cell_type": "code",
      "metadata": {
        "id": "_xG3EaAAHGIQ",
        "colab_type": "code",
        "outputId": "24a08546-fd00-4e4a-b08f-3d9f20b91c5b",
        "colab": {
          "base_uri": "https://localhost:8080/",
          "height": 51
        }
      },
      "source": [
        "# verify if all necessary files are avaiabale in current directory for loading\n",
        "!ls"
      ],
      "execution_count": 0,
      "outputs": [
        {
          "output_type": "stream",
          "text": [
            "cifar10_net_cnn.py  model_history.py  plot_utils.py\t resnet.py\n",
            "data_utils.py\t    model_utils.py    regularization.py\n"
          ],
          "name": "stdout"
        }
      ]
    },
    {
      "cell_type": "markdown",
      "metadata": {
        "id": "_kXPnIqUqhwH",
        "colab_type": "text"
      },
      "source": [
        "# Load standard and custom python packages"
      ]
    },
    {
      "cell_type": "code",
      "metadata": {
        "id": "2iOPffRgHGhF",
        "colab_type": "code",
        "colab": {}
      },
      "source": [
        "import torch\n",
        "import torch.nn as nn\n",
        "import torch.nn.functional as F\n",
        "import torch.optim as optim\n",
        "from torch.optim.lr_scheduler import StepLR, MultiStepLR\n",
        "\n",
        "# load custom python packages\n",
        "import data_utils as dutils       # utilities for dataset, transform, dataloaders\n",
        "import model_utils as mutils      # utilities for basic conv block, depthwise seperable blocks, train, test, build fucntions\n",
        "import model_history as mhistory  # utilitie for storing and visualizing model results\n",
        "import plot_utils as putils       # utilities for ploting images, model history, misclassified images etc\n",
        "import regularization             # L1 loss fxn\n",
        "import cifar10_net_cnn            # CIFAR10 network design using custom CNN network\n",
        "import resnet                     # resnet model\n",
        "\n",
        "%matplotlib inline"
      ],
      "execution_count": 0,
      "outputs": []
    },
    {
      "cell_type": "markdown",
      "metadata": {
        "id": "Wik2-FtyqnDH",
        "colab_type": "text"
      },
      "source": [
        "# Check GPU avaiability\n",
        "use cuda and get device with GPU"
      ]
    },
    {
      "cell_type": "code",
      "metadata": {
        "id": "FJ0f14SWHHPg",
        "colab_type": "code",
        "outputId": "dcbdf263-b679-49db-f7f9-52c1d65c868a",
        "colab": {
          "base_uri": "https://localhost:8080/",
          "height": 51
        }
      },
      "source": [
        "# check GPU availability and use cuda to get GPU device\n",
        "device = dutils.get_device()"
      ],
      "execution_count": 0,
      "outputs": [
        {
          "output_type": "stream",
          "text": [
            "CUDA Available?3 True\n",
            "cuda:0\n"
          ],
          "name": "stdout"
        }
      ]
    },
    {
      "cell_type": "markdown",
      "metadata": {
        "id": "TJ-pAGuzqxz9",
        "colab_type": "text"
      },
      "source": [
        "# Basis configurations for CIFAR10"
      ]
    },
    {
      "cell_type": "code",
      "metadata": {
        "id": "V548eThGVWxb",
        "colab_type": "code",
        "colab": {}
      },
      "source": [
        "classes = ('plane', 'car', 'bird', 'cat', 'deer', 'dog', 'frog', 'horse', 'ship', 'truck')\n",
        "\n",
        "SEED = 1\n",
        "batch_size=128\n",
        "\n",
        "# CUDA?\n",
        "cuda = torch.cuda.is_available()\n",
        "\n",
        "# For reproducibility\n",
        "torch.manual_seed(SEED)\n",
        "\n",
        "if cuda:\n",
        "    torch.cuda.manual_seed(SEED)"
      ],
      "execution_count": 0,
      "outputs": []
    },
    {
      "cell_type": "markdown",
      "metadata": {
        "id": "PZFlFr2Qq7wz",
        "colab_type": "text"
      },
      "source": [
        "# Data Preprocessing and Loading of  CIFAR10 dataset\n",
        "1. first calculate the mean and std for the entire dataset. this will be used for dataset normalization during data transform\n",
        "2. define data transforms-image augmentation, toSensor, normalization etc\n",
        "3. load the dataset using data loader"
      ]
    },
    {
      "cell_type": "code",
      "metadata": {
        "id": "QfgKCcP2y5x8",
        "colab_type": "code",
        "colab": {}
      },
      "source": [
        "from torchvision import transforms\n",
        "\n",
        "# fucntion that define data transform as per image processing needs for the solution\n",
        "def get_data_transform(means, stds):\n",
        "    # Train Phase transformations\n",
        "    normalize = transforms.Normalize(means, stds)\n",
        "    #normalize = transforms.Normalize((0.4914, 0.4822, 0.4465), (0.2023, 0.1994, 0.2010)) # mean and std\n",
        "    #normalize = transforms.Normalize((0.5, 0.5, 0.5), (0.5, 0.5, 0.5)) # mean and std\n",
        "\n",
        "    # resize = transforms.Resize((28, 28))\n",
        "\n",
        "    train_transforms = transforms.Compose([\n",
        "                                          #resize,\n",
        "                                          #transforms.ColorJitter(brightness=0.10, contrast=0.1, saturation=0.10, hue=0.1),\n",
        "                                          #transforms.RandomRotation((-7.0, 7.0), fill=(1,)),\n",
        "                                          transforms.RandomCrop(32, padding=4),\n",
        "                                          transforms.RandomHorizontalFlip(),\n",
        "                                          transforms.ToTensor(),\n",
        "                                          normalize, \n",
        "                                          #transforms.RandomErasing(scale=(0.02, 0.20), ratio=(0.8, 1.2))\n",
        "                                          ])\n",
        "\n",
        "    # Test Phase transformations\n",
        "    test_transforms = transforms.Compose([\n",
        "                                          #resize,\n",
        "                                          transforms.ToTensor(),\n",
        "                                          normalize\n",
        "                                          ])\n",
        "    \n",
        "    return train_transforms, test_transforms"
      ],
      "execution_count": 0,
      "outputs": []
    },
    {
      "cell_type": "code",
      "metadata": {
        "id": "akQdeWKB4jnX",
        "colab_type": "code",
        "outputId": "84ff3313-f193-4276-c1cf-574a0ccf605a",
        "colab": {
          "base_uri": "https://localhost:8080/",
          "height": 168,
          "referenced_widgets": [
            "095836eb901643db9c5eca4f0d091739",
            "c8c5633d62bf4a19acf6b6a69594cd65",
            "7ddc72188b7145abad104313d26396fb",
            "cff39bd0e97647bcadee3d9e354ff730",
            "03b0015d2cde4321a6fce8f93e96af8c",
            "a0cf31e16ac84493b63e6a7ba0169a19",
            "ac661a0b2dfb4685a3034f4e702dd6c5",
            "0bd34ef7b8044d4db6a022733cfc7708"
          ]
        }
      },
      "source": [
        "# first calculate dataset mean, std to be used for normalizing dataset\n",
        "means, stds = dutils.calculate_dataset_mean_std()\n",
        "print(\"means: {}\".format(means))\n",
        "print(\"stds: {}\".format(stds))"
      ],
      "execution_count": 0,
      "outputs": [
        {
          "output_type": "stream",
          "text": [
            "Downloading https://www.cs.toronto.edu/~kriz/cifar-10-python.tar.gz to ./data/cifar-10-python.tar.gz\n"
          ],
          "name": "stdout"
        },
        {
          "output_type": "display_data",
          "data": {
            "application/vnd.jupyter.widget-view+json": {
              "model_id": "095836eb901643db9c5eca4f0d091739",
              "version_minor": 0,
              "version_major": 2
            },
            "text/plain": [
              "HBox(children=(IntProgress(value=1, bar_style='info', max=1), HTML(value='')))"
            ]
          },
          "metadata": {
            "tags": []
          }
        },
        {
          "output_type": "stream",
          "text": [
            "Extracting ./data/cifar-10-python.tar.gz to ./data\n",
            "Files already downloaded and verified\n",
            "\n",
            "Total dataset(train+test) shape:  (60000, 32, 32, 3)\n",
            "means: (0.49186864, 0.48265335, 0.44717798)\n",
            "stds: (0.24697131, 0.24338901, 0.26159254)\n"
          ],
          "name": "stdout"
        }
      ]
    },
    {
      "cell_type": "code",
      "metadata": {
        "id": "kGi03-Sp9Uhb",
        "colab_type": "code",
        "outputId": "a62c09b8-f582-4a7f-83d5-fb4cebdb1a6c",
        "colab": {
          "base_uri": "https://localhost:8080/",
          "height": 68
        }
      },
      "source": [
        "# data transform\n",
        "train_transforms, test_transforms = get_data_transform(means, stds)\n",
        "\n",
        "# load data\n",
        "train_loader, test_loader = dutils.get_dataloader(train_transforms, test_transforms, batch_size=batch_size, num_workers=4)"
      ],
      "execution_count": 0,
      "outputs": [
        {
          "output_type": "stream",
          "text": [
            "CUDA Available? True\n",
            "Files already downloaded and verified\n",
            "Files already downloaded and verified\n"
          ],
          "name": "stdout"
        }
      ]
    },
    {
      "cell_type": "markdown",
      "metadata": {
        "id": "Uzk3Su4wrBV0",
        "colab_type": "text"
      },
      "source": [
        "# Visualize few training dataset and aurmented images"
      ]
    },
    {
      "cell_type": "code",
      "metadata": {
        "id": "klMwUHJBHHv3",
        "colab_type": "code",
        "outputId": "1c5bb62a-2d72-487e-f5c9-ea0ee1ed7c33",
        "colab": {
          "base_uri": "https://localhost:8080/",
          "height": 869
        }
      },
      "source": [
        "# visualize few training dataset images\n",
        "putils.plot_dataset_images(device, classes, train_loader)"
      ],
      "execution_count": 0,
      "outputs": [
        {
          "output_type": "stream",
          "text": [
            "Clipping input data to the valid range for imshow with RGB data ([0..1] for floats or [0..255] for integers).\n",
            "Clipping input data to the valid range for imshow with RGB data ([0..1] for floats or [0..255] for integers).\n",
            "Clipping input data to the valid range for imshow with RGB data ([0..1] for floats or [0..255] for integers).\n",
            "Clipping input data to the valid range for imshow with RGB data ([0..1] for floats or [0..255] for integers).\n",
            "Clipping input data to the valid range for imshow with RGB data ([0..1] for floats or [0..255] for integers).\n",
            "Clipping input data to the valid range for imshow with RGB data ([0..1] for floats or [0..255] for integers).\n",
            "Clipping input data to the valid range for imshow with RGB data ([0..1] for floats or [0..255] for integers).\n",
            "Clipping input data to the valid range for imshow with RGB data ([0..1] for floats or [0..255] for integers).\n",
            "Clipping input data to the valid range for imshow with RGB data ([0..1] for floats or [0..255] for integers).\n",
            "Clipping input data to the valid range for imshow with RGB data ([0..1] for floats or [0..255] for integers).\n",
            "Clipping input data to the valid range for imshow with RGB data ([0..1] for floats or [0..255] for integers).\n",
            "Clipping input data to the valid range for imshow with RGB data ([0..1] for floats or [0..255] for integers).\n",
            "Clipping input data to the valid range for imshow with RGB data ([0..1] for floats or [0..255] for integers).\n",
            "Clipping input data to the valid range for imshow with RGB data ([0..1] for floats or [0..255] for integers).\n",
            "Clipping input data to the valid range for imshow with RGB data ([0..1] for floats or [0..255] for integers).\n",
            "Clipping input data to the valid range for imshow with RGB data ([0..1] for floats or [0..255] for integers).\n",
            "Clipping input data to the valid range for imshow with RGB data ([0..1] for floats or [0..255] for integers).\n",
            "Clipping input data to the valid range for imshow with RGB data ([0..1] for floats or [0..255] for integers).\n",
            "Clipping input data to the valid range for imshow with RGB data ([0..1] for floats or [0..255] for integers).\n",
            "Clipping input data to the valid range for imshow with RGB data ([0..1] for floats or [0..255] for integers).\n"
          ],
          "name": "stderr"
        },
        {
          "output_type": "display_data",
          "data": {
            "image/png": "[encoded data removed]",
            "text/plain": [
              "<Figure size 720x648 with 20 Axes>"
            ]
          },
          "metadata": {
            "tags": []
          }
        }
      ]
    },
    {
      "cell_type": "markdown",
      "metadata": {
        "id": "rUYHkvyfrFlt",
        "colab_type": "text"
      },
      "source": [
        "# Create Resnet18 based CIFAR10 Network"
      ]
    },
    {
      "cell_type": "code",
      "metadata": {
        "id": "UeuPAXSSHHdw",
        "colab_type": "code",
        "outputId": "b9269286-fdd1-47cd-c051-0509bf8ff084",
        "colab": {
          "base_uri": "https://localhost:8080/",
          "height": 1000
        }
      },
      "source": [
        "# Create CIFAR10 network\n",
        "model = resnet.ResNet18()\n",
        "mutils.model_summary(model, device, input_size=(3, 32, 32))"
      ],
      "execution_count": 0,
      "outputs": [
        {
          "output_type": "stream",
          "text": [
            "----------------------------------------------------------------\n",
            "        Layer (type)               Output Shape         Param #\n",
            "================================================================\n",
            "            Conv2d-1           [-1, 64, 32, 32]           1,728\n",
            "       BatchNorm2d-2           [-1, 64, 32, 32]             128\n",
            "            Conv2d-3           [-1, 64, 32, 32]          36,864\n",
            "       BatchNorm2d-4           [-1, 64, 32, 32]             128\n",
            "            Conv2d-5           [-1, 64, 32, 32]          36,864\n",
            "       BatchNorm2d-6           [-1, 64, 32, 32]             128\n",
            "        BasicBlock-7           [-1, 64, 32, 32]               0\n",
            "            Conv2d-8           [-1, 64, 32, 32]          36,864\n",
            "       BatchNorm2d-9           [-1, 64, 32, 32]             128\n",
            "           Conv2d-10           [-1, 64, 32, 32]          36,864\n",
            "      BatchNorm2d-11           [-1, 64, 32, 32]             128\n",
            "       BasicBlock-12           [-1, 64, 32, 32]               0\n",
            "           Conv2d-13          [-1, 128, 16, 16]          73,728\n",
            "      BatchNorm2d-14          [-1, 128, 16, 16]             256\n",
            "           Conv2d-15          [-1, 128, 16, 16]         147,456\n",
            "      BatchNorm2d-16          [-1, 128, 16, 16]             256\n",
            "           Conv2d-17          [-1, 128, 16, 16]           8,192\n",
            "      BatchNorm2d-18          [-1, 128, 16, 16]             256\n",
            "       BasicBlock-19          [-1, 128, 16, 16]               0\n",
            "           Conv2d-20          [-1, 128, 16, 16]         147,456\n",
            "      BatchNorm2d-21          [-1, 128, 16, 16]             256\n",
            "           Conv2d-22          [-1, 128, 16, 16]         147,456\n",
            "      BatchNorm2d-23          [-1, 128, 16, 16]             256\n",
            "       BasicBlock-24          [-1, 128, 16, 16]               0\n",
            "           Conv2d-25            [-1, 256, 8, 8]         294,912\n",
            "      BatchNorm2d-26            [-1, 256, 8, 8]             512\n",
            "           Conv2d-27            [-1, 256, 8, 8]         589,824\n",
            "      BatchNorm2d-28            [-1, 256, 8, 8]             512\n",
            "           Conv2d-29            [-1, 256, 8, 8]          32,768\n",
            "      BatchNorm2d-30            [-1, 256, 8, 8]             512\n",
            "       BasicBlock-31            [-1, 256, 8, 8]               0\n",
            "           Conv2d-32            [-1, 256, 8, 8]         589,824\n",
            "      BatchNorm2d-33            [-1, 256, 8, 8]             512\n",
            "           Conv2d-34            [-1, 256, 8, 8]         589,824\n",
            "      BatchNorm2d-35            [-1, 256, 8, 8]             512\n",
            "       BasicBlock-36            [-1, 256, 8, 8]               0\n",
            "           Conv2d-37            [-1, 512, 4, 4]       1,179,648\n",
            "      BatchNorm2d-38            [-1, 512, 4, 4]           1,024\n",
            "           Conv2d-39            [-1, 512, 4, 4]       2,359,296\n",
            "      BatchNorm2d-40            [-1, 512, 4, 4]           1,024\n",
            "           Conv2d-41            [-1, 512, 4, 4]         131,072\n",
            "      BatchNorm2d-42            [-1, 512, 4, 4]           1,024\n",
            "       BasicBlock-43            [-1, 512, 4, 4]               0\n",
            "           Conv2d-44            [-1, 512, 4, 4]       2,359,296\n",
            "      BatchNorm2d-45            [-1, 512, 4, 4]           1,024\n",
            "           Conv2d-46            [-1, 512, 4, 4]       2,359,296\n",
            "      BatchNorm2d-47            [-1, 512, 4, 4]           1,024\n",
            "       BasicBlock-48            [-1, 512, 4, 4]               0\n",
            "           Linear-49                   [-1, 10]           5,130\n",
            "================================================================\n",
            "Total params: 11,173,962\n",
            "Trainable params: 11,173,962\n",
            "Non-trainable params: 0\n",
            "----------------------------------------------------------------\n",
            "Input size (MB): 0.01\n",
            "Forward/backward pass size (MB): 11.25\n",
            "Params size (MB): 42.63\n",
            "Estimated Total Size (MB): 53.89\n",
            "----------------------------------------------------------------\n"
          ],
          "name": "stdout"
        }
      ]
    },
    {
      "cell_type": "markdown",
      "metadata": {
        "id": "JBvA4KS5rPHC",
        "colab_type": "text"
      },
      "source": [
        "# Build and train model"
      ]
    },
    {
      "cell_type": "code",
      "metadata": {
        "id": "i74E8tf_0vvT",
        "colab_type": "code",
        "outputId": "4322f881-7647-4b2c-83d4-d29fc979e6a1",
        "colab": {
          "base_uri": "https://localhost:8080/",
          "height": 1000
        }
      },
      "source": [
        "model_name = \"CIFAR10 Resnet18\"\n",
        "model =  model.to(device)\n",
        "EPOCHS = 40\n",
        "\n",
        "#criterion = F.nll_loss()\n",
        "criterion = nn.CrossEntropyLoss()\n",
        "optimizer = optim.SGD(model.parameters(), lr=0.01, momentum=0.9, weight_decay=0.001)  # using L2 Regulaization\n",
        "\n",
        "\n",
        "lr_scheduler = StepLR(optimizer, step_size=8, gamma=0.1)\n",
        "#lr_scheduler = MultiStepLR(optimizer, milestones=[4,8,12,16,20], gamma=0.3)\n",
        "#lr_lambda = lambda epoch: 0.1/(1+1.2*(epoch-(epoch%3)))\n",
        "#lr_scheduler = torch.optim.lr_scheduler.LambdaLR(optimizer, lr_lambda)\n",
        "\n",
        "model_history = mutils.build_model(model, \n",
        "                            device, \n",
        "                            trainloader=train_loader, \n",
        "                            testloader=test_loader, \n",
        "                            epochs=EPOCHS,\n",
        "                            criterion=criterion, \n",
        "                            optimizer=optimizer,\n",
        "                            lr_scheduler=lr_scheduler,\n",
        "                            L1_loss_enable=True)"
      ],
      "execution_count": 0,
      "outputs": [
        {
          "output_type": "stream",
          "text": [
            "\r  0%|          | 0/391 [00:00<?, ?it/s]"
          ],
          "name": "stderr"
        },
        {
          "output_type": "stream",
          "text": [
            "EPOCH-1: learning rate is: 0.01\n"
          ],
          "name": "stdout"
        },
        {
          "output_type": "stream",
          "text": [
            "/usr/local/lib/python3.6/dist-packages/torch/nn/_reduction.py:43: UserWarning: size_average and reduce args will be deprecated, please use reduction='sum' instead.\n",
            "  warnings.warn(warning.format(ret))\n",
            "Loss=1.853234 Batch_id=391 Accuracy=47.65: 100%|██████████| 391/391 [03:10<00:00,  2.55it/s]\n",
            "  0%|          | 0/391 [00:00<?, ?it/s]"
          ],
          "name": "stderr"
        },
        {
          "output_type": "stream",
          "text": [
            "\n",
            "Test set: Average loss: 1.502692, Accuracy: 5205/10000 (52.05%)\n",
            "\n",
            "EPOCH-2: learning rate is: 0.01\n"
          ],
          "name": "stdout"
        },
        {
          "output_type": "stream",
          "text": [
            "Loss=1.314877 Batch_id=391 Accuracy=67.73: 100%|██████████| 391/391 [03:10<00:00,  2.57it/s]\n",
            "  0%|          | 0/391 [00:00<?, ?it/s]"
          ],
          "name": "stderr"
        },
        {
          "output_type": "stream",
          "text": [
            "\n",
            "Test set: Average loss: 0.805015, Accuracy: 7299/10000 (72.99%)\n",
            "\n",
            "EPOCH-3: learning rate is: 0.01\n"
          ],
          "name": "stdout"
        },
        {
          "output_type": "stream",
          "text": [
            "Loss=1.091843 Batch_id=391 Accuracy=75.28: 100%|██████████| 391/391 [03:10<00:00,  2.57it/s]\n",
            "  0%|          | 0/391 [00:00<?, ?it/s]"
          ],
          "name": "stderr"
        },
        {
          "output_type": "stream",
          "text": [
            "\n",
            "Test set: Average loss: 0.787551, Accuracy: 7321/10000 (73.21%)\n",
            "\n",
            "EPOCH-4: learning rate is: 0.01\n"
          ],
          "name": "stdout"
        },
        {
          "output_type": "stream",
          "text": [
            "Loss=0.950949 Batch_id=391 Accuracy=79.58: 100%|██████████| 391/391 [03:10<00:00,  2.56it/s]\n",
            "  0%|          | 0/391 [00:00<?, ?it/s]"
          ],
          "name": "stderr"
        },
        {
          "output_type": "stream",
          "text": [
            "\n",
            "Test set: Average loss: 0.580586, Accuracy: 8008/10000 (80.08%)\n",
            "\n",
            "EPOCH-5: learning rate is: 0.01\n"
          ],
          "name": "stdout"
        },
        {
          "output_type": "stream",
          "text": [
            "Loss=0.869924 Batch_id=391 Accuracy=82.04: 100%|██████████| 391/391 [03:10<00:00,  2.56it/s]\n",
            "  0%|          | 0/391 [00:00<?, ?it/s]"
          ],
          "name": "stderr"
        },
        {
          "output_type": "stream",
          "text": [
            "\n",
            "Test set: Average loss: 0.548926, Accuracy: 8178/10000 (81.78%)\n",
            "\n",
            "EPOCH-6: learning rate is: 0.01\n"
          ],
          "name": "stdout"
        },
        {
          "output_type": "stream",
          "text": [
            "Loss=0.806334 Batch_id=391 Accuracy=83.74: 100%|██████████| 391/391 [03:11<00:00,  2.58it/s]\n",
            "  0%|          | 0/391 [00:00<?, ?it/s]"
          ],
          "name": "stderr"
        },
        {
          "output_type": "stream",
          "text": [
            "\n",
            "Test set: Average loss: 0.651467, Accuracy: 7846/10000 (78.46%)\n",
            "\n",
            "EPOCH-7: learning rate is: 0.01\n"
          ],
          "name": "stdout"
        },
        {
          "output_type": "stream",
          "text": [
            "Loss=0.751270 Batch_id=391 Accuracy=84.97: 100%|██████████| 391/391 [03:11<00:00,  2.55it/s]\n",
            "  0%|          | 0/391 [00:00<?, ?it/s]"
          ],
          "name": "stderr"
        },
        {
          "output_type": "stream",
          "text": [
            "\n",
            "Test set: Average loss: 0.499239, Accuracy: 8344/10000 (83.44%)\n",
            "\n",
            "EPOCH-8: learning rate is: 0.01\n"
          ],
          "name": "stdout"
        },
        {
          "output_type": "stream",
          "text": [
            "Loss=0.699208 Batch_id=391 Accuracy=86.32: 100%|██████████| 391/391 [03:11<00:00,  2.54it/s]\n",
            "  0%|          | 0/391 [00:00<?, ?it/s]"
          ],
          "name": "stderr"
        },
        {
          "output_type": "stream",
          "text": [
            "\n",
            "Test set: Average loss: 0.492135, Accuracy: 8370/10000 (83.70%)\n",
            "\n",
            "EPOCH-9: learning rate is: 0.001\n"
          ],
          "name": "stdout"
        },
        {
          "output_type": "stream",
          "text": [
            "Loss=0.574994 Batch_id=391 Accuracy=90.55: 100%|██████████| 391/391 [03:10<00:00,  2.56it/s]\n",
            "  0%|          | 0/391 [00:00<?, ?it/s]"
          ],
          "name": "stderr"
        },
        {
          "output_type": "stream",
          "text": [
            "\n",
            "Test set: Average loss: 0.327688, Accuracy: 8890/10000 (88.90%)\n",
            "\n",
            "EPOCH-10: learning rate is: 0.001\n"
          ],
          "name": "stdout"
        },
        {
          "output_type": "stream",
          "text": [
            "Loss=0.538767 Batch_id=391 Accuracy=91.65: 100%|██████████| 391/391 [03:10<00:00,  2.56it/s]\n",
            "  0%|          | 0/391 [00:00<?, ?it/s]"
          ],
          "name": "stderr"
        },
        {
          "output_type": "stream",
          "text": [
            "\n",
            "Test set: Average loss: 0.319946, Accuracy: 8928/10000 (89.28%)\n",
            "\n",
            "EPOCH-11: learning rate is: 0.001\n"
          ],
          "name": "stdout"
        },
        {
          "output_type": "stream",
          "text": [
            "Loss=0.519418 Batch_id=391 Accuracy=92.20: 100%|██████████| 391/391 [03:10<00:00,  2.54it/s]\n",
            "  0%|          | 0/391 [00:00<?, ?it/s]"
          ],
          "name": "stderr"
        },
        {
          "output_type": "stream",
          "text": [
            "\n",
            "Test set: Average loss: 0.319676, Accuracy: 8946/10000 (89.46%)\n",
            "\n",
            "EPOCH-12: learning rate is: 0.001\n"
          ],
          "name": "stdout"
        },
        {
          "output_type": "stream",
          "text": [
            "Loss=0.508421 Batch_id=391 Accuracy=92.63: 100%|██████████| 391/391 [03:10<00:00,  2.56it/s]\n",
            "  0%|          | 0/391 [00:00<?, ?it/s]"
          ],
          "name": "stderr"
        },
        {
          "output_type": "stream",
          "text": [
            "\n",
            "Test set: Average loss: 0.310592, Accuracy: 8961/10000 (89.61%)\n",
            "\n",
            "EPOCH-13: learning rate is: 0.001\n"
          ],
          "name": "stdout"
        },
        {
          "output_type": "stream",
          "text": [
            "Loss=0.497407 Batch_id=391 Accuracy=92.95: 100%|██████████| 391/391 [03:10<00:00,  2.57it/s]\n",
            "  0%|          | 0/391 [00:00<?, ?it/s]"
          ],
          "name": "stderr"
        },
        {
          "output_type": "stream",
          "text": [
            "\n",
            "Test set: Average loss: 0.312862, Accuracy: 8971/10000 (89.71%)\n",
            "\n",
            "EPOCH-14: learning rate is: 0.001\n"
          ],
          "name": "stdout"
        },
        {
          "output_type": "stream",
          "text": [
            "Loss=0.487187 Batch_id=391 Accuracy=93.26: 100%|██████████| 391/391 [03:10<00:00,  2.54it/s]\n",
            "  0%|          | 0/391 [00:00<?, ?it/s]"
          ],
          "name": "stderr"
        },
        {
          "output_type": "stream",
          "text": [
            "\n",
            "Test set: Average loss: 0.313774, Accuracy: 8964/10000 (89.64%)\n",
            "\n",
            "EPOCH-15: learning rate is: 0.001\n"
          ],
          "name": "stdout"
        },
        {
          "output_type": "stream",
          "text": [
            "Loss=0.477522 Batch_id=391 Accuracy=93.44: 100%|██████████| 391/391 [03:10<00:00,  2.57it/s]\n",
            "  0%|          | 0/391 [00:00<?, ?it/s]"
          ],
          "name": "stderr"
        },
        {
          "output_type": "stream",
          "text": [
            "\n",
            "Test set: Average loss: 0.317912, Accuracy: 8966/10000 (89.66%)\n",
            "\n",
            "EPOCH-16: learning rate is: 0.001\n"
          ],
          "name": "stdout"
        },
        {
          "output_type": "stream",
          "text": [
            "Loss=0.467985 Batch_id=391 Accuracy=93.74: 100%|██████████| 391/391 [03:10<00:00,  2.54it/s]\n",
            "  0%|          | 0/391 [00:00<?, ?it/s]"
          ],
          "name": "stderr"
        },
        {
          "output_type": "stream",
          "text": [
            "\n",
            "Test set: Average loss: 0.312047, Accuracy: 8986/10000 (89.86%)\n",
            "\n",
            "EPOCH-17: learning rate is: 0.0001\n"
          ],
          "name": "stdout"
        },
        {
          "output_type": "stream",
          "text": [
            "Loss=0.446413 Batch_id=391 Accuracy=94.52: 100%|██████████| 391/391 [03:10<00:00,  2.58it/s]\n",
            "  0%|          | 0/391 [00:00<?, ?it/s]"
          ],
          "name": "stderr"
        },
        {
          "output_type": "stream",
          "text": [
            "\n",
            "Test set: Average loss: 0.295214, Accuracy: 9027/10000 (90.27%)\n",
            "\n",
            "EPOCH-18: learning rate is: 0.0001\n"
          ],
          "name": "stdout"
        },
        {
          "output_type": "stream",
          "text": [
            "Loss=0.445151 Batch_id=391 Accuracy=94.54: 100%|██████████| 391/391 [03:10<00:00,  2.57it/s]\n",
            "  0%|          | 0/391 [00:00<?, ?it/s]"
          ],
          "name": "stderr"
        },
        {
          "output_type": "stream",
          "text": [
            "\n",
            "Test set: Average loss: 0.292374, Accuracy: 9040/10000 (90.40%)\n",
            "\n",
            "EPOCH-19: learning rate is: 0.0001\n"
          ],
          "name": "stdout"
        },
        {
          "output_type": "stream",
          "text": [
            "Loss=0.441292 Batch_id=391 Accuracy=94.72: 100%|██████████| 391/391 [03:10<00:00,  2.57it/s]\n",
            "  0%|          | 0/391 [00:00<?, ?it/s]"
          ],
          "name": "stderr"
        },
        {
          "output_type": "stream",
          "text": [
            "\n",
            "Test set: Average loss: 0.291144, Accuracy: 9042/10000 (90.42%)\n",
            "\n",
            "EPOCH-20: learning rate is: 0.0001\n"
          ],
          "name": "stdout"
        },
        {
          "output_type": "stream",
          "text": [
            "Loss=0.441720 Batch_id=391 Accuracy=94.66: 100%|██████████| 391/391 [03:10<00:00,  2.57it/s]\n",
            "  0%|          | 0/391 [00:00<?, ?it/s]"
          ],
          "name": "stderr"
        },
        {
          "output_type": "stream",
          "text": [
            "\n",
            "Test set: Average loss: 0.294022, Accuracy: 9042/10000 (90.42%)\n",
            "\n",
            "EPOCH-21: learning rate is: 0.0001\n"
          ],
          "name": "stdout"
        },
        {
          "output_type": "stream",
          "text": [
            "Loss=0.440846 Batch_id=391 Accuracy=94.67: 100%|██████████| 391/391 [03:10<00:00,  2.54it/s]\n",
            "  0%|          | 0/391 [00:00<?, ?it/s]"
          ],
          "name": "stderr"
        },
        {
          "output_type": "stream",
          "text": [
            "\n",
            "Test set: Average loss: 0.293920, Accuracy: 9045/10000 (90.45%)\n",
            "\n",
            "EPOCH-22: learning rate is: 0.0001\n"
          ],
          "name": "stdout"
        },
        {
          "output_type": "stream",
          "text": [
            "Loss=0.438851 Batch_id=391 Accuracy=94.78: 100%|██████████| 391/391 [03:10<00:00,  2.56it/s]\n",
            "  0%|          | 0/391 [00:00<?, ?it/s]"
          ],
          "name": "stderr"
        },
        {
          "output_type": "stream",
          "text": [
            "\n",
            "Test set: Average loss: 0.296389, Accuracy: 9050/10000 (90.50%)\n",
            "\n",
            "EPOCH-23: learning rate is: 0.0001\n"
          ],
          "name": "stdout"
        },
        {
          "output_type": "stream",
          "text": [
            "Loss=0.437991 Batch_id=391 Accuracy=94.88: 100%|██████████| 391/391 [03:10<00:00,  2.57it/s]\n",
            "  0%|          | 0/391 [00:00<?, ?it/s]"
          ],
          "name": "stderr"
        },
        {
          "output_type": "stream",
          "text": [
            "\n",
            "Test set: Average loss: 0.296827, Accuracy: 9056/10000 (90.56%)\n",
            "\n",
            "EPOCH-24: learning rate is: 0.0001\n"
          ],
          "name": "stdout"
        },
        {
          "output_type": "stream",
          "text": [
            "Loss=0.435199 Batch_id=391 Accuracy=94.88: 100%|██████████| 391/391 [03:10<00:00,  2.57it/s]\n",
            "  0%|          | 0/391 [00:00<?, ?it/s]"
          ],
          "name": "stderr"
        },
        {
          "output_type": "stream",
          "text": [
            "\n",
            "Test set: Average loss: 0.296408, Accuracy: 9043/10000 (90.43%)\n",
            "\n",
            "EPOCH-25: learning rate is: 1e-05\n"
          ],
          "name": "stdout"
        },
        {
          "output_type": "stream",
          "text": [
            "Loss=0.432693 Batch_id=391 Accuracy=95.04: 100%|██████████| 391/391 [03:10<00:00,  2.55it/s]\n",
            "  0%|          | 0/391 [00:00<?, ?it/s]"
          ],
          "name": "stderr"
        },
        {
          "output_type": "stream",
          "text": [
            "\n",
            "Test set: Average loss: 0.298397, Accuracy: 9047/10000 (90.47%)\n",
            "\n",
            "EPOCH-26: learning rate is: 1e-05\n"
          ],
          "name": "stdout"
        },
        {
          "output_type": "stream",
          "text": [
            "Loss=0.433506 Batch_id=391 Accuracy=95.00: 100%|██████████| 391/391 [03:11<00:00,  2.55it/s]\n",
            "  0%|          | 0/391 [00:00<?, ?it/s]"
          ],
          "name": "stderr"
        },
        {
          "output_type": "stream",
          "text": [
            "\n",
            "Test set: Average loss: 0.298696, Accuracy: 9043/10000 (90.43%)\n",
            "\n",
            "EPOCH-27: learning rate is: 1e-05\n"
          ],
          "name": "stdout"
        },
        {
          "output_type": "stream",
          "text": [
            "Loss=0.432538 Batch_id=391 Accuracy=94.95: 100%|██████████| 391/391 [03:11<00:00,  2.56it/s]\n",
            "  0%|          | 0/391 [00:00<?, ?it/s]"
          ],
          "name": "stderr"
        },
        {
          "output_type": "stream",
          "text": [
            "\n",
            "Test set: Average loss: 0.295674, Accuracy: 9049/10000 (90.49%)\n",
            "\n",
            "EPOCH-28: learning rate is: 1e-05\n"
          ],
          "name": "stdout"
        },
        {
          "output_type": "stream",
          "text": [
            "Loss=0.432787 Batch_id=391 Accuracy=95.05: 100%|██████████| 391/391 [03:11<00:00,  2.55it/s]\n",
            "  0%|          | 0/391 [00:00<?, ?it/s]"
          ],
          "name": "stderr"
        },
        {
          "output_type": "stream",
          "text": [
            "\n",
            "Test set: Average loss: 0.301276, Accuracy: 9053/10000 (90.53%)\n",
            "\n",
            "EPOCH-29: learning rate is: 1e-05\n"
          ],
          "name": "stdout"
        },
        {
          "output_type": "stream",
          "text": [
            "Loss=0.431975 Batch_id=391 Accuracy=94.87: 100%|██████████| 391/391 [03:10<00:00,  2.56it/s]\n",
            "  0%|          | 0/391 [00:00<?, ?it/s]"
          ],
          "name": "stderr"
        },
        {
          "output_type": "stream",
          "text": [
            "\n",
            "Test set: Average loss: 0.295059, Accuracy: 9052/10000 (90.52%)\n",
            "\n",
            "EPOCH-30: learning rate is: 1e-05\n"
          ],
          "name": "stdout"
        },
        {
          "output_type": "stream",
          "text": [
            "Loss=0.431389 Batch_id=391 Accuracy=94.95: 100%|██████████| 391/391 [03:11<00:00,  2.57it/s]\n",
            "  0%|          | 0/391 [00:00<?, ?it/s]"
          ],
          "name": "stderr"
        },
        {
          "output_type": "stream",
          "text": [
            "\n",
            "Test set: Average loss: 0.293916, Accuracy: 9043/10000 (90.43%)\n",
            "\n",
            "EPOCH-31: learning rate is: 1e-05\n"
          ],
          "name": "stdout"
        },
        {
          "output_type": "stream",
          "text": [
            "Loss=0.433222 Batch_id=391 Accuracy=95.00: 100%|██████████| 391/391 [03:11<00:00,  2.56it/s]\n",
            "  0%|          | 0/391 [00:00<?, ?it/s]"
          ],
          "name": "stderr"
        },
        {
          "output_type": "stream",
          "text": [
            "\n",
            "Test set: Average loss: 0.295159, Accuracy: 9053/10000 (90.53%)\n",
            "\n",
            "EPOCH-32: learning rate is: 1e-05\n"
          ],
          "name": "stdout"
        },
        {
          "output_type": "stream",
          "text": [
            "Loss=0.431134 Batch_id=391 Accuracy=94.94: 100%|██████████| 391/391 [03:11<00:00,  2.56it/s]\n",
            "  0%|          | 0/391 [00:00<?, ?it/s]"
          ],
          "name": "stderr"
        },
        {
          "output_type": "stream",
          "text": [
            "\n",
            "Test set: Average loss: 0.295773, Accuracy: 9060/10000 (90.60%)\n",
            "\n",
            "EPOCH-33: learning rate is: 1.0000000000000002e-06\n"
          ],
          "name": "stdout"
        },
        {
          "output_type": "stream",
          "text": [
            "Loss=0.430935 Batch_id=391 Accuracy=95.05: 100%|██████████| 391/391 [03:10<00:00,  2.55it/s]\n",
            "  0%|          | 0/391 [00:00<?, ?it/s]"
          ],
          "name": "stderr"
        },
        {
          "output_type": "stream",
          "text": [
            "\n",
            "Test set: Average loss: 0.291722, Accuracy: 9048/10000 (90.48%)\n",
            "\n",
            "EPOCH-34: learning rate is: 1.0000000000000002e-06\n"
          ],
          "name": "stdout"
        },
        {
          "output_type": "stream",
          "text": [
            "Loss=0.429644 Batch_id=391 Accuracy=95.08: 100%|██████████| 391/391 [03:11<00:00,  2.56it/s]\n",
            "  0%|          | 0/391 [00:00<?, ?it/s]"
          ],
          "name": "stderr"
        },
        {
          "output_type": "stream",
          "text": [
            "\n",
            "Test set: Average loss: 0.294924, Accuracy: 9053/10000 (90.53%)\n",
            "\n",
            "EPOCH-35: learning rate is: 1.0000000000000002e-06\n"
          ],
          "name": "stdout"
        },
        {
          "output_type": "stream",
          "text": [
            "Loss=0.432517 Batch_id=391 Accuracy=95.10: 100%|██████████| 391/391 [03:11<00:00,  2.56it/s]\n",
            "  0%|          | 0/391 [00:00<?, ?it/s]"
          ],
          "name": "stderr"
        },
        {
          "output_type": "stream",
          "text": [
            "\n",
            "Test set: Average loss: 0.292087, Accuracy: 9058/10000 (90.58%)\n",
            "\n",
            "EPOCH-36: learning rate is: 1.0000000000000002e-06\n"
          ],
          "name": "stdout"
        },
        {
          "output_type": "stream",
          "text": [
            "Loss=0.431022 Batch_id=391 Accuracy=94.94: 100%|██████████| 391/391 [03:10<00:00,  2.54it/s]\n",
            "  0%|          | 0/391 [00:00<?, ?it/s]"
          ],
          "name": "stderr"
        },
        {
          "output_type": "stream",
          "text": [
            "\n",
            "Test set: Average loss: 0.292391, Accuracy: 9063/10000 (90.63%)\n",
            "\n",
            "EPOCH-37: learning rate is: 1.0000000000000002e-06\n"
          ],
          "name": "stdout"
        },
        {
          "output_type": "stream",
          "text": [
            "Loss=0.431146 Batch_id=391 Accuracy=95.11: 100%|██████████| 391/391 [03:11<00:00,  2.54it/s]\n",
            "  0%|          | 0/391 [00:00<?, ?it/s]"
          ],
          "name": "stderr"
        },
        {
          "output_type": "stream",
          "text": [
            "\n",
            "Test set: Average loss: 0.294632, Accuracy: 9051/10000 (90.51%)\n",
            "\n",
            "EPOCH-38: learning rate is: 1.0000000000000002e-06\n"
          ],
          "name": "stdout"
        },
        {
          "output_type": "stream",
          "text": [
            "Loss=0.431215 Batch_id=391 Accuracy=95.08: 100%|██████████| 391/391 [03:11<00:00,  2.56it/s]\n",
            "  0%|          | 0/391 [00:00<?, ?it/s]"
          ],
          "name": "stderr"
        },
        {
          "output_type": "stream",
          "text": [
            "\n",
            "Test set: Average loss: 0.305726, Accuracy: 9053/10000 (90.53%)\n",
            "\n",
            "EPOCH-39: learning rate is: 1.0000000000000002e-06\n"
          ],
          "name": "stdout"
        },
        {
          "output_type": "stream",
          "text": [
            "Loss=0.431645 Batch_id=391 Accuracy=94.95: 100%|██████████| 391/391 [03:11<00:00,  2.55it/s]\n",
            "  0%|          | 0/391 [00:00<?, ?it/s]"
          ],
          "name": "stderr"
        },
        {
          "output_type": "stream",
          "text": [
            "\n",
            "Test set: Average loss: 0.300261, Accuracy: 9051/10000 (90.51%)\n",
            "\n",
            "EPOCH-40: learning rate is: 1.0000000000000002e-06\n"
          ],
          "name": "stdout"
        },
        {
          "output_type": "stream",
          "text": [
            "Loss=0.431640 Batch_id=391 Accuracy=95.04: 100%|██████████| 391/391 [03:10<00:00,  2.56it/s]\n"
          ],
          "name": "stderr"
        },
        {
          "output_type": "stream",
          "text": [
            "\n",
            "Test set: Average loss: 0.297970, Accuracy: 9053/10000 (90.53%)\n",
            "\n"
          ],
          "name": "stdout"
        }
      ]
    },
    {
      "cell_type": "markdown",
      "metadata": {
        "id": "ZkcmOkxhrVYM",
        "colab_type": "text"
      },
      "source": [
        "# Analyse the train and test best result and calculate test accuracy for each classes"
      ]
    },
    {
      "cell_type": "code",
      "metadata": {
        "id": "PTxBnF81Ckpr",
        "colab_type": "code",
        "outputId": "5f37d624-f98b-4ab3-81cf-c8fa2f1e3431",
        "colab": {
          "base_uri": "https://localhost:8080/",
          "height": 68
        }
      },
      "source": [
        "# model result summary\n",
        "model_history.result_summary()"
      ],
      "execution_count": 0,
      "outputs": [
        {
          "output_type": "stream",
          "text": [
            "Training best result: Accuracy: 95.11 at Epoch 37\n",
            "Testing  best result: Accuracy: 90.63 at Epoch 36\n",
            "Acuracy Gap: 4.48\n"
          ],
          "name": "stdout"
        }
      ]
    },
    {
      "cell_type": "code",
      "metadata": {
        "id": "M2apWfDqCkzW",
        "colab_type": "code",
        "outputId": "25d73d9b-0cff-41c5-af21-1376bf1ee6c3",
        "colab": {
          "base_uri": "https://localhost:8080/",
          "height": 187
        }
      },
      "source": [
        "# get class based test accuracy for the network\n",
        "mutils.class_based_accuracy(model, device, classes, test_loader)"
      ],
      "execution_count": 0,
      "outputs": [
        {
          "output_type": "stream",
          "text": [
            "Accuracy of plane : 96 %\n",
            "Accuracy of   car : 96 %\n",
            "Accuracy of  bird : 73 %\n",
            "Accuracy of   cat : 87 %\n",
            "Accuracy of  deer : 93 %\n",
            "Accuracy of   dog : 75 %\n",
            "Accuracy of  frog : 92 %\n",
            "Accuracy of horse : 93 %\n",
            "Accuracy of  ship : 100 %\n",
            "Accuracy of truck : 97 %\n"
          ],
          "name": "stdout"
        }
      ]
    },
    {
      "cell_type": "markdown",
      "metadata": {
        "id": "GW_C7-sTrhns",
        "colab_type": "text"
      },
      "source": [
        "# Visualize model history and network convergence"
      ]
    },
    {
      "cell_type": "markdown",
      "metadata": {
        "id": "cMHuSZdS2UbB",
        "colab_type": "text"
      },
      "source": [
        "Visulaizing train and test result history"
      ]
    },
    {
      "cell_type": "code",
      "metadata": {
        "id": "HURzdqbICk3h",
        "colab_type": "code",
        "outputId": "bd9ca396-a75d-4e17-fd18-d58881e24fcb",
        "colab": {
          "base_uri": "https://localhost:8080/",
          "height": 370
        }
      },
      "source": [
        "# Accurracy and loss history plot\n",
        "model_history.plot_history(title=model_name, save_filename=\"model_history\")"
      ],
      "execution_count": 0,
      "outputs": [
        {
          "output_type": "display_data",
          "data": {
            "image/png": "[encoded data removed]",
            "text/plain": [
              "<Figure size 1440x360 with 2 Axes>"
            ]
          },
          "metadata": {
            "tags": []
          }
        }
      ]
    },
    {
      "cell_type": "markdown",
      "metadata": {
        "id": "iw2zjcdE2HW0",
        "colab_type": "text"
      },
      "source": [
        "Learning rate plot"
      ]
    },
    {
      "cell_type": "code",
      "metadata": {
        "id": "gmSEQsOL195t",
        "colab_type": "code",
        "outputId": "6e363d8e-b854-48cc-af32-86ee4bb6b422",
        "colab": {
          "base_uri": "https://localhost:8080/",
          "height": 370
        }
      },
      "source": [
        "# Note: seriesname=\"val_acc\", \"val_loss\", \"train_acc\", \"train_loss\", \"lr\"\n",
        "model_history.plot_data_against_epoch(\"LR values\", seriesname=\"lr\", save_filename=\"lr_trend\")"
      ],
      "execution_count": 0,
      "outputs": [
        {
          "output_type": "display_data",
          "data": {
            "image/png": "[encoded data removed]",
            "text/plain": [
              "<Figure size 1440x360 with 1 Axes>"
            ]
          },
          "metadata": {
            "tags": []
          }
        }
      ]
    },
    {
      "cell_type": "markdown",
      "metadata": {
        "id": "NwhbUVmTg168",
        "colab_type": "text"
      },
      "source": [
        "Test accuracy vs Leraning rate plot"
      ]
    },
    {
      "cell_type": "code",
      "metadata": {
        "id": "vulX7wbfg1Ms",
        "colab_type": "code",
        "outputId": "f3c231be-f7a7-403a-b448-c37871ac8199",
        "colab": {
          "base_uri": "https://localhost:8080/",
          "height": 370
        }
      },
      "source": [
        "# NotE: seriesname=\"val_acc\", \"val_loss\", \"train_acc\", \"train_loss\"\n",
        "model_history.plot_data_against_lr(\"Test Accuracy vs LR\", seriesname=\"val_acc\", save_filename=\"test_acc_vs_lr\")"
      ],
      "execution_count": 0,
      "outputs": [
        {
          "output_type": "display_data",
          "data": {
            "image/png": "[encoded data removed]",
            "text/plain": [
              "<Figure size 1440x360 with 1 Axes>"
            ]
          },
          "metadata": {
            "tags": []
          }
        }
      ]
    },
    {
      "cell_type": "markdown",
      "metadata": {
        "id": "4hca0ROwrn-K",
        "colab_type": "text"
      },
      "source": [
        "Visualize few misclassified images and get an understanding on for what set of unseen data model is not performing good "
      ]
    },
    {
      "cell_type": "code",
      "metadata": {
        "id": "qJOS6w6fCk-S",
        "colab_type": "code",
        "outputId": "c5dbe462-7d41-4efb-9a02-cda97600f7bc",
        "colab": {
          "base_uri": "https://localhost:8080/",
          "height": 920
        }
      },
      "source": [
        "print(\"\\nPloting misclassified images: {}\\n\".format(model_name))\n",
        "putils.plot_misclassified_images(model, \n",
        "                          device, \n",
        "                          classes,\n",
        "                          testloader=test_loader,\n",
        "                          save_filename=\"model_misclassified\")"
      ],
      "execution_count": 0,
      "outputs": [
        {
          "output_type": "stream",
          "text": [
            "\n",
            "Ploting misclassified images: CIFAR10 Resnet18\n",
            "\n"
          ],
          "name": "stdout"
        },
        {
          "output_type": "stream",
          "text": [
            "Clipping input data to the valid range for imshow with RGB data ([0..1] for floats or [0..255] for integers).\n",
            "Clipping input data to the valid range for imshow with RGB data ([0..1] for floats or [0..255] for integers).\n",
            "Clipping input data to the valid range for imshow with RGB data ([0..1] for floats or [0..255] for integers).\n",
            "Clipping input data to the valid range for imshow with RGB data ([0..1] for floats or [0..255] for integers).\n",
            "Clipping input data to the valid range for imshow with RGB data ([0..1] for floats or [0..255] for integers).\n",
            "Clipping input data to the valid range for imshow with RGB data ([0..1] for floats or [0..255] for integers).\n",
            "Clipping input data to the valid range for imshow with RGB data ([0..1] for floats or [0..255] for integers).\n",
            "Clipping input data to the valid range for imshow with RGB data ([0..1] for floats or [0..255] for integers).\n",
            "Clipping input data to the valid range for imshow with RGB data ([0..1] for floats or [0..255] for integers).\n",
            "Clipping input data to the valid range for imshow with RGB data ([0..1] for floats or [0..255] for integers).\n",
            "Clipping input data to the valid range for imshow with RGB data ([0..1] for floats or [0..255] for integers).\n",
            "Clipping input data to the valid range for imshow with RGB data ([0..1] for floats or [0..255] for integers).\n",
            "Clipping input data to the valid range for imshow with RGB data ([0..1] for floats or [0..255] for integers).\n",
            "Clipping input data to the valid range for imshow with RGB data ([0..1] for floats or [0..255] for integers).\n",
            "Clipping input data to the valid range for imshow with RGB data ([0..1] for floats or [0..255] for integers).\n",
            "Clipping input data to the valid range for imshow with RGB data ([0..1] for floats or [0..255] for integers).\n",
            "Clipping input data to the valid range for imshow with RGB data ([0..1] for floats or [0..255] for integers).\n",
            "Clipping input data to the valid range for imshow with RGB data ([0..1] for floats or [0..255] for integers).\n",
            "Clipping input data to the valid range for imshow with RGB data ([0..1] for floats or [0..255] for integers).\n",
            "Clipping input data to the valid range for imshow with RGB data ([0..1] for floats or [0..255] for integers).\n"
          ],
          "name": "stderr"
        },
        {
          "output_type": "display_data",
          "data": {
            "image/png": "[encoded data removed]",
            "text/plain": [
              "<Figure size 720x648 with 20 Axes>"
            ]
          },
          "metadata": {
            "tags": []
          }
        }
      ]
    },
    {
      "cell_type": "code",
      "metadata": {
        "id": "nXOOUyu1nMKq",
        "colab_type": "code",
        "colab": {}
      },
      "source": [
        ""
      ],
      "execution_count": 0,
      "outputs": []
    }
  ]
}