{
  "nbformat": 4,
  "nbformat_minor": 0,
  "metadata": {
    "colab": {
      "name": "EVA4S8_main_attempt3.ipynb",
      "provenance": [],
      "collapsed_sections": [],
      "include_colab_link": true
    },
    "kernelspec": {
      "name": "python3",
      "display_name": "Python 3"
    },
    "accelerator": "GPU",
    "widgets": {
      "application/vnd.jupyter.widget-state+json": {
        "00b034c7f8524be4adc3ad38bf8d4f82": {
          "model_module": "@jupyter-widgets/controls",
          "model_name": "HBoxModel",
          "state": {
            "_view_name": "HBoxView",
            "_dom_classes": [],
            "_model_name": "HBoxModel",
            "_view_module": "@jupyter-widgets/controls",
            "_model_module_version": "1.5.0",
            "_view_count": null,
            "_view_module_version": "1.5.0",
            "box_style": "",
            "layout": "IPY_MODEL_fd9ebc4581d04e96a92f1f0b8cd056ec",
            "_model_module": "@jupyter-widgets/controls",
            "children": [
              "IPY_MODEL_cc59931435974bbc98fbcee796738e8a",
              "IPY_MODEL_68b24c78aa414073a41f4e7979641d68"
            ]
          }
        },
        "fd9ebc4581d04e96a92f1f0b8cd056ec": {
          "model_module": "@jupyter-widgets/base",
          "model_name": "LayoutModel",
          "state": {
            "_view_name": "LayoutView",
            "grid_template_rows": null,
            "right": null,
            "justify_content": null,
            "_view_module": "@jupyter-widgets/base",
            "overflow": null,
            "_model_module_version": "1.2.0",
            "_view_count": null,
            "flex_flow": null,
            "width": null,
            "min_width": null,
            "border": null,
            "align_items": null,
            "bottom": null,
            "_model_module": "@jupyter-widgets/base",
            "top": null,
            "grid_column": null,
            "overflow_y": null,
            "overflow_x": null,
            "grid_auto_flow": null,
            "grid_area": null,
            "grid_template_columns": null,
            "flex": null,
            "_model_name": "LayoutModel",
            "justify_items": null,
            "grid_row": null,
            "max_height": null,
            "align_content": null,
            "visibility": null,
            "align_self": null,
            "height": null,
            "min_height": null,
            "padding": null,
            "grid_auto_rows": null,
            "grid_gap": null,
            "max_width": null,
            "order": null,
            "_view_module_version": "1.2.0",
            "grid_template_areas": null,
            "object_position": null,
            "object_fit": null,
            "grid_auto_columns": null,
            "margin": null,
            "display": null,
            "left": null
          }
        },
        "cc59931435974bbc98fbcee796738e8a": {
          "model_module": "@jupyter-widgets/controls",
          "model_name": "IntProgressModel",
          "state": {
            "_view_name": "ProgressView",
            "style": "IPY_MODEL_5a3d1352b12b4b8787d8c0ff52dd2d97",
            "_dom_classes": [],
            "description": "",
            "_model_name": "IntProgressModel",
            "bar_style": "info",
            "max": 1,
            "_view_module": "@jupyter-widgets/controls",
            "_model_module_version": "1.5.0",
            "value": 1,
            "_view_count": null,
            "_view_module_version": "1.5.0",
            "orientation": "horizontal",
            "min": 0,
            "description_tooltip": null,
            "_model_module": "@jupyter-widgets/controls",
            "layout": "IPY_MODEL_c5d8a6487ae04cfd898bc2cd26101d68"
          }
        },
        "68b24c78aa414073a41f4e7979641d68": {
          "model_module": "@jupyter-widgets/controls",
          "model_name": "HTMLModel",
          "state": {
            "_view_name": "HTMLView",
            "style": "IPY_MODEL_ee50b9fe50e74f77bc218f8daf352a35",
            "_dom_classes": [],
            "description": "",
            "_model_name": "HTMLModel",
            "placeholder": "​",
            "_view_module": "@jupyter-widgets/controls",
            "_model_module_version": "1.5.0",
            "value": "170500096it [00:30, 13294733.73it/s]",
            "_view_count": null,
            "_view_module_version": "1.5.0",
            "description_tooltip": null,
            "_model_module": "@jupyter-widgets/controls",
            "layout": "IPY_MODEL_b9cfa0c95ef74b31a184c4c9f572ffca"
          }
        },
        "5a3d1352b12b4b8787d8c0ff52dd2d97": {
          "model_module": "@jupyter-widgets/controls",
          "model_name": "ProgressStyleModel",
          "state": {
            "_view_name": "StyleView",
            "_model_name": "ProgressStyleModel",
            "description_width": "",
            "_view_module": "@jupyter-widgets/base",
            "_model_module_version": "1.5.0",
            "_view_count": null,
            "_view_module_version": "1.2.0",
            "bar_color": null,
            "_model_module": "@jupyter-widgets/controls"
          }
        },
        "c5d8a6487ae04cfd898bc2cd26101d68": {
          "model_module": "@jupyter-widgets/base",
          "model_name": "LayoutModel",
          "state": {
            "_view_name": "LayoutView",
            "grid_template_rows": null,
            "right": null,
            "justify_content": null,
            "_view_module": "@jupyter-widgets/base",
            "overflow": null,
            "_model_module_version": "1.2.0",
            "_view_count": null,
            "flex_flow": null,
            "width": null,
            "min_width": null,
            "border": null,
            "align_items": null,
            "bottom": null,
            "_model_module": "@jupyter-widgets/base",
            "top": null,
            "grid_column": null,
            "overflow_y": null,
            "overflow_x": null,
            "grid_auto_flow": null,
            "grid_area": null,
            "grid_template_columns": null,
            "flex": null,
            "_model_name": "LayoutModel",
            "justify_items": null,
            "grid_row": null,
            "max_height": null,
            "align_content": null,
            "visibility": null,
            "align_self": null,
            "height": null,
            "min_height": null,
            "padding": null,
            "grid_auto_rows": null,
            "grid_gap": null,
            "max_width": null,
            "order": null,
            "_view_module_version": "1.2.0",
            "grid_template_areas": null,
            "object_position": null,
            "object_fit": null,
            "grid_auto_columns": null,
            "margin": null,
            "display": null,
            "left": null
          }
        },
        "ee50b9fe50e74f77bc218f8daf352a35": {
          "model_module": "@jupyter-widgets/controls",
          "model_name": "DescriptionStyleModel",
          "state": {
            "_view_name": "StyleView",
            "_model_name": "DescriptionStyleModel",
            "description_width": "",
            "_view_module": "@jupyter-widgets/base",
            "_model_module_version": "1.5.0",
            "_view_count": null,
            "_view_module_version": "1.2.0",
            "_model_module": "@jupyter-widgets/controls"
          }
        },
        "b9cfa0c95ef74b31a184c4c9f572ffca": {
          "model_module": "@jupyter-widgets/base",
          "model_name": "LayoutModel",
          "state": {
            "_view_name": "LayoutView",
            "grid_template_rows": null,
            "right": null,
            "justify_content": null,
            "_view_module": "@jupyter-widgets/base",
            "overflow": null,
            "_model_module_version": "1.2.0",
            "_view_count": null,
            "flex_flow": null,
            "width": null,
            "min_width": null,
            "border": null,
            "align_items": null,
            "bottom": null,
            "_model_module": "@jupyter-widgets/base",
            "top": null,
            "grid_column": null,
            "overflow_y": null,
            "overflow_x": null,
            "grid_auto_flow": null,
            "grid_area": null,
            "grid_template_columns": null,
            "flex": null,
            "_model_name": "LayoutModel",
            "justify_items": null,
            "grid_row": null,
            "max_height": null,
            "align_content": null,
            "visibility": null,
            "align_self": null,
            "height": null,
            "min_height": null,
            "padding": null,
            "grid_auto_rows": null,
            "grid_gap": null,
            "max_width": null,
            "order": null,
            "_view_module_version": "1.2.0",
            "grid_template_areas": null,
            "object_position": null,
            "object_fit": null,
            "grid_auto_columns": null,
            "margin": null,
            "display": null,
            "left": null
          }
        }
      }
    }
  },
  "cells": [
    {
      "cell_type": "markdown",
      "metadata": {
        "id": "view-in-github",
        "colab_type": "text"
      },
      "source": [
        "<a href=\"https://colab.research.google.com/github/BirenderPanwar/EVA4_Phase1/blob/master/session8/EVA4S8_main_attempt3.ipynb\" target=\"_parent\"><img src=\"https://colab.research.google.com/assets/colab-badge.svg\" alt=\"Open In Colab\"/></a>"
      ]
    },
    {
      "cell_type": "markdown",
      "metadata": {
        "id": "qElzb09OiePe",
        "colab_type": "text"
      },
      "source": [
        "# Attempt-3 - Solution\n",
        "1. resnet18 model\n",
        "2. calculate mean and std for the entire dataset and apply data normalization\n",
        "3. Image augmentation: horizontal flip, croping, cutout\n",
        "4. L1 and L2 regularization is applied. \n",
        "5. MultiStepLR strategy is applied to control lerning rate"
      ]
    },
    {
      "cell_type": "markdown",
      "metadata": {
        "id": "OQsCAnZP7Qk_",
        "colab_type": "text"
      },
      "source": [
        "# Check for current directory and necessary files availability"
      ]
    },
    {
      "cell_type": "code",
      "metadata": {
        "id": "Gu795cwkikHH",
        "colab_type": "code",
        "outputId": "73c75239-83c0-4de5-c464-89ae52344bfa",
        "colab": {
          "base_uri": "https://localhost:8080/",
          "height": 34
        }
      },
      "source": [
        "# check current directory\n",
        "!pwd"
      ],
      "execution_count": 0,
      "outputs": [
        {
          "output_type": "stream",
          "text": [
            "/content\n"
          ],
          "name": "stdout"
        }
      ]
    },
    {
      "cell_type": "code",
      "metadata": {
        "id": "ZsUpIqhIVfT9",
        "colab_type": "code",
        "outputId": "8635133a-14c8-4b6d-c765-6e12eb1e9316",
        "colab": {
          "base_uri": "https://localhost:8080/",
          "height": 34
        }
      },
      "source": [
        "# change to working directory\n",
        "cd 'session8'"
      ],
      "execution_count": 0,
      "outputs": [
        {
          "output_type": "stream",
          "text": [
            "/content/session8\n"
          ],
          "name": "stdout"
        }
      ]
    },
    {
      "cell_type": "code",
      "metadata": {
        "id": "_xG3EaAAHGIQ",
        "colab_type": "code",
        "outputId": "6c988313-77b6-44ef-8a90-8d4bc86c53e3",
        "colab": {
          "base_uri": "https://localhost:8080/",
          "height": 51
        }
      },
      "source": [
        "# verify if all necessary files are avaiabale in current directory for loading\n",
        "!ls"
      ],
      "execution_count": 0,
      "outputs": [
        {
          "output_type": "stream",
          "text": [
            "cifar10_net_cnn.py  model_history.py  plot_utils.py\t resnet.py\n",
            "data_utils.py\t    model_utils.py    regularization.py\n"
          ],
          "name": "stdout"
        }
      ]
    },
    {
      "cell_type": "markdown",
      "metadata": {
        "id": "_kXPnIqUqhwH",
        "colab_type": "text"
      },
      "source": [
        "# Load standard and custom python packages"
      ]
    },
    {
      "cell_type": "code",
      "metadata": {
        "id": "2iOPffRgHGhF",
        "colab_type": "code",
        "colab": {}
      },
      "source": [
        "import torch\n",
        "import torch.nn as nn\n",
        "import torch.nn.functional as F\n",
        "import torch.optim as optim\n",
        "from torch.optim.lr_scheduler import StepLR, MultiStepLR\n",
        "\n",
        "# load custom python packages\n",
        "import data_utils as dutils       # utilities for dataset, transform, dataloaders\n",
        "import model_utils as mutils      # utilities for basic conv block, depthwise seperable blocks, train, test, build fucntions\n",
        "import model_history as mhistory  # utilitie for storing and visualizing model results\n",
        "import plot_utils as putils       # utilities for ploting images, model history, misclassified images etc\n",
        "import regularization             # L1 loss fxn\n",
        "import cifar10_net_cnn            # CIFAR10 network design using custom CNN network\n",
        "import resnet                     # resnet model\n",
        "\n",
        "%matplotlib inline"
      ],
      "execution_count": 0,
      "outputs": []
    },
    {
      "cell_type": "markdown",
      "metadata": {
        "id": "Wik2-FtyqnDH",
        "colab_type": "text"
      },
      "source": [
        "# Check GPU avaiability\n",
        "use cuda and get device with GPU"
      ]
    },
    {
      "cell_type": "code",
      "metadata": {
        "id": "FJ0f14SWHHPg",
        "colab_type": "code",
        "outputId": "7f89dd7a-8b00-4f58-dd13-1edd33ae3665",
        "colab": {
          "base_uri": "https://localhost:8080/",
          "height": 51
        }
      },
      "source": [
        "# check GPU availability and use cuda to get GPU device\n",
        "device = dutils.get_device()"
      ],
      "execution_count": 0,
      "outputs": [
        {
          "output_type": "stream",
          "text": [
            "CUDA Available?3 True\n",
            "cuda:0\n"
          ],
          "name": "stdout"
        }
      ]
    },
    {
      "cell_type": "markdown",
      "metadata": {
        "id": "TJ-pAGuzqxz9",
        "colab_type": "text"
      },
      "source": [
        "# Basis configurations for CIFAR10"
      ]
    },
    {
      "cell_type": "code",
      "metadata": {
        "id": "V548eThGVWxb",
        "colab_type": "code",
        "colab": {}
      },
      "source": [
        "classes = ('plane', 'car', 'bird', 'cat', 'deer', 'dog', 'frog', 'horse', 'ship', 'truck')\n",
        "\n",
        "SEED = 1\n",
        "batch_size=128\n",
        "\n",
        "# CUDA?\n",
        "cuda = torch.cuda.is_available()\n",
        "\n",
        "# For reproducibility\n",
        "torch.manual_seed(SEED)\n",
        "\n",
        "if cuda:\n",
        "    torch.cuda.manual_seed(SEED)"
      ],
      "execution_count": 0,
      "outputs": []
    },
    {
      "cell_type": "markdown",
      "metadata": {
        "id": "PZFlFr2Qq7wz",
        "colab_type": "text"
      },
      "source": [
        "# Data Preprocessing and Loading of  CIFAR10 dataset\n",
        "1. first calculate the mean and std for the entire dataset. this will be used for dataset normalization during data transform\n",
        "2. define data transforms-image augmentation, toSensor, normalization etc\n",
        "3. load the dataset using data loader"
      ]
    },
    {
      "cell_type": "code",
      "metadata": {
        "id": "QfgKCcP2y5x8",
        "colab_type": "code",
        "colab": {}
      },
      "source": [
        "from torchvision import transforms\n",
        "\n",
        "# fucntion that define data transform as per image processing needs for the solution\n",
        "def get_data_transform(means, stds):\n",
        "    # Train Phase transformations\n",
        "    normalize = transforms.Normalize(means, stds)\n",
        "    #normalize = transforms.Normalize((0.4914, 0.4822, 0.4465), (0.2023, 0.1994, 0.2010)) # mean and std\n",
        "    #normalize = transforms.Normalize((0.5, 0.5, 0.5), (0.5, 0.5, 0.5)) # mean and std\n",
        "\n",
        "    # resize = transforms.Resize((28, 28))\n",
        "\n",
        "    train_transforms = transforms.Compose([\n",
        "                                          #resize,\n",
        "                                          #transforms.ColorJitter(brightness=0.10, contrast=0.1, saturation=0.10, hue=0.1),\n",
        "                                          #transforms.RandomRotation((-7.0, 7.0), fill=(1,)),\n",
        "                                          transforms.RandomCrop(32, padding=4),\n",
        "                                          transforms.RandomHorizontalFlip(),\n",
        "                                          transforms.ToTensor(),\n",
        "                                          normalize, \n",
        "                                          transforms.RandomErasing(scale=(0.02, 0.20), ratio=(0.8, 1.2))\n",
        "                                          ])\n",
        "\n",
        "    # Test Phase transformations\n",
        "    test_transforms = transforms.Compose([\n",
        "                                          #resize,\n",
        "                                          transforms.ToTensor(),\n",
        "                                          normalize\n",
        "                                          ])\n",
        "    \n",
        "    return train_transforms, test_transforms"
      ],
      "execution_count": 0,
      "outputs": []
    },
    {
      "cell_type": "code",
      "metadata": {
        "id": "akQdeWKB4jnX",
        "colab_type": "code",
        "outputId": "6314a5d9-dba0-40b4-9939-c65e8176ee72",
        "colab": {
          "base_uri": "https://localhost:8080/",
          "height": 168,
          "referenced_widgets": [
            "00b034c7f8524be4adc3ad38bf8d4f82",
            "fd9ebc4581d04e96a92f1f0b8cd056ec",
            "cc59931435974bbc98fbcee796738e8a",
            "68b24c78aa414073a41f4e7979641d68",
            "5a3d1352b12b4b8787d8c0ff52dd2d97",
            "c5d8a6487ae04cfd898bc2cd26101d68",
            "ee50b9fe50e74f77bc218f8daf352a35",
            "b9cfa0c95ef74b31a184c4c9f572ffca"
          ]
        }
      },
      "source": [
        "# first calculate dataset mean, std to be used for normalizing dataset\n",
        "means, stds = dutils.calculate_dataset_mean_std()\n",
        "print(\"means: {}\".format(means))\n",
        "print(\"stds: {}\".format(stds))"
      ],
      "execution_count": 0,
      "outputs": [
        {
          "output_type": "stream",
          "text": [
            "Downloading https://www.cs.toronto.edu/~kriz/cifar-10-python.tar.gz to ./data/cifar-10-python.tar.gz\n"
          ],
          "name": "stdout"
        },
        {
          "output_type": "display_data",
          "data": {
            "application/vnd.jupyter.widget-view+json": {
              "model_id": "00b034c7f8524be4adc3ad38bf8d4f82",
              "version_minor": 0,
              "version_major": 2
            },
            "text/plain": [
              "HBox(children=(IntProgress(value=1, bar_style='info', max=1), HTML(value='')))"
            ]
          },
          "metadata": {
            "tags": []
          }
        },
        {
          "output_type": "stream",
          "text": [
            "Extracting ./data/cifar-10-python.tar.gz to ./data\n",
            "Files already downloaded and verified\n",
            "\n",
            "Total dataset(train+test) shape:  (60000, 32, 32, 3)\n",
            "means: (0.49186864, 0.48265335, 0.44717798)\n",
            "stds: (0.24697131, 0.24338901, 0.26159254)\n"
          ],
          "name": "stdout"
        }
      ]
    },
    {
      "cell_type": "code",
      "metadata": {
        "id": "kGi03-Sp9Uhb",
        "colab_type": "code",
        "outputId": "4c294763-09c4-4951-9ef5-0acbecc31c73",
        "colab": {
          "base_uri": "https://localhost:8080/",
          "height": 68
        }
      },
      "source": [
        "# data transform\n",
        "train_transforms, test_transforms = get_data_transform(means, stds)\n",
        "\n",
        "# load data\n",
        "train_loader, test_loader = dutils.get_dataloader(train_transforms, test_transforms, batch_size=batch_size, num_workers=4)"
      ],
      "execution_count": 0,
      "outputs": [
        {
          "output_type": "stream",
          "text": [
            "CUDA Available? True\n",
            "Files already downloaded and verified\n",
            "Files already downloaded and verified\n"
          ],
          "name": "stdout"
        }
      ]
    },
    {
      "cell_type": "markdown",
      "metadata": {
        "id": "Uzk3Su4wrBV0",
        "colab_type": "text"
      },
      "source": [
        "# Visualize few training dataset and aurmented images"
      ]
    },
    {
      "cell_type": "code",
      "metadata": {
        "id": "klMwUHJBHHv3",
        "colab_type": "code",
        "outputId": "b1902482-2f22-4601-bc1c-59ccb38ada32",
        "colab": {
          "base_uri": "https://localhost:8080/",
          "height": 869
        }
      },
      "source": [
        "# visualize few training dataset images\n",
        "putils.plot_dataset_images(device, classes, train_loader)"
      ],
      "execution_count": 0,
      "outputs": [
        {
          "output_type": "stream",
          "text": [
            "Clipping input data to the valid range for imshow with RGB data ([0..1] for floats or [0..255] for integers).\n",
            "Clipping input data to the valid range for imshow with RGB data ([0..1] for floats or [0..255] for integers).\n",
            "Clipping input data to the valid range for imshow with RGB data ([0..1] for floats or [0..255] for integers).\n",
            "Clipping input data to the valid range for imshow with RGB data ([0..1] for floats or [0..255] for integers).\n",
            "Clipping input data to the valid range for imshow with RGB data ([0..1] for floats or [0..255] for integers).\n",
            "Clipping input data to the valid range for imshow with RGB data ([0..1] for floats or [0..255] for integers).\n",
            "Clipping input data to the valid range for imshow with RGB data ([0..1] for floats or [0..255] for integers).\n",
            "Clipping input data to the valid range for imshow with RGB data ([0..1] for floats or [0..255] for integers).\n",
            "Clipping input data to the valid range for imshow with RGB data ([0..1] for floats or [0..255] for integers).\n",
            "Clipping input data to the valid range for imshow with RGB data ([0..1] for floats or [0..255] for integers).\n",
            "Clipping input data to the valid range for imshow with RGB data ([0..1] for floats or [0..255] for integers).\n",
            "Clipping input data to the valid range for imshow with RGB data ([0..1] for floats or [0..255] for integers).\n",
            "Clipping input data to the valid range for imshow with RGB data ([0..1] for floats or [0..255] for integers).\n",
            "Clipping input data to the valid range for imshow with RGB data ([0..1] for floats or [0..255] for integers).\n",
            "Clipping input data to the valid range for imshow with RGB data ([0..1] for floats or [0..255] for integers).\n",
            "Clipping input data to the valid range for imshow with RGB data ([0..1] for floats or [0..255] for integers).\n",
            "Clipping input data to the valid range for imshow with RGB data ([0..1] for floats or [0..255] for integers).\n",
            "Clipping input data to the valid range for imshow with RGB data ([0..1] for floats or [0..255] for integers).\n",
            "Clipping input data to the valid range for imshow with RGB data ([0..1] for floats or [0..255] for integers).\n",
            "Clipping input data to the valid range for imshow with RGB data ([0..1] for floats or [0..255] for integers).\n"
          ],
          "name": "stderr"
        },
        {
          "output_type": "display_data",
          "data": {
            "image/png": "[encoded data removed]",
            "text/plain": [
              "<Figure size 720x648 with 20 Axes>"
            ]
          },
          "metadata": {
            "tags": []
          }
        }
      ]
    },
    {
      "cell_type": "markdown",
      "metadata": {
        "id": "rUYHkvyfrFlt",
        "colab_type": "text"
      },
      "source": [
        "# Create Resnet18 based CIFAR10 Network"
      ]
    },
    {
      "cell_type": "code",
      "metadata": {
        "id": "UeuPAXSSHHdw",
        "colab_type": "code",
        "outputId": "ef8c9701-b511-4c85-b3e9-dbde974a8d20",
        "colab": {
          "base_uri": "https://localhost:8080/",
          "height": 1000
        }
      },
      "source": [
        "# Create CIFAR10 network\n",
        "model = resnet.ResNet18()\n",
        "mutils.model_summary(model, device, input_size=(3, 32, 32))"
      ],
      "execution_count": 0,
      "outputs": [
        {
          "output_type": "stream",
          "text": [
            "----------------------------------------------------------------\n",
            "        Layer (type)               Output Shape         Param #\n",
            "================================================================\n",
            "            Conv2d-1           [-1, 64, 32, 32]           1,728\n",
            "       BatchNorm2d-2           [-1, 64, 32, 32]             128\n",
            "            Conv2d-3           [-1, 64, 32, 32]          36,864\n",
            "       BatchNorm2d-4           [-1, 64, 32, 32]             128\n",
            "            Conv2d-5           [-1, 64, 32, 32]          36,864\n",
            "       BatchNorm2d-6           [-1, 64, 32, 32]             128\n",
            "        BasicBlock-7           [-1, 64, 32, 32]               0\n",
            "            Conv2d-8           [-1, 64, 32, 32]          36,864\n",
            "       BatchNorm2d-9           [-1, 64, 32, 32]             128\n",
            "           Conv2d-10           [-1, 64, 32, 32]          36,864\n",
            "      BatchNorm2d-11           [-1, 64, 32, 32]             128\n",
            "       BasicBlock-12           [-1, 64, 32, 32]               0\n",
            "           Conv2d-13          [-1, 128, 16, 16]          73,728\n",
            "      BatchNorm2d-14          [-1, 128, 16, 16]             256\n",
            "           Conv2d-15          [-1, 128, 16, 16]         147,456\n",
            "      BatchNorm2d-16          [-1, 128, 16, 16]             256\n",
            "           Conv2d-17          [-1, 128, 16, 16]           8,192\n",
            "      BatchNorm2d-18          [-1, 128, 16, 16]             256\n",
            "       BasicBlock-19          [-1, 128, 16, 16]               0\n",
            "           Conv2d-20          [-1, 128, 16, 16]         147,456\n",
            "      BatchNorm2d-21          [-1, 128, 16, 16]             256\n",
            "           Conv2d-22          [-1, 128, 16, 16]         147,456\n",
            "      BatchNorm2d-23          [-1, 128, 16, 16]             256\n",
            "       BasicBlock-24          [-1, 128, 16, 16]               0\n",
            "           Conv2d-25            [-1, 256, 8, 8]         294,912\n",
            "      BatchNorm2d-26            [-1, 256, 8, 8]             512\n",
            "           Conv2d-27            [-1, 256, 8, 8]         589,824\n",
            "      BatchNorm2d-28            [-1, 256, 8, 8]             512\n",
            "           Conv2d-29            [-1, 256, 8, 8]          32,768\n",
            "      BatchNorm2d-30            [-1, 256, 8, 8]             512\n",
            "       BasicBlock-31            [-1, 256, 8, 8]               0\n",
            "           Conv2d-32            [-1, 256, 8, 8]         589,824\n",
            "      BatchNorm2d-33            [-1, 256, 8, 8]             512\n",
            "           Conv2d-34            [-1, 256, 8, 8]         589,824\n",
            "      BatchNorm2d-35            [-1, 256, 8, 8]             512\n",
            "       BasicBlock-36            [-1, 256, 8, 8]               0\n",
            "           Conv2d-37            [-1, 512, 4, 4]       1,179,648\n",
            "      BatchNorm2d-38            [-1, 512, 4, 4]           1,024\n",
            "           Conv2d-39            [-1, 512, 4, 4]       2,359,296\n",
            "      BatchNorm2d-40            [-1, 512, 4, 4]           1,024\n",
            "           Conv2d-41            [-1, 512, 4, 4]         131,072\n",
            "      BatchNorm2d-42            [-1, 512, 4, 4]           1,024\n",
            "       BasicBlock-43            [-1, 512, 4, 4]               0\n",
            "           Conv2d-44            [-1, 512, 4, 4]       2,359,296\n",
            "      BatchNorm2d-45            [-1, 512, 4, 4]           1,024\n",
            "           Conv2d-46            [-1, 512, 4, 4]       2,359,296\n",
            "      BatchNorm2d-47            [-1, 512, 4, 4]           1,024\n",
            "       BasicBlock-48            [-1, 512, 4, 4]               0\n",
            "           Linear-49                   [-1, 10]           5,130\n",
            "================================================================\n",
            "Total params: 11,173,962\n",
            "Trainable params: 11,173,962\n",
            "Non-trainable params: 0\n",
            "----------------------------------------------------------------\n",
            "Input size (MB): 0.01\n",
            "Forward/backward pass size (MB): 11.25\n",
            "Params size (MB): 42.63\n",
            "Estimated Total Size (MB): 53.89\n",
            "----------------------------------------------------------------\n"
          ],
          "name": "stdout"
        }
      ]
    },
    {
      "cell_type": "markdown",
      "metadata": {
        "id": "JBvA4KS5rPHC",
        "colab_type": "text"
      },
      "source": [
        "# Build and train model"
      ]
    },
    {
      "cell_type": "code",
      "metadata": {
        "id": "i74E8tf_0vvT",
        "colab_type": "code",
        "outputId": "168edf30-14be-4189-8d35-6f359e398014",
        "colab": {
          "base_uri": "https://localhost:8080/",
          "height": 1000
        }
      },
      "source": [
        "model_name = \"CIFAR10 Resnet18\"\n",
        "model =  model.to(device)\n",
        "EPOCHS = 40\n",
        "\n",
        "#criterion = F.nll_loss()\n",
        "criterion = nn.CrossEntropyLoss()\n",
        "optimizer = optim.SGD(model.parameters(), lr=0.01, momentum=0.9, weight_decay=0.001)  # using L2 Regulaization\n",
        "\n",
        "\n",
        "#lr_scheduler = StepLR(optimizer, step_size=8, gamma=0.1)\n",
        "lr_scheduler = MultiStepLR(optimizer, milestones=[8,16,24], gamma=0.3)\n",
        "#lr_lambda = lambda epoch: 0.1/(1+1.2*(epoch-(epoch%3)))\n",
        "#lr_scheduler = torch.optim.lr_scheduler.LambdaLR(optimizer, lr_lambda)\n",
        "\n",
        "model_history = mutils.build_model(model, \n",
        "                            device, \n",
        "                            trainloader=train_loader, \n",
        "                            testloader=test_loader, \n",
        "                            epochs=EPOCHS,\n",
        "                            criterion=criterion, \n",
        "                            optimizer=optimizer,\n",
        "                            lr_scheduler=lr_scheduler,\n",
        "                            L1_loss_enable=True)"
      ],
      "execution_count": 0,
      "outputs": [
        {
          "output_type": "stream",
          "text": [
            "\r  0%|          | 0/391 [00:00<?, ?it/s]"
          ],
          "name": "stderr"
        },
        {
          "output_type": "stream",
          "text": [
            "EPOCH-1: learning rate is: 0.01\n"
          ],
          "name": "stdout"
        },
        {
          "output_type": "stream",
          "text": [
            "/usr/local/lib/python3.6/dist-packages/torch/nn/_reduction.py:43: UserWarning: size_average and reduce args will be deprecated, please use reduction='sum' instead.\n",
            "  warnings.warn(warning.format(ret))\n",
            "Loss=1.907969 Batch_id=391 Accuracy=45.39: 100%|██████████| 391/391 [00:56<00:00,  6.90it/s]\n",
            "  0%|          | 0/391 [00:00<?, ?it/s]"
          ],
          "name": "stderr"
        },
        {
          "output_type": "stream",
          "text": [
            "\n",
            "Test set: Average loss: 1.470676, Accuracy: 5178/10000 (51.78%)\n",
            "\n",
            "EPOCH-2: learning rate is: 0.01\n"
          ],
          "name": "stdout"
        },
        {
          "output_type": "stream",
          "text": [
            "Loss=1.411598 Batch_id=391 Accuracy=64.14: 100%|██████████| 391/391 [00:58<00:00,  7.32it/s]\n",
            "  0%|          | 0/391 [00:00<?, ?it/s]"
          ],
          "name": "stderr"
        },
        {
          "output_type": "stream",
          "text": [
            "\n",
            "Test set: Average loss: 0.874495, Accuracy: 7068/10000 (70.68%)\n",
            "\n",
            "EPOCH-3: learning rate is: 0.01\n"
          ],
          "name": "stdout"
        },
        {
          "output_type": "stream",
          "text": [
            "Loss=1.174136 Batch_id=391 Accuracy=72.33: 100%|██████████| 391/391 [01:00<00:00,  7.26it/s]\n",
            "  0%|          | 0/391 [00:00<?, ?it/s]"
          ],
          "name": "stderr"
        },
        {
          "output_type": "stream",
          "text": [
            "\n",
            "Test set: Average loss: 0.776145, Accuracy: 7397/10000 (73.97%)\n",
            "\n",
            "EPOCH-4: learning rate is: 0.01\n"
          ],
          "name": "stdout"
        },
        {
          "output_type": "stream",
          "text": [
            "Loss=1.044789 Batch_id=391 Accuracy=76.27: 100%|██████████| 391/391 [01:00<00:00,  7.17it/s]\n",
            "  0%|          | 0/391 [00:00<?, ?it/s]"
          ],
          "name": "stderr"
        },
        {
          "output_type": "stream",
          "text": [
            "\n",
            "Test set: Average loss: 0.630035, Accuracy: 7857/10000 (78.57%)\n",
            "\n",
            "EPOCH-5: learning rate is: 0.01\n"
          ],
          "name": "stdout"
        },
        {
          "output_type": "stream",
          "text": [
            "Loss=0.960998 Batch_id=391 Accuracy=78.67: 100%|██████████| 391/391 [01:00<00:00,  7.29it/s]\n",
            "  0%|          | 0/391 [00:00<?, ?it/s]"
          ],
          "name": "stderr"
        },
        {
          "output_type": "stream",
          "text": [
            "\n",
            "Test set: Average loss: 0.773042, Accuracy: 7547/10000 (75.47%)\n",
            "\n",
            "EPOCH-6: learning rate is: 0.01\n"
          ],
          "name": "stdout"
        },
        {
          "output_type": "stream",
          "text": [
            "Loss=0.893964 Batch_id=391 Accuracy=80.40: 100%|██████████| 391/391 [01:01<00:00,  7.35it/s]\n",
            "  0%|          | 0/391 [00:00<?, ?it/s]"
          ],
          "name": "stderr"
        },
        {
          "output_type": "stream",
          "text": [
            "\n",
            "Test set: Average loss: 0.541625, Accuracy: 8173/10000 (81.73%)\n",
            "\n",
            "EPOCH-7: learning rate is: 0.01\n"
          ],
          "name": "stdout"
        },
        {
          "output_type": "stream",
          "text": [
            "Loss=0.833538 Batch_id=391 Accuracy=81.94: 100%|██████████| 391/391 [01:00<00:00,  7.15it/s]\n",
            "  0%|          | 0/391 [00:00<?, ?it/s]"
          ],
          "name": "stderr"
        },
        {
          "output_type": "stream",
          "text": [
            "\n",
            "Test set: Average loss: 0.527998, Accuracy: 8274/10000 (82.74%)\n",
            "\n",
            "EPOCH-8: learning rate is: 0.01\n"
          ],
          "name": "stdout"
        },
        {
          "output_type": "stream",
          "text": [
            "Loss=0.785552 Batch_id=391 Accuracy=83.20: 100%|██████████| 391/391 [01:00<00:00,  7.30it/s]\n",
            "  0%|          | 0/391 [00:00<?, ?it/s]"
          ],
          "name": "stderr"
        },
        {
          "output_type": "stream",
          "text": [
            "\n",
            "Test set: Average loss: 0.568033, Accuracy: 8198/10000 (81.98%)\n",
            "\n",
            "EPOCH-9: learning rate is: 0.003\n"
          ],
          "name": "stdout"
        },
        {
          "output_type": "stream",
          "text": [
            "Loss=0.653297 Batch_id=391 Accuracy=87.64: 100%|██████████| 391/391 [01:00<00:00,  7.34it/s]\n",
            "  0%|          | 0/391 [00:00<?, ?it/s]"
          ],
          "name": "stderr"
        },
        {
          "output_type": "stream",
          "text": [
            "\n",
            "Test set: Average loss: 0.352441, Accuracy: 8820/10000 (88.20%)\n",
            "\n",
            "EPOCH-10: learning rate is: 0.003\n"
          ],
          "name": "stdout"
        },
        {
          "output_type": "stream",
          "text": [
            "Loss=0.616743 Batch_id=391 Accuracy=88.83: 100%|██████████| 391/391 [01:00<00:00,  7.18it/s]\n",
            "  0%|          | 0/391 [00:00<?, ?it/s]"
          ],
          "name": "stderr"
        },
        {
          "output_type": "stream",
          "text": [
            "\n",
            "Test set: Average loss: 0.369710, Accuracy: 8791/10000 (87.91%)\n",
            "\n",
            "EPOCH-11: learning rate is: 0.003\n"
          ],
          "name": "stdout"
        },
        {
          "output_type": "stream",
          "text": [
            "Loss=0.598700 Batch_id=391 Accuracy=89.29: 100%|██████████| 391/391 [01:00<00:00,  7.28it/s]\n",
            "  0%|          | 0/391 [00:00<?, ?it/s]"
          ],
          "name": "stderr"
        },
        {
          "output_type": "stream",
          "text": [
            "\n",
            "Test set: Average loss: 0.346481, Accuracy: 8828/10000 (88.28%)\n",
            "\n",
            "EPOCH-12: learning rate is: 0.003\n"
          ],
          "name": "stdout"
        },
        {
          "output_type": "stream",
          "text": [
            "Loss=0.581728 Batch_id=391 Accuracy=89.59: 100%|██████████| 391/391 [01:00<00:00,  7.24it/s]\n",
            "  0%|          | 0/391 [00:00<?, ?it/s]"
          ],
          "name": "stderr"
        },
        {
          "output_type": "stream",
          "text": [
            "\n",
            "Test set: Average loss: 0.328796, Accuracy: 8910/10000 (89.10%)\n",
            "\n",
            "EPOCH-13: learning rate is: 0.003\n"
          ],
          "name": "stdout"
        },
        {
          "output_type": "stream",
          "text": [
            "Loss=0.560485 Batch_id=391 Accuracy=90.04: 100%|██████████| 391/391 [01:00<00:00,  7.28it/s]\n",
            "  0%|          | 0/391 [00:00<?, ?it/s]"
          ],
          "name": "stderr"
        },
        {
          "output_type": "stream",
          "text": [
            "\n",
            "Test set: Average loss: 0.316373, Accuracy: 8928/10000 (89.28%)\n",
            "\n",
            "EPOCH-14: learning rate is: 0.003\n"
          ],
          "name": "stdout"
        },
        {
          "output_type": "stream",
          "text": [
            "Loss=0.549905 Batch_id=391 Accuracy=90.39: 100%|██████████| 391/391 [01:01<00:00,  7.33it/s]\n",
            "  0%|          | 0/391 [00:00<?, ?it/s]"
          ],
          "name": "stderr"
        },
        {
          "output_type": "stream",
          "text": [
            "\n",
            "Test set: Average loss: 0.332756, Accuracy: 8882/10000 (88.82%)\n",
            "\n",
            "EPOCH-15: learning rate is: 0.003\n"
          ],
          "name": "stdout"
        },
        {
          "output_type": "stream",
          "text": [
            "Loss=0.534151 Batch_id=391 Accuracy=90.83: 100%|██████████| 391/391 [01:00<00:00,  7.20it/s]\n",
            "  0%|          | 0/391 [00:00<?, ?it/s]"
          ],
          "name": "stderr"
        },
        {
          "output_type": "stream",
          "text": [
            "\n",
            "Test set: Average loss: 0.357662, Accuracy: 8833/10000 (88.33%)\n",
            "\n",
            "EPOCH-16: learning rate is: 0.003\n"
          ],
          "name": "stdout"
        },
        {
          "output_type": "stream",
          "text": [
            "Loss=0.526910 Batch_id=391 Accuracy=90.87: 100%|██████████| 391/391 [01:01<00:00,  7.16it/s]\n",
            "  0%|          | 0/391 [00:00<?, ?it/s]"
          ],
          "name": "stderr"
        },
        {
          "output_type": "stream",
          "text": [
            "\n",
            "Test set: Average loss: 0.334976, Accuracy: 8882/10000 (88.82%)\n",
            "\n",
            "EPOCH-17: learning rate is: 0.0009\n"
          ],
          "name": "stdout"
        },
        {
          "output_type": "stream",
          "text": [
            "Loss=0.470674 Batch_id=391 Accuracy=92.71: 100%|██████████| 391/391 [01:01<00:00,  7.28it/s]\n",
            "  0%|          | 0/391 [00:00<?, ?it/s]"
          ],
          "name": "stderr"
        },
        {
          "output_type": "stream",
          "text": [
            "\n",
            "Test set: Average loss: 0.276367, Accuracy: 9102/10000 (91.02%)\n",
            "\n",
            "EPOCH-18: learning rate is: 0.0009\n"
          ],
          "name": "stdout"
        },
        {
          "output_type": "stream",
          "text": [
            "Loss=0.454568 Batch_id=391 Accuracy=93.17: 100%|██████████| 391/391 [01:01<00:00,  7.16it/s]\n",
            "  0%|          | 0/391 [00:00<?, ?it/s]"
          ],
          "name": "stderr"
        },
        {
          "output_type": "stream",
          "text": [
            "\n",
            "Test set: Average loss: 0.279276, Accuracy: 9089/10000 (90.89%)\n",
            "\n",
            "EPOCH-19: learning rate is: 0.0009\n"
          ],
          "name": "stdout"
        },
        {
          "output_type": "stream",
          "text": [
            "Loss=0.442162 Batch_id=391 Accuracy=93.70: 100%|██████████| 391/391 [01:01<00:00,  7.34it/s]\n",
            "  0%|          | 0/391 [00:00<?, ?it/s]"
          ],
          "name": "stderr"
        },
        {
          "output_type": "stream",
          "text": [
            "\n",
            "Test set: Average loss: 0.273596, Accuracy: 9095/10000 (90.95%)\n",
            "\n",
            "EPOCH-20: learning rate is: 0.0009\n"
          ],
          "name": "stdout"
        },
        {
          "output_type": "stream",
          "text": [
            "Loss=0.436671 Batch_id=391 Accuracy=93.71: 100%|██████████| 391/391 [01:01<00:00,  6.40it/s]\n",
            "  0%|          | 0/391 [00:00<?, ?it/s]"
          ],
          "name": "stderr"
        },
        {
          "output_type": "stream",
          "text": [
            "\n",
            "Test set: Average loss: 0.285318, Accuracy: 9071/10000 (90.71%)\n",
            "\n",
            "EPOCH-21: learning rate is: 0.0009\n"
          ],
          "name": "stdout"
        },
        {
          "output_type": "stream",
          "text": [
            "Loss=0.434965 Batch_id=391 Accuracy=93.80: 100%|██████████| 391/391 [01:00<00:00,  7.19it/s]\n",
            "  0%|          | 0/391 [00:00<?, ?it/s]"
          ],
          "name": "stderr"
        },
        {
          "output_type": "stream",
          "text": [
            "\n",
            "Test set: Average loss: 0.280319, Accuracy: 9095/10000 (90.95%)\n",
            "\n",
            "EPOCH-22: learning rate is: 0.0009\n"
          ],
          "name": "stdout"
        },
        {
          "output_type": "stream",
          "text": [
            "Loss=0.426583 Batch_id=391 Accuracy=94.00: 100%|██████████| 391/391 [01:00<00:00,  6.46it/s]\n",
            "  0%|          | 0/391 [00:00<?, ?it/s]"
          ],
          "name": "stderr"
        },
        {
          "output_type": "stream",
          "text": [
            "\n",
            "Test set: Average loss: 0.280444, Accuracy: 9090/10000 (90.90%)\n",
            "\n",
            "EPOCH-23: learning rate is: 0.0009\n"
          ],
          "name": "stdout"
        },
        {
          "output_type": "stream",
          "text": [
            "Loss=0.423182 Batch_id=391 Accuracy=94.12: 100%|██████████| 391/391 [01:00<00:00,  6.44it/s]\n",
            "  0%|          | 0/391 [00:00<?, ?it/s]"
          ],
          "name": "stderr"
        },
        {
          "output_type": "stream",
          "text": [
            "\n",
            "Test set: Average loss: 0.267047, Accuracy: 9152/10000 (91.52%)\n",
            "\n",
            "EPOCH-24: learning rate is: 0.0009\n"
          ],
          "name": "stdout"
        },
        {
          "output_type": "stream",
          "text": [
            "Loss=0.417228 Batch_id=391 Accuracy=94.30: 100%|██████████| 391/391 [01:00<00:00,  7.22it/s]\n",
            "  0%|          | 0/391 [00:00<?, ?it/s]"
          ],
          "name": "stderr"
        },
        {
          "output_type": "stream",
          "text": [
            "\n",
            "Test set: Average loss: 0.282289, Accuracy: 9091/10000 (90.91%)\n",
            "\n",
            "EPOCH-25: learning rate is: 0.00027\n"
          ],
          "name": "stdout"
        },
        {
          "output_type": "stream",
          "text": [
            "Loss=0.399246 Batch_id=391 Accuracy=94.97: 100%|██████████| 391/391 [01:00<00:00,  7.33it/s]\n",
            "  0%|          | 0/391 [00:00<?, ?it/s]"
          ],
          "name": "stderr"
        },
        {
          "output_type": "stream",
          "text": [
            "\n",
            "Test set: Average loss: 0.262155, Accuracy: 9152/10000 (91.52%)\n",
            "\n",
            "EPOCH-26: learning rate is: 0.00027\n"
          ],
          "name": "stdout"
        },
        {
          "output_type": "stream",
          "text": [
            "Loss=0.391570 Batch_id=391 Accuracy=95.21: 100%|██████████| 391/391 [01:00<00:00,  6.45it/s]\n",
            "  0%|          | 0/391 [00:00<?, ?it/s]"
          ],
          "name": "stderr"
        },
        {
          "output_type": "stream",
          "text": [
            "\n",
            "Test set: Average loss: 0.258141, Accuracy: 9174/10000 (91.74%)\n",
            "\n",
            "EPOCH-27: learning rate is: 0.00027\n"
          ],
          "name": "stdout"
        },
        {
          "output_type": "stream",
          "text": [
            "Loss=0.388310 Batch_id=391 Accuracy=95.31: 100%|██████████| 391/391 [01:00<00:00,  7.26it/s]\n",
            "  0%|          | 0/391 [00:00<?, ?it/s]"
          ],
          "name": "stderr"
        },
        {
          "output_type": "stream",
          "text": [
            "\n",
            "Test set: Average loss: 0.255100, Accuracy: 9162/10000 (91.62%)\n",
            "\n",
            "EPOCH-28: learning rate is: 0.00027\n"
          ],
          "name": "stdout"
        },
        {
          "output_type": "stream",
          "text": [
            "Loss=0.385903 Batch_id=391 Accuracy=95.30: 100%|██████████| 391/391 [01:00<00:00,  7.32it/s]\n",
            "  0%|          | 0/391 [00:00<?, ?it/s]"
          ],
          "name": "stderr"
        },
        {
          "output_type": "stream",
          "text": [
            "\n",
            "Test set: Average loss: 0.261660, Accuracy: 9165/10000 (91.65%)\n",
            "\n",
            "EPOCH-29: learning rate is: 0.00027\n"
          ],
          "name": "stdout"
        },
        {
          "output_type": "stream",
          "text": [
            "Loss=0.385020 Batch_id=391 Accuracy=95.41: 100%|██████████| 391/391 [01:00<00:00,  7.37it/s]\n",
            "  0%|          | 0/391 [00:00<?, ?it/s]"
          ],
          "name": "stderr"
        },
        {
          "output_type": "stream",
          "text": [
            "\n",
            "Test set: Average loss: 0.257016, Accuracy: 9177/10000 (91.77%)\n",
            "\n",
            "EPOCH-30: learning rate is: 0.00027\n"
          ],
          "name": "stdout"
        },
        {
          "output_type": "stream",
          "text": [
            "Loss=0.382155 Batch_id=391 Accuracy=95.51: 100%|██████████| 391/391 [01:00<00:00,  6.47it/s]\n",
            "  0%|          | 0/391 [00:00<?, ?it/s]"
          ],
          "name": "stderr"
        },
        {
          "output_type": "stream",
          "text": [
            "\n",
            "Test set: Average loss: 0.250964, Accuracy: 9187/10000 (91.87%)\n",
            "\n",
            "EPOCH-31: learning rate is: 0.00027\n"
          ],
          "name": "stdout"
        },
        {
          "output_type": "stream",
          "text": [
            "Loss=0.379013 Batch_id=391 Accuracy=95.60: 100%|██████████| 391/391 [01:00<00:00,  7.22it/s]\n",
            "  0%|          | 0/391 [00:00<?, ?it/s]"
          ],
          "name": "stderr"
        },
        {
          "output_type": "stream",
          "text": [
            "\n",
            "Test set: Average loss: 0.258055, Accuracy: 9192/10000 (91.92%)\n",
            "\n",
            "EPOCH-32: learning rate is: 0.00027\n"
          ],
          "name": "stdout"
        },
        {
          "output_type": "stream",
          "text": [
            "Loss=0.375741 Batch_id=391 Accuracy=95.68: 100%|██████████| 391/391 [01:00<00:00,  6.94it/s]\n",
            "  0%|          | 0/391 [00:00<?, ?it/s]"
          ],
          "name": "stderr"
        },
        {
          "output_type": "stream",
          "text": [
            "\n",
            "Test set: Average loss: 0.260247, Accuracy: 9175/10000 (91.75%)\n",
            "\n",
            "EPOCH-33: learning rate is: 0.00027\n"
          ],
          "name": "stdout"
        },
        {
          "output_type": "stream",
          "text": [
            "Loss=0.371417 Batch_id=391 Accuracy=95.83: 100%|██████████| 391/391 [01:00<00:00,  7.34it/s]\n",
            "  0%|          | 0/391 [00:00<?, ?it/s]"
          ],
          "name": "stderr"
        },
        {
          "output_type": "stream",
          "text": [
            "\n",
            "Test set: Average loss: 0.252719, Accuracy: 9194/10000 (91.94%)\n",
            "\n",
            "EPOCH-34: learning rate is: 0.00027\n"
          ],
          "name": "stdout"
        },
        {
          "output_type": "stream",
          "text": [
            "Loss=0.369275 Batch_id=391 Accuracy=95.94: 100%|██████████| 391/391 [01:00<00:00,  7.28it/s]\n",
            "  0%|          | 0/391 [00:00<?, ?it/s]"
          ],
          "name": "stderr"
        },
        {
          "output_type": "stream",
          "text": [
            "\n",
            "Test set: Average loss: 0.257192, Accuracy: 9201/10000 (92.01%)\n",
            "\n",
            "EPOCH-35: learning rate is: 0.00027\n"
          ],
          "name": "stdout"
        },
        {
          "output_type": "stream",
          "text": [
            "Loss=0.367612 Batch_id=391 Accuracy=95.88: 100%|██████████| 391/391 [01:00<00:00,  6.44it/s]\n",
            "  0%|          | 0/391 [00:00<?, ?it/s]"
          ],
          "name": "stderr"
        },
        {
          "output_type": "stream",
          "text": [
            "\n",
            "Test set: Average loss: 0.255568, Accuracy: 9182/10000 (91.82%)\n",
            "\n",
            "EPOCH-36: learning rate is: 0.00027\n"
          ],
          "name": "stdout"
        },
        {
          "output_type": "stream",
          "text": [
            "Loss=0.370920 Batch_id=391 Accuracy=95.84: 100%|██████████| 391/391 [01:00<00:00,  7.17it/s]\n",
            "  0%|          | 0/391 [00:00<?, ?it/s]"
          ],
          "name": "stderr"
        },
        {
          "output_type": "stream",
          "text": [
            "\n",
            "Test set: Average loss: 0.255453, Accuracy: 9192/10000 (91.92%)\n",
            "\n",
            "EPOCH-37: learning rate is: 0.00027\n"
          ],
          "name": "stdout"
        },
        {
          "output_type": "stream",
          "text": [
            "Loss=0.365172 Batch_id=391 Accuracy=95.99: 100%|██████████| 391/391 [01:00<00:00,  7.25it/s]\n",
            "  0%|          | 0/391 [00:00<?, ?it/s]"
          ],
          "name": "stderr"
        },
        {
          "output_type": "stream",
          "text": [
            "\n",
            "Test set: Average loss: 0.256144, Accuracy: 9175/10000 (91.75%)\n",
            "\n",
            "EPOCH-38: learning rate is: 0.00027\n"
          ],
          "name": "stdout"
        },
        {
          "output_type": "stream",
          "text": [
            "Loss=0.361764 Batch_id=391 Accuracy=96.17: 100%|██████████| 391/391 [01:00<00:00,  7.30it/s]\n",
            "  0%|          | 0/391 [00:00<?, ?it/s]"
          ],
          "name": "stderr"
        },
        {
          "output_type": "stream",
          "text": [
            "\n",
            "Test set: Average loss: 0.268163, Accuracy: 9203/10000 (92.03%)\n",
            "\n",
            "EPOCH-39: learning rate is: 0.00027\n"
          ],
          "name": "stdout"
        },
        {
          "output_type": "stream",
          "text": [
            "Loss=0.360726 Batch_id=391 Accuracy=96.15: 100%|██████████| 391/391 [01:00<00:00,  6.45it/s]\n",
            "  0%|          | 0/391 [00:00<?, ?it/s]"
          ],
          "name": "stderr"
        },
        {
          "output_type": "stream",
          "text": [
            "\n",
            "Test set: Average loss: 0.263054, Accuracy: 9191/10000 (91.91%)\n",
            "\n",
            "EPOCH-40: learning rate is: 0.00027\n"
          ],
          "name": "stdout"
        },
        {
          "output_type": "stream",
          "text": [
            "Loss=0.361322 Batch_id=391 Accuracy=95.99: 100%|██████████| 391/391 [01:00<00:00,  7.29it/s]\n"
          ],
          "name": "stderr"
        },
        {
          "output_type": "stream",
          "text": [
            "\n",
            "Test set: Average loss: 0.267259, Accuracy: 9173/10000 (91.73%)\n",
            "\n"
          ],
          "name": "stdout"
        }
      ]
    },
    {
      "cell_type": "markdown",
      "metadata": {
        "id": "ZkcmOkxhrVYM",
        "colab_type": "text"
      },
      "source": [
        "# Analyse the train and test best result and calculate test accuracy for each classes"
      ]
    },
    {
      "cell_type": "code",
      "metadata": {
        "id": "PTxBnF81Ckpr",
        "colab_type": "code",
        "outputId": "15fb431e-0ce2-4d58-ee53-3816a43ca5f7",
        "colab": {
          "base_uri": "https://localhost:8080/",
          "height": 68
        }
      },
      "source": [
        "# model result summary\n",
        "model_history.result_summary()"
      ],
      "execution_count": 0,
      "outputs": [
        {
          "output_type": "stream",
          "text": [
            "Training best result: Accuracy: 96.17 at Epoch 38\n",
            "Testing  best result: Accuracy: 92.03 at Epoch 38\n",
            "Acuracy Gap: 4.14\n"
          ],
          "name": "stdout"
        }
      ]
    },
    {
      "cell_type": "code",
      "metadata": {
        "id": "M2apWfDqCkzW",
        "colab_type": "code",
        "outputId": "ca976c71-8f35-47a1-8902-bb3b653ac4d1",
        "colab": {
          "base_uri": "https://localhost:8080/",
          "height": 187
        }
      },
      "source": [
        "# get class based test accuracy for the network\n",
        "mutils.class_based_accuracy(model, device, classes, test_loader)"
      ],
      "execution_count": 0,
      "outputs": [
        {
          "output_type": "stream",
          "text": [
            "Accuracy of plane : 96 %\n",
            "Accuracy of   car : 96 %\n",
            "Accuracy of  bird : 84 %\n",
            "Accuracy of   cat : 83 %\n",
            "Accuracy of  deer : 90 %\n",
            "Accuracy of   dog : 86 %\n",
            "Accuracy of  frog : 97 %\n",
            "Accuracy of horse : 93 %\n",
            "Accuracy of  ship : 100 %\n",
            "Accuracy of truck : 100 %\n"
          ],
          "name": "stdout"
        }
      ]
    },
    {
      "cell_type": "markdown",
      "metadata": {
        "id": "GW_C7-sTrhns",
        "colab_type": "text"
      },
      "source": [
        "# Visualize model history and network convergence"
      ]
    },
    {
      "cell_type": "markdown",
      "metadata": {
        "id": "cMHuSZdS2UbB",
        "colab_type": "text"
      },
      "source": [
        "Visulaizing train and test result history"
      ]
    },
    {
      "cell_type": "code",
      "metadata": {
        "id": "HURzdqbICk3h",
        "colab_type": "code",
        "outputId": "7e1c6db3-a5f0-43b6-f1cf-8b38c7528a42",
        "colab": {
          "base_uri": "https://localhost:8080/",
          "height": 350
        }
      },
      "source": [
        "# Accurracy and loss history plot\n",
        "model_history.plot_history(title=model_name, save_filename=\"model_history\")"
      ],
      "execution_count": 0,
      "outputs": [
        {
          "output_type": "display_data",
          "data": {
            "image/png": "[encoded data removed]",
            "text/plain": [
              "<Figure size 1440x360 with 2 Axes>"
            ]
          },
          "metadata": {
            "tags": []
          }
        }
      ]
    },
    {
      "cell_type": "markdown",
      "metadata": {
        "id": "iw2zjcdE2HW0",
        "colab_type": "text"
      },
      "source": [
        "Learning rate plot"
      ]
    },
    {
      "cell_type": "code",
      "metadata": {
        "id": "gmSEQsOL195t",
        "colab_type": "code",
        "outputId": "8339cae4-4464-4dbf-eaf0-2b09824a392e",
        "colab": {
          "base_uri": "https://localhost:8080/",
          "height": 350
        }
      },
      "source": [
        "# Note: seriesname=\"val_acc\", \"val_loss\", \"train_acc\", \"train_loss\", \"lr\"\n",
        "model_history.plot_data_against_epoch(\"LR values\", seriesname=\"lr\", save_filename=\"lr_trend\")"
      ],
      "execution_count": 0,
      "outputs": [
        {
          "output_type": "display_data",
          "data": {
            "image/png": "[encoded data removed]",
            "text/plain": [
              "<Figure size 1440x360 with 1 Axes>"
            ]
          },
          "metadata": {
            "tags": []
          }
        }
      ]
    },
    {
      "cell_type": "markdown",
      "metadata": {
        "id": "NwhbUVmTg168",
        "colab_type": "text"
      },
      "source": [
        "Test accuracy vs Leraning rate plot"
      ]
    },
    {
      "cell_type": "code",
      "metadata": {
        "id": "vulX7wbfg1Ms",
        "colab_type": "code",
        "outputId": "9fd5aa06-5e4d-4713-e018-fcd26fc018bd",
        "colab": {
          "base_uri": "https://localhost:8080/",
          "height": 350
        }
      },
      "source": [
        "# NotE: seriesname=\"val_acc\", \"val_loss\", \"train_acc\", \"train_loss\"\n",
        "model_history.plot_data_against_lr(\"Test Accuracy vs LR\", seriesname=\"val_acc\", save_filename=\"test_acc_vs_lr\")"
      ],
      "execution_count": 0,
      "outputs": [
        {
          "output_type": "display_data",
          "data": {
            "image/png": "[encoded data removed]",
            "text/plain": [
              "<Figure size 1440x360 with 1 Axes>"
            ]
          },
          "metadata": {
            "tags": []
          }
        }
      ]
    },
    {
      "cell_type": "markdown",
      "metadata": {
        "id": "4hca0ROwrn-K",
        "colab_type": "text"
      },
      "source": [
        "Visualize few misclassified images and get an understanding on for what set of unseen data model is not performing good "
      ]
    },
    {
      "cell_type": "code",
      "metadata": {
        "id": "qJOS6w6fCk-S",
        "colab_type": "code",
        "outputId": "cc5f8777-cc91-4796-c0c7-61049bfdaf8a",
        "colab": {
          "base_uri": "https://localhost:8080/",
          "height": 920
        }
      },
      "source": [
        "print(\"\\nPloting misclassified images: {}\\n\".format(model_name))\n",
        "putils.plot_misclassified_images(model, \n",
        "                          device, \n",
        "                          classes,\n",
        "                          testloader=test_loader,\n",
        "                          save_filename=\"model_misclassified\")"
      ],
      "execution_count": 0,
      "outputs": [
        {
          "output_type": "stream",
          "text": [
            "\n",
            "Ploting misclassified images: CIFAR10 Resnet18\n",
            "\n"
          ],
          "name": "stdout"
        },
        {
          "output_type": "stream",
          "text": [
            "Clipping input data to the valid range for imshow with RGB data ([0..1] for floats or [0..255] for integers).\n",
            "Clipping input data to the valid range for imshow with RGB data ([0..1] for floats or [0..255] for integers).\n",
            "Clipping input data to the valid range for imshow with RGB data ([0..1] for floats or [0..255] for integers).\n",
            "Clipping input data to the valid range for imshow with RGB data ([0..1] for floats or [0..255] for integers).\n",
            "Clipping input data to the valid range for imshow with RGB data ([0..1] for floats or [0..255] for integers).\n",
            "Clipping input data to the valid range for imshow with RGB data ([0..1] for floats or [0..255] for integers).\n",
            "Clipping input data to the valid range for imshow with RGB data ([0..1] for floats or [0..255] for integers).\n",
            "Clipping input data to the valid range for imshow with RGB data ([0..1] for floats or [0..255] for integers).\n",
            "Clipping input data to the valid range for imshow with RGB data ([0..1] for floats or [0..255] for integers).\n",
            "Clipping input data to the valid range for imshow with RGB data ([0..1] for floats or [0..255] for integers).\n",
            "Clipping input data to the valid range for imshow with RGB data ([0..1] for floats or [0..255] for integers).\n",
            "Clipping input data to the valid range for imshow with RGB data ([0..1] for floats or [0..255] for integers).\n",
            "Clipping input data to the valid range for imshow with RGB data ([0..1] for floats or [0..255] for integers).\n",
            "Clipping input data to the valid range for imshow with RGB data ([0..1] for floats or [0..255] for integers).\n",
            "Clipping input data to the valid range for imshow with RGB data ([0..1] for floats or [0..255] for integers).\n",
            "Clipping input data to the valid range for imshow with RGB data ([0..1] for floats or [0..255] for integers).\n",
            "Clipping input data to the valid range for imshow with RGB data ([0..1] for floats or [0..255] for integers).\n",
            "Clipping input data to the valid range for imshow with RGB data ([0..1] for floats or [0..255] for integers).\n",
            "Clipping input data to the valid range for imshow with RGB data ([0..1] for floats or [0..255] for integers).\n",
            "Clipping input data to the valid range for imshow with RGB data ([0..1] for floats or [0..255] for integers).\n"
          ],
          "name": "stderr"
        },
        {
          "output_type": "display_data",
          "data": {
            "image/png": "[encoded data removed]",
            "text/plain": [
              "<Figure size 720x648 with 20 Axes>"
            ]
          },
          "metadata": {
            "tags": []
          }
        }
      ]
    },
    {
      "cell_type": "code",
      "metadata": {
        "id": "nXOOUyu1nMKq",
        "colab_type": "code",
        "colab": {}
      },
      "source": [
        ""
      ],
      "execution_count": 0,
      "outputs": []
    }
  ]
}