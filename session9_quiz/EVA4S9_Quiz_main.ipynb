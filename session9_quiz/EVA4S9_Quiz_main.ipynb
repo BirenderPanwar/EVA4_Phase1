{
  "nbformat": 4,
  "nbformat_minor": 0,
  "metadata": {
    "colab": {
      "name": "EVA4S9_Quiz_main.ipynb",
      "provenance": [],
      "collapsed_sections": [],
      "include_colab_link": true
    },
    "kernelspec": {
      "name": "python3",
      "display_name": "Python 3"
    },
    "accelerator": "GPU"
  },
  "cells": [
    {
      "cell_type": "markdown",
      "metadata": {
        "id": "view-in-github",
        "colab_type": "text"
      },
      "source": [
        "<a href=\"https://colab.research.google.com/github/BirenderPanwar/EVA4_Phase1/blob/master/session9_quiz/EVA4S9_Quiz_main.ipynb\" target=\"_parent\"><img src=\"https://colab.research.google.com/assets/colab-badge.svg\" alt=\"Open In Colab\"/></a>"
      ]
    },
    {
      "cell_type": "markdown",
      "metadata": {
        "id": "qElzb09OiePe",
        "colab_type": "text"
      },
      "source": [
        "# S9: Quiz"
      ]
    },
    {
      "cell_type": "code",
      "metadata": {
        "id": "7RIr6iVxZe7J",
        "colab_type": "code",
        "outputId": "567b61cf-81cb-437b-f93d-90805e6e0114",
        "colab": {
          "base_uri": "https://localhost:8080/",
          "height": 34
        }
      },
      "source": [
        "import datetime\n",
        "print(\"Current Date/Time: \", datetime.datetime.now())"
      ],
      "execution_count": 0,
      "outputs": [
        {
          "output_type": "stream",
          "text": [
            "Current Date/Time:  2020-03-17 16:55:23.296343\n"
          ],
          "name": "stdout"
        }
      ]
    },
    {
      "cell_type": "code",
      "metadata": {
        "id": "85Yt689gGcL4",
        "colab_type": "code",
        "outputId": "71b28ce2-52f2-4069-901c-97fa58a1ec68",
        "colab": {
          "base_uri": "https://localhost:8080/",
          "height": 34
        }
      },
      "source": [
        "# mount gdrive\n",
        "mount_drive = True\n",
        "if mount_drive:\n",
        "    from google.colab import drive\n",
        "    drive.mount('/content/gdrive', force_remount=True) "
      ],
      "execution_count": 1,
      "outputs": [
        {
          "output_type": "stream",
          "text": [
            "Mounted at /content/gdrive\n"
          ],
          "name": "stdout"
        }
      ]
    },
    {
      "cell_type": "markdown",
      "metadata": {
        "id": "OQsCAnZP7Qk_",
        "colab_type": "text"
      },
      "source": [
        "# Check for current directory and necessary files availability"
      ]
    },
    {
      "cell_type": "code",
      "metadata": {
        "id": "Gu795cwkikHH",
        "colab_type": "code",
        "outputId": "8a97f0a5-528d-4118-aad3-4e236261edb6",
        "colab": {
          "base_uri": "https://localhost:8080/",
          "height": 34
        }
      },
      "source": [
        "# check current directory\n",
        "!pwd"
      ],
      "execution_count": 2,
      "outputs": [
        {
          "output_type": "stream",
          "text": [
            "/content\n"
          ],
          "name": "stdout"
        }
      ]
    },
    {
      "cell_type": "code",
      "metadata": {
        "id": "ZsUpIqhIVfT9",
        "colab_type": "code",
        "outputId": "19c8bd69-9f66-48e2-880d-3d828e3133d1",
        "colab": {
          "base_uri": "https://localhost:8080/",
          "height": 34
        }
      },
      "source": [
        "# change to working directory\n",
        "cd '/content/gdrive/My Drive/TSAI/EVA_Phase1/session9/s9_quiz/'"
      ],
      "execution_count": 3,
      "outputs": [
        {
          "output_type": "stream",
          "text": [
            "/content/gdrive/My Drive/TSAI/EVA_Phase1/session9/s9_quiz\n"
          ],
          "name": "stdout"
        }
      ]
    },
    {
      "cell_type": "code",
      "metadata": {
        "id": "_xG3EaAAHGIQ",
        "colab_type": "code",
        "outputId": "e62e6b21-5b1e-4539-b3de-432ec5781464",
        "colab": {
          "base_uri": "https://localhost:8080/",
          "height": 221
        }
      },
      "source": [
        "# verify if all necessary files are avaiabale in current directory for loading\n",
        "!ls\n",
        "\n",
        "print(\"\\nfiles under /models: \")\n",
        "!ls ./models/\n",
        "\n",
        "print(\"\\nfiles under /utils: \")\n",
        "!ls ./utils/\n",
        "\n",
        "print(\"\\nfiles under /gradcam: \")\n",
        "!ls ./gradcam/"
      ],
      "execution_count": 4,
      "outputs": [
        {
          "output_type": "stream",
          "text": [
            "data\t\t   EVA4S9_Quiz_main.ipynb  images  saved_models\n",
            "EVA4S9_main.ipynb  gradcam\t\t   models  utils\n",
            "\n",
            "files under /models: \n",
            "cifar10_net_cnn.py  __pycache__  quiz_dnn.py  resnet.py\n",
            "\n",
            "files under /utils: \n",
            "albumentations_utils.py  data_utils.py\t   model_utils.py  __pycache__\n",
            "common_utils.py\t\t model_history.py  plot_utils.py   regularization.py\n",
            "\n",
            "files under /gradcam: \n",
            "gradcam_abs.py\tgradcam.py  gradcam_utils.py  __pycache__\n"
          ],
          "name": "stdout"
        }
      ]
    },
    {
      "cell_type": "markdown",
      "metadata": {
        "id": "_kXPnIqUqhwH",
        "colab_type": "text"
      },
      "source": [
        "# Load standard and custom python packages"
      ]
    },
    {
      "cell_type": "code",
      "metadata": {
        "id": "2iOPffRgHGhF",
        "colab_type": "code",
        "colab": {}
      },
      "source": [
        "# Load standard packages\n",
        "\n",
        "from __future__ import print_function\n",
        "import torch\n",
        "import torchvision\n",
        "import torch.nn as nn\n",
        "import torch.nn.functional as F\n",
        "import torch.optim as optim\n",
        "from torch.optim.lr_scheduler import StepLR, MultiStepLR, OneCycleLR\n",
        "\n",
        "import numpy as np\n",
        "import matplotlib.pyplot as plt\n",
        "%matplotlib inline"
      ],
      "execution_count": 0,
      "outputs": []
    },
    {
      "cell_type": "code",
      "metadata": {
        "id": "xYIXFaJE8WZE",
        "colab_type": "code",
        "outputId": "6ff8e2ef-878a-4603-876c-f3c0364415d6",
        "colab": {
          "base_uri": "https://localhost:8080/",
          "height": 34
        }
      },
      "source": [
        "import albumentations # to apply image augmentation using albumentations library.\n",
        "print(albumentations.__version__) # check verison\n",
        "\n",
        "# this is to install and use albumentations latest package v0.4.5\n",
        "album_version_needed = \"0.4.5\"\n",
        "if albumentations.__version__ != album_version_needed:\n",
        "  !pip install -U git+https://github.com/albu/albumentations --no-cache-dir"
      ],
      "execution_count": 6,
      "outputs": [
        {
          "output_type": "stream",
          "text": [
            "0.4.5\n"
          ],
          "name": "stdout"
        }
      ]
    },
    {
      "cell_type": "code",
      "metadata": {
        "id": "AwImsNraw0d7",
        "colab_type": "code",
        "colab": {}
      },
      "source": [
        "# load custom python packages\n",
        "import utils.common_utils as cutils          # common utililies fxn\n",
        "import utils.model_utils as mutils           # utilities for basic conv block, depthwise seperable blocks, train, test, build fucntions\n",
        "import utils.model_history as model_history  # utilitie for storing and visualizing model results\n",
        "import utils.plot_utils as putils            # utilities for ploting images, model history, misclassified images etc\n",
        "import models.quiz_dnn as quiz_dnn           # S9 Quiz CNN network\n",
        "import models.resnet as resnet               # resnet model\n",
        "\n",
        "import utils.albumentations_utils as album_utils # utilities fxn based on albumentations\n",
        "import gradcam.gradcam_abs as gradcamAbs         # abstraction for GradCam module\n"
      ],
      "execution_count": 0,
      "outputs": []
    },
    {
      "cell_type": "code",
      "metadata": {
        "id": "110ntUHNJIat",
        "colab_type": "code",
        "colab": {}
      },
      "source": [
        "# to autoreload all the custom files when modified\n",
        "import autoreload\n",
        "%load_ext autoreload\n",
        "%autoreload"
      ],
      "execution_count": 0,
      "outputs": []
    },
    {
      "cell_type": "markdown",
      "metadata": {
        "id": "Wik2-FtyqnDH",
        "colab_type": "text"
      },
      "source": [
        "# Check GPU avaiability\n",
        "use cuda and get device with GPU"
      ]
    },
    {
      "cell_type": "code",
      "metadata": {
        "id": "FJ0f14SWHHPg",
        "colab_type": "code",
        "outputId": "05688d15-ad1e-4ace-f845-4e24c4e96702",
        "colab": {
          "base_uri": "https://localhost:8080/",
          "height": 51
        }
      },
      "source": [
        "# check GPU availability and use cuda to get GPU device\n",
        "cuda, device = cutils.get_device()"
      ],
      "execution_count": 9,
      "outputs": [
        {
          "output_type": "stream",
          "text": [
            "CUDA Available? True\n",
            "Device:  cuda:0\n"
          ],
          "name": "stdout"
        }
      ]
    },
    {
      "cell_type": "markdown",
      "metadata": {
        "id": "TJ-pAGuzqxz9",
        "colab_type": "text"
      },
      "source": [
        "# Basis configurations for CIFAR10"
      ]
    },
    {
      "cell_type": "code",
      "metadata": {
        "id": "V548eThGVWxb",
        "colab_type": "code",
        "colab": {}
      },
      "source": [
        "classes = ('plane', 'car', 'bird', 'cat', 'deer', 'dog', 'frog', 'horse', 'ship', 'truck')\n",
        "\n",
        "config_params = dict(\n",
        "    seed=1,\n",
        "    batch_size=128,\n",
        "    num_workers=4,\n",
        "    epochs=30\n",
        ")\n",
        "\n",
        "# For reproducibility\n",
        "torch.manual_seed(config_params[\"seed\"])\n",
        "\n",
        "if cuda:\n",
        "    torch.cuda.manual_seed(config_params[\"seed\"])"
      ],
      "execution_count": 0,
      "outputs": []
    },
    {
      "cell_type": "markdown",
      "metadata": {
        "id": "PZFlFr2Qq7wz",
        "colab_type": "text"
      },
      "source": [
        "# Albumentations: Data Preprocessing and Loading of  CIFAR10 dataset\n",
        "1. first calculate the mean and std for the entire dataset. this will be used for dataset normalization during data transform\n",
        "2. define data transforms-image augmentation, toSensor, normalization etc\n",
        "3. load the dataset using data loader"
      ]
    },
    {
      "cell_type": "code",
      "metadata": {
        "id": "wzTvqjEa4zNh",
        "colab_type": "code",
        "outputId": "ba8153ac-2ee7-4bf6-a420-962c4d231858",
        "colab": {
          "base_uri": "https://localhost:8080/",
          "height": 119
        }
      },
      "source": [
        "means, stds = album_utils.calculate_dataset_mean_std()\n",
        "print(\"means: {}\".format(means))\n",
        "print(\"stds: {}\".format(stds))"
      ],
      "execution_count": 11,
      "outputs": [
        {
          "output_type": "stream",
          "text": [
            "Files already downloaded and verified\n",
            "Files already downloaded and verified\n",
            "\n",
            "Total dataset(train+test) shape:  (60000, 32, 32, 3)\n",
            "means: [0.49186864, 0.48265335, 0.44717798]\n",
            "stds: [0.24697131, 0.24338901, 0.26159254]\n"
          ],
          "name": "stdout"
        }
      ]
    },
    {
      "cell_type": "code",
      "metadata": {
        "id": "lQ3xXKrNlxoP",
        "colab_type": "code",
        "outputId": "2800147e-71f5-4e64-e958-f8198aec3e97",
        "colab": {
          "base_uri": "https://localhost:8080/",
          "height": 340
        }
      },
      "source": [
        "\n",
        "# fill values for cutout portion\n",
        "fill_value = [255. * mean for mean in means]\n",
        "\n",
        "# to apply specific augmentation, set apply=True\n",
        "# augmentaion is ignore is either apply=False or speific a attribute is missing\n",
        "albumentations_args = dict(\n",
        "            GeneralParams=dict(input_size=32),            \n",
        "            RandomCrop=dict(apply=False, size=8, p=0.20),\n",
        "            HorizontalFlip=dict(apply=True, p=0.7),\n",
        "            ElasticTransform=dict(apply=False, sigma=50, alpha=1, alpha_affine=10, p=0.10),\n",
        "            CoarseDropout=dict(apply=True, max_holes=1, max_height=16, max_width=16, min_height=4, min_width=4, fill_value=fill_value, p=0.70),\n",
        "            Normalize=dict(apply=True, means=means, stds=stds))\n",
        "\n",
        "albumentations_args"
      ],
      "execution_count": 12,
      "outputs": [
        {
          "output_type": "execute_result",
          "data": {
            "text/plain": [
              "{'CoarseDropout': {'apply': True,\n",
              "  'fill_value': [125.42650446295738, 123.07660415768623, 114.03038397431374],\n",
              "  'max_height': 16,\n",
              "  'max_holes': 1,\n",
              "  'max_width': 16,\n",
              "  'min_height': 4,\n",
              "  'min_width': 4,\n",
              "  'p': 0.7},\n",
              " 'ElasticTransform': {'alpha': 1,\n",
              "  'alpha_affine': 10,\n",
              "  'apply': False,\n",
              "  'p': 0.1,\n",
              "  'sigma': 50},\n",
              " 'GeneralParams': {'input_size': 32},\n",
              " 'HorizontalFlip': {'apply': True, 'p': 0.7},\n",
              " 'Normalize': {'apply': True,\n",
              "  'means': [0.49186864, 0.48265335, 0.44717798],\n",
              "  'stds': [0.24697131, 0.24338901, 0.26159254]},\n",
              " 'RandomCrop': {'apply': False, 'p': 0.2, 'size': 8}}"
            ]
          },
          "metadata": {
            "tags": []
          },
          "execution_count": 12
        }
      ]
    },
    {
      "cell_type": "code",
      "metadata": {
        "id": "eWxM9aB011bi",
        "colab_type": "code",
        "outputId": "7f8de4be-f82b-41b1-ccfc-47e0712558d5",
        "colab": {
          "base_uri": "https://localhost:8080/",
          "height": 51
        }
      },
      "source": [
        "# data transform\n",
        "train_transforms, test_transforms = album_utils.get_data_transform(albumentations_args)"
      ],
      "execution_count": 13,
      "outputs": [
        {
          "output_type": "stream",
          "text": [
            "CoarseDropout is enabled\n",
            "HorizontalFlip is enabled\n"
          ],
          "name": "stdout"
        }
      ]
    },
    {
      "cell_type": "code",
      "metadata": {
        "id": "qn--4duD11lR",
        "colab_type": "code",
        "outputId": "0d630677-a982-46a2-e5e9-1046c95f792b",
        "colab": {
          "base_uri": "https://localhost:8080/",
          "height": 68
        }
      },
      "source": [
        "# load data\n",
        "train_loader, test_loader = album_utils.get_dataloader(train_transforms, test_transforms, \n",
        "                                                       batch_size=config_params[\"batch_size\"], num_workers=config_params[\"num_workers\"])"
      ],
      "execution_count": 14,
      "outputs": [
        {
          "output_type": "stream",
          "text": [
            "CUDA Available? True\n",
            "Files already downloaded and verified\n",
            "Files already downloaded and verified\n"
          ],
          "name": "stdout"
        }
      ]
    },
    {
      "cell_type": "markdown",
      "metadata": {
        "id": "Uzk3Su4wrBV0",
        "colab_type": "text"
      },
      "source": [
        "# Visualize few training dataset and aurmented images"
      ]
    },
    {
      "cell_type": "code",
      "metadata": {
        "id": "klMwUHJBHHv3",
        "colab_type": "code",
        "outputId": "5f36d5a6-4599-4377-b5d2-1c94afcf45cb",
        "colab": {
          "base_uri": "https://localhost:8080/",
          "height": 869
        }
      },
      "source": [
        "# visualize few training dataset images\n",
        "putils.plot_dataset_images(device, classes, train_loader, save_filename=\"albumentations_images\")"
      ],
      "execution_count": 15,
      "outputs": [
        {
          "output_type": "stream",
          "text": [
            "Clipping input data to the valid range for imshow with RGB data ([0..1] for floats or [0..255] for integers).\n",
            "Clipping input data to the valid range for imshow with RGB data ([0..1] for floats or [0..255] for integers).\n",
            "Clipping input data to the valid range for imshow with RGB data ([0..1] for floats or [0..255] for integers).\n",
            "Clipping input data to the valid range for imshow with RGB data ([0..1] for floats or [0..255] for integers).\n",
            "Clipping input data to the valid range for imshow with RGB data ([0..1] for floats or [0..255] for integers).\n",
            "Clipping input data to the valid range for imshow with RGB data ([0..1] for floats or [0..255] for integers).\n",
            "Clipping input data to the valid range for imshow with RGB data ([0..1] for floats or [0..255] for integers).\n",
            "Clipping input data to the valid range for imshow with RGB data ([0..1] for floats or [0..255] for integers).\n",
            "Clipping input data to the valid range for imshow with RGB data ([0..1] for floats or [0..255] for integers).\n",
            "Clipping input data to the valid range for imshow with RGB data ([0..1] for floats or [0..255] for integers).\n",
            "Clipping input data to the valid range for imshow with RGB data ([0..1] for floats or [0..255] for integers).\n",
            "Clipping input data to the valid range for imshow with RGB data ([0..1] for floats or [0..255] for integers).\n",
            "Clipping input data to the valid range for imshow with RGB data ([0..1] for floats or [0..255] for integers).\n",
            "Clipping input data to the valid range for imshow with RGB data ([0..1] for floats or [0..255] for integers).\n",
            "Clipping input data to the valid range for imshow with RGB data ([0..1] for floats or [0..255] for integers).\n",
            "Clipping input data to the valid range for imshow with RGB data ([0..1] for floats or [0..255] for integers).\n",
            "Clipping input data to the valid range for imshow with RGB data ([0..1] for floats or [0..255] for integers).\n",
            "Clipping input data to the valid range for imshow with RGB data ([0..1] for floats or [0..255] for integers).\n",
            "Clipping input data to the valid range for imshow with RGB data ([0..1] for floats or [0..255] for integers).\n",
            "Clipping input data to the valid range for imshow with RGB data ([0..1] for floats or [0..255] for integers).\n"
          ],
          "name": "stderr"
        },
        {
          "output_type": "display_data",
          "data": {
            "image/png": "[encoded data removed]",
            "text/plain": [
              "<Figure size 720x648 with 20 Axes>"
            ]
          },
          "metadata": {
            "tags": []
          }
        }
      ]
    },
    {
      "cell_type": "markdown",
      "metadata": {
        "id": "rUYHkvyfrFlt",
        "colab_type": "text"
      },
      "source": [
        "# Create QuizCNN based CIFAR10 Network"
      ]
    },
    {
      "cell_type": "code",
      "metadata": {
        "id": "wk63A888rJI_",
        "colab_type": "code",
        "colab": {
          "base_uri": "https://localhost:8080/",
          "height": 1000
        },
        "outputId": "7aef6f4c-4042-4b05-be5b-e121751385a5"
      },
      "source": [
        "# Create CIFAR10 network using custome CNN network\n",
        "model = quiz_dnn.QuizDNN_Net(drop_val=0.10)\n",
        "mutils.model_summary(model, device, input_size=(3, 32, 32))"
      ],
      "execution_count": 16,
      "outputs": [
        {
          "output_type": "stream",
          "text": [
            "----------------------------------------------------------------\n",
            "        Layer (type)               Output Shape         Param #\n",
            "================================================================\n",
            "            Conv2d-1            [-1, 8, 32, 32]             216\n",
            "       BatchNorm2d-2            [-1, 8, 32, 32]              16\n",
            "              ReLU-3            [-1, 8, 32, 32]               0\n",
            "           Dropout-4            [-1, 8, 32, 32]               0\n",
            " Conv2d_BasicBlock-5            [-1, 8, 32, 32]               0\n",
            "            Conv2d-6           [-1, 11, 32, 32]           1,089\n",
            "       BatchNorm2d-7           [-1, 11, 32, 32]              22\n",
            "              ReLU-8           [-1, 11, 32, 32]               0\n",
            "           Dropout-9           [-1, 11, 32, 32]               0\n",
            "Conv2d_BasicBlock-10           [-1, 11, 32, 32]               0\n",
            "        MaxPool2d-11           [-1, 22, 16, 16]               0\n",
            "           Conv2d-12           [-1, 22, 16, 16]           4,356\n",
            "      BatchNorm2d-13           [-1, 22, 16, 16]              44\n",
            "             ReLU-14           [-1, 22, 16, 16]               0\n",
            "          Dropout-15           [-1, 22, 16, 16]               0\n",
            "Conv2d_BasicBlock-16           [-1, 22, 16, 16]               0\n",
            "           Conv2d-17           [-1, 44, 16, 16]          17,424\n",
            "      BatchNorm2d-18           [-1, 44, 16, 16]              88\n",
            "             ReLU-19           [-1, 44, 16, 16]               0\n",
            "          Dropout-20           [-1, 44, 16, 16]               0\n",
            "Conv2d_BasicBlock-21           [-1, 44, 16, 16]               0\n",
            "           Conv2d-22           [-1, 88, 16, 16]          69,696\n",
            "      BatchNorm2d-23           [-1, 88, 16, 16]             176\n",
            "             ReLU-24           [-1, 88, 16, 16]               0\n",
            "          Dropout-25           [-1, 88, 16, 16]               0\n",
            "Conv2d_BasicBlock-26           [-1, 88, 16, 16]               0\n",
            "        MaxPool2d-27            [-1, 154, 8, 8]               0\n",
            "           Conv2d-28            [-1, 154, 8, 8]         213,444\n",
            "      BatchNorm2d-29            [-1, 154, 8, 8]             308\n",
            "             ReLU-30            [-1, 154, 8, 8]               0\n",
            "          Dropout-31            [-1, 154, 8, 8]               0\n",
            "Conv2d_BasicBlock-32            [-1, 154, 8, 8]               0\n",
            "           Conv2d-33            [-1, 308, 8, 8]         853,776\n",
            "      BatchNorm2d-34            [-1, 308, 8, 8]             616\n",
            "             ReLU-35            [-1, 308, 8, 8]               0\n",
            "          Dropout-36            [-1, 308, 8, 8]               0\n",
            "Conv2d_BasicBlock-37            [-1, 308, 8, 8]               0\n",
            "           Conv2d-38            [-1, 616, 8, 8]       3,415,104\n",
            "      BatchNorm2d-39            [-1, 616, 8, 8]           1,232\n",
            "             ReLU-40            [-1, 616, 8, 8]               0\n",
            "          Dropout-41            [-1, 616, 8, 8]               0\n",
            "Conv2d_BasicBlock-42            [-1, 616, 8, 8]               0\n",
            "        AvgPool2d-43            [-1, 616, 1, 1]               0\n",
            "           Conv2d-44             [-1, 10, 1, 1]           6,160\n",
            "================================================================\n",
            "Total params: 4,583,767\n",
            "Trainable params: 4,583,767\n",
            "Non-trainable params: 0\n",
            "----------------------------------------------------------------\n",
            "Input size (MB): 0.01\n",
            "Forward/backward pass size (MB): 5.00\n",
            "Params size (MB): 17.49\n",
            "Estimated Total Size (MB): 22.50\n",
            "----------------------------------------------------------------\n"
          ],
          "name": "stdout"
        },
        {
          "output_type": "stream",
          "text": [
            "/content/gdrive/My Drive/TSAI/EVA_Phase1/session9/s9_quiz/models/quiz_dnn.py:73: UserWarning: Implicit dimension choice for log_softmax has been deprecated. Change the call to include dim=X as an argument.\n",
            "  return F.log_softmax(x)\n"
          ],
          "name": "stderr"
        }
      ]
    },
    {
      "cell_type": "markdown",
      "metadata": {
        "id": "JBvA4KS5rPHC",
        "colab_type": "text"
      },
      "source": [
        "# Build and train model"
      ]
    },
    {
      "cell_type": "code",
      "metadata": {
        "id": "i74E8tf_0vvT",
        "colab_type": "code",
        "outputId": "73caa3d5-dc9e-415f-bcfd-404d3a83c5d0",
        "colab": {
          "base_uri": "https://localhost:8080/",
          "height": 1000
        }
      },
      "source": [
        "model_name = \"CIFAR10 QuizCNN\"\n",
        "model =  model.to(device)\n",
        "EPOCHS = config_params[\"epochs\"]\n",
        "\n",
        "#criterion = F.nll_loss()\n",
        "criterion = nn.CrossEntropyLoss()\n",
        "optimizer = optim.SGD(model.parameters(), lr=0.01, momentum=0.9, weight_decay=0.001)  # using L2 Regulaization\n",
        "lr_scheduler = MultiStepLR(optimizer, milestones=[8,16,24], gamma=0.3)\n",
        "\n",
        "model_history = mutils.build_model(model, \n",
        "                            device, \n",
        "                            trainloader=train_loader, \n",
        "                            testloader=test_loader, \n",
        "                            epochs=EPOCHS,\n",
        "                            criterion=criterion, \n",
        "                            optimizer=optimizer,\n",
        "                            lr_scheduler=lr_scheduler,\n",
        "                            L1_loss_enable=True)"
      ],
      "execution_count": 17,
      "outputs": [
        {
          "output_type": "stream",
          "text": [
            "\r  0%|          | 0/391 [00:00<?, ?it/s]"
          ],
          "name": "stderr"
        },
        {
          "output_type": "stream",
          "text": [
            "EPOCH-1: learning rate is: 0.01\n"
          ],
          "name": "stdout"
        },
        {
          "output_type": "stream",
          "text": [
            "/content/gdrive/My Drive/TSAI/EVA_Phase1/session9/s9_quiz/models/quiz_dnn.py:73: UserWarning: Implicit dimension choice for log_softmax has been deprecated. Change the call to include dim=X as an argument.\n",
            "  return F.log_softmax(x)\n",
            "/usr/local/lib/python3.6/dist-packages/torch/nn/_reduction.py:43: UserWarning: size_average and reduce args will be deprecated, please use reduction='sum' instead.\n",
            "  warnings.warn(warning.format(ret))\n",
            "Loss=1.601236 Batch_id=391 Accuracy=46.81: 100%|██████████| 391/391 [00:19<00:00, 19.80it/s]\n",
            "  0%|          | 0/391 [00:00<?, ?it/s]"
          ],
          "name": "stderr"
        },
        {
          "output_type": "stream",
          "text": [
            "\n",
            "Test set: Average loss: 1.385167, Accuracy: 5017/10000 (50.17%)\n",
            "\n",
            "EPOCH-2: learning rate is: 0.01\n"
          ],
          "name": "stdout"
        },
        {
          "output_type": "stream",
          "text": [
            "Loss=1.247738 Batch_id=391 Accuracy=60.35: 100%|██████████| 391/391 [00:19<00:00, 25.08it/s]\n",
            "  0%|          | 0/391 [00:00<?, ?it/s]"
          ],
          "name": "stderr"
        },
        {
          "output_type": "stream",
          "text": [
            "\n",
            "Test set: Average loss: 1.171531, Accuracy: 5949/10000 (59.49%)\n",
            "\n",
            "EPOCH-3: learning rate is: 0.01\n"
          ],
          "name": "stdout"
        },
        {
          "output_type": "stream",
          "text": [
            "Loss=1.107380 Batch_id=391 Accuracy=65.01: 100%|██████████| 391/391 [00:19<00:00, 19.74it/s]\n",
            "  0%|          | 0/391 [00:00<?, ?it/s]"
          ],
          "name": "stderr"
        },
        {
          "output_type": "stream",
          "text": [
            "\n",
            "Test set: Average loss: 1.130198, Accuracy: 5911/10000 (59.11%)\n",
            "\n",
            "EPOCH-4: learning rate is: 0.01\n"
          ],
          "name": "stdout"
        },
        {
          "output_type": "stream",
          "text": [
            "Loss=1.005786 Batch_id=391 Accuracy=68.91: 100%|██████████| 391/391 [00:19<00:00, 19.64it/s]\n",
            "  0%|          | 0/391 [00:00<?, ?it/s]"
          ],
          "name": "stderr"
        },
        {
          "output_type": "stream",
          "text": [
            "\n",
            "Test set: Average loss: 0.883468, Accuracy: 6899/10000 (68.99%)\n",
            "\n",
            "EPOCH-5: learning rate is: 0.01\n"
          ],
          "name": "stdout"
        },
        {
          "output_type": "stream",
          "text": [
            "Loss=0.936029 Batch_id=391 Accuracy=71.42: 100%|██████████| 391/391 [00:19<00:00, 19.75it/s]\n",
            "  0%|          | 0/391 [00:00<?, ?it/s]"
          ],
          "name": "stderr"
        },
        {
          "output_type": "stream",
          "text": [
            "\n",
            "Test set: Average loss: 0.873884, Accuracy: 6995/10000 (69.95%)\n",
            "\n",
            "EPOCH-6: learning rate is: 0.01\n"
          ],
          "name": "stdout"
        },
        {
          "output_type": "stream",
          "text": [
            "Loss=0.884202 Batch_id=391 Accuracy=72.98: 100%|██████████| 391/391 [00:19<00:00, 19.62it/s]\n",
            "  0%|          | 0/391 [00:00<?, ?it/s]"
          ],
          "name": "stderr"
        },
        {
          "output_type": "stream",
          "text": [
            "\n",
            "Test set: Average loss: 0.747725, Accuracy: 7410/10000 (74.10%)\n",
            "\n",
            "EPOCH-7: learning rate is: 0.01\n"
          ],
          "name": "stdout"
        },
        {
          "output_type": "stream",
          "text": [
            "Loss=0.835701 Batch_id=391 Accuracy=74.63: 100%|██████████| 391/391 [00:19<00:00, 24.40it/s]\n",
            "  0%|          | 0/391 [00:00<?, ?it/s]"
          ],
          "name": "stderr"
        },
        {
          "output_type": "stream",
          "text": [
            "\n",
            "Test set: Average loss: 0.837600, Accuracy: 7048/10000 (70.48%)\n",
            "\n",
            "EPOCH-8: learning rate is: 0.01\n"
          ],
          "name": "stdout"
        },
        {
          "output_type": "stream",
          "text": [
            "Loss=0.797194 Batch_id=391 Accuracy=75.80: 100%|██████████| 391/391 [00:19<00:00, 19.63it/s]\n",
            "  0%|          | 0/391 [00:00<?, ?it/s]"
          ],
          "name": "stderr"
        },
        {
          "output_type": "stream",
          "text": [
            "\n",
            "Test set: Average loss: 0.797479, Accuracy: 7250/10000 (72.50%)\n",
            "\n",
            "EPOCH-9: learning rate is: 0.003\n"
          ],
          "name": "stdout"
        },
        {
          "output_type": "stream",
          "text": [
            "Loss=0.687758 Batch_id=391 Accuracy=79.78: 100%|██████████| 391/391 [00:19<00:00, 19.62it/s]\n",
            "  0%|          | 0/391 [00:00<?, ?it/s]"
          ],
          "name": "stderr"
        },
        {
          "output_type": "stream",
          "text": [
            "\n",
            "Test set: Average loss: 0.580548, Accuracy: 7995/10000 (79.95%)\n",
            "\n",
            "EPOCH-10: learning rate is: 0.003\n"
          ],
          "name": "stdout"
        },
        {
          "output_type": "stream",
          "text": [
            "Loss=0.661633 Batch_id=391 Accuracy=80.47: 100%|██████████| 391/391 [00:19<00:00, 19.60it/s]\n",
            "  0%|          | 0/391 [00:00<?, ?it/s]"
          ],
          "name": "stderr"
        },
        {
          "output_type": "stream",
          "text": [
            "\n",
            "Test set: Average loss: 0.660156, Accuracy: 7696/10000 (76.96%)\n",
            "\n",
            "EPOCH-11: learning rate is: 0.003\n"
          ],
          "name": "stdout"
        },
        {
          "output_type": "stream",
          "text": [
            "Loss=0.647281 Batch_id=391 Accuracy=81.04: 100%|██████████| 391/391 [00:20<00:00, 19.48it/s]\n",
            "  0%|          | 0/391 [00:00<?, ?it/s]"
          ],
          "name": "stderr"
        },
        {
          "output_type": "stream",
          "text": [
            "\n",
            "Test set: Average loss: 0.583435, Accuracy: 7972/10000 (79.72%)\n",
            "\n",
            "EPOCH-12: learning rate is: 0.003\n"
          ],
          "name": "stdout"
        },
        {
          "output_type": "stream",
          "text": [
            "Loss=0.634534 Batch_id=391 Accuracy=81.33: 100%|██████████| 391/391 [00:19<00:00, 19.71it/s]\n",
            "  0%|          | 0/391 [00:00<?, ?it/s]"
          ],
          "name": "stderr"
        },
        {
          "output_type": "stream",
          "text": [
            "\n",
            "Test set: Average loss: 0.545674, Accuracy: 8148/10000 (81.48%)\n",
            "\n",
            "EPOCH-13: learning rate is: 0.003\n"
          ],
          "name": "stdout"
        },
        {
          "output_type": "stream",
          "text": [
            "Loss=0.619945 Batch_id=391 Accuracy=81.90: 100%|██████████| 391/391 [00:19<00:00, 23.98it/s]\n",
            "  0%|          | 0/391 [00:00<?, ?it/s]"
          ],
          "name": "stderr"
        },
        {
          "output_type": "stream",
          "text": [
            "\n",
            "Test set: Average loss: 0.574386, Accuracy: 8039/10000 (80.39%)\n",
            "\n",
            "EPOCH-14: learning rate is: 0.003\n"
          ],
          "name": "stdout"
        },
        {
          "output_type": "stream",
          "text": [
            "Loss=0.615254 Batch_id=391 Accuracy=82.01: 100%|██████████| 391/391 [00:19<00:00, 19.64it/s]\n",
            "  0%|          | 0/391 [00:00<?, ?it/s]"
          ],
          "name": "stderr"
        },
        {
          "output_type": "stream",
          "text": [
            "\n",
            "Test set: Average loss: 0.577028, Accuracy: 7983/10000 (79.83%)\n",
            "\n",
            "EPOCH-15: learning rate is: 0.003\n"
          ],
          "name": "stdout"
        },
        {
          "output_type": "stream",
          "text": [
            "Loss=0.600229 Batch_id=391 Accuracy=82.52: 100%|██████████| 391/391 [00:19<00:00, 19.67it/s]\n",
            "  0%|          | 0/391 [00:00<?, ?it/s]"
          ],
          "name": "stderr"
        },
        {
          "output_type": "stream",
          "text": [
            "\n",
            "Test set: Average loss: 0.550699, Accuracy: 8122/10000 (81.22%)\n",
            "\n",
            "EPOCH-16: learning rate is: 0.003\n"
          ],
          "name": "stdout"
        },
        {
          "output_type": "stream",
          "text": [
            "Loss=0.592508 Batch_id=391 Accuracy=82.56: 100%|██████████| 391/391 [00:19<00:00, 19.71it/s]\n",
            "  0%|          | 0/391 [00:00<?, ?it/s]"
          ],
          "name": "stderr"
        },
        {
          "output_type": "stream",
          "text": [
            "\n",
            "Test set: Average loss: 0.551147, Accuracy: 8064/10000 (80.64%)\n",
            "\n",
            "EPOCH-17: learning rate is: 0.0009\n"
          ],
          "name": "stdout"
        },
        {
          "output_type": "stream",
          "text": [
            "Loss=0.534516 Batch_id=391 Accuracy=84.96: 100%|██████████| 391/391 [00:19<00:00, 19.64it/s]\n",
            "  0%|          | 0/391 [00:00<?, ?it/s]"
          ],
          "name": "stderr"
        },
        {
          "output_type": "stream",
          "text": [
            "\n",
            "Test set: Average loss: 0.471505, Accuracy: 8340/10000 (83.40%)\n",
            "\n",
            "EPOCH-18: learning rate is: 0.0009\n"
          ],
          "name": "stdout"
        },
        {
          "output_type": "stream",
          "text": [
            "Loss=0.527763 Batch_id=391 Accuracy=84.90: 100%|██████████| 391/391 [00:19<00:00, 19.63it/s]\n",
            "  0%|          | 0/391 [00:00<?, ?it/s]"
          ],
          "name": "stderr"
        },
        {
          "output_type": "stream",
          "text": [
            "\n",
            "Test set: Average loss: 0.469163, Accuracy: 8381/10000 (83.81%)\n",
            "\n",
            "EPOCH-19: learning rate is: 0.0009\n"
          ],
          "name": "stdout"
        },
        {
          "output_type": "stream",
          "text": [
            "Loss=0.517967 Batch_id=391 Accuracy=85.55: 100%|██████████| 391/391 [00:19<00:00, 24.55it/s]\n",
            "  0%|          | 0/391 [00:00<?, ?it/s]"
          ],
          "name": "stderr"
        },
        {
          "output_type": "stream",
          "text": [
            "\n",
            "Test set: Average loss: 0.488302, Accuracy: 8340/10000 (83.40%)\n",
            "\n",
            "EPOCH-20: learning rate is: 0.0009\n"
          ],
          "name": "stdout"
        },
        {
          "output_type": "stream",
          "text": [
            "Loss=0.513592 Batch_id=391 Accuracy=85.76: 100%|██████████| 391/391 [00:19<00:00, 19.73it/s]\n",
            "  0%|          | 0/391 [00:00<?, ?it/s]"
          ],
          "name": "stderr"
        },
        {
          "output_type": "stream",
          "text": [
            "\n",
            "Test set: Average loss: 0.467582, Accuracy: 8400/10000 (84.00%)\n",
            "\n",
            "EPOCH-21: learning rate is: 0.0009\n"
          ],
          "name": "stdout"
        },
        {
          "output_type": "stream",
          "text": [
            "Loss=0.507403 Batch_id=391 Accuracy=85.77: 100%|██████████| 391/391 [00:19<00:00, 19.69it/s]\n",
            "  0%|          | 0/391 [00:00<?, ?it/s]"
          ],
          "name": "stderr"
        },
        {
          "output_type": "stream",
          "text": [
            "\n",
            "Test set: Average loss: 0.482448, Accuracy: 8352/10000 (83.52%)\n",
            "\n",
            "EPOCH-22: learning rate is: 0.0009\n"
          ],
          "name": "stdout"
        },
        {
          "output_type": "stream",
          "text": [
            "Loss=0.503635 Batch_id=391 Accuracy=85.87: 100%|██████████| 391/391 [00:19<00:00, 19.67it/s]\n",
            "  0%|          | 0/391 [00:00<?, ?it/s]"
          ],
          "name": "stderr"
        },
        {
          "output_type": "stream",
          "text": [
            "\n",
            "Test set: Average loss: 0.498495, Accuracy: 8281/10000 (82.81%)\n",
            "\n",
            "EPOCH-23: learning rate is: 0.0009\n"
          ],
          "name": "stdout"
        },
        {
          "output_type": "stream",
          "text": [
            "Loss=0.497895 Batch_id=391 Accuracy=86.04: 100%|██████████| 391/391 [00:19<00:00, 19.67it/s]\n",
            "  0%|          | 0/391 [00:00<?, ?it/s]"
          ],
          "name": "stderr"
        },
        {
          "output_type": "stream",
          "text": [
            "\n",
            "Test set: Average loss: 0.471228, Accuracy: 8350/10000 (83.50%)\n",
            "\n",
            "EPOCH-24: learning rate is: 0.0009\n"
          ],
          "name": "stdout"
        },
        {
          "output_type": "stream",
          "text": [
            "Loss=0.494002 Batch_id=391 Accuracy=86.14: 100%|██████████| 391/391 [00:19<00:00, 19.65it/s]\n",
            "  0%|          | 0/391 [00:00<?, ?it/s]"
          ],
          "name": "stderr"
        },
        {
          "output_type": "stream",
          "text": [
            "\n",
            "Test set: Average loss: 0.478933, Accuracy: 8358/10000 (83.58%)\n",
            "\n",
            "EPOCH-25: learning rate is: 0.00027\n"
          ],
          "name": "stdout"
        },
        {
          "output_type": "stream",
          "text": [
            "Loss=0.473028 Batch_id=391 Accuracy=86.80: 100%|██████████| 391/391 [00:19<00:00, 19.67it/s]\n",
            "  0%|          | 0/391 [00:00<?, ?it/s]"
          ],
          "name": "stderr"
        },
        {
          "output_type": "stream",
          "text": [
            "\n",
            "Test set: Average loss: 0.450716, Accuracy: 8430/10000 (84.30%)\n",
            "\n",
            "EPOCH-26: learning rate is: 0.00027\n"
          ],
          "name": "stdout"
        },
        {
          "output_type": "stream",
          "text": [
            "Loss=0.467854 Batch_id=391 Accuracy=87.14: 100%|██████████| 391/391 [00:19<00:00, 19.67it/s]\n",
            "  0%|          | 0/391 [00:00<?, ?it/s]"
          ],
          "name": "stderr"
        },
        {
          "output_type": "stream",
          "text": [
            "\n",
            "Test set: Average loss: 0.458179, Accuracy: 8417/10000 (84.17%)\n",
            "\n",
            "EPOCH-27: learning rate is: 0.00027\n"
          ],
          "name": "stdout"
        },
        {
          "output_type": "stream",
          "text": [
            "Loss=0.465582 Batch_id=391 Accuracy=87.12: 100%|██████████| 391/391 [00:19<00:00, 24.75it/s]\n",
            "  0%|          | 0/391 [00:00<?, ?it/s]"
          ],
          "name": "stderr"
        },
        {
          "output_type": "stream",
          "text": [
            "\n",
            "Test set: Average loss: 0.461774, Accuracy: 8411/10000 (84.11%)\n",
            "\n",
            "EPOCH-28: learning rate is: 0.00027\n"
          ],
          "name": "stdout"
        },
        {
          "output_type": "stream",
          "text": [
            "Loss=0.459315 Batch_id=391 Accuracy=87.39: 100%|██████████| 391/391 [00:19<00:00, 19.69it/s]\n",
            "  0%|          | 0/391 [00:00<?, ?it/s]"
          ],
          "name": "stderr"
        },
        {
          "output_type": "stream",
          "text": [
            "\n",
            "Test set: Average loss: 0.445693, Accuracy: 8473/10000 (84.73%)\n",
            "\n",
            "EPOCH-29: learning rate is: 0.00027\n"
          ],
          "name": "stdout"
        },
        {
          "output_type": "stream",
          "text": [
            "Loss=0.458418 Batch_id=391 Accuracy=87.43: 100%|██████████| 391/391 [00:19<00:00, 19.77it/s]\n",
            "  0%|          | 0/391 [00:00<?, ?it/s]"
          ],
          "name": "stderr"
        },
        {
          "output_type": "stream",
          "text": [
            "\n",
            "Test set: Average loss: 0.455441, Accuracy: 8458/10000 (84.58%)\n",
            "\n",
            "EPOCH-30: learning rate is: 0.00027\n"
          ],
          "name": "stdout"
        },
        {
          "output_type": "stream",
          "text": [
            "Loss=0.453220 Batch_id=391 Accuracy=87.61: 100%|██████████| 391/391 [00:19<00:00, 24.06it/s]\n"
          ],
          "name": "stderr"
        },
        {
          "output_type": "stream",
          "text": [
            "\n",
            "Test set: Average loss: 0.444370, Accuracy: 8451/10000 (84.51%)\n",
            "\n"
          ],
          "name": "stdout"
        }
      ]
    },
    {
      "cell_type": "code",
      "metadata": {
        "id": "8zdUIv0G_szP",
        "colab_type": "code",
        "colab": {}
      },
      "source": [
        "# Save the model for future use\n",
        "filepath = \"./saved_models/s9_quiz_cnn\"\n",
        "torch.save(model, filepath)"
      ],
      "execution_count": 0,
      "outputs": []
    },
    {
      "cell_type": "markdown",
      "metadata": {
        "id": "ZkcmOkxhrVYM",
        "colab_type": "text"
      },
      "source": [
        "# Analyse the train and test best result and calculate test accuracy for each classes"
      ]
    },
    {
      "cell_type": "code",
      "metadata": {
        "id": "PTxBnF81Ckpr",
        "colab_type": "code",
        "outputId": "692ff37d-0ad2-4a19-9938-65ff509298a9",
        "colab": {
          "base_uri": "https://localhost:8080/",
          "height": 68
        }
      },
      "source": [
        "# model result summary\n",
        "model_history.result_summary()"
      ],
      "execution_count": 19,
      "outputs": [
        {
          "output_type": "stream",
          "text": [
            "Training best result: Accuracy: 87.61 at Epoch 30\n",
            "Testing  best result: Accuracy: 84.73 at Epoch 28\n",
            "Acuracy Gap: 2.88\n"
          ],
          "name": "stdout"
        }
      ]
    },
    {
      "cell_type": "code",
      "metadata": {
        "id": "M2apWfDqCkzW",
        "colab_type": "code",
        "outputId": "02225080-856d-4397-8002-11e0ceb11cde",
        "colab": {
          "base_uri": "https://localhost:8080/",
          "height": 241
        }
      },
      "source": [
        "# get class based test accuracy for the network\n",
        "mutils.class_based_accuracy(model, device, classes, test_loader)"
      ],
      "execution_count": 20,
      "outputs": [
        {
          "output_type": "stream",
          "text": [
            "/content/gdrive/My Drive/TSAI/EVA_Phase1/session9/s9_quiz/models/quiz_dnn.py:73: UserWarning: Implicit dimension choice for log_softmax has been deprecated. Change the call to include dim=X as an argument.\n",
            "  return F.log_softmax(x)\n"
          ],
          "name": "stderr"
        },
        {
          "output_type": "stream",
          "text": [
            "Accuracy of plane : 82 %\n",
            "Accuracy of   car : 96 %\n",
            "Accuracy of  bird : 80 %\n",
            "Accuracy of   cat : 87 %\n",
            "Accuracy of  deer : 78 %\n",
            "Accuracy of   dog : 63 %\n",
            "Accuracy of  frog : 100 %\n",
            "Accuracy of horse : 84 %\n",
            "Accuracy of  ship : 100 %\n",
            "Accuracy of truck : 92 %\n"
          ],
          "name": "stdout"
        }
      ]
    },
    {
      "cell_type": "markdown",
      "metadata": {
        "id": "GW_C7-sTrhns",
        "colab_type": "text"
      },
      "source": [
        "# Visualize model history and network convergence"
      ]
    },
    {
      "cell_type": "markdown",
      "metadata": {
        "id": "cMHuSZdS2UbB",
        "colab_type": "text"
      },
      "source": [
        "Visulaizing train and test result history"
      ]
    },
    {
      "cell_type": "code",
      "metadata": {
        "id": "HURzdqbICk3h",
        "colab_type": "code",
        "outputId": "9eeadc2a-78e6-453b-b10a-d320da52ffb3",
        "colab": {
          "base_uri": "https://localhost:8080/",
          "height": 438
        }
      },
      "source": [
        "# Accurracy and loss history plot\n",
        "model_history.plot_history(title=model_name, save_filename=\"model_history\")"
      ],
      "execution_count": 21,
      "outputs": [
        {
          "output_type": "stream",
          "text": [
            "/content/gdrive/My Drive/TSAI/EVA_Phase1/session9/s9_quiz/utils/model_history.py:110: MatplotlibDeprecationWarning: Passing the minor parameter of set_xticks() positionally is deprecated since Matplotlib 3.2; the parameter will become keyword-only two minor releases later.\n",
            "  axs[0].set_xticks(np.arange(1,x_size+1),x_size/10)\n",
            "/content/gdrive/My Drive/TSAI/EVA_Phase1/session9/s9_quiz/utils/model_history.py:121: MatplotlibDeprecationWarning: Passing the minor parameter of set_xticks() positionally is deprecated since Matplotlib 3.2; the parameter will become keyword-only two minor releases later.\n",
            "  axs[1].set_xticks(np.arange(1,x_size+1),x_size/10)\n"
          ],
          "name": "stderr"
        },
        {
          "output_type": "display_data",
          "data": {
            "image/png": "[encoded data removed]",
            "text/plain": [
              "<Figure size 1440x360 with 2 Axes>"
            ]
          },
          "metadata": {
            "tags": []
          }
        }
      ]
    },
    {
      "cell_type": "markdown",
      "metadata": {
        "id": "iw2zjcdE2HW0",
        "colab_type": "text"
      },
      "source": [
        "Learning rate plot"
      ]
    },
    {
      "cell_type": "code",
      "metadata": {
        "id": "gmSEQsOL195t",
        "colab_type": "code",
        "outputId": "1280cdaf-f922-430b-f9fb-9a108d587997",
        "colab": {
          "base_uri": "https://localhost:8080/",
          "height": 404
        }
      },
      "source": [
        "# Note: seriesname=\"val_acc\", \"val_loss\", \"train_acc\", \"train_loss\", \"lr\"\n",
        "model_history.plot_data_against_epoch(\"LR values\", seriesname=\"lr\", save_filename=\"lr_trend\")"
      ],
      "execution_count": 22,
      "outputs": [
        {
          "output_type": "stream",
          "text": [
            "/content/gdrive/My Drive/TSAI/EVA_Phase1/session9/s9_quiz/utils/model_history.py:68: MatplotlibDeprecationWarning: Passing the minor parameter of set_xticks() positionally is deprecated since Matplotlib 3.2; the parameter will become keyword-only two minor releases later.\n",
            "  axs.set_xticks(np.arange(1,x_size+1),x_size/10)\n"
          ],
          "name": "stderr"
        },
        {
          "output_type": "display_data",
          "data": {
            "image/png": "[encoded data removed]",
            "text/plain": [
              "<Figure size 1440x360 with 1 Axes>"
            ]
          },
          "metadata": {
            "tags": []
          }
        }
      ]
    },
    {
      "cell_type": "markdown",
      "metadata": {
        "id": "4hca0ROwrn-K",
        "colab_type": "text"
      },
      "source": [
        "Visualize few misclassified images and get an understanding on for what set of unseen data model is not performing good "
      ]
    },
    {
      "cell_type": "code",
      "metadata": {
        "id": "qJOS6w6fCk-S",
        "colab_type": "code",
        "outputId": "e2217535-5cb0-4be2-daf0-85c236a0563d",
        "colab": {
          "base_uri": "https://localhost:8080/",
          "height": 974
        }
      },
      "source": [
        "print(\"\\nPloting misclassified images: {}\\n\".format(model_name))\n",
        "putils.plot_misclassified_images(model, \n",
        "                          device, \n",
        "                          classes,\n",
        "                          testloader=test_loader,\n",
        "                          save_filename=\"model_misclassified\")"
      ],
      "execution_count": 24,
      "outputs": [
        {
          "output_type": "stream",
          "text": [
            "\n",
            "Ploting misclassified images: CIFAR10 QuizCNN\n",
            "\n"
          ],
          "name": "stdout"
        },
        {
          "output_type": "stream",
          "text": [
            "/content/gdrive/My Drive/TSAI/EVA_Phase1/session9/s9_quiz/models/quiz_dnn.py:73: UserWarning: Implicit dimension choice for log_softmax has been deprecated. Change the call to include dim=X as an argument.\n",
            "  return F.log_softmax(x)\n",
            "Clipping input data to the valid range for imshow with RGB data ([0..1] for floats or [0..255] for integers).\n",
            "Clipping input data to the valid range for imshow with RGB data ([0..1] for floats or [0..255] for integers).\n",
            "Clipping input data to the valid range for imshow with RGB data ([0..1] for floats or [0..255] for integers).\n",
            "Clipping input data to the valid range for imshow with RGB data ([0..1] for floats or [0..255] for integers).\n",
            "Clipping input data to the valid range for imshow with RGB data ([0..1] for floats or [0..255] for integers).\n",
            "Clipping input data to the valid range for imshow with RGB data ([0..1] for floats or [0..255] for integers).\n",
            "Clipping input data to the valid range for imshow with RGB data ([0..1] for floats or [0..255] for integers).\n",
            "Clipping input data to the valid range for imshow with RGB data ([0..1] for floats or [0..255] for integers).\n",
            "Clipping input data to the valid range for imshow with RGB data ([0..1] for floats or [0..255] for integers).\n",
            "Clipping input data to the valid range for imshow with RGB data ([0..1] for floats or [0..255] for integers).\n",
            "Clipping input data to the valid range for imshow with RGB data ([0..1] for floats or [0..255] for integers).\n",
            "Clipping input data to the valid range for imshow with RGB data ([0..1] for floats or [0..255] for integers).\n",
            "Clipping input data to the valid range for imshow with RGB data ([0..1] for floats or [0..255] for integers).\n",
            "Clipping input data to the valid range for imshow with RGB data ([0..1] for floats or [0..255] for integers).\n",
            "Clipping input data to the valid range for imshow with RGB data ([0..1] for floats or [0..255] for integers).\n",
            "Clipping input data to the valid range for imshow with RGB data ([0..1] for floats or [0..255] for integers).\n",
            "Clipping input data to the valid range for imshow with RGB data ([0..1] for floats or [0..255] for integers).\n",
            "Clipping input data to the valid range for imshow with RGB data ([0..1] for floats or [0..255] for integers).\n",
            "Clipping input data to the valid range for imshow with RGB data ([0..1] for floats or [0..255] for integers).\n",
            "Clipping input data to the valid range for imshow with RGB data ([0..1] for floats or [0..255] for integers).\n"
          ],
          "name": "stderr"
        },
        {
          "output_type": "display_data",
          "data": {
            "image/png": "[encoded data removed]",
            "text/plain": [
              "<Figure size 720x648 with 20 Axes>"
            ]
          },
          "metadata": {
            "tags": []
          }
        }
      ]
    },
    {
      "cell_type": "code",
      "metadata": {
        "id": "6IWuzsrN57Le",
        "colab_type": "code",
        "colab": {
          "base_uri": "https://localhost:8080/",
          "height": 34
        },
        "outputId": "44d10d8a-83c3-4ca3-fcaf-d85cad02650d"
      },
      "source": [
        "# End time\n",
        "import datetime\n",
        "print(\"END Date/Time: \", datetime.datetime.now())"
      ],
      "execution_count": 26,
      "outputs": [
        {
          "output_type": "stream",
          "text": [
            "END Date/Time:  2020-03-17 19:25:26.095672\n"
          ],
          "name": "stdout"
        }
      ]
    },
    {
      "cell_type": "code",
      "metadata": {
        "id": "I9zdxcE88Hk4",
        "colab_type": "code",
        "colab": {}
      },
      "source": [
        ""
      ],
      "execution_count": 0,
      "outputs": []
    }
  ]
}